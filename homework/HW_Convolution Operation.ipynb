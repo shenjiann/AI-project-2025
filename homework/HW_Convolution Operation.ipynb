{
 "cells": [
  {
   "cell_type": "markdown",
   "id": "ae96f72c",
   "metadata": {},
   "source": [
    "# Homewok X:  Convolution Operation\n",
    "\n",
    "Welcome to the course **AI and Deep learning**!\n",
    "\n",
    "In previous courses, we have learnt the basic concepts of neural networks, fully connected neural networks and some basic analysis of neural network models. Moving forward, we will explore the basic concepts, structure and applications of **Convolutional Neural Network (CNN)**.Convolutional neural networks, a type of neural network designed to process data with a grid-like structure, are one of the most important models in the field of deep learning.In this homework, we will introduce the **convolution operation**, the core component of a convolutional neural network. Hope you enjoy the third homework!   \n",
    "\n",
    "**Learning Goal**: In this homework,We will start with one-dimensional convolution, introducing important concepts such as **Convolution, Padding, and Stride**, and then introduce two-dimensional convolution and multichannel convolution. After this homework, you will achieve the following:\n",
    " * Understand important concepts such as Convolution, Padding, and Stride.\n",
    " * Learn the significance of 1D convolution, 2D convolution and multi-channel convolution and be able to implement them in code.\n",
    " * Acquire a deeper insight into the practical impact of padding and stride on the output."
   ]
  },
  {
   "cell_type": "markdown",
   "id": "4d0474ba",
   "metadata": {},
   "source": [
    "## Table of content\n",
    "* [1 - Packages](#1)\n",
    "* [2 - Convolution Operation](#2)\n",
    "  * [2.1 - 1D Convolution](#2.1)\n",
    "  * [2.2 - Padding](#2.2)\n",
    "  * [2.3 - Stride](#2.3)\n",
    "  * [2.4 - 2D Convolution](#2.4)\n",
    "  * [2.5 - Multi-Channel Convolution](#2.5)\n",
    "  * [2.6 - Play by yourself!](#2.6)"
   ]
  },
  {
   "cell_type": "markdown",
   "id": "8e4a2667",
   "metadata": {},
   "source": [
    "<a name='1'></a>\n",
    "## 1- Packages\n",
    "\n",
    "In order to finish a task, we need commands from certain **Python** packages."
   ]
  },
  {
   "cell_type": "code",
   "execution_count": 1,
   "id": "30e3cc3c",
   "metadata": {},
   "outputs": [],
   "source": [
    "# PLEASE DO NOT CHANGE THE FOLLOWING CODE\n",
    "import numpy as np\n",
    "import matplotlib.pyplot as plt\n",
    "plt.rcParams['font.sans-serif'] = ['SimHei']"
   ]
  },
  {
   "cell_type": "markdown",
   "id": "0d2aa2fb",
   "metadata": {},
   "source": [
    "<a name='2'></a>\n",
    "## 2 - Convolution Operation"
   ]
  },
  {
   "cell_type": "markdown",
   "id": "6a1109ce",
   "metadata": {},
   "source": [
    "Convolution is not new to use\n",
    "\n",
    "   - In probability, convolution is related to the density function of$ Z = X + Y $\n",
    "    $$\n",
    "    f_Z(z) = \\int f_X(x) f_Y(z - x) \\mu(\\text{d}x),\n",
    "    $$\n",
    "   - $\\mu$ : dominating measure\n",
    "   - $f_{\\star}(\\cdot)$ : density function for random variable $\\star$\n",
    "   - $X, Y$ : two **independent** random variables.\n",
    "\n",
    "\n",
    "For simplicity, denote the convolution of function $f$ and $g$ to be\n",
    "    $$\n",
    "    h(z) = (f * g)(z)\n",
    "    $$\n",
    "   - Mathematically, $f$ and $g$ can be any function as long as the definition is valid\n",
    "   \n",
    "Intuitively, convolution is an operation that fuses two functions, reflecting the probability distribution of the sum of two random variables. And in the fields of signal processing, image processing, etc., convolution is an operation that **extracts and enhances signal features.**"
   ]
  },
  {
   "cell_type": "markdown",
   "id": "dbec1c14",
   "metadata": {},
   "source": [
    "<a name='2.1'></a>\n",
    "### 2.1 - 1D Convolution"
   ]
  },
  {
   "cell_type": "markdown",
   "id": "fb6bcf0d",
   "metadata": {},
   "source": [
    "#### 1D Convolution without Padding and Stride"
   ]
  },
  {
   "cell_type": "markdown",
   "id": "e730e02d",
   "metadata": {},
   "source": [
    "One-dimensional convolution is often used in signal processing. Suppose we have a sequence $X=(x_1,\\ldots,x_d)^{\\mathrm{T}}$ of length $d$, and a weight vector$W=(w_1,w_2,w_3)^{\\mathrm{T}}$of length $f=3$. We can obtain a sequence $Z=(z_1,\\ldots,z_{d-2})^{\\mathrm{T}}$ of length $d-3+1=d-2$ by weighting and summing the elements at each position with their surrounding elements, where for $i=1,\\ldots,d-2$, $z_i$ is given as follows:\n",
    "\n",
    "$$\n",
    "z_i = w_1 x_i + w_2 x_{i+1} + w_3 x_{i+2}.\n",
    "$$\n",
    "\n",
    "We refer to the weight vector $W$ as the Convolution Kernel or Filter. The size of the convolution kernel determines the range of the weighted summation, which is usually much smaller than the size of the input sequence.\n",
    "\n",
    "In the following cell, you should implement the 1D convolution without padding and stride by filling in the blank code."
   ]
  },
  {
   "cell_type": "code",
   "execution_count": 2,
   "id": "1997fd36",
   "metadata": {},
   "outputs": [],
   "source": [
    "def conv_1d(input_signal, kernel):\n",
    "    \"\"\"\n",
    "    Simple 1D convolution without padding and stride.\n",
    "    \n",
    "    Parameters:\n",
    "    input_signal (numpy.ndarray): Input signal (1D numpy array)\n",
    "    kernel (numpy.ndarray): Convolution kernel (1D numpy array)\n",
    "    \n",
    "    Returns:\n",
    "    numpy.ndarray: Convolution result (1D numpy array)\n",
    "    \"\"\"\n",
    "    # Step 1. Obtain the length of input signal and kernel\n",
    "    # Step 2. Calculate the output length\n",
    "    # Step 3. Initialize the output signal\n",
    "    # Step 4. Perform convolution calculation by looping through each position\n",
    "    #         For each position i, calculate the sum of products between the kernel and the corresponding part of the input signal\n",
    "\n",
    "    ### YOUR CODE BEGINS HERE (approximately 6 lines)\n",
    "    input_length = len(input_signal)\n",
    "    kernel_length = len(kernel)\n",
    "    output_length = input_length - kernel_length + 1\n",
    "    output_signal = np.zeros(output_length)\n",
    "\n",
    "    for i in range(output_length):\n",
    "        output_signal[i] = np.sum(input_signal[i:i+kernel_length] * kernel)\n",
    "    ### YOUR CODE ENDS\n",
    "    output_signal = output_signal.astype(int)  # Convert to integer type\n",
    "\n",
    "    return output_signal"
   ]
  },
  {
   "cell_type": "code",
   "execution_count": 3,
   "id": "2b9f3fe5",
   "metadata": {},
   "outputs": [
    {
     "name": "stdout",
     "output_type": "stream",
     "text": [
      "Input signal: [ 3  6  5  4  8  9  1  7  9 10 10]\n",
      "Kernel: [-1  0  1]\n",
      "Output signal: [ 2 -2  3  5 -7 -2  8  3  1]\n",
      "Your result should be:\n",
      "Output signal: [ 2 -2  3  5 -7 -2  8  3  1]\n"
     ]
    }
   ],
   "source": [
    "# PLEASE DO NOT CHANGE THE FOLLOWING CODE\n",
    "# Example: Using the example from the slides\n",
    "input_signal = np.array([3, 6, 5, 4, 8, 9, 1, 7, 9, 10, 10])\n",
    "kernel = np.array([-1, 0, 1])\n",
    "\n",
    "# Perform convolution operation\n",
    "output_signal = conv_1d(input_signal, kernel)\n",
    "\n",
    "# Print the results\n",
    "print(\"Input signal:\", input_signal)\n",
    "print(\"Kernel:\", kernel)\n",
    "print(\"Output signal:\", output_signal)\n",
    "print('Your result should be:\\nOutput signal: [ 2 -2  3  5 -7 -2  8  3  1]')"
   ]
  },
  {
   "cell_type": "markdown",
   "id": "433a25e4",
   "metadata": {},
   "source": [
    "In the above example, we have the original sequence as: $$[3,6,5,4,8,9,1,7,9,10,10]$$ \n",
    "the convolution kernel as \n",
    "$$[-1,0,1]$$\n",
    "In the convolution operation, we slide the convolution kernel along the original sequence and compute the weighted summation of the convolution kernel with the original sequence each time.\n",
    "As shown below:\n",
    "\n",
    "$$z_1 = 3\\times(-1)+6\\times0+5\\times1 = 2,$$\n",
    "$$z_2 = 6\\times(-1)+5\\times0+4\\times1 = -2,$$\n",
    "$$\\ldots$$\n",
    "$$z_8 = 7\\times(-1)+9\\times0+6\\times1 = -1,$$\n",
    "\n",
    "n the end, we get a sequence of convolution results of length $d-3+1$:\n",
    "\n",
    "$$[2,-2,3,5,-7,-2,8,3,1]$$"
   ]
  },
  {
   "cell_type": "markdown",
   "id": "5b904eec",
   "metadata": {},
   "source": [
    "<a name='2.2'></a>\n",
    "### 2.2 - Padding"
   ]
  },
  {
   "cell_type": "markdown",
   "id": "5d86db76",
   "metadata": {},
   "source": [
    "In the above code, notice that the convolution operation decreases the length of the output sequence, so we add 0-value padding to both ends of the input sequence. In practice, we can make the length of the output sequence the same as the length of the original sequence by **Padding**, or make the utilisation of the elements at the boundary of the sequence similar to that of the middle elements. Padding is the addition of one or more elements to the ends of the sequence, and the padding is usually 0. For example, for a convolutional kernel of size $f=3$, we can pad the sequence with one element at each end.\n",
    "\n",
    "In the following cell, you should implement the 1D convolution with padding by filling in the blank code."
   ]
  },
  {
   "cell_type": "code",
   "execution_count": 4,
   "id": "0e66e5df",
   "metadata": {},
   "outputs": [],
   "source": [
    "def conv_1d_padding(input_signal, kernel, padding=0):\n",
    "    \"\"\"\n",
    "    Simple 1D convolution with padding.\n",
    "    \n",
    "    Parameters:\n",
    "    input_signal (numpy.ndarray): Input signal (1D numpy array)\n",
    "    kernel (numpy.ndarray): Convolution kernel (1D numpy array)\n",
    "    padding (int): Number of zeros to pad on each side of the input signal\n",
    "    \n",
    "    Returns:\n",
    "    numpy.ndarray: Convolution result (1D numpy array)\n",
    "    \"\"\"\n",
    "    # Step 1. Obtain the length of input signal and kernel\n",
    "    # Step 2. Apply padding to the input signal\n",
    "    # Step 3. Calculate the output length\n",
    "    # Step 4. Initialize the output signal\n",
    "    # Step 5. Perform convolution calculation by looping through each position\n",
    "    #         For each position i, calculate the sum of products between the kernel and the corresponding part of the input signal\n",
    "\n",
    "    ### YOUR CODE BEGINS HERE (approximately 7 lines)\n",
    "    input_length = len(input_signal)\n",
    "    kernel_length = len(kernel)\n",
    "    input_signal_padded = np.pad(input_signal, (padding, padding), mode='constant', constant_values=0)\n",
    "    output_length = input_length + 2 * padding - kernel_length + 1\n",
    "    output_signal = np.zeros(output_length)\n",
    "\n",
    "    for i in range(output_length):\n",
    "        output_signal[i] = np.sum(input_signal_padded[i:i+kernel_length] * kernel)\n",
    "    ### YOUR CODE ENDS\n",
    "    output_signal = output_signal.astype(int)  # Convert to integer type\n",
    "\n",
    "    return output_signal"
   ]
  },
  {
   "cell_type": "code",
   "execution_count": 5,
   "id": "81ac8bca",
   "metadata": {},
   "outputs": [
    {
     "name": "stdout",
     "output_type": "stream",
     "text": [
      "Input signal: [ 3  6  5  4  8  9  1  7  9 10 10]\n",
      "Kernel: [-1  0  1]\n",
      "Padding: 1\n",
      "Output signal: [  6   2  -2   3   5  -7  -2   8   3   1 -10]\n",
      "Your result should be:\n",
      "Output signal: [  6   2  -2   3   5  -7  -2   8   3   1 -10]\n"
     ]
    }
   ],
   "source": [
    "# PLEASE DO NOT CHANGE THE FOLLOWING CODE\n",
    "# Example: Using the previous example with padding\n",
    "input_signal = np.array([3, 6, 5, 4, 8, 9, 1, 7, 9, 10, 10])\n",
    "kernel = np.array([-1, 0, 1])\n",
    "padding = 1\n",
    "\n",
    "# Perform convolution operation\n",
    "output_signal = conv_1d_padding(input_signal, kernel, padding)\n",
    "\n",
    "# Print the results\n",
    "print(\"Input signal:\", input_signal)\n",
    "print(\"Kernel:\", kernel)\n",
    "print(\"Padding:\", padding)\n",
    "print(\"Output signal:\", output_signal)\n",
    "print('Your result should be:\\nOutput signal: [  6   2  -2   3   5  -7  -2   8   3   1 -10]')"
   ]
  },
  {
   "cell_type": "markdown",
   "id": "80fa3616",
   "metadata": {},
   "source": [
    "<a name='2.3'></a>\n",
    "### 2.3 - Stride"
   ]
  },
  {
   "cell_type": "markdown",
   "id": "0fcf1786",
   "metadata": {},
   "source": [
    " For sequence data such as sound, high frequency signals, etc., due to the high density of sequence elements, strong correlation between neighbouring elements, and more overlapping information between elements in close proximity, at this time we can reduce the number of convolution operations and reduce the length of the output sequence by adjusting the **Stride**. Stride is the distance that the convolution kernel moves each time.\n",
    " \n",
    "In the following cell, you should implement the 1D convolution with stride by filling in the blank code."
   ]
  },
  {
   "cell_type": "code",
   "execution_count": 6,
   "id": "d474483e",
   "metadata": {},
   "outputs": [],
   "source": [
    "def conv_1d_stride(input_signal, kernel, stride=1):\n",
    "    \"\"\"\n",
    "    Simple 1D convolution with stride.\n",
    "    \n",
    "    Parameters:\n",
    "    input_signal (numpy.ndarray): Input signal (1D numpy array)\n",
    "    kernel (numpy.ndarray): Convolution kernel (1D numpy array)\n",
    "    stride (int): Stride (step size) for the convolution operation\n",
    "    \n",
    "    Returns:\n",
    "    numpy.ndarray: Convolution result (1D numpy array)\n",
    "    \"\"\"\n",
    "    # Step 1. Obtain the length of input signal and kernel\n",
    "    # Step 2. Calculate the output length\n",
    "    # Step 3. Initialize the output signal\n",
    "    # Step 4. Perform convolution calculation by looping through each position with the given stride\n",
    "    #         For each position i, calculate the sum of products between the kernel and the corresponding part of the input signal\n",
    "    \n",
    "    ### YOUR CODE BEGINS HERE (approximately 9 lines)\n",
    "    input_length = len(input_signal)\n",
    "    kernel_length = len(kernel)\n",
    "    output_length = (input_length - kernel_length) // stride + 1\n",
    "    output_signal = np.zeros(output_length)\n",
    "\n",
    "    for i in range(output_length):\n",
    "        start = i * stride\n",
    "        end = start + kernel_length\n",
    "        output_signal[i] = np.sum(input_signal[start:end]* kernel)\n",
    "    ### YOUR CODE ENDS\n",
    "    output_signal = output_signal.astype(int)  # Convert to integer type\n",
    "\n",
    "    return output_signal"
   ]
  },
  {
   "cell_type": "code",
   "execution_count": 7,
   "id": "ed1133a1",
   "metadata": {},
   "outputs": [
    {
     "name": "stdout",
     "output_type": "stream",
     "text": [
      "Input signal: [ 3  6  5  4  8  9  1  7  9 10 10]\n",
      "Kernel: [-1  0  1]\n",
      "Padding: 1\n",
      "Stride: 2\n",
      "Output signal: [ 2  3 -7  8  1]\n",
      "Your result should be:\n",
      "Output signal: [ 2  3 -7  8  1]\n"
     ]
    }
   ],
   "source": [
    "# PLEASE DO NOT CHANGE THE FOLLOWING CODE\n",
    "# Example: Using the previous example with padding and stride=2\n",
    "input_signal = np.array([3, 6, 5, 4, 8, 9, 1, 7, 9, 10, 10])\n",
    "kernel = np.array([-1, 0, 1])\n",
    "stride = 2\n",
    "\n",
    "# Perform convolution operation\n",
    "output_signal = conv_1d_stride(input_signal, kernel, stride)\n",
    "\n",
    "# Print the results\n",
    "print(\"Input signal:\", input_signal)\n",
    "print(\"Kernel:\", kernel)\n",
    "print(\"Padding:\", padding)\n",
    "print(\"Stride:\", stride)\n",
    "print(\"Output signal:\", output_signal)\n",
    "print('Your result should be:\\nOutput signal: [ 2  3 -7  8  1]')"
   ]
  },
  {
   "cell_type": "markdown",
   "id": "380f1416",
   "metadata": {},
   "source": [
    "#### 1D Convolution with Padding and Stride"
   ]
  },
  {
   "cell_type": "markdown",
   "id": "b1d35b6b",
   "metadata": {},
   "source": [
    "You have now learnt the basics of 1D convolutional operations.\n",
    "\n",
    "In the following cell, you should implement the 1D convolution with padding and stride by filling in the blank code."
   ]
  },
  {
   "cell_type": "code",
   "execution_count": 8,
   "id": "4a671069",
   "metadata": {},
   "outputs": [],
   "source": [
    "def conv_1d_padstr(input_signal, kernel, padding=0, stride=1):\n",
    "    \"\"\"\n",
    "    Simple 1D convolution with padding and stride.\n",
    "    \n",
    "    Parameters:\n",
    "    input_signal (numpy.ndarray): Input signal (1D numpy array)\n",
    "    kernel (numpy.ndarray): Convolution kernel (1D numpy array)\n",
    "    padding (int): Number of zeros to pad on each side of the input signal\n",
    "    stride (int): Stride (step size) for the convolution operation\n",
    "    \n",
    "    Returns:\n",
    "    numpy.ndarray: Convolution result (1D numpy array)\n",
    "    \"\"\"\n",
    "    # Step 1. Obtain the length of input signal and kernel\n",
    "    # Step 2. Apply padding to the input signal\n",
    "    # Step 3. Calculate the output length\n",
    "    # Step 4. Initialize the output signal\n",
    "    # Step 5. Perform convolution calculation by looping through each position with the given stride\n",
    "    #         For each position i, calculate the sum of products between the kernel and the corresponding part of the input signal\n",
    "    \n",
    "    ### YOUR CODE BEGINS HERE (approximately 9 lines)\n",
    "    input_length = len(input_signal)\n",
    "    kernel_length = len(kernel)\n",
    "    input_signal_padded = np.pad(input_signal, (padding, padding), mode='constant', constant_values=0)\n",
    "    output_length = (input_length + 2 * padding - kernel_length) // stride + 1\n",
    "    output_signal = np.zeros(output_length)\n",
    "\n",
    "    for i in range(output_length):\n",
    "        start = i * stride\n",
    "        end = start + kernel_length\n",
    "        output_signal[i] = np.sum(input_signal_padded[start:end] * kernel)\n",
    "    ### YOUR CODE ENDS\n",
    "    output_signal = output_signal.astype(int)  # Convert to integer type\n",
    "\n",
    "    return output_signal"
   ]
  },
  {
   "cell_type": "code",
   "execution_count": 9,
   "id": "55b7b8ad",
   "metadata": {},
   "outputs": [
    {
     "name": "stdout",
     "output_type": "stream",
     "text": [
      "Input signal: [ 3  6  5  4  8  9  1  7  9 10 10]\n",
      "Kernel: [-1  0  1]\n",
      "Padding: 1\n",
      "Stride: 2\n",
      "Output signal: [  6  -2   5  -2   3 -10]\n",
      "Your result should be:\n",
      "Output signal: [  6  -2   5  -2   3 -10]\n"
     ]
    }
   ],
   "source": [
    "# PLEASE DO NOT CHANGE THE FOLLOWING CODE\n",
    "# Example: Using the previous example with padding and stride=2\n",
    "input_signal = np.array([3, 6, 5, 4, 8, 9, 1, 7, 9, 10, 10])\n",
    "kernel = np.array([-1, 0, 1])\n",
    "padding = 1\n",
    "stride = 2\n",
    "\n",
    "# Perform convolution operation\n",
    "output_signal = conv_1d_padstr(input_signal, kernel, padding, stride)\n",
    "\n",
    "# Print the results\n",
    "print(\"Input signal:\", input_signal)\n",
    "print(\"Kernel:\", kernel)\n",
    "print(\"Padding:\", padding)\n",
    "print(\"Stride:\", stride)\n",
    "print(\"Output signal:\", output_signal)\n",
    "print('Your result should be:\\nOutput signal: [  6  -2   5  -2   3 -10]')"
   ]
  },
  {
   "cell_type": "markdown",
   "id": "95874928",
   "metadata": {},
   "source": [
    "Below we will represent 1D operations more visually with an example on signals, and you may want to run the following code."
   ]
  },
  {
   "cell_type": "code",
   "execution_count": 10,
   "id": "45125a83",
   "metadata": {},
   "outputs": [
    {
     "name": "stderr",
     "output_type": "stream",
     "text": [
      "C:\\ProgramData\\Anaconda3\\lib\\site-packages\\matplotlib\\backends\\backend_agg.py:240: RuntimeWarning: Glyph 8722 missing from current font.\n",
      "  font.set_text(s, 0.0, flags=flags)\n",
      "C:\\ProgramData\\Anaconda3\\lib\\site-packages\\matplotlib\\backends\\backend_agg.py:203: RuntimeWarning: Glyph 8722 missing from current font.\n",
      "  font.set_text(s, 0, flags=flags)\n"
     ]
    },
    {
     "data": {
      "image/png": "[encoded data removed]",
      "text/plain": [
       "<Figure size 720x360 with 2 Axes>"
      ]
     },
     "metadata": {
      "needs_background": "light"
     },
     "output_type": "display_data"
    }
   ],
   "source": [
    "# PLEASE DO NOT CHANGE THE FOLLOWING CODE\n",
    "# 创建一个输入信号（阶跃信号）\n",
    "length = 50\n",
    "input_signal = np.zeros(length)\n",
    "input_signal[20:30] = 1  # 在20到30位置有一个高值区域\n",
    "\n",
    "# 定义卷积核（边缘检测）\n",
    "kernel = np.array([-1, 0, 1])  # 检测信号的变化\n",
    "\n",
    "# 应用卷积\n",
    "output_signal = conv_1d_padstr(input_signal, kernel, stride=1, padding=1)\n",
    "\n",
    "# 绘制输入和输出信号\n",
    "plt.figure(figsize=(10, 5))\n",
    "\n",
    "plt.subplot(2, 1, 1)\n",
    "plt.plot(input_signal, label=\"Input Signal\", drawstyle='steps-mid', linewidth=2)\n",
    "plt.title(\"输入信号（阶跃信号）\")\n",
    "# plt.legend()\n",
    "\n",
    "plt.subplot(2, 1, 2)\n",
    "plt.plot(output_signal, label=\"Output Signal (After 1D Convolution)\", color=\"orange\", drawstyle='steps-mid', linewidth=2)\n",
    "plt.title(\"输出信号（边缘检测）\")\n",
    "# plt.legend()\n",
    "plt.tight_layout()\n",
    "# plt.show()"
   ]
  },
  {
   "cell_type": "markdown",
   "id": "05b9cf9f",
   "metadata": {},
   "source": [
    "<a name='2.4'></a>\n",
    "### 2.4 - 2D Convolution"
   ]
  },
  {
   "cell_type": "markdown",
   "id": "b820a25e",
   "metadata": {},
   "source": [
    "2D convolution is the most commonly used convolution operation in convolutional neural networks. The convolution kernel for 2D convolution is a matrix and similar to 1D convolution, the convolution kernel slides over the input image from left to right and top to bottom. As the convolution kernel slides over the image, it multiplies elements with localised regions in the image and then adds the results of all the products to produce a new pixel value. \n",
    "\n",
    "This process is repeated at every position in the image, eventually producing a new image called a **feature map**."
   ]
  },
  {
   "cell_type": "markdown",
   "id": "81bef6be",
   "metadata": {},
   "source": [
    "We usually use a square convolution kernel $W=(w_{kl})$ of size $f \\times f$ to perform a convolution operation on an ‘image’ $X=(x_{ij})$ of size $d_H \\times d_W$ to obtain an ‘image’ $Z=(z_{ij})$ of size $(d_h - f +1) \\times (d_W - f + 1)$. \n",
    "\n",
    "The formula for the convolution operation is as follows:\n",
    "\n",
    ">Strictly speaking, the convolution operation here is a Cross-Correlation operation, not a Convolution operation. However, in deep learning, we usually refer to cross-correlation operations as convolution operations.\n",
    "\n",
    "$$\n",
    "z_{ij} = \\sum_{k=1}^f \\sum_{l=1}^f x_{i+k-1,j+l-1} w_{kl}.\n",
    "$$\n",
    "\n",
    "Express it in matrix form as follows:\n",
    "\n",
    "$$\n",
    "Z = X * W.\n",
    "$$\n",
    "\n",
    "Where * denotes the convolution operation. Similar to 1D convolution, we can control the size of the output image through padding and step size."
   ]
  },
  {
   "cell_type": "markdown",
   "id": "887f9f51",
   "metadata": {},
   "source": [
    "In the following cell, you should implement the 2D convolution with padding and stride by filling in the blank code."
   ]
  },
  {
   "cell_type": "code",
   "execution_count": 11,
   "id": "a170ac20",
   "metadata": {},
   "outputs": [],
   "source": [
    "def conv2d(input_signal, kernel, padding=0, stride=1):\n",
    "    \"\"\"\n",
    "    Simple 2D convolution with padding and stride.\n",
    "    \n",
    "    Parameters:\n",
    "    input_signal (numpy.ndarray): Input signal (2D numpy array)\n",
    "    kernel (numpy.ndarray): Convolution kernel (2D numpy array)\n",
    "    padding (int): Number of zeros to pad on each side of the input signal\n",
    "    stride (int): Stride (step size) for the convolution operation\n",
    "    \n",
    "    Returns:\n",
    "    numpy.ndarray: Convolution result (2D numpy array)\n",
    "    \"\"\"\n",
    "    # Step 1. Obtain the shape of input signal and kernel\n",
    "    # Step 2. Apply padding to the input signal\n",
    "    # Step 3. Calculate the output shape\n",
    "    # Step 4. Initialize the output signal\n",
    "    # Step 5. Perform convolution calculation by looping through each position with the given stride\n",
    "    #         For each position (i, j), calculate the sum of products between the kernel and the corresponding part of the input signal\n",
    "\n",
    "    ### YOUR CODE BEGINS HERE (approximately 12 lines)\n",
    "    input_rows, input_cols = input_signal.shape\n",
    "    kernel_rows, kernel_cols = kernel.shape\n",
    "    input_signal_padded = np.pad(input_signal, ((padding, padding), (padding, padding)), mode='constant', constant_values=0)\n",
    "    output_rows = (input_rows + 2 * padding - kernel_rows) // stride + 1\n",
    "    output_cols = (input_cols + 2 * padding - kernel_cols) // stride + 1\n",
    "    output_signal = np.zeros((output_rows, output_cols))\n",
    "\n",
    "    for i in range(output_rows):\n",
    "        for j in range(output_cols):\n",
    "            start_row = i * stride\n",
    "            end_row = start_row + kernel_rows\n",
    "            start_col = j * stride\n",
    "            end_col = start_col + kernel_cols\n",
    "            output_signal[i, j] = np.sum(input_signal_padded[start_row:end_row, start_col:end_col] * kernel)\n",
    "    ### YOUR CODE ENDS\n",
    "    output_signal = output_signal.astype(int)  # Convert to integer type\n",
    "\n",
    "    return output_signal"
   ]
  },
  {
   "cell_type": "code",
   "execution_count": 12,
   "id": "9d4111f3",
   "metadata": {},
   "outputs": [
    {
     "name": "stdout",
     "output_type": "stream",
     "text": [
      "Input signal:\n",
      "[[3 6 5 4 8]\n",
      " [9 1 7 9 6]\n",
      " [8 0 5 0 9]\n",
      " [6 2 0 5 2]\n",
      " [6 3 7 0 9]]\n",
      "Kernel:\n",
      "[[-1  1]\n",
      " [-1  1]]\n",
      "Padding: 1\n",
      "Stride: 2\n",
      "Output signal:\n",
      "[[ 3 -1  4]\n",
      " [17 11  6]\n",
      " [12  2  6]]\n",
      "Your result should be:\n",
      "Output signal:\n",
      "[[ 3 -1  4]\n",
      " [17 11  6]\n",
      "[12  2  6]]\n"
     ]
    }
   ],
   "source": [
    "# PLEASE DO NOT CHANGE THE FOLLOWING CODE\n",
    "# Example: Using the example from the slides with stride=2\n",
    "input_signal = np.array([[3, 6, 5, 4, 8],\n",
    "                         [9, 1, 7, 9, 6],\n",
    "                         [8, 0, 5, 0, 9],\n",
    "                         [6, 2, 0, 5, 2],\n",
    "                         [6, 3, 7, 0, 9]])\n",
    "kernel = np.array([[-1, 1],\n",
    "                   [-1, 1]])\n",
    "padding = 1\n",
    "stride = 2\n",
    "\n",
    "# Perform convolution operation\n",
    "output_signal = conv2d(input_signal, kernel, padding, stride)\n",
    "\n",
    "# Print the results\n",
    "print(\"Input signal:\")\n",
    "print(input_signal)\n",
    "print(\"Kernel:\")\n",
    "print(kernel)\n",
    "print(\"Padding:\", padding)\n",
    "print(\"Stride:\", stride)\n",
    "print(\"Output signal:\")\n",
    "print(output_signal)\n",
    "print('Your result should be:\\nOutput signal:\\n[[ 3 -1  4]\\n [17 11  6]\\n[12  2  6]]')"
   ]
  },
  {
   "cell_type": "markdown",
   "id": "66382ae3",
   "metadata": {},
   "source": [
    "Different parameters of the convolution kernel lead to different convolution operations and hence extraction of different features. For example, a average convolution kernel is used to smooth an image. \n",
    "\n",
    "The exact effect can be seen in the context of the slides and the online material for this course."
   ]
  },
  {
   "cell_type": "markdown",
   "id": "2afc0f49",
   "metadata": {},
   "source": [
    "<a name='2.5'></a>\n",
    "### 2.5 - Multi-Channel 2D Convolution "
   ]
  },
  {
   "cell_type": "markdown",
   "id": "1b893fe2",
   "metadata": {},
   "source": [
    " In the above, we covered 2D convolution for images, but in reality, images often contain multiple channels. For example, a colour image contains three channels of RGB, each of which is a separate 2D image.\n",
    " \n",
    "We remember that the input image's first $c$th channel corresponds to the matrix $X_c$, the $c$th channel corresponding to the convolution kernel is $W_c$. Then, the formula for multi-channel convolution is as follows:\n",
    "\n",
    "$$\n",
    "Z = \\sum_{c=1}^C X_c * W_c\n",
    "$$\n",
    "\n",
    "where $C$ is the number of channels. It should be noted that in multi-channel convolution operations, the input image and the convolution should have the same number of channels."
   ]
  },
  {
   "cell_type": "markdown",
   "id": "c8c7c9a8",
   "metadata": {},
   "source": [
    "\n",
    "Output size calculation\n",
    "- Input size: $d_H \\times d_W \\times d_c$\n",
    "- Kernel size: $f \\times f \\times d_c$\n",
    "- Padding: $p$\n",
    "- Stride: $s$\n",
    "- Output size: $d_H' \\times d_W'$\n",
    "\n",
    "$$\n",
    "d_H' = \\left\\lfloor \\frac{d_H + 2p - f}{s} + 1 \\right\\rfloor \\quad\n",
    "d_W' = \\left\\lfloor \\frac{d_W + 2p - f}{s} + 1 \\right\\rfloor\n",
    "$$"
   ]
  },
  {
   "cell_type": "code",
   "execution_count": 13,
   "id": "14784e76",
   "metadata": {},
   "outputs": [],
   "source": [
    "def simple_conv2d_multichannel(input_signal, kernel, padding=0, stride=1):\n",
    "    \"\"\"\n",
    "    Simple multi-channel 2D convolution with padding and stride.\n",
    "    \n",
    "    Parameters:\n",
    "    input_signal (numpy.ndarray): Input signal (3D numpy array) with shape (channels, height, width)\n",
    "    kernel (numpy.ndarray): Convolution kernel (3D numpy array) with shape (kernel_height, kernel_width, channels)\n",
    "    padding (int): Number of zeros to pad on each side of the input signal\n",
    "    stride (int): Stride (step size) for the convolution operation\n",
    "    \n",
    "    Returns:\n",
    "    numpy.ndarray: Convolution result (2D numpy array)\n",
    "    \"\"\"\n",
    "    # Step 1. Obtain the shape of input signal and kernel\n",
    "    # Step 2. Apply padding to the input signal for each channel\n",
    "    # Step 3. Calculate the output shape\n",
    "    # Step 4. Initialize the output signal\n",
    "    # Step 5. Perform convolution calculation by looping through each position with the given stride\n",
    "    #         For each position (i, j), calculate the sum of products between the kernel and the corresponding part of the input signal across all channels\n",
    "\n",
    "    ### YOUR CODE BEGINS HERE (approximately 15 lines)\n",
    "    channels, input_rows, input_cols = input_signal.shape\n",
    "    kernel_rows, kernel_cols, kernel_channels = kernel.shape\n",
    "    if kernel_channels != channels:\n",
    "        raise ValueError(\"Number of channels in input signal and kernel must match.\")\n",
    "    \n",
    "    input_signal_padded = np.pad(input_signal, ((0, 0), (padding, padding), (padding, padding)), mode='constant', constant_values=0)\n",
    "    output_rows = (input_rows + 2 * padding - kernel_rows) // stride + 1\n",
    "    output_cols = (input_cols + 2 * padding - kernel_cols) // stride + 1\n",
    "    output_signal = np.zeros((output_rows, output_cols))\n",
    "\n",
    "    for i in range(output_rows):\n",
    "        for j in range(output_cols):\n",
    "            start_row = i * stride\n",
    "            end_row = start_row + kernel_rows\n",
    "            start_col = j * stride\n",
    "            end_col = start_col + kernel_cols\n",
    "            for c in range(channels):\n",
    "                output_signal[i, j] += np.sum(input_signal_padded[c, start_row:end_row, start_col:end_col] * kernel[:, :, c])\n",
    "    ### YOUR CODE ENDS\n",
    "    output_signal = output_signal.astype(int)  # Convert to integer type\n",
    "\n",
    "\n",
    "    return output_signal"
   ]
  },
  {
   "cell_type": "code",
   "execution_count": 14,
   "id": "287f7ace",
   "metadata": {},
   "outputs": [
    {
     "name": "stdout",
     "output_type": "stream",
     "text": [
      "Input signal shape: (2, 5, 5)\n",
      "Kernel shape: (2, 2, 2)\n",
      "Padding: 0\n",
      "Stride: 1\n",
      "Output signal:\n",
      "[[-1 10  3  0]\n",
      " [ 4 -2 10 11]\n",
      " [10  9 -1 -1]\n",
      " [ 3  0  3  4]]\n",
      "Your result should be:\n",
      "Output signal:\n",
      "[[-1 10  3  0]\n",
      "[ 4 -2 10 11]\n",
      " [10  9 -1 -1]\n",
      " [ 3  0  3  4]]\n"
     ]
    }
   ],
   "source": [
    "# PLEASE DO NOT CHANGE THE FOLLOWING CODE\n",
    "# Example: Using a multi-channel input signal and kernel\n",
    "# Input signal shape: (channels, height, width)\n",
    "input_signal = np.array([\n",
    "    [[3, 6, 5, 4, 8],\n",
    "     [9, 1, 7, 9, 10],\n",
    "     [10, 8, 2, 3, 6],\n",
    "     [5, 4, 8, 9, 1],\n",
    "     [7, 9, 10, 10, 7]],\n",
    "    \n",
    "    [[1, 2, 3, 4, 5],\n",
    "     [6, 7, 8, 9, 10],\n",
    "     [11, 12, 13, 14, 15],\n",
    "     [16, 17, 18, 19, 20],\n",
    "     [21, 22, 23, 24, 25]]\n",
    "])\n",
    "\n",
    "# Kernel shape: (kernel_height, kernel_width, channels)\n",
    "kernel = np.array([\n",
    "    [[1, 0],\n",
    "     [0, -1]],\n",
    "    \n",
    "    [[-1, 0],\n",
    "     [0, 1]]\n",
    "])\n",
    "\n",
    "padding = 0\n",
    "stride = 1\n",
    "\n",
    "# Perform convolution operation\n",
    "output_signal = simple_conv2d_multichannel(input_signal, kernel, padding, stride)\n",
    "\n",
    "# Print the results\n",
    "print(\"Input signal shape:\", input_signal.shape)\n",
    "print(\"Kernel shape:\", kernel.shape)\n",
    "print(\"Padding:\", padding)\n",
    "print(\"Stride:\", stride)\n",
    "print(\"Output signal:\")\n",
    "print(output_signal)\n",
    "print('Your result should be:\\nOutput signal:\\n[[-1 10  3  0]\\n[ 4 -2 10 11]\\n [10  9 -1 -1]\\n [ 3  0  3  4]]')"
   ]
  },
  {
   "cell_type": "markdown",
   "id": "9a380939",
   "metadata": {},
   "source": [
    "<a name='2.6'></a>\n",
    "### 2.6 - Play by yourself！"
   ]
  },
  {
   "cell_type": "markdown",
   "id": "36f5a526",
   "metadata": {},
   "source": [
    "Note that multi-channel convolution and 3D convolution (3D Convolution) are different concepts.\n",
    "\n",
    "- In 3D Convolution, the convolution kernel not only slides over the width and height of the data, but also moves in the depth (or time) dimension. This means that the convolution kernel itself is also three-dimensional and it captures the features of the data in all three dimensions. \n",
    "- In multi-channel convolution, each channel has its own convolution kernel, which can be the same or different. The convolution operation is performed independently on each channel and then the results from all channels are summed to produce a single output feature map.\n",
    "\n",
    "3D convolution is a convolution performed in three spatial (or temporal) dimensions, whereas multi-channel convolution is a two-dimensional convolution performed on multiple feature channels."
   ]
  },
  {
   "cell_type": "markdown",
   "id": "f8200a36",
   "metadata": {},
   "source": [
    "Think about how it should work if you want to implement 3D convolution."
   ]
  }
 ],
 "metadata": {
  "kernelspec": {
   "display_name": "Python 3 (ipykernel)",
   "language": "python",
   "name": "python3"
  },
  "language_info": {
   "codemirror_mode": {
    "name": "ipython",
    "version": 3
   },
   "file_extension": ".py",
   "mimetype": "text/x-python",
   "name": "python",
   "nbconvert_exporter": "python",
   "pygments_lexer": "ipython3",
   "version": "3.9.7"
  }
 },
 "nbformat": 4,
 "nbformat_minor": 5
}
