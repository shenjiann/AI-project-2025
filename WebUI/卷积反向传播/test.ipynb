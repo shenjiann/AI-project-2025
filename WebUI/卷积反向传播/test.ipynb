{
 "cells": [
  {
   "cell_type": "code",
   "execution_count": 38,
   "id": "877b4500",
   "metadata": {},
   "outputs": [],
   "source": [
    "import torch\n",
    "import torch.nn.functional as F\n",
    "torch.manual_seed(42)\n",
    "\n",
    "Z = torch.randint(-5, 6, (1, 1, 3, 3), dtype=torch.float32, requires_grad=True)\n",
    "W = torch.randint(-3, 4, (1, 1, 2, 2), dtype=torch.float32, requires_grad=True)\n",
    "\n",
    "A = F.conv2d(Z, W)\n",
    "dA = torch.randint(-3, 3, A.shape, dtype=torch.float32)\n",
    "A.backward(dA)"
   ]
  },
  {
   "cell_type": "code",
   "execution_count": 39,
   "id": "16012e06",
   "metadata": {},
   "outputs": [
    {
     "data": {
      "text/plain": [
       "(tensor([[[[-3.,  0.],\n",
       "           [ 1.,  2.]]]]),\n",
       " tensor([[[[ 1.,  2.,  4.],\n",
       "           [-2., -3.,  5.],\n",
       "           [-2., -5.,  3.]]]], requires_grad=True),\n",
       " tensor([[[[-3., -3.],\n",
       "           [ 2.,  3.]]]], requires_grad=True))"
      ]
     },
     "execution_count": 39,
     "metadata": {},
     "output_type": "execute_result"
    }
   ],
   "source": [
    "dA, Z, W"
   ]
  },
  {
   "cell_type": "code",
   "execution_count": 40,
   "id": "d61c29a3",
   "metadata": {},
   "outputs": [
    {
     "name": "stdout",
     "output_type": "stream",
     "text": [
      "dZ = ∂L/∂Z:\n",
      " tensor([[[[  9.,   9.,   0.],\n",
      "          [ -9., -18.,  -6.],\n",
      "          [  2.,   7.,   6.]]]])\n",
      "dW = ∂L/∂W:\n",
      " tensor([[[[-11.,   1.],\n",
      "          [ -6.,  10.]]]])\n"
     ]
    }
   ],
   "source": [
    "print(\"dZ = ∂L/∂Z:\\n\", Z.grad)\n",
    "print(\"dW = ∂L/∂W:\\n\", W.grad)"
   ]
  },
  {
   "cell_type": "code",
   "execution_count": null,
   "id": "55ca25dc",
   "metadata": {},
   "outputs": [],
   "source": []
  },
  {
   "cell_type": "code",
   "execution_count": null,
   "id": "63ecb93c",
   "metadata": {},
   "outputs": [],
   "source": []
  }
 ],
 "metadata": {
  "kernelspec": {
   "display_name": "mlenv",
   "language": "python",
   "name": "python3"
  },
  "language_info": {
   "codemirror_mode": {
    "name": "ipython",
    "version": 3
   },
   "file_extension": ".py",
   "mimetype": "text/x-python",
   "name": "python",
   "nbconvert_exporter": "python",
   "pygments_lexer": "ipython3",
   "version": "3.12.2"
  }
 },
 "nbformat": 4,
 "nbformat_minor": 5
}
