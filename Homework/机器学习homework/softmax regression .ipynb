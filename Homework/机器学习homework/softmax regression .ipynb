{
 "cells": [
  {
   "cell_type": "markdown",
   "id": "85b2d41a",
   "metadata": {},
   "source": [
    "# Homework 3:  Softmax Regression "
   ]
  },
  {
   "cell_type": "markdown",
   "id": "c07a269c",
   "metadata": {},
   "source": [
    "<span style=\"font-size: 20px;\">Welcome to the course  **AI and Deep Learning**!</span>\n"
   ]
  },
  {
   "cell_type": "markdown",
   "id": "0030aac9",
   "metadata": {},
   "source": [
    "Since you have mastered the Logistic Regression, now Let's move on to the generalization of logistic regression to multiple classes---softmax regression. It is used for classification problems where the target variable has more than two possible classes.The key function in softmax regression is the **softmax function**,which converts the raw model outputs(logits) into probabilities that sum up to one.As a fundation for categorical data analysis , softmax regression is of great importance in both statistics and deep learning. In homework3 , we would use simulation again to review softmax regression in more details.Hope you enjoy the third homework!"
   ]
  },
  {
   "cell_type": "markdown",
   "id": "fce9bead",
   "metadata": {},
   "source": [
    "**Learning Goal:** In this homework, we are going to conduct a simple simulation study based on a softmax regression.After this homework, you will know:\n",
    "\n",
    "<style>\n",
    "ul li {\n",
    "  list-style-type: disc;\n",
    "  padding-left: 20px;\n",
    "}\n",
    "</style>\n",
    "\n",
    "<ul>\n",
    "  <li>How to implement a softmax function </li>\n",
    "  <li>How to construct the loss function for softmax regression </li> \n",
    "  <li>How to compute the gradients for the softmax output layer during backpropagation </li>\n",
    "  <li>How to evaluate the classification precision</li>\n",
    "</ul>"
   ]
  },
  {
   "cell_type": "markdown",
   "id": "8cb17d30",
   "metadata": {},
   "source": [
    "# Table of content"
   ]
  },
  {
   "cell_type": "markdown",
   "id": "d4fed3fa",
   "metadata": {},
   "source": [
    "<style>\n",
    "ol li {\n",
    "  list-style-type: decimal-leading-zero;\n",
    "  padding-left: 20px;\n",
    "}\n",
    "</style>\n",
    "\n",
    "<ol>\n",
    "  <li>Packages</li>\n",
    "  <li>Generate a training dataset</li>\n",
    "  <li>softmax function\n",
    "    <ol style=\"list-style-type:lower-alpha;\">\n",
    "      <li>Sum operator</li>\n",
    "      <li>Broadcasting mechanism</li>\n",
    "      <li>Steps for building a softmax function</li>\n",
    "    </ol>\n",
    "  </li>\n",
    "  <li>Cross-Entropy Loss function</li> \n",
    "    <ol style=\"list-style-type:lower-alpha;\">\n",
    "      <li>relationship between MLE and cross entropy</li>\n",
    "      <li>CE function</li>\n",
    "     </ol>\n",
    "  </li>  \n",
    "  <li>Gradients of the softmax layer</li>\n",
    "    <ol style=\"list-style-type:lower-alpha;\">\n",
    "      <li>forward propogation</li>\n",
    "      <li>backward propogation</li>\n",
    "      <li>update parameters</li>\n",
    "     </ol>\n",
    "  </li>  \n",
    "  <li>Classification Precision</li>\n",
    "  <li>Complete process</li>\n",
    "    <ol style=\"list-style-type:lower-alpha;\">\n",
    "      <li>softmax regression complete code pipeline</li>\n",
    "      <li>a vivid example</li>\n",
    "      <li>softmax regression concise implementation</li>\n",
    "  </li> \n",
    "  \n",
    "  \n",
    "</ol>"
   ]
  },
  {
   "cell_type": "markdown",
   "id": "056c0dbc",
   "metadata": {},
   "source": [
    "# 1-Packages"
   ]
  },
  {
   "cell_type": "markdown",
   "id": "b5c1a74f",
   "metadata": {},
   "source": [
    "In order to finish a task , we need commands from certain **Python** packages.Again, one of the commonly used package is **numpy**."
   ]
  },
  {
   "cell_type": "code",
   "execution_count": null,
   "id": "b6b7b595",
   "metadata": {},
   "outputs": [],
   "source": [
    "import numpy as np\n",
    "import torch\n",
    "import matplotlib.pyplot as plt # for plots\n",
    "import torch.nn as nn\n",
    "from torch.optim import SGD"
   ]
  },
  {
   "cell_type": "markdown",
   "id": "32d9700f",
   "metadata": {},
   "source": [
    "# 2-Generate a multi-class training dataset "
   ]
  },
  {
   "cell_type": "markdown",
   "id": "ef5079bf",
   "metadata": {},
   "source": [
    "First, we generate a training dataset from a pre-specified softmax regression model.**In order to guarantee that our simulation results are reproducible , we need to control the random seed.** That is , after controlling the seed , others can generate the **SAME** random variables as we did, so our simulation results can be reproduced.**Random seed is very important!**"
   ]
  },
  {
   "cell_type": "code",
   "execution_count": null,
   "id": "1b2c9fad",
   "metadata": {},
   "outputs": [],
   "source": [
    "def generate_data(n_samples, n_features, n_classes, noise_std,random_seed):\n",
    "    \n",
    "    #n_samples: sample size\n",
    "    #n_features: the dimension of each sample's features\n",
    "    #n_classes: the number of distinct classes to which a sample can belong.\n",
    "    #noise_std: the standard deviation added to the feature matrix\n",
    "    #random_seed: you need to define your global random seed for reproducibility\n",
    "    \n",
    "    #step 1 :set random seed to be random_seed\n",
    "    #step 2 : define true weight and bias , the dimension of weight matrix is (n_classes,n_features),the dimension of bias is(n_classes,)\n",
    "    #step 3 : generate features using standard normal distribution,the size of the matrix is (n_samples,n_features)\n",
    "    #step 4 : calculate probability distribution \n",
    "    #step 5 : generate labels sampling from the probability distribution\n",
    "    #step 6:  Convert the class labels `y` (with shape `(n_samples,)`) into a one-hot encoded matrix (with shape `(n_samples, n_classes)`).\n",
    "    \n",
    "    ### YOUR CODE BEGINS HERE\n",
    "    np.random.seed(random_seed)\n",
    "    \n",
    "    W_true = np.array([[2.0, -1.0], [-1.5, 1.0], [0.5, -0.8]])  # 3x2 weight matrix\n",
    "    b_true = np.array([0.1, -0.2, 0.3])  \n",
    "    \n",
    "   \n",
    "    X = np.random.randn(n_samples, n_features) \n",
    "    \n",
    "   \n",
    "    logits = X @ W_true.T + b_true  #broadcasting\n",
    "    probabilities = np.exp(logits) / np.exp(logits).sum(axis=1, keepdims=True)\n",
    "    \n",
    "   \n",
    "    y = np.array([np.random.choice(n_classes, p=p) for p in probabilities])\n",
    "    y_onehot = np.eye(n_classes)[y.astype(np.int64)]\n",
    "    \n",
    "   \n",
    "    X += np.random.normal(0, noise_std, size=X.shape)\n",
    "    ### YOUR CODE ENDS\n",
    "                   \n",
    "    return X,  y_onehot\n",
    "\n",
    "\n",
    "\n"
   ]
  },
  {
   "cell_type": "markdown",
   "id": "5aa04ba1",
   "metadata": {},
   "source": [
    "Visualize the generated data , you may want to run the following code."
   ]
  },
  {
   "cell_type": "code",
   "execution_count": null,
   "id": "7c467e66",
   "metadata": {},
   "outputs": [
    {
     "name": "stderr",
     "output_type": "stream",
     "text": [
      "C:\\Windows\\Temp\\ipykernel_16804\\1404432307.py:3: UserWarning: No data for colormapping provided via 'c'. Parameters 'cmap' will be ignored\n",
      "  scatter = plt.scatter(X[:, 0], X[:, 1], c=y, cmap='viridis', alpha=0.7, edgecolors='w')\n"
     ]
    },
    {
     "data": {
      "image/png": "[encoded data removed]",
      "text/plain": [
       "<Figure size 1000x600 with 2 Axes>"
      ]
     },
     "metadata": {},
     "output_type": "display_data"
    },
    {
     "data": {
      "text/plain": [
       "(array([[ 0.50244543, -0.15612297],\n",
       "        [ 0.64409224,  1.52604093],\n",
       "        [-0.23231503, -0.20720662],\n",
       "        ...,\n",
       "        [ 0.34879216,  1.06615146],\n",
       "        [-0.02766767, -0.87923197],\n",
       "        [-0.16456813, -0.75754271]]),\n",
       " array([[1., 0., 0.],\n",
       "        [1., 0., 0.],\n",
       "        [0., 1., 0.],\n",
       "        ...,\n",
       "        [1., 0., 0.],\n",
       "        [1., 0., 0.],\n",
       "        [0., 1., 0.]]))"
      ]
     },
     "execution_count": 114,
     "metadata": {},
     "output_type": "execute_result"
    }
   ],
   "source": [
    "\n",
    "def plot_2d_data(X, y, title=\"Generated Data\"):\n",
    "    plt.figure(figsize=(10, 6))\n",
    "    scatter = plt.scatter(X[:, 0], X[:, 1], c=y, cmap='viridis', alpha=0.7, edgecolors='w')\n",
    "    plt.colorbar(scatter, label='Class')\n",
    "    plt.xlabel(\"Feature 1\")\n",
    "    plt.ylabel(\"Feature 2\")\n",
    "    plt.title(title)\n",
    "    plt.grid(True)\n",
    "    plt.show()\n",
    "\n",
    "X, y_onehot = generate_data(n_samples=1000, n_features=2, n_classes=3,noise_std=0.01, random_seed=42)\n",
    "plot_2d_data(X, y_onehot)\n",
    "\n",
    "X,y_onehot"
   ]
  },
  {
   "cell_type": "markdown",
   "id": "ea5c6df0",
   "metadata": {},
   "source": [
    "# 3- softmax function\n"
   ]
  },
  {
   "cell_type": "markdown",
   "id": "135d0560",
   "metadata": {},
   "source": [
    "<span style=\"font-size: 20px;\">**3.1 Sum operator**</span>\n"
   ]
  },
  {
   "cell_type": "markdown",
   "id": "9895ed43",
   "metadata": {},
   "source": [
    "before realizing softmax regression, we need to briefly review how the **sum operator** work along a specific dimension in a tensor\n",
    "\n",
    "here is a vivid example"
   ]
  },
  {
   "cell_type": "code",
   "execution_count": null,
   "id": "2d52359e",
   "metadata": {},
   "outputs": [
    {
     "data": {
      "text/plain": [
       "tensor([[5., 7., 9.]])"
      ]
     },
     "execution_count": 25,
     "metadata": {},
     "output_type": "execute_result"
    }
   ],
   "source": [
    "#the illustration of how the sum operator works\n",
    "\n",
    "Z= torch.tensor([[1.0,2.0,3.0],[4.0,5.0,6.0]])\n",
    "\n",
    "#sum along dimension 0(dim=0)\n",
    "Z.sum(0,keepdim=True)"
   ]
  },
  {
   "cell_type": "markdown",
   "id": "e1afeca6",
   "metadata": {},
   "source": [
    "dim=0 specifies that the summation should be performed along the rows (i.e., across columns).\n",
    "\n",
    "keepdim=True ensures that the resulting tensor retains the same number of dimensions as the original tensor. 2D tensor"
   ]
  },
  {
   "cell_type": "code",
   "execution_count": null,
   "id": "ee4b5401",
   "metadata": {},
   "outputs": [
    {
     "data": {
      "text/plain": [
       "tensor([[ 6.],\n",
       "        [15.]])"
      ]
     },
     "execution_count": 23,
     "metadata": {},
     "output_type": "execute_result"
    }
   ],
   "source": [
    "#sum along dimension 1(dim=1)\n",
    "Z.sum(1,keepdim=True)"
   ]
  },
  {
   "cell_type": "markdown",
   "id": "74403917",
   "metadata": {},
   "source": [
    "dim=1 specifies that the summation should be performed along the columns (i.e., across rows).\n",
    "\n",
    "keepdim=True ensures that the resulting tensor retains the same number of dimensions as the original tensor.2D tensor.\n"
   ]
  },
  {
   "cell_type": "markdown",
   "id": "dead7d54",
   "metadata": {},
   "source": [
    "<span style=\"font-size: 20px;\">**3.2 Broadcasting mechanism**</span>\n"
   ]
  },
  {
   "cell_type": "markdown",
   "id": "22e09a02",
   "metadata": {},
   "source": [
    "**broadcasting mechanism** allows for arithmetic operations between arrays of **different shapes**. Here is a simple example using NumPy to illustrate the broadcasting mechanism:"
   ]
  },
  {
   "cell_type": "code",
   "execution_count": null,
   "id": "7ba53afd",
   "metadata": {},
   "outputs": [
    {
     "name": "stdout",
     "output_type": "stream",
     "text": [
      "Result of broadcasting (matrix + vector):\n",
      " [[11 22 33]\n",
      " [14 25 36]]\n"
     ]
    }
   ],
   "source": [
    "#broadcasting mechanism illustration\n",
    "\n",
    "# Create a 2D array (matrix)\n",
    "matrix = np.array([[1, 2, 3],\n",
    "                   [4, 5, 6]])\n",
    "\n",
    "# Create a 1D array (vector)\n",
    "vector = np.array([10, 20, 30])\n",
    "\n",
    "# Perform broadcasting: Add the vector to each row of the matrix\n",
    "result = matrix + vector\n",
    "\n",
    "\n",
    "print(\"Result of broadcasting (matrix + vector):\\n\", result)"
   ]
  },
  {
   "cell_type": "markdown",
   "id": "c075e537",
   "metadata": {},
   "source": [
    "<span style=\"font-size: 20px;\">**3.3 Steps for building a softmax function**</span>\n",
    "\n"
   ]
  },
  {
   "cell_type": "markdown",
   "id": "d46517ce",
   "metadata": {},
   "source": [
    "1. Exponentiate each term (using `exp`).\n",
    "2. Sum across each row (each sample is a row) to obtain the normalization constant for each sample.\n",
    "3. Divide each row by its normalization constant to ensure the sum of the results equals 1.\n"
   ]
  },
  {
   "cell_type": "markdown",
   "id": "fe8f3440",
   "metadata": {},
   "source": [
    "$$\n",
    "\\text{softmax}(\\mathbf{X})_{ij} = \\frac{\\exp(\\mathbf{X}_{ij})}{\\sum_k \\exp(\\mathbf{X}_{ik})}.\n",
    "$$"
   ]
  },
  {
   "cell_type": "code",
   "execution_count": null,
   "id": "795c27a3",
   "metadata": {},
   "outputs": [],
   "source": [
    "def softmax(X):\n",
    "    \n",
    "    ### YOUR CODE BEGINS HERE###\n",
    "    X_exp = torch.exp(X)\n",
    "    partition= X_exp.sum(1,keepdim=True)\n",
    "    return X_exp / partition   #broadcasting\n",
    "\n",
    "    ### YOUR CODE ENDS###"
   ]
  },
  {
   "cell_type": "code",
   "execution_count": null,
   "id": "ff76796a",
   "metadata": {},
   "outputs": [],
   "source": [
    "#after defining the softmax operator, we can realize the softmax regression \n",
    "\n",
    "#initialize model parameters\n",
    "n_classes=3\n",
    "n_features=2\n",
    "\n",
    "W=torch.normal(0,0.1,size=(n_features,n_classes),requires_grad=True, dtype=torch.float32)\n",
    "b=torch.zeros(n_classes,requires_grad=True,dtype=torch.float32)\n",
    "\n",
    "####YOUR CODE BEGINS HERE###\n",
    "def net(X):\n",
    "    return softmax(torch.matmul(X,W)+b)\n",
    "###YOUR CODE ENDS HERE###\n",
    "\n",
    "X_tensor = torch.tensor(X,dtype=torch.float32) # transfer the type of generated X from numpy to tensor\n",
    "y_true =  torch.tensor(y_onehot,dtype=torch.long)\n",
    "\n",
    "y_pred = net(X_tensor)\n"
   ]
  },
  {
   "cell_type": "markdown",
   "id": "8615fe56",
   "metadata": {},
   "source": [
    "# 4-Cross-Entropy loss function"
   ]
  },
  {
   "cell_type": "markdown",
   "id": "2d9db87b",
   "metadata": {},
   "source": [
    "<span style=\"font-size: 20px;\">**4.1 Relationship between MLE and cross entropy**</span>\n",
    "\n",
    "\n",
    "**Indeed,CrossEntropy loss function is equivalent to the negative log-likelihood function.** Below is the illustration."
   ]
  },
  {
   "cell_type": "markdown",
   "id": "0ade5f70",
   "metadata": {},
   "source": [
    "Consider a multi-class classification problem with $C$ classes. Let $\\mathbf{X}$ be the input features and $\\mathbf{Y}$ be the one-hot encoded target variable where $\\mathbf{Y} \\in \\mathbb{R}^{C}$ and $\\mathbf{Y}_{ic} = 1$ if class $c$ is the correct classification for observation $i$, and $0$ otherwise.\n",
    "\n",
    "The predicted probabilities are given by applying the softmax function to the linear combination of the input features and weights:\n",
    "$$\n",
    "p(\\mathbf{Y}|\\mathbf{X}) = \\text{softmax}(\\mathbf{Z}) = \\frac{\\exp(\\mathbf{Z})}{\\sum_{k=1}^{C} \\exp(\\mathbf{Z}_k)}\n",
    "$$\n",
    "where $\\mathbf{Z} = \\mathbf{W}^T\\mathbf{X} + \\mathbf{b}$.\n",
    "\n",
    "The likelihood of the observed data given the parameters is the product of the probabilities of each observation:\n",
    "$$\n",
    "L(\\mathbf{W}, \\mathbf{b}) = \\prod_{i=1}^{N} \\prod_{c=1}^{C} [p(\\mathbf{Y}|\\mathbf{X})]_{ic}^{y_{ic}}\n",
    "$$\n",
    "where $N$ is the number of observations.\n",
    "\n",
    "Taking the log of the likelihood function to simplify the product into a sum gives us the log-likelihood:\n",
    "$$\n",
    "\\ell(\\mathbf{W}, \\mathbf{b}) = \\log L(\\mathbf{W}, \\mathbf{b}) = \\sum_{i=1}^{N} \\sum_{c=1}^{C} y_{ic} \\log [p(\\mathbf{Y}|\\mathbf{X})]_{ic}\n",
    "$$\n",
    "\n",
    "The negative log-likelihood, which is the objective we typically minimize, is:\n",
    "$$\n",
    "-\\ell(\\mathbf{W}, \\mathbf{b}) = -\\sum_{i=1}^{N} \\sum_{c=1}^{C} y_{ic} \\log [p(\\mathbf{Y}|\\mathbf{X})]_{ic}\n",
    "$$\n",
    "\n",
    "This is equivalent to the CrossEntropy loss function:\n",
    "$$\n",
    "H(\\mathbf{p}, \\mathbf{Y}) = -\\sum_{i=1}^{N} \\sum_{c=1}^{C} y_{ic} \\log p_{ic}\n",
    "$$\n",
    "\n",
    "where $p_{ic} = [p(\\mathbf{Y}|\\mathbf{X})]_{ic}$ is the predicted probability of class $c$ for observation $i$.\n",
    "\n",
    "Thus, minimizing the CrossEntropy loss is equivalent to maximizing the log-likelihood, which is the Maximum Likelihood Estimation (MLE) principle."
   ]
  },
  {
   "cell_type": "markdown",
   "id": "4c08b651",
   "metadata": {},
   "source": [
    "<span style=\"font-size: 20px;\">**4.2 Cross-Entropy loss function**</span>\n"
   ]
  },
  {
   "cell_type": "code",
   "execution_count": null,
   "id": "4d91ee8c",
   "metadata": {},
   "outputs": [],
   "source": [
    "def cross_entropy_loss(y_pred, y_true):\n",
    "    \"\"\"\n",
    "    Compute the cross-entropy loss.\n",
    "    \n",
    "    Parameters:\n",
    "    y_pred (np.array): Predicted probabilities, shape (n_samples, n_classes)\n",
    "    y_true (np.array): True labels, shape (n_samples,n_classes) \n",
    "    \n",
    "    Returns:\n",
    "    float: Cross-entropy loss\n",
    "    \"\"\"\n",
    "    ### YOUR CODE BEGINS HERE\n",
    "    return  -torch.sum(y_true * torch.log(y_pred),dim=1) \n",
    "    ### YOUR CODE ENDS HERE\n"
   ]
  },
  {
   "cell_type": "markdown",
   "id": "18d44196",
   "metadata": {},
   "source": [
    "\n",
    "The operation  **y_pred[range(len(y_true)), y]**  is used to extract the predicted probabilities corresponding to the true classes for each sample from y_pred. Specifically, for each sample, it uses the indices from range(len(y_hat)) to select the rows and then uses the indices from y to select the columns. "
   ]
  },
  {
   "cell_type": "markdown",
   "id": "527cc26c",
   "metadata": {},
   "source": [
    "# 5- Gradients of the softmax layer"
   ]
  },
  {
   "cell_type": "markdown",
   "id": "c3dc3fa2",
   "metadata": {},
   "source": [
    "<span style=\"font-size: 20px;\">**5.1 Forward Propagation**</span>\n",
    "\n",
    "\n",
    "\n",
    "\n",
    "\n",
    "\n",
    "\n",
    "\n",
    "**1.calculate logits**\n",
    "\n",
    "\n",
    "$$\n",
    "Z = X W^T + b \\quad \\text{其中} \\quad Z \\in \\mathbb{R}^{n\\_samples \\times n\\_classes}\n",
    "$$\n",
    "\n",
    "-\n",
    "   $ Z $: original output after linear transformation\n",
    "\n",
    "\n",
    "\n",
    "**2.calculate softmax probability**\n",
    "\n",
    "$$\n",
    "P = \\text{softmax}(Z) = \\left[ \\frac{e^{Z_{ij}}}{\\sum_{c=1}^k e^{Z_{ic}}} \\right] \\quad \\text{其中} \\quad P \\in \\mathbb{R}^{n\\_samples \\times n\\_classes}\n",
    "$$\n",
    "\n",
    "\n",
    "  - 每行元素和为 1：每行元素和为 1：\n",
    "$$\n",
    "\\sum_{j=1}^{n\\_{\\text{classes}}} P_{ij} = 1\n",
    "$$\n",
    "  - 指数运算保证 $ P_{ij} > 0 $\n",
    "  \n",
    "\n",
    "\n",
    "  **3.Loss function (Cross Entropy)**\n",
    "$$\n",
    "L = - \\sum_{i=1}^{n\\_samples} \\sum_{j=1}^{n\\_classes} Y_{ij} \\log P_{ij}\n",
    "$$\n",
    "\n",
    "\n",
    "\n"
   ]
  },
  {
   "cell_type": "markdown",
   "id": "3e822ed3",
   "metadata": {},
   "source": [
    "<span style=\"font-size: 20px;\">**5.2 Backward Propogation**\n",
    "</span>\n",
    "\n",
    "\n",
    "\n",
    "**gradients for softmax：**\n",
    "$$\n",
    "\\frac{\\partial L}{\\partial Z} = P - Y \\quad ( \\in \\mathbb{R}^{n \\times k} )\n",
    "$$\n",
    "\n",
    "\n",
    "Softmax 交叉熵梯度推导\n",
    "\n",
    "\n",
    "对于单个样本 $ i $，其交叉熵损失为：\n",
    "\n",
    "$$\n",
    "L_i = -\\sum_{c=1}^k Y_{i,c} \\log P_{i,c} \n",
    "$$\n",
    "\n",
    "其中：\n",
    "- $ Y_{i,c} \\in \\{0,1\\} $ 为 one-hot 编码的真实标签\n",
    "- 每行有且仅有一个元素为 1（即 $ \\sum_{c=1}^k Y_{i,c} = 1 $）\n",
    "\n",
    "\n",
    "\n",
    "\n",
    "将 logits $ Z $ 转换为概率分布：\n",
    "\n",
    "$$\n",
    "P_{i,c} = \\frac{e^{Z_{i,c}}}{\\sum_{m=1}^k e^{Z_{i,m}}}\n",
    "$$\n",
    "\n",
    "\n",
    "\n",
    "需计算偏导数 $ \\frac{\\partial L_i}{\\partial Z_{i,j}} $，分两种情况讨论：\n",
    "\n",
    " 情况 1：$ j $ 是真实类别（$ Y_{i,j} = 1 $）\n",
    "$$\n",
    "\\frac{\\partial L_i}{\\partial Z_{i,j}} = P_{i,j} - 1\n",
    "$$\n",
    "\n",
    "情况 2：$ j $ 不是真实类别（$ Y_{i,j} = 0 $）\n",
    "$$\n",
    "\\frac{\\partial L_i}{\\partial Z_{i,j}} = P_{i,j}\n",
    "$$\n",
    "\n",
    "\n",
    "\n",
    " 统一表达式\n",
    "合并两种情况可得：\n",
    "\n",
    "$$\n",
    "\\frac{\\partial L_i}{\\partial Z_{i}} = P_{i} - Y_{i}\n",
    "$$\n",
    "\n",
    "推广到整个矩阵：\n",
    "\n",
    "$$\n",
    "\\frac{\\partial L}{\\partial Z} = P - Y \\quad \\in \\mathbb{R}^{n\\_samples \\times n\\_classes}\n",
    "$$\n",
    "\n",
    "其中：\n",
    "- $ P $: Softmax 输出的概率矩阵\n",
    "- $ Y $: 真实标签的 one-hot 编码矩阵\n",
    "\n",
    "\n",
    "   \n",
    "   \n",
    "   \n",
    "   \n",
    "   \n",
    "   \n",
    "   \n",
    "   \n",
    "   \n",
    "   \n",
    "   \n",
    "   \n",
    "   \n",
    "   \n",
    "gradients for W：  (the chain rule)\n",
    "$$\n",
    "\\frac{\\partial L}{\\partial W} =  (P - Y)^T X \\quad ( \\in \\mathbb{R}^{n\\_classes \\times n\\_features} )\n",
    "$$\n",
    "\n",
    "gradients for b：  (the chain rule)\n",
    "$$\n",
    "\\frac{\\partial L}{\\partial b} =  \\sum_{i=1}^{n} (P_i - Y_i) \\quad ( \\in \\mathbb{R}^{n\\_classes} )\n",
    "$$"
   ]
  },
  {
   "cell_type": "code",
   "execution_count": null,
   "id": "f91591ee",
   "metadata": {},
   "outputs": [],
   "source": [
    "def compute_gradients(X,y_true,y_pred):\n",
    "    #calculate the gradients toward W and b\n",
    "    \n",
    "    ###YOUR CODE BEGINS HERE###\n",
    "    error = y_pred - y_true   # # ∂L/∂Z\n",
    "    \n",
    "    dW = error.T @ X\n",
    "    db = np.sum(error, axis=0)\n",
    "    \n",
    "    return dW,db\n",
    "   ###YOUR CODE ENDS HERE###"
   ]
  },
  {
   "cell_type": "markdown",
   "id": "c6fa01ca",
   "metadata": {},
   "source": [
    "<span style=\"font-size: 20px;\">**5.3 Update Parameters**</span>\n",
    "\n"
   ]
  },
  {
   "cell_type": "code",
   "execution_count": null,
   "id": "fd5481bc",
   "metadata": {},
   "outputs": [
    {
     "data": {
      "text/plain": [
       "'\\nW -= lr * dW\\nb -= lr * db\\n\\n'"
      ]
     },
     "execution_count": 116,
     "metadata": {},
     "output_type": "execute_result"
    }
   ],
   "source": [
    "#using gradient descent method to update parameters\n",
    "\n",
    "###YOUR CODE BEGINS HERE###\n",
    "'''\n",
    "W -= lr * dW\n",
    "b -= lr * db\n",
    "\n",
    "'''\n",
    "###YOUR CODE ENDS HERE###"
   ]
  },
  {
   "cell_type": "markdown",
   "id": "ea4fc17d",
   "metadata": {},
   "source": [
    "# 6- Classification Precision"
   ]
  },
  {
   "cell_type": "markdown",
   "id": "953dfce7",
   "metadata": {},
   "source": [
    "\n",
    "Given a predicted probability distribution y_pred, when we need to output a hard prediction, we typically select the class with the highest predicted probability. This process is known as taking the **\"argmax\"** of the probability distribution.\n",
    "\n",
    "\n",
    "When predictions match the true labels y, they are considered correct. **Classification accuracy is the ratio of the number of correct predictions to the total number of predictions made.**  Although it can be challenging to directly optimize for accuracy (since the calculation of accuracy is not differentiable), accuracy is often the performance metric we care about the most, and we almost always pay attention to it when training classifiers."
   ]
  },
  {
   "cell_type": "code",
   "execution_count": null,
   "id": "8f2f0b8f",
   "metadata": {},
   "outputs": [],
   "source": [
    "def accuracy(y_pred, y_true):  \n",
    "    ###YOUR CODE BEGINS HERE###\n",
    "    if len(y_pred.shape) > 1 and y_pred.shape[1] > 1:\n",
    "        y_pred = y_pred.argmax(axis=1)\n",
    "    cmp = y_pred.type(y_true.dtype) == y_true\n",
    "    return float(cmp.type(y.dtype).sum())\n",
    "\n",
    "# accuracy(y_pred, y_true) / len(y_true)\n",
    "    ###YOUR CODE ENDS HERE###"
   ]
  },
  {
   "cell_type": "markdown",
   "id": "61220646",
   "metadata": {},
   "source": [
    "# 7-Complete process"
   ]
  },
  {
   "cell_type": "markdown",
   "id": "fd361290",
   "metadata": {},
   "source": [
    "<span style=\"font-size: 20px;\">**7.1 softmax regression complete code pipeline**</span>\n",
    "\n"
   ]
  },
  {
   "cell_type": "code",
   "execution_count": null,
   "id": "c2a66836",
   "metadata": {
    "scrolled": false
   },
   "outputs": [],
   "source": [
    "class SoftmaxRegression:\n",
    "   ###1.initialiazation:set parameters\n",
    "   ###2.forward propagation \n",
    "   ###3.loss function\n",
    "   ###4.update parameters\n",
    "   ###5.predition\n",
    "\n",
    "\n",
    "    ###YOUR CODE BEGINS HERE###\n",
    "\n",
    "    def __init__(self, lr=0.01, epochs=100, reg_lambda=0.01,verbose=True):\n",
    "        \"\"\"\n",
    "        Parameters:\n",
    "            lr: learning rate\n",
    "            epochs: 迭代次数\n",
    "            reg_lambda: L2 regularization coefficient,in case of overfitting(optional)\n",
    "            verbose:Whether to print training information\n",
    "        \"\"\"\n",
    "        self.lr = lr\n",
    "        self.epochs = epochs\n",
    "        self.reg_lambda = reg_lambda\n",
    "        self.verbose = verbose\n",
    "\n",
    "    def fit(self, X, y):\n",
    "        n_samples, n_features = X.shape\n",
    "        self.classes_ = np.unique(y)\n",
    "        n_classes = len(self.classes_)\n",
    "        \n",
    "        # Initialize parameters\n",
    "        self.W = np.random.randn(n_classes, n_features) * 0.01\n",
    "        self.b = np.zeros(n_classes)\n",
    "        \n",
    "        \n",
    "        y_onehot = np.eye(n_classes)[y]\n",
    "        \n",
    "        self.loss_history=[]\n",
    "\n",
    "        for _ in range(self.epochs):\n",
    "            # forward propogation\n",
    "            logits = X @ self.W.T + self.b\n",
    "            probs = self._softmax(logits)\n",
    "            \n",
    "            # calculate the loss function（L2 regularization）\n",
    "            loss = self._cross_entropy_loss(probs, y_onehot)\n",
    "            reg_loss = 0.5 * self.reg_lambda * np.sum(self.W**2)\n",
    "            total_loss = loss + reg_loss\n",
    "            self.loss_history.append(total_loss)\n",
    "            \n",
    "            \n",
    "            # backward propogation\n",
    "            error = probs - y_onehot\n",
    "            dW = (error.T @ X) / n_samples + self.reg_lambda * self.W  # L2 regularization gradient\n",
    "            db = error.mean(axis=0)\n",
    "            \n",
    "            # update parameters\n",
    "            self.W -= self.lr * dW\n",
    "            self.b -= self.lr * db\n",
    "            \n",
    "            \n",
    "               \n",
    "                \n",
    "    def _softmax(self, z):\n",
    "        exp_z = np.exp(z)\n",
    "        return exp_z / np.sum(exp_z, axis=1, keepdims=True)\n",
    "    \n",
    "    \n",
    "    def _cross_entropy_loss(self, probs, y_onehot):\n",
    "        return -np.sum(np.sum(y_onehot * np.log(probs), axis=1))\n",
    "    \n",
    "    def predict(self, X):\n",
    "        logits = X @ self.W.T + self.b\n",
    "        return self.classes_[np.argmax(logits, axis=1)]\n",
    "\n",
    "    ###YOUR CODE ENDS HERE###"
   ]
  },
  {
   "cell_type": "markdown",
   "id": "93a70c44",
   "metadata": {},
   "source": [
    "<span style=\"font-size: 20px;\">**7.2 a vivid example**</span>\n"
   ]
  },
  {
   "cell_type": "code",
   "execution_count": null,
   "id": "006b47ae",
   "metadata": {},
   "outputs": [
    {
     "name": "stdout",
     "output_type": "stream",
     "text": [
      "Train Accuracy: 0.98, Test Accuracy: 0.97\n"
     ]
    }
   ],
   "source": [
    "from sklearn.datasets import load_iris\n",
    "from sklearn.model_selection import train_test_split\n",
    "\n",
    "# loading the iris dataset\n",
    "X, y = load_iris(return_X_y=True)\n",
    "X_train, X_test, y_train, y_test = train_test_split(X, y, test_size=0.2)\n",
    "\n",
    "# training\n",
    "model = SoftmaxRegression(lr=0.1, epochs=1000)\n",
    "model.fit(X_train, y_train)\n",
    "\n",
    "# evaluating\n",
    "train_acc = (model.predict(X_train) == y_train).mean()\n",
    "test_acc = (model.predict(X_test) == y_test).mean()\n",
    "print(f\"Train Accuracy: {train_acc:.2f}, Test Accuracy: {test_acc:.2f}\")"
   ]
  },
  {
   "cell_type": "markdown",
   "id": "26b7bf6a",
   "metadata": {},
   "source": [
    "<span style=\"font-size: 20px;\">**7.3 softmax regression concise implementation**</span>\n"
   ]
  },
  {
   "cell_type": "code",
   "execution_count": null,
   "id": "141d7cdf",
   "metadata": {},
   "outputs": [
    {
     "name": "stdout",
     "output_type": "stream",
     "text": [
      "Epoch 0, Loss: 1.1756\n",
      "Epoch 10, Loss: 1.1729\n",
      "Epoch 20, Loss: 1.1709\n",
      "Epoch 30, Loss: 1.1683\n",
      "Epoch 40, Loss: 1.1566\n",
      "Epoch 50, Loss: 1.0265\n",
      "Epoch 60, Loss: 0.9863\n",
      "Epoch 70, Loss: 0.9611\n",
      "Epoch 80, Loss: 0.9435\n",
      "Epoch 90, Loss: 0.9306\n",
      "Test Accuracy: 0.57\n"
     ]
    }
   ],
   "source": [
    "model = nn.Sequential(\n",
    "    nn.Linear(4, 3),  # the dimension of input feature is 4，the number of class is 3\n",
    "    nn.Softmax(dim=1)  # softmax layer\n",
    ")\n",
    "\n",
    "# pre-processing\n",
    "X_train = torch.FloatTensor(X_train)\n",
    "y_train = torch.LongTensor(y_train)\n",
    "\n",
    "# training configuration\n",
    "criterion = nn.CrossEntropyLoss()\n",
    "optimizer = SGD(model.parameters(), lr=0.1)\n",
    "\n",
    "# training\n",
    "for epoch in range(100):\n",
    "    optimizer.zero_grad()\n",
    "    outputs = model(X_train)\n",
    "    loss = criterion(outputs, y_train)\n",
    "    loss.backward()\n",
    "    optimizer.step()\n",
    "    \n",
    "    if epoch % 10 == 0:\n",
    "        print(f\"Epoch {epoch}, Loss: {loss.item():.4f}\")\n",
    "\n",
    "# prediction\n",
    "with torch.no_grad():\n",
    "    y_pred = model(torch.FloatTensor(X_test)).argmax(dim=1)\n",
    "    accuracy = (y_pred == torch.LongTensor(y_test)).float().mean()\n",
    "    print(f\"Test Accuracy: {accuracy:.2f}\")"
   ]
  },
  {
   "cell_type": "code",
   "execution_count": null,
   "id": "02e92bc5",
   "metadata": {},
   "outputs": [],
   "source": []
  }
 ],
 "metadata": {
  "kernelspec": {
   "display_name": "Python [conda env:Anaconda-pytorch]",
   "language": "python",
   "name": "conda-env-Anaconda-pytorch-py"
  },
  "language_info": {
   "codemirror_mode": {
    "name": "ipython",
    "version": 3
   },
   "file_extension": ".py",
   "mimetype": "text/x-python",
   "name": "python",
   "nbconvert_exporter": "python",
   "pygments_lexer": "ipython3",
   "version": "3.12.3"
  }
 },
 "nbformat": 4,
 "nbformat_minor": 5
}
