{
 "cells": [
  {
   "cell_type": "markdown",
   "id": "ee8d4a06",
   "metadata": {},
   "source": [
    "# Homework 4 Confusion matrix,ROC,AUC"
   ]
  },
  {
   "cell_type": "markdown",
   "id": "2031b14b",
   "metadata": {},
   "source": [
    "<span style=\"font-size: 20px;\">Welcome to the course  **AI and Deep Learning**!</span>"
   ]
  },
  {
   "cell_type": "markdown",
   "id": "ea627231",
   "metadata": {},
   "source": [
    "In machine learning and statistical classification tasks , evaluating the performance of a model is crucial.The **Confusion matrix** , **ROC Curve（Receiver Operating Characteristic Curve）** , and **AUC(Area Under the ROC Curve)** are three core evaluation tools that measure the performance of a classification model from different perspectives.In this homework, we first revisit these three concepts. Subsequently, in a classification task, you are encouraged to obtain and analyze these metrics by yourself."
   ]
  },
  {
   "cell_type": "markdown",
   "id": "5458f441",
   "metadata": {},
   "source": [
    "**Learning Goal:** After this homework, you will know:\n",
    "\n",
    "<style>\n",
    "ul li {\n",
    "  list-style-type: disc;\n",
    "  padding-left: 20px;\n",
    "}\n",
    "</style>\n",
    "\n",
    "<ul>\n",
    "  <li>How to construct a confusion matrix </li>\n",
    "  <li>How to compute Accuracy , Precision , Recall , F1-score</li>\n",
    "  <li>How to plot the ROC curve </li>\n",
    "  <li>How to compute AUC</li>\n",
    "</ul>"
   ]
  },
  {
   "cell_type": "markdown",
   "id": "f598213e",
   "metadata": {},
   "source": [
    "# Table of content"
   ]
  },
  {
   "cell_type": "markdown",
   "id": "a0c4ab46",
   "metadata": {},
   "source": [
    "<style>\n",
    "ol li {\n",
    "  list-style-type: decimal-leading-zero;\n",
    "  padding-left: 20px;\n",
    "}\n",
    "</style>\n",
    "\n",
    "<ol>\n",
    "  \n",
    "  <li>Confusion Matrix\n",
    "    <ol style=\"list-style-type:lower-alpha;\">\n",
    "      <li>Relationship between the Confusion Matrix and Type I , Type II errors</li>\n",
    "      <li>Classification Performance Metrics</li>\n",
    "        <ol class=\"roman\">\n",
    "          <li>Accuracy</li>\n",
    "          <li>Precision</li>\n",
    "          <li>Recall</li>\n",
    "          <li>F1-Score</li>\n",
    "        </ol>\n",
    "       <li>Calculate the Confusion Matrix</li>\n",
    "       <li> the concise implementation of Confusion Matrix</li>\n",
    "    </ol>\n",
    "  </li>\n",
    "  <li>ROC Curve</li> \n",
    "    <ol style=\"list-style-type:lower-alpha;\">\n",
    "      <li>diagonal line</li>\n",
    "      <li>upper left</li>\n",
    "      <li>plot the ROC curve</li>\n",
    "     </ol>\n",
    "  </li>  \n",
    "  <li>AUC</li>\n",
    "    \n",
    "  </li>  \n",
    "  <li>Concise implementation</li>\n",
    "  \n",
    "  \n",
    "  \n",
    "</ol>"
   ]
  },
  {
   "cell_type": "markdown",
   "id": "e3486cb6",
   "metadata": {},
   "source": [
    "# 1-Confusion Matrix"
   ]
  },
  {
   "cell_type": "markdown",
   "id": "ad3d9bd0",
   "metadata": {},
   "source": [
    "The confusion matrix is a table that shows **the relationship between the predicted results of a classification model and the actual labels**. It provides a clear picture of how well the model performs on each class, including both correct and incorrect predictions. For a binary classification problem, the confusion matrix typically consists of four elements: True Positives (TP), False Positives (FP), True Negatives (TN), and False Negatives (FN). These values can be used to calculate various performance metrics such as **accuracy, precision, recall, and F1-score**."
   ]
  },
  {
   "cell_type": "markdown",
   "id": "85a45a78",
   "metadata": {},
   "source": [
    "Below is  a confusion matrix for a binary classification scenario."
   ]
  },
  {
   "cell_type": "markdown",
   "id": "7272e8f2",
   "metadata": {},
   "source": [
    "|                | **Predicted Positive**       | **Predicted Negative**       |\n",
    "|----------------|------------------|------------------|\n",
    "| **真实为正例** | True Positive (TP) | False Negative (FN) |\n",
    "| **真实为负例** | False Positive (FP) | True Negative (TN)  |"
   ]
  },
  {
   "cell_type": "markdown",
   "id": "55511104",
   "metadata": {},
   "source": [
    "In this table:\n",
    "\n",
    "<style>\n",
    "ul li {\n",
    "  list-style-type: disc;\n",
    "  padding-left: 20px;\n",
    "}\n",
    "</style>\n",
    "\n",
    "<ul>\n",
    "  <li>True Positive (TP): You correctly predicted positive. </li>\n",
    "  <li>False Positive (FP): You incorrectly predicted positive when it was actually negative.</li>\n",
    "  <li>True Negative (TN): You correctly predicted negative. </li>\n",
    "  <li>False Negative (FN): You incorrectly predicted negative when it was actually positive.</li>\n",
    "</ul>\n",
    "\n",
    "\n",
    "**The terms \"true\" and \"false\" indicate whether the prediction was correct or incorrect, and \"positive\" and \"negative\" refer to the predicted outcome.**\n"
   ]
  },
  {
   "cell_type": "markdown",
   "id": "5f0bf3b9",
   "metadata": {},
   "source": [
    "<span style=\"font-size: 20px;\"> **1.1  Relationship between the Confusion Matrix and Type I , Type II errors**\n",
    "</span>"
   ]
  },
  {
   "cell_type": "markdown",
   "id": "ee698311",
   "metadata": {},
   "source": [
    "The Confusion Matrix is directly related to the concepts of Type I and Type II errors, which are fundamental in statistics and hypothesis testing. Here's how they relate:\n",
    "\n",
    "\n",
    "<style>\n",
    "ul li {\n",
    "  list-style-type: disc;\n",
    "  padding-left: 20px;\n",
    "}\n",
    "</style>\n",
    "\n",
    "<ul>\n",
    "  <li>Type I Error (False Positive) : This error occurs when a test incorrectly rejects a true null hypothesis. In the context of a Confusion Matrix for a binary classification problem, a Type I Error corresponds to a False Positive (FP). This is when the model predicts the positive class (e.g., disease present) when the actual class is negative (e.g., disease absent). </li>\n",
    "  <li>Type II Error (False Negative): This error occurs when a test fails to reject a false null hypothesis. In terms of a Confusion Matrix, a Type II Error corresponds to a False Negative (FN). This happens when the model predicts the negative class when the actual class is positive.</li> \n",
    "  \n",
    "</ul>\n",
    "\n",
    "\n",
    "\n",
    "\n",
    "\n",
    "\n",
    "\n"
   ]
  },
  {
   "cell_type": "markdown",
   "id": "daa6d2bc",
   "metadata": {},
   "source": [
    "It's a critical tool for understanding the implications of different types of errors in the context of your specific application, such as the cost of a false positive versus a false negative. For example , in a medical testing scenario, whether a False Negative (FN) or a False Positive (FP) is considered more serious and why?"
   ]
  },
  {
   "cell_type": "markdown",
   "id": "5d8f8afd",
   "metadata": {},
   "source": [
    "<span style=\"font-size: 20px;\">  **1.2 Classification Performance Metrics**\n",
    "</span>"
   ]
  },
  {
   "cell_type": "markdown",
   "id": "727bfde4",
   "metadata": {},
   "source": [
    "We can derive four key metrics used to evaluate the performance of classification tasks from the confusion matrix."
   ]
  },
  {
   "cell_type": "markdown",
   "id": "c991aa9d",
   "metadata": {},
   "source": [
    "<span style=\"font-size: 15px;\">  **1.2.1 Accuracy**\n",
    "</span>"
   ]
  },
  {
   "cell_type": "markdown",
   "id": "eed1acfa",
   "metadata": {},
   "source": [
    "Accuracy is the ratio of correctly predicted observations to the total observations. It is the simplest measure of performance for a classification model."
   ]
  },
  {
   "cell_type": "markdown",
   "id": "e99dc3fb",
   "metadata": {},
   "source": [
    "\n",
    "\n",
    "$$\n",
    "Accuracy = \\frac{TP+TN}{TP+TN+FP+FN}\n",
    "$$\n",
    "\n"
   ]
  },
  {
   "cell_type": "markdown",
   "id": "ea32e45c",
   "metadata": {},
   "source": [
    "Accuracy gives you an overall idea of how often the model is correct. However, it can be misleading if the classes are imbalanced, as it might indicate a good performance just because one class is much more frequent than the others."
   ]
  },
  {
   "cell_type": "markdown",
   "id": "2d1285a2",
   "metadata": {},
   "source": [
    "<span style=\"font-size: 15px;\">  **1.2.2 Precision**\n",
    "</span>"
   ]
  },
  {
   "cell_type": "markdown",
   "id": "0ed87b24",
   "metadata": {},
   "source": [
    "Precision is the ratio of correctly predicted positive observations to the total predicted positives."
   ]
  },
  {
   "cell_type": "markdown",
   "id": "67e6ee8e",
   "metadata": {},
   "source": [
    "$$\n",
    "Precision = \\frac{TP}{TP+FP}\n",
    "$$\n"
   ]
  },
  {
   "cell_type": "markdown",
   "id": "a30a05a5",
   "metadata": {},
   "source": [
    "Precision tells you how many of the instances the model labeled as positive were actually positive. It is particularly important when the cost of a False Positive is high."
   ]
  },
  {
   "cell_type": "markdown",
   "id": "5610187a",
   "metadata": {},
   "source": [
    "<span style=\"font-size: 15px;\">  **1.2.3 Recall**\n",
    "</span>"
   ]
  },
  {
   "cell_type": "markdown",
   "id": "82ac3305",
   "metadata": {},
   "source": [
    " Recall, also known as Sensitivity or True Positive Rate, is the ratio of correctly predicted positive observations to all observations in actual positive class."
   ]
  },
  {
   "cell_type": "markdown",
   "id": "dcc6d753",
   "metadata": {},
   "source": [
    "$$\n",
    "Recall = \\frac{TP}{TP+FN}\n",
    "$$\n"
   ]
  },
  {
   "cell_type": "markdown",
   "id": "da078c75",
   "metadata": {},
   "source": [
    " Recall indicates how well the model can find all the positive instances. It is crucial when you want to capture most of the positive cases, such as in disease screening."
   ]
  },
  {
   "cell_type": "markdown",
   "id": "d0502503",
   "metadata": {},
   "source": [
    "<span style=\"font-size: 15px;\">  **1.2.4 F1-Score**\n",
    "</span>"
   ]
  },
  {
   "cell_type": "markdown",
   "id": "3abbe39e",
   "metadata": {},
   "source": [
    "The F1-Score is the weighted average of Precision and Recall. Therefore, this score takes both false positives and false negatives into account."
   ]
  },
  {
   "cell_type": "markdown",
   "id": "9ce8b749",
   "metadata": {},
   "source": [
    "\n",
    "\n",
    "\n",
    "$$\n",
    "F1=2\\times\\frac{\\text{Precision}\\times\\text{Recall}}{\\text{Precision}+\\text{Recall}}\n",
    "$$"
   ]
  },
  {
   "cell_type": "markdown",
   "id": "24092a56",
   "metadata": {},
   "source": [
    "The F1-Score is a good measure when you seek a balance between Precision and Recall, especially when you have an uneven class distribution. It is the harmonic mean of Precision and Recall, so it penalizes extreme values."
   ]
  },
  {
   "cell_type": "markdown",
   "id": "857afb04",
   "metadata": {},
   "source": [
    "These metrics provide different perspectives on the performance of a classification model and are often used together to get a comprehensive understanding of the model's strengths and weaknesses."
   ]
  },
  {
   "cell_type": "markdown",
   "id": "c1c2a9d2",
   "metadata": {},
   "source": [
    "For a certain model , It only has one set of these metrices if it estimates the **classes**  directly.However it corresponds to different set of metrices if it measures the **scores**  first,because different thresholds corresponds to different estimated labels. Later we will illustrate this in the simulation."
   ]
  },
  {
   "cell_type": "markdown",
   "id": "c24d7e29",
   "metadata": {},
   "source": [
    "<span style=\"font-size: 20px;\">  **1.3 Calculate the Confusion Matrix**\n",
    "</span>"
   ]
  },
  {
   "cell_type": "code",
   "execution_count": null,
   "id": "822b69c7",
   "metadata": {},
   "outputs": [],
   "source": [
    "import numpy as np\n",
    "\n",
    "\n",
    "##YOUR CODE BEGINS HERE###\n",
    "\n",
    "\n",
    "def confusion_matrix(y_true, y_pred, labels=None):\n",
    "    \"\"\"\n",
    "   \n",
    "    Parameters:\n",
    "        y_true : array-like, true label\n",
    "        y_pred : array-like, predicted label\n",
    "        labels : list\n",
    "    \n",
    "    return:\n",
    "        cm : ndarray,  (n_classes, n_classes) \n",
    "    \"\"\"\n",
    "    \n",
    "    if labels is None:\n",
    "        labels = np.unique(np.concatenate([y_true, y_pred]))\n",
    "    n_classes = len(labels)\n",
    "    \n",
    "    # Initialization\n",
    "    cm = np.zeros((n_classes, n_classes), dtype=int)\n",
    "    \n",
    "    # label to index\n",
    "    label_to_idx = {label: idx for idx, label in enumerate(labels)}\n",
    "    \n",
    "    \n",
    "    for true, pred in zip(y_true, y_pred):\n",
    "        true_idx = label_to_idx[true]\n",
    "        pred_idx = label_to_idx[pred]\n",
    "        cm[true_idx, pred_idx] += 1\n",
    "    \n",
    "    return cm\n",
    "\n",
    "    \n",
    "    ###YOUR CODES ENDS HERE###"
   ]
  },
  {
   "cell_type": "code",
   "execution_count": null,
   "id": "4d26a9d8",
   "metadata": {},
   "outputs": [
    {
     "name": "stdout",
     "output_type": "stream",
     "text": [
      "手动实现的混淆矩阵:\n",
      " [[2 2]\n",
      " [1 3]]\n"
     ]
    }
   ],
   "source": [
    "# illustration\n",
    "y_true = [0, 1, 0, 1, 1, 0, 1, 0]\n",
    "y_pred = [0, 1, 1, 0, 1, 0, 1, 1]\n",
    "\n",
    "# 计算混淆矩阵\n",
    "cm = manual_confusion_matrix(y_true, y_pred)\n",
    "print(\"manual confusion matrix:\\n\", cm)"
   ]
  },
  {
   "cell_type": "markdown",
   "id": "fae3e28e",
   "metadata": {},
   "source": [
    "You can also derive four key metrices from this confusion matrix."
   ]
  },
  {
   "cell_type": "code",
   "execution_count": null,
   "id": "803b20a3",
   "metadata": {},
   "outputs": [
    {
     "name": "stdout",
     "output_type": "stream",
     "text": [
      "性能指标: {'Accuracy': 0.625, 'Precision': 0.6, 'Recall': 0.75, 'F1-score': 0.6666666666666665}\n"
     ]
    }
   ],
   "source": [
    "### YOUR CODE BEGINS HERE###\n",
    "\n",
    "\n",
    "def metrics_from_cm(cm):\n",
    "    \"\"\" calculate metrices from confusion matrix \"\"\"\n",
    "    TP = cm[1, 1]\n",
    "    FP = cm[0, 1]\n",
    "    TN = cm[0, 0]\n",
    "    FN = cm[1, 0]\n",
    "    \n",
    "    accuracy = (TP + TN) / np.sum(cm)\n",
    "    precision = TP / (TP + FP) if (TP + FP) > 0 else 0\n",
    "    recall = TP / (TP + FN) if (TP + FN) > 0 else 0\n",
    "    f1 = 2 * (precision * recall) / (precision + recall) if (precision + recall) > 0 else 0\n",
    "    \n",
    "    return {\n",
    "        'Accuracy': accuracy,\n",
    "        'Precision': precision,\n",
    "        'Recall': recall,\n",
    "        'F1-score': f1\n",
    "    }\n",
    "\n",
    "print(\"metrices:\", metrics_from_cm(cm))\n",
    "\n",
    "###YOUR CODE ENDS HERE###"
   ]
  },
  {
   "cell_type": "markdown",
   "id": "0653bceb",
   "metadata": {},
   "source": [
    "<span style=\"font-size: 20px;\">  **1.4 the concise implementation of Confusion Matrix**\n",
    "</span>"
   ]
  },
  {
   "cell_type": "code",
   "execution_count": 11,
   "id": "bccd60f4",
   "metadata": {},
   "outputs": [
    {
     "name": "stdout",
     "output_type": "stream",
     "text": [
      "Confusion Matrix:\n",
      " [[2 0]\n",
      " [1 3]]\n"
     ]
    }
   ],
   "source": [
    "from sklearn.metrics import confusion_matrix\n",
    "\n",
    "y_true = [1, 0, 1, 1, 0, 1]  # 真实标签\n",
    "y_pred = [1, 0, 0, 1, 0, 1]  # 预测标签\n",
    "\n",
    "cm = confusion_matrix(y_true, y_pred)\n",
    "print(\"Confusion Matrix:\\n\", cm)"
   ]
  },
  {
   "cell_type": "markdown",
   "id": "f94091b4",
   "metadata": {},
   "source": [
    "# 2-ROC Curve"
   ]
  },
  {
   "cell_type": "markdown",
   "id": "b8c08e12",
   "metadata": {},
   "source": [
    "The ROC curve is a graphical representation that illustrates the performance of a classification model at **different threshold settings**. It plots the **Recall on the y-axis** and the **False Positive Rate (FPR) on the x-axis**. By varying the classification threshold, different TPR and FPR values are obtained, which are then used to draw the ROC curve. The closer the ROC curve is to the top-left corner of the plot, the better the model's performance. The ROC curve is particularly useful for comparing different models and understanding their trade-offs between Recall and specificity (1 - FPR).\n"
   ]
  },
  {
   "cell_type": "markdown",
   "id": "c1ead91d",
   "metadata": {},
   "source": [
    "<span style=\"font-size: 20px;\">**2.1 diagonal line**\n",
    "</span>"
   ]
  },
  {
   "cell_type": "markdown",
   "id": "1b99248b",
   "metadata": {},
   "source": [
    "The diagonal line in an ROC curve represents the preformance of a **random classifier**,which indicates that the model has no discriminative power."
   ]
  },
  {
   "cell_type": "markdown",
   "id": "57503ca7",
   "metadata": {},
   "source": [
    "The diagonal line is defined by the equation:"
   ]
  },
  {
   "cell_type": "markdown",
   "id": "72d5485c",
   "metadata": {},
   "source": [
    "$$\n",
    "TPR = FPR\n",
    "$$"
   ]
  },
  {
   "cell_type": "markdown",
   "id": "370e34bc",
   "metadata": {},
   "source": [
    "$$\n",
    "TPR = \\frac{TP}{TP+FN}\n",
    "$$\n"
   ]
  },
  {
   "cell_type": "markdown",
   "id": "b91bcffb",
   "metadata": {},
   "source": [
    "$$\n",
    "FPR = \\frac{FP}{FP+TN}\n",
    "$$\n"
   ]
  },
  {
   "cell_type": "markdown",
   "id": "149f5c6c",
   "metadata": {},
   "source": [
    "For any threshold, the classifier correctly identifies positive and negative examples at the same rate, equivalent to guessing (e.g., flipping a coin)."
   ]
  },
  {
   "cell_type": "markdown",
   "id": "32b18a49",
   "metadata": {},
   "source": [
    "I can demonstrate with an example!"
   ]
  },
  {
   "cell_type": "markdown",
   "id": "da53fb57",
   "metadata": {},
   "source": [
    "|                | **Predicted Positive**       | **Predicted Negative**       |\n",
    "|----------------|------------------|------------------|\n",
    "| **真实为正例** | 0.7 | 0.3 |\n",
    "| **真实为负例** | 0.7 | 0.3  |"
   ]
  },
  {
   "cell_type": "markdown",
   "id": "792ed5d9",
   "metadata": {},
   "source": [
    "Under this example , TPR=FPR=0.7. And we could also derive that the probability that classifier predicts any instance as positive is 70%. In a word , this is a random guess."
   ]
  },
  {
   "cell_type": "markdown",
   "id": "ad3fdb01",
   "metadata": {},
   "source": [
    "<span style=\"font-size: 20px;\">**2.2 upper left**\n",
    "</span>"
   ]
  },
  {
   "cell_type": "markdown",
   "id": "7878b894",
   "metadata": {},
   "source": [
    "Real-world models must perform above this diagonal line to be considered useful. The further the curve bends toward the **top-left corner**, the **stronger** the model’s ability to distinguish between classes."
   ]
  },
  {
   "cell_type": "markdown",
   "id": "deb35146",
   "metadata": {},
   "source": [
    "The top-left corner (where False Positive Rate (FPR) = 0 and True Positive Rate (TPR) = 1) is the **\"perfect classifier\"** point.At this point, the model never misclassifies negatives as positives (FP = 0) and never misses positives (FN = 0)."
   ]
  },
  {
   "cell_type": "markdown",
   "id": "b4165969",
   "metadata": {},
   "source": [
    "| **Point on ROC Curve**  | **FPR** | **TPR** | **Interpretation**                      |\n",
    "|-------------------------|---------|---------|----------------------------------------|\n",
    "| **Top-Left (0,1)**      | 0       | 1       | Perfect classifier                     |\n",
    "| **Bottom-Left (0,0)**   | 0       | 0       | Always predicts \"negative\" (useless)   |\n",
    "| **Top-Right (1,1)**     | 1       | 1       | Always predicts \"positive\" (useless)   |\n",
    "| **Diagonal Line**       | FPR=TPR | FPR=TPR | No better than random guessing         |"
   ]
  },
  {
   "cell_type": "markdown",
   "id": "bc721b75",
   "metadata": {},
   "source": [
    "The ROC curve will always pass through the points (0,0) and (1,1)."
   ]
  },
  {
   "cell_type": "markdown",
   "id": "ef91502e",
   "metadata": {},
   "source": [
    "The primary function of the ROC curve is to assist users in selecting the optimal classification threshold, rather than being directly used for comparing or choosing different classifier models.For models predicting **scores**,**Different thresholds correspond to different points,and join these points to produce an ROC curve.**"
   ]
  },
  {
   "cell_type": "markdown",
   "id": "a8b3763f",
   "metadata": {},
   "source": [
    "<span style=\"font-size: 20px;\">**2.3 plot the ROC curve**\n",
    "</span>"
   ]
  },
  {
   "cell_type": "code",
   "execution_count": 30,
   "id": "f60469c0",
   "metadata": {},
   "outputs": [],
   "source": [
    "\n",
    "### import packages ###\n",
    "### Sort Predictions by Probability in Descending Order###\n",
    "### define thresholds###\n",
    "### calculate TPR and FPR for Each threshold###\n",
    "### Add boundary points (0,0) and (1,1) ###\n",
    "### Return the FPR and TPR arrays###\n",
    "\n",
    "\n",
    "### YOUR CODE BEGINS HERE ###\n",
    "import numpy as np\n",
    "import matplotlib.pyplot as plt\n",
    "\n",
    "def manual_roc_curve(y_true, y_scores):\n",
    "    # Sort Predictions by Probability in Descending Order\n",
    "    desc_score_indices = np.argsort(y_scores)[::-1]\n",
    "    y_scores_sorted = y_scores[desc_score_indices]\n",
    "    y_true_sorted = y_true[desc_score_indices]\n",
    "    \n",
    "    # define thresholds\n",
    "    thresholds = np.unique(y_scores_sorted)\n",
    "    tpr = np.zeros(len(thresholds))  # True Positive Rate\n",
    "    fpr = np.zeros(len(thresholds))  # False Positive Rate\n",
    "    \n",
    "    # calculate TPR and FPR for Each threshold\n",
    "    for i, threshold in enumerate(thresholds):\n",
    "        y_pred = (y_scores_sorted >= threshold).astype(int)\n",
    "        \n",
    "        TP = np.sum((y_pred == 1) & (y_true_sorted == 1))\n",
    "        FP = np.sum((y_pred == 1) & (y_true_sorted == 0))\n",
    "        TN = np.sum((y_pred == 0) & (y_true_sorted == 0))\n",
    "        FN = np.sum((y_pred == 0) & (y_true_sorted == 1))\n",
    "        \n",
    "        tpr[i] = TP / (TP + FN) if (TP + FN) > 0 else 0\n",
    "        fpr[i] = FP / (FP + TN) if (FP + TN) > 0 else 0\n",
    "    \n",
    "    # Add boundary points (0,0) and (1,1)\n",
    "    fpr = np.concatenate([[0], fpr, [1]])\n",
    "    tpr = np.concatenate([[0], tpr, [1]])\n",
    "    \n",
    "    return fpr, tpr\n",
    "                   \n",
    "###YOUR CODE ENDS HERE###    \n",
    "    \n"
   ]
  },
  {
   "cell_type": "markdown",
   "id": "c0a3dae8",
   "metadata": {},
   "source": [
    "You can also examine by a simulation data!"
   ]
  },
  {
   "cell_type": "code",
   "execution_count": 32,
   "id": "612fcc7e",
   "metadata": {},
   "outputs": [
    {
     "data": {
      "image/png": "[encoded data removed]",
      "text/plain": [
       "<Figure size 800x600 with 1 Axes>"
      ]
     },
     "metadata": {},
     "output_type": "display_data"
    }
   ],
   "source": [
    "###generate Simulated Data###\n",
    "### manually calculate the ROC curve###\n",
    "###plot the ROC curve###\n",
    "  \n",
    "    \n",
    "###YOUR CODE BEGINS HERE###  \n",
    "    \n",
    "# generate Simulated Data\n",
    "np.random.seed(42)\n",
    "y_true = np.array([0, 0, 1, 1, 1, 0, 1, 0, 1, 1])\n",
    "y_scores = np.array([0.1, 0.3, 0.35, 0.4, 0.6, 0.55, 0.8, 0.7, 0.9, 0.95])\n",
    "\n",
    "# manually calculate the ROC curve\n",
    "fpr, tpr = manual_roc_curve(y_true, y_scores)\n",
    "\n",
    "\n",
    "\n",
    "# plot the ROC curve\n",
    "plt.figure(figsize=(8, 6))\n",
    "plt.plot(fpr, tpr, color='darkorange', lw=2, label=f'Manual ROC ')\n",
    "plt.plot([0, 1], [0, 1], 'k--', label='Random Guess')\n",
    "plt.xlabel('False Positive Rate')\n",
    "plt.ylabel('True Positive Rate')\n",
    "plt.title('ROC Curve (Implemented from Scratch)')\n",
    "plt.legend()\n",
    "plt.grid(True)\n",
    "plt.show()                   \n",
    "\n",
    "### YOUR CODES ENDS HERE###"
   ]
  },
  {
   "cell_type": "markdown",
   "id": "d0fc8e73",
   "metadata": {},
   "source": [
    "# 3-AUC"
   ]
  },
  {
   "cell_type": "markdown",
   "id": "a30c2237",
   "metadata": {},
   "source": [
    "AUC is a quantitative measure of **the overall performance of a classification model**. It represents the area under the ROC curve and provides a single number to summarize the model's ability to distinguish between classes. The AUC value ranges from 0 to 1, with higher values indicating better model performance. An AUC of 0.5 suggests that the model performs no better than random guessing( ROC curve = diagonal line), while an AUC of 1 indicates a perfect classifier. \n",
    "\n",
    "\n",
    "\n",
    "AUC is especially valuable because it is threshold-independent and provides a comprehensive evaluation of the model's performance across all possible thresholds."
   ]
  },
  {
   "cell_type": "markdown",
   "id": "58235019",
   "metadata": {},
   "source": [
    "When comparing ROC curves of multiple models:\n",
    "\n",
    "Although it's possible to plot the ROC curves of several models on the same graph, the ultimate goal is to observe which model has a higher AUC, rather than selecting a classifier based on the curve itself.\n",
    "\n"
   ]
  },
  {
   "cell_type": "markdown",
   "id": "c867feca",
   "metadata": {},
   "source": [
    "# 4-Concise implementation"
   ]
  },
  {
   "cell_type": "markdown",
   "id": "c6ed4bed",
   "metadata": {},
   "source": [
    "Up to now,we have mastered the basic concepts of these topics,we can devise a classification task and by using these metrices to evaluate the performance of the classifier."
   ]
  },
  {
   "cell_type": "markdown",
   "id": "923d84f4",
   "metadata": {},
   "source": [
    "We use Logistic Regression model to deal with a binary classification problem."
   ]
  },
  {
   "cell_type": "code",
   "execution_count": 25,
   "id": "82cd9cb2",
   "metadata": {},
   "outputs": [
    {
     "data": {
      "image/png": "[encoded data removed]",
      "text/plain": [
       "<Figure size 1000x500 with 3 Axes>"
      ]
     },
     "metadata": {},
     "output_type": "display_data"
    },
    {
     "name": "stdout",
     "output_type": "stream",
     "text": [
      "==================================================\n",
      "逻辑回归模型性能评估\n",
      "==================================================\n",
      "\n",
      "Confusion Matrix:\n",
      "[[182  15]\n",
      " [ 26  77]]\n",
      "\n",
      "Classification Report:\n",
      "              precision    recall  f1-score   support\n",
      "\n",
      "           0       0.88      0.92      0.90       197\n",
      "           1       0.84      0.75      0.79       103\n",
      "\n",
      "    accuracy                           0.86       300\n",
      "   macro avg       0.86      0.84      0.84       300\n",
      "weighted avg       0.86      0.86      0.86       300\n",
      "\n",
      "\n",
      "AUC-ROC: 0.9225\n",
      "\n",
      "最佳阈值: 0.3601\n",
      "对应FPR: 0.0964, TPR: 0.8350\n"
     ]
    }
   ],
   "source": [
    "### import packages###\n",
    "### Generate simulation data###\n",
    "### split training/testing set###\n",
    "### train a logistic regression model###\n",
    "### predict the probability and label###\n",
    "### calculate confusion matrix###\n",
    "###plot the ROC curve , and calculate AUC###\n",
    "### output###\n",
    "\n",
    "### YOUR CODE BEGINS HERE###\n",
    "\n",
    "import numpy as np\n",
    "import matplotlib.pyplot as plt\n",
    "from sklearn.datasets import make_classification\n",
    "from sklearn.model_selection import train_test_split\n",
    "from sklearn.linear_model import LogisticRegression\n",
    "from sklearn.metrics import confusion_matrix, roc_curve, roc_auc_score, classification_report\n",
    "\n",
    "# 1. Generate simulation data\n",
    "X, y = make_classification(\n",
    "    n_samples=1000,      # sample size\n",
    "    n_features=10,       # feature dimension\n",
    "    n_classes=2,         # binary classification\n",
    "    weights=[0.7, 0.3],  # weights of different classes, to simulate an imbalanced data(optional)\n",
    "    random_state=42      # random seed\n",
    ")\n",
    "\n",
    "# 2. split training/testing set\n",
    "X_train, X_test, y_train, y_test = train_test_split(\n",
    "    X, y, test_size=0.3, random_state=42\n",
    ")\n",
    "\n",
    "# 3. train a logistic regression model\n",
    "model = LogisticRegression(max_iter=1000, random_state=42)\n",
    "model.fit(X_train, y_train)\n",
    "\n",
    "# 4. predict the probability and label\n",
    "y_proba = model.predict_proba(X_test)[:, 1]  # return the probability of classifying as label=1（ROC/AUC）\n",
    "y_pred = model.predict(X_test)               # hard classification result , we indicate the threshold as 0.5(confusion matrix)\n",
    "\n",
    "# 5. compute evaluating metrices\n",
    "## Confusion Matrix\n",
    "cm = confusion_matrix(y_test, y_pred)\n",
    "\n",
    "\n",
    "## ROC,AUC\n",
    "fpr, tpr, thresholds = roc_curve(y_test, y_proba)\n",
    "#The function automatically iterates over all the probability values in `y_proba` as thresholds.\n",
    "\n",
    "#For each threshold, it calculates the corresponding (False Positive Rate, True Positive Rate) points.\n",
    "\n",
    "#By default, it adds two boundary points: (0,0) and (1,1).\n",
    "\n",
    "auc = roc_auc_score(y_test, y_proba)\n",
    "\n",
    "## classification report(precision/recall/F1-score)\n",
    "report = classification_report(y_test, y_pred)\n",
    "\n",
    "# 6. visulization\n",
    "plt.figure(figsize=(10, 5))\n",
    "\n",
    "##  plot ROC curve\n",
    "plt.subplot(1, 2, 1)\n",
    "plt.plot(fpr, tpr, color='blue', lw=2, label=f'ROC Curve (AUC = {auc:.2f})')\n",
    "plt.plot([0, 1], [0, 1], 'k--', lw=1, label='Random Guessing')\n",
    "plt.xlabel('False Positive Rate (FPR)')\n",
    "plt.ylabel('True Positive Rate (TPR)')\n",
    "plt.title('ROC Curve')\n",
    "plt.legend(loc='lower right')\n",
    "plt.grid(True, alpha=0.3)\n",
    "\n",
    "## confusion matrix(optional)\n",
    "plt.subplot(1, 2, 2)\n",
    "plt.imshow(cm, interpolation='nearest', cmap=plt.cm.Blues)\n",
    "plt.title('Confusion Matrix')\n",
    "plt.colorbar()\n",
    "tick_marks = np.arange(2)\n",
    "plt.xticks(tick_marks, ['Predicted 0', 'Predicted 1'])\n",
    "plt.yticks(tick_marks, ['Actual 0', 'Actual 1'])\n",
    "for i in range(2):\n",
    "    for j in range(2):\n",
    "        plt.text(j, i, str(cm[i, j]), ha='center', va='center', color='red')\n",
    "\n",
    "plt.tight_layout()\n",
    "plt.show()\n",
    "\n",
    "\n",
    "\n",
    "# 7. Print key metrices\n",
    "print(\"=\"*50)\n",
    "print(\"逻辑回归模型性能评估\")\n",
    "print(\"=\"*50)\n",
    "print(\"\\nConfusion Matrix:\")\n",
    "print(cm)\n",
    "print(\"\\nClassification Report:\")\n",
    "print(report)\n",
    "print(f\"\\nAUC-ROC: {auc:.4f}\")\n",
    "\n",
    "# (optional)：output the best threshold\n",
    "distances = np.sqrt((fpr - 0)**2 + (tpr - 1)**2)\n",
    "best_idx = np.argmin(distances)\n",
    "print(f\"\\n最佳阈值: {thresholds[best_idx]:.4f}\")\n",
    "print(f\"对应FPR: {fpr[best_idx]:.4f}, TPR: {tpr[best_idx]:.4f}\")\n",
    "\n",
    "### YOUR CODES ENDS HERE###"
   ]
  },
  {
   "cell_type": "markdown",
   "id": "0f3d8261",
   "metadata": {},
   "source": [
    "of course you can train another binary classification model to compare the capacity of model! Among those binary classification models , here are some suggestions:\n"
   ]
  },
  {
   "cell_type": "markdown",
   "id": "716b1efa",
   "metadata": {},
   "source": [
    "\n",
    "<style>\n",
    "ul li {\n",
    "  list-style-type: disc;\n",
    "  padding-left: 20px;\n",
    "}\n",
    "</style>\n",
    "\n",
    "<ul>\n",
    "  <li>Logistic Regression model</li>\n",
    "  <li>Support Vector Machine </li> \n",
    "  <li>Random Forest </li>\n",
    "  <li>Neural Network</li>\n",
    "</ul>"
   ]
  },
  {
   "cell_type": "code",
   "execution_count": null,
   "id": "82972532",
   "metadata": {},
   "outputs": [],
   "source": []
  }
 ],
 "metadata": {
  "kernelspec": {
   "display_name": "Python [conda env:Anaconda-pytorch]",
   "language": "python",
   "name": "conda-env-Anaconda-pytorch-py"
  },
  "language_info": {
   "codemirror_mode": {
    "name": "ipython",
    "version": 3
   },
   "file_extension": ".py",
   "mimetype": "text/x-python",
   "name": "python",
   "nbconvert_exporter": "python",
   "pygments_lexer": "ipython3",
   "version": "3.12.3"
  }
 },
 "nbformat": 4,
 "nbformat_minor": 5
}
