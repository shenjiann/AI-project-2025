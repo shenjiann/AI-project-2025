{
 "cells": [
  {
   "cell_type": "markdown",
   "id": "f869772c",
   "metadata": {},
   "source": [
    "# Homework X:  Hyperparameter Tuning and Model Optimization\n",
    "\n",
    "Welcome to the course **AI and Deep learning**!\n",
    "\n",
    "In this homework, we will delve into the crucial aspects of machine learning model development, including **hyperparameter tuning, bias-variance trade-off, loss function calculation, regularization techniques, and Grid Search for hyperparameter selection**. These topics form the foundation of building efficient and generalizable models. By completing this homework, you will gain a comprehensive understanding of how to optimize model performance through careful hyperparameter selection and regularization. Hope you enjoy this homework!   \n",
    "\n",
    "**Learning Goal**: In this homework,you will achieve the following:\n",
    " * Understand the role of hyperparameters in model performance.\n",
    " * Learn about bias and variance and their impact on model accuracy.\n",
    " * Explore common loss functions and their applications.\n",
    " * Gain knowledge of regularization techniques to prevent overfitting.\n",
    " * Master the Grid Search method for hyperparameter tuning."
   ]
  },
  {
   "cell_type": "markdown",
   "id": "be0bb2f3",
   "metadata": {},
   "source": [
    "# Table of Contents\n",
    "* [1 - Packages](#1)\n",
    "* [2 - Introduction to Hyperparameters](#2)\n",
    "* [3 - Bias and Variance](#3)\n",
    "  * [3.1 - Definition](#3.1)\n",
    "  * [3.2 - Examples](#3.2)\n",
    "* [4 - Dataset Division](#4)\n",
    "  * [4.1 - Generate a Simple Dataset](#4.1)\n",
    "  * [4.2 - Train/Validation/Test Split](#4.2)\n",
    "* [5 - Loss Function](#5)\n",
    "* [6 - Regularization](#6)\n",
    "* [7 - Grid Search for Hyperparameter Tuning](#7)\n",
    "  * [7.1 - Principle and Implementation](#7.1)\n",
    "  * [7.2 - Model Training and Evaluation with Regularization](#7.2)\n",
    "  * [7.3 - Drawing Loss Function Plots During Grid Search](#7.3)\n",
    "  * [7.4 - Play by Yourself!](#7.4)"
   ]
  },
  {
   "cell_type": "markdown",
   "id": "89f5c404",
   "metadata": {},
   "source": [
    "<a name='1'></a>\n",
    "## 1- Packages\n",
    "\n",
    "In order to finish a task, we need commands from certain **Python** packages."
   ]
  },
  {
   "cell_type": "code",
   "execution_count": 1,
   "id": "218540f1",
   "metadata": {},
   "outputs": [],
   "source": [
    "# PLEASE DO NOT CHANGE THE FOLLOWING CODE\n",
    "import numpy as np\n",
    "import pandas as pd\n",
    "import matplotlib.pyplot as plt\n",
    "\n",
    "from sklearn.model_selection import train_test_split\n",
    "from sklearn.linear_model import LogisticRegression\n",
    "from sklearn.metrics import mean_squared_error, log_loss\n",
    "from sklearn.ensemble import RandomForestClassifier\n",
    "from sklearn.neural_network import MLPClassifier\n",
    "from sklearn.model_selection import GridSearchCV\n",
    "from sklearn.metrics import accuracy_score\n",
    "from sklearn.datasets import make_classification\n",
    "from sklearn.metrics import log_loss\n",
    "#from mpl_toolkits.mplot3d import Axes3"
   ]
  },
  {
   "cell_type": "markdown",
   "id": "56300651",
   "metadata": {},
   "source": [
    "<a name='2'></a>\n",
    "## 2 - Introduction to Hyperparameters"
   ]
  },
  {
   "cell_type": "markdown",
   "id": "43bcf1f4",
   "metadata": {},
   "source": [
    "In previous lessons, we have introduced fully connected neural networks in some detail. When we introduced fully connected neural networks, we discussed two main types of parameters.\n",
    "\n",
    "The first type is the **model parameter**, which can be understood as the configuration variables inside the model, which can be estimated or learnt from the training samples; the corresponding bias and weight terms of each neuron can be iteratively updated by the gradient descent method, which is a typical model parameter. \n",
    "\n",
    "The second type of parameter is the **hyperparameter** of the model, which can be understood as the configuration outside the model, and cannot be learned through the gradient descent method of training samples, but needs to be set by us manually. \n",
    "\n",
    "Here are some typical hyperparameters:\n",
    "\n",
    "1. $\\alpha$ : Learning rate\n",
    "\n",
    "2. $L$ : Number of layers\n",
    "\n",
    "3. $\\{d^{[l]} : l = 1, \\ldots, L-1\\}$ : Number of neurons per each hidden layer\n",
    "\n",
    "4. $m$ : Mini-batch size\n",
    "\n",
    "5. Gradient descent algorithm\n",
    "\n",
    "6. Number of iterations for the chosen gradient descent algorithm\n",
    "\n",
    "7. $\\ldots$"
   ]
  },
  {
   "cell_type": "markdown",
   "id": "edb9158a",
   "metadata": {},
   "source": [
    "<a name='3'></a>\n",
    "## 3 - Bias and Variance"
   ]
  },
  {
   "cell_type": "markdown",
   "id": "0ce39d80",
   "metadata": {},
   "source": [
    "<a name='3.1'></a>\n",
    "### 3.1 - Definition"
   ]
  },
  {
   "cell_type": "markdown",
   "id": "bc5d8d67",
   "metadata": {},
   "source": [
    "Before introducing hyperparameter selection, we first need to discuss two classical concepts in statistics, namely Bias and Variance.We begin by recognising some notation.\n",
    "\n",
    "- $\\boldsymbol{x}$ : feature\n",
    "\n",
    "- $y$ : Observed label\n",
    "\n",
    "- $y_t$ : true target ($y_t = E(y \\mid \\boldsymbol{x})$)\n",
    "\n",
    "- $\\mathcal{S} = \\{(\\boldsymbol{x}_i, y_i) : i = 1, \\ldots, n\\}$ : training examples\n",
    "\n",
    "- $\\hat{y}$ : estimation of the true label $y_t$ by a model\n",
    "\n",
    "The Bias and Variance of this estimator are:\n",
    "\n",
    "1. Bias\n",
    "$$\n",
    "\\text{Bias}(\\hat{y}) = E_S(\\hat{y}) - y_t\n",
    "$$\n",
    "- $E_S(\\cdot)$ : expectation with respect to the randomness of the sample $S$\n",
    "- Bias and variance are defined for a feature $\\boldsymbol{x}$\n",
    "\n",
    "2. Variance\n",
    "$$\n",
    "\\text{Variance}(\\hat{y}) = E_S\\{ \\hat{y} - E_S(\\hat{y}) \\}^2\n",
    "$$\n",
    "\n",
    "Below we will practice how to code bias and variance with two examples."
   ]
  },
  {
   "cell_type": "markdown",
   "id": "5be74078",
   "metadata": {},
   "source": [
    "<a name='3.2'></a>\n",
    "### 3.2 - Examples"
   ]
  },
  {
   "cell_type": "markdown",
   "id": "6286bcef",
   "metadata": {},
   "source": [
    "### linear regression\n",
    "\n",
    "$\\boldsymbol{x}$ : a feature\n",
    "\n",
    "$y_t$ : true label\n",
    "$$\n",
    "y_t = b_0 + \\boldsymbol{x}^\\top \\boldsymbol{w}_0\n",
    "$$\n",
    "- $b_0, \\boldsymbol{w}_0$ : model parameters\n",
    "\n",
    "$y$ : observed label\n",
    "$$\n",
    "y = b_0 + \\boldsymbol{x}^\\top \\boldsymbol{w}_0 + \\epsilon\n",
    "$$\n",
    "- $\\epsilon$ : random noise\n",
    "\n",
    "\n",
    "\n",
    "$\\hat{y}$ : estimated label\n",
    "$$\n",
    "\\hat{y} = \\hat{b} + \\boldsymbol{x}^\\top \\hat{\\boldsymbol{w}}\n",
    "$$\n",
    "- $\\hat{b}, \\hat{\\boldsymbol{w}}$ : estimated model parameters\n",
    "\n",
    "Below, first we generate the data.\n"
   ]
  },
  {
   "cell_type": "code",
   "execution_count": 2,
   "id": "d3c7fd0d",
   "metadata": {},
   "outputs": [],
   "source": [
    "# PLEASE DO NOT CHANGE THE FOLLOWING CODE\n",
    "# Generate a simple dataset\n",
    "np.random.seed(42)\n",
    "X = np.random.rand(100, 1)\n",
    "y = 2 + 3 * X + np.random.randn(100, 1)"
   ]
  },
  {
   "cell_type": "markdown",
   "id": "8fcca6fa",
   "metadata": {},
   "source": [
    "Then we split the dataset into training and test sets"
   ]
  },
  {
   "cell_type": "code",
   "execution_count": 3,
   "id": "6886cb7d",
   "metadata": {},
   "outputs": [],
   "source": [
    "# PLEASE DO NOT CHANGE THE FOLLOWING CODE\n",
    "X_train, X_test, y_train, y_test = train_test_split(X, y, test_size=0.2, random_state=42)"
   ]
  },
  {
   "cell_type": "markdown",
   "id": "2ce0e611",
   "metadata": {},
   "source": [
    "In the following cell, you should fill in the blank code."
   ]
  },
  {
   "cell_type": "code",
   "execution_count": 4,
   "id": "0864347f",
   "metadata": {},
   "outputs": [],
   "source": [
    "# PLEASE DO NOT CHANGE THE FOLLOWING CODE\n",
    "# Train a linear regression model\n",
    "from sklearn.linear_model import LinearRegression\n",
    "lin_reg = LinearRegression()\n",
    "lin_reg.fit(X_train, y_train)\n",
    "\n",
    "# Make predictions\n",
    "y_pred = lin_reg.predict(X_test)\n",
    "\n",
    "# Calculate bias and variance\n",
    "### YOUR CODE BEGINS HERE (approximately 2 lines)\n",
    "bias = np.mean(y_pred - y_test)\n",
    "variance = np.var(y_pred - y_test)\n",
    "### YOUR CODE ENDS"
   ]
  },
  {
   "cell_type": "markdown",
   "id": "57b1ba8e",
   "metadata": {},
   "source": [
    "You may want to run the following code to check if your code is correct."
   ]
  },
  {
   "cell_type": "code",
   "execution_count": 5,
   "id": "73b6dcc3",
   "metadata": {},
   "outputs": [
    {
     "name": "stdout",
     "output_type": "stream",
     "text": [
      "Bias: -0.22357312091381823, Variance: 0.6037145733218573\n",
      "Your result should be:\n",
      "Bias: -0.22357312091381823, Variance: 0.6037145733218573\n"
     ]
    }
   ],
   "source": [
    "# PLEASE DO NOT CHANGE THE FOLLOWING CODE\n",
    "print(f\"Bias: {bias}, Variance: {variance}\")\n",
    "print(\"Your result should be:\\nBias: -0.22357312091381823, Variance: 0.6037145733218573\")"
   ]
  },
  {
   "cell_type": "markdown",
   "id": "8879ffd2",
   "metadata": {},
   "source": [
    "In traditional statistical analyses, complex statistical models tend to have less bias and more variance, i.e. they tend to overfit the data. On the contrary, simple statistical models tend to have higher bias and lower variance, i.e. they tend to underfit the data. The question of how to make a better trade-off between bias and variance to get a model that performs well is one that we often encounter when analysing data."
   ]
  },
  {
   "cell_type": "markdown",
   "id": "4e742d8d",
   "metadata": {},
   "source": [
    "### ridge regression\n",
    "In ridge regression, overfitting is avoided by limiting the complexity of the linear model by adding an l2 regularisation term (also known as a penalty term) to the loss function, giving up the unbiased nature of the least squares method, and obtaining more realistic and reliable regression coefficients at the expense of losing some of the information and reducing the accuracy.\n",
    "\n",
    "The loss function for ridge regression with respect to the model parameters $b$ as well as $w$ is:\n",
    "\n",
    "Minimize\n",
    "$$\n",
    "\\sum_{i=1}^n (y_i - \\boldsymbol{x}_i^\\top \\beta)^2 + \\lambda \\sum_{j=1}^d \\beta_j^2\n",
    "$$\n",
    "- $\\lambda$ : hyperparameter to control the complexity of the model"
   ]
  },
  {
   "cell_type": "markdown",
   "id": "0cb3c25d",
   "metadata": {},
   "source": [
    "In the following cell, you should fill in the blank code."
   ]
  },
  {
   "cell_type": "code",
   "execution_count": 6,
   "id": "d43d69dc",
   "metadata": {},
   "outputs": [],
   "source": [
    "# PLEASE DO NOT CHANGE THE FOLLOWING CODE\n",
    "# Generate a simple classification dataset\n",
    "from sklearn.datasets import make_classification\n",
    "\n",
    "np.random.seed(42)\n",
    "X_class, y_class = make_classification(n_samples=100, n_features=5, n_informative=2, n_redundant=2, n_repeated=0, n_classes=2, random_state=42)\n",
    "\n",
    "# Split the dataset into training and test sets\n",
    "X_train_class, X_test_class, y_train_class, y_test_class = train_test_split(X_class, y_class, test_size=0.2, random_state=42)\n",
    "\n",
    "# Train a logistic regression model with L2 regularization\n",
    "ridge_reg = LogisticRegression(penalty='l2', C=1.0)\n",
    "ridge_reg.fit(X_train_class, y_train_class)\n",
    "\n",
    "# Make predictions\n",
    "y_pred_proba = ridge_reg.predict_proba(X_test_class)[:, 1]\n",
    "\n",
    "# Calculate bias and variance using the probabilities\n",
    "### YOUR CODE BEGINS HERE (approximately 2 lines)\n",
    "bias_ridge = np.mean(y_pred_proba - y_test_class)\n",
    "variance_ridge = np.var(y_pred_proba - y_test_class)\n",
    "### YOUR CODE ENDS"
   ]
  },
  {
   "cell_type": "markdown",
   "id": "f5dea98c",
   "metadata": {},
   "source": [
    "You may want to run the following code to check if your code is correct."
   ]
  },
  {
   "cell_type": "code",
   "execution_count": 7,
   "id": "3d42ced3",
   "metadata": {},
   "outputs": [
    {
     "name": "stdout",
     "output_type": "stream",
     "text": [
      "Bias (Ridge): 5.9117574330186386e-05, Variance (Ridge): 0.005800490788812068\n",
      "Your result should be:\n",
      "Bias (Ridge): 5.9117574330186386e-05, Variance (Ridge): 0.005800490788812068\n"
     ]
    }
   ],
   "source": [
    "# PLEASE DO NOT CHANGE THE FOLLOWING CODE\n",
    "print(f\"Bias (Ridge): {bias_ridge}, Variance (Ridge): {variance_ridge}\")\n",
    "print(\"Your result should be:\\nBias (Ridge): 5.9117574330186386e-05, Variance (Ridge): 0.005800490788812068\")"
   ]
  },
  {
   "cell_type": "markdown",
   "id": "bc05ef63",
   "metadata": {},
   "source": [
    "<a name='4'></a>\n",
    "## 4 - Dataset Division\n",
    "\n",
    "In traditional statistical modelling, hyperparameters are usually selected with the help of cross-validation. \n",
    "\n",
    "Cross validation improves the accuracy of the model evaluation as well as its generalisation ability, and its many variants increase the flexibility of the method. However, the method has many drawbacks, such as high computational cost. Large neural network models often correspond to parametric quantities on the scale of tens of millions (or even billions), which leads to very slow training of large models.\n",
    "\n",
    "In addition, the hyperparameters of neural networks tend to be large in size, and we are unable to select the hyperparameters of the models by cross-validation methods.\n",
    "\n",
    "For deep learning models, we use validation set to tune hyperparameters\n",
    "   - Training dataset: to train a deep learning model\n",
    "   - Validation dataset: evaluate the performance of the model with different hyperparameters\n",
    "   - Test dataset (optional): test the performance of the CHOSEN model in real application\n",
    "\n",
    "<a name='4.1'></a>\n",
    "### 4.1 - Generate a Simple Dataset"
   ]
  },
  {
   "cell_type": "code",
   "execution_count": 8,
   "id": "aa72af70",
   "metadata": {},
   "outputs": [
    {
     "name": "stdout",
     "output_type": "stream",
     "text": [
      "Feature data shape: (1000, 20)\n",
      "Label data shape: (1000,)\n"
     ]
    }
   ],
   "source": [
    "# PLEASE DO NOT CHANGE THE FOLLOWING CODE\n",
    "# Generate a simple classification dataset\n",
    "from sklearn.datasets import make_classification\n",
    "X, y = make_classification(n_samples=1000, n_features=20, n_classes=2, random_state=42)\n",
    "\n",
    "# View the dataset\n",
    "print(f\"Feature data shape: {X.shape}\")\n",
    "print(f\"Label data shape: {y.shape}\")"
   ]
  },
  {
   "cell_type": "markdown",
   "id": "85c533e6",
   "metadata": {},
   "source": [
    "<a name='4.2'></a>\n",
    "### 4.2 - Train/Validation/Test Split"
   ]
  },
  {
   "cell_type": "markdown",
   "id": "8f49ac99",
   "metadata": {},
   "source": [
    "Please complete the following code so that the ratio of training set, validation set and test set is 6:2:2."
   ]
  },
  {
   "cell_type": "code",
   "execution_count": 9,
   "id": "f3d3a3d3",
   "metadata": {},
   "outputs": [],
   "source": [
    "# PLEASE DO NOT CHANGE THE FOLLOWING CODE\n",
    "# Split the dataset into training and remaining data\n",
    "\n",
    "### YOUR CODE BEGINS HERE (approximately 1 lines)\n",
    "X_train, X_remaining, y_train, y_remaining = train_test_split(X, y, test_size=0.4, random_state=42)\n",
    "### YOUR CODE ENDS\n",
    "\n",
    "# Further split the remaining data into validation and test sets\n",
    "\n",
    "### YOUR CODE BEGINS HERE (approximately 1 lines)\n",
    "X_val, X_test, y_val, y_test = train_test_split(X_remaining, y_remaining, test_size=0.5, random_state=42)\n",
    "### YOUR CODE ENDS"
   ]
  },
  {
   "cell_type": "markdown",
   "id": "28d08298",
   "metadata": {},
   "source": [
    "You may want to run the following code to check if your code is correct."
   ]
  },
  {
   "cell_type": "code",
   "execution_count": 10,
   "id": "84292f2e",
   "metadata": {},
   "outputs": [
    {
     "name": "stdout",
     "output_type": "stream",
     "text": [
      "Training set sample count: 600\n",
      "Validation set sample count: 200\n",
      "Test set sample count: 200\n",
      "\n",
      "Your result should be:\n",
      "Training set sample count: 600\n",
      "Validation set sample count: 200\n",
      "Test set sample count: 200\n"
     ]
    }
   ],
   "source": [
    "# PLEASE DO NOT CHANGE THE FOLLOWING CODE\n",
    "# View the number of samples in each dataset\n",
    "print(f\"Training set sample count: {len(X_train)}\")\n",
    "print(f\"Validation set sample count: {len(X_val)}\")\n",
    "print(f\"Test set sample count: {len(X_test)}\")\n",
    "print(\"\\nYour result should be:\\nTraining set sample count: 600\\nValidation set sample count: 200\\nTest set sample count: 200\")"
   ]
  },
  {
   "cell_type": "markdown",
   "id": "a0404dd8",
   "metadata": {},
   "source": [
    "<a name='5'></a>\n",
    "## 5 - Loss Function"
   ]
  },
  {
   "cell_type": "markdown",
   "id": "c57a62b4",
   "metadata": {},
   "source": [
    "In this section we will review or introduce a few of common loss functions, please complete the code according to the given formulas.\n",
    "\n",
    "1. **Mean Squared Error (MSE)**\n",
    "$$\n",
    "MSE = \\frac{1}{n} \\sum_{i=1}^n (y_i - \\hat{y}_i)^2\n",
    "$$\n",
    "- Commonly used in regression tasks. It penalizes larger errors quadratically."
   ]
  },
  {
   "cell_type": "code",
   "execution_count": 11,
   "id": "38d0835b",
   "metadata": {},
   "outputs": [],
   "source": [
    "# PLEASE DO NOT CHANGE THE FOLLOWING CODE\n",
    "def sigmoid(x):\n",
    "    # x: input\n",
    "    \n",
    "    ### YOUR CODE BEGINS HERE (approximately 1 line)\n",
    "    y = 1.0 / (1.0 + np.exp(-x))\n",
    "    ### YOUR CODE ENDS HERE\n",
    "    \n",
    "    return y\n",
    "\n",
    "# PLEASE DO NOT CHANGE THE FOLLOWING CODE\n",
    "def sigmoid_derivative(x):\n",
    "    # x: input\n",
    "    \n",
    "    ### YOUR CODE BEGINS HERE (approximately 2 lines)\n",
    "    sig = sigmoid(x)\n",
    "    y = sig * (1 - sig)\n",
    "    ### YOUR CODE ENDS HERE\n",
    "    \n",
    "    return y"
   ]
  },
  {
   "cell_type": "code",
   "execution_count": 12,
   "id": "af3362b3",
   "metadata": {},
   "outputs": [],
   "source": [
    "# PLEASE DO NOT CHANGE THE FOLLOWING CODE\n",
    "def mse(y_true, y_pred):\n",
    "    \n",
    "    ### YOUR CODE BEGINS HERE (approximately 1 line)\n",
    "    mse = np.mean((y_true - y_pred) ** 2)\n",
    "    ### YOUR CODE ENDS HERE\n",
    "    \n",
    "    return mse"
   ]
  },
  {
   "cell_type": "markdown",
   "id": "adb76255",
   "metadata": {},
   "source": [
    "2. **Mean Absolute Error (MAE)**\n",
    "$$\n",
    "MAE = \\frac{1}{n} \\sum_{i=1}^n |y_i - \\hat{y}_i|\n",
    "$$\n",
    "-  Also used in regression. It is less sensitive to outliers compared to MSE."
   ]
  },
  {
   "cell_type": "code",
   "execution_count": 13,
   "id": "4b33b654",
   "metadata": {},
   "outputs": [],
   "source": [
    "# PLEASE DO NOT CHANGE THE FOLLOWING CODE\n",
    "def mae(y_true, y_pred):\n",
    "    \n",
    "    ### YOUR CODE BEGINS HERE (approximately 1 line)\n",
    "    mae = np.mean(np.abs(y_true - y_pred))\n",
    "    ### YOUR CODE ENDS HERE\n",
    "    \n",
    "    return mae"
   ]
  },
  {
   "cell_type": "markdown",
   "id": "a5b1bbde",
   "metadata": {},
   "source": [
    "3. **Cross-Entropy Loss (Log Loss)**\n",
    "$$\n",
    "H(y, \\hat{y}) = -\\frac{1}{n} \\sum_{i=1}^n \\left[ y_i \\log \\hat{y}_i + (1 - y_i) \\log (1 - \\hat{y}_i) \\right]\n",
    "$$\n",
    "-  Widely used in classification problems, especially for probabilistic models."
   ]
  },
  {
   "cell_type": "code",
   "execution_count": 14,
   "id": "70c66634",
   "metadata": {},
   "outputs": [],
   "source": [
    "# PLEASE DO NOT CHANGE THE FOLLOWING CODE\n",
    "def log_loss(y_true, y_pred):\n",
    "    \n",
    "    epsilon = 1e-15\n",
    "    y_pred = np.clip(y_pred, epsilon, 1 - epsilon)\n",
    "    ### YOUR CODE BEGINS HERE (approximately 1 line)\n",
    "    log_loss = -np.mean(y_true * np.log(y_pred) + (1 - y_true) * np.log(1 - y_pred))\n",
    "    ### YOUR CODE ENDS HERE\n",
    "    \n",
    "    return log_loss"
   ]
  },
  {
   "cell_type": "markdown",
   "id": "6d673965",
   "metadata": {},
   "source": [
    "You may want to run the following code to check if your code is correct."
   ]
  },
  {
   "cell_type": "code",
   "execution_count": 15,
   "id": "6a3e2cf7",
   "metadata": {},
   "outputs": [
    {
     "name": "stdout",
     "output_type": "stream",
     "text": [
      "MSE Loss: 0.038\n",
      "MAE Loss: 0.18\n",
      "Log Loss: 0.20273661557656092\n",
      "\n",
      "Your result should be:\n",
      "MSE Loss: 0.038\n",
      "MAE Loss: 0.18\n",
      "Log Loss: 0.20273661557656092\n"
     ]
    }
   ],
   "source": [
    "# PLEASE DO NOT CHANGE THE FOLLOWING CODE\n",
    "# Generate sample data for demonstration\n",
    "y_true = np.array([1, 0, 1, 1, 0])\n",
    "y_pred = np.array([0.9, 0.1, 0.8, 0.7, 0.2])\n",
    "\n",
    "# Calculate loss values\n",
    "mse_loss = mse(y_true, y_pred)\n",
    "mae_loss = mae(y_true, y_pred)\n",
    "log_loss_value = log_loss(y_true, y_pred)\n",
    "\n",
    "print(f\"MSE Loss: {mse_loss}\")\n",
    "print(f\"MAE Loss: {mae_loss}\")\n",
    "print(f\"Log Loss: {log_loss_value}\")\n",
    "print(\"\\nYour result should be:\\nMSE Loss: 0.038\\nMAE Loss: 0.18\\nLog Loss: 0.20273661557656092\")"
   ]
  },
  {
   "cell_type": "markdown",
   "id": "198cc3fb",
   "metadata": {},
   "source": [
    "<a name='6'></a>\n",
    "## 6 - Regularization"
   ]
  },
  {
   "cell_type": "markdown",
   "id": "71281a26",
   "metadata": {},
   "source": [
    "Regularisation is a more common method for neural network models, which has a more significant effect on reducing the complexity of the model and thus the variance of the model. In this section, we discuss several types of classical regularisation methods."
   ]
  },
  {
   "cell_type": "markdown",
   "id": "139b7b16",
   "metadata": {},
   "source": [
    "### $l_2$ regularisation \n",
    "We have already briefly discussed $l_2$ regularisation in ridge regression. The core idea is to prevent model overfitting by adding an extra penalty term to the model's loss function, thus improving the model's generalisation ability.\n",
    "\n",
    "$l_2$ penalty is generally of the form:\n",
    "$$\n",
    "\\mathcal{J}_2 = \\frac{\\lambda}{2n} \\sum_{l=1}^L \\| \\boldsymbol{W}^{[l]} \\|_F^2\n",
    "$$\n",
    "- $\\lambda$ : hyperparameter\n",
    "- Derivative\n",
    "$$\n",
    "\\frac{\\partial \\mathcal{J}_2}{ \\partial \\boldsymbol{W}^{[l]} } = \\frac{\\lambda}{n} \\boldsymbol{W}^{[l]}\n",
    "$$\n",
    "- It is used to control the complexity of the model\n",
    "\n",
    "### $l_1$ regularisation\n",
    "$l_1$ regularisation is the addition of the sum of the absolute values of all weighting parameters to the loss function (multiplied by a conditioning parameter), which is used to penalise too large a parameter and drive the model to be more sparse.\n",
    "\n",
    "$l_1$ penalty is generally of the form:\n",
    "$$\n",
    "\\mathcal{J}_1 = \\frac{\\lambda}{n} \\sum_{l=1}^L \\| \\boldsymbol{W}^{[l]} \\|_1\n",
    "$$\n",
    "- **Derivative**\n",
    "$$\n",
    "\\frac{\\partial \\mathcal{J}_1}{\\partial \\boldsymbol{W}^{[l]}} = \\frac{\\lambda}{n} \\text{sign}(\\boldsymbol{W}^{[l]})\n",
    "$$\n",
    "- **It is used to**\n",
    "  - control the complexity of the model\n",
    "  - induce sparsity"
   ]
  },
  {
   "cell_type": "markdown",
   "id": "38509539",
   "metadata": {},
   "source": [
    "$l_1$ or $l_2$ regularisation can be applied in scikit-learn's **LogisticRegression** by setting the penalty parameter. Here is a simple example:"
   ]
  },
  {
   "cell_type": "code",
   "execution_count": 16,
   "id": "2ff8a205",
   "metadata": {},
   "outputs": [],
   "source": [
    "# PLEASE DO NOT CHANGE THE FOLLOWING CODE\n",
    "def l1_regularization(weights, lambda_param):\n",
    "    \"\"\"\n",
    "    Compute L1 regularization term.\n",
    "   \n",
    "    \"\"\"\n",
    "    # Step 1. Compute the absolute values of the weights\n",
    "    # Step 2. Sum the absolute values\n",
    "    # Step 3. Multiply by lambda_param\n",
    "\n",
    "    ### YOUR CODE BEGINS HERE (approximately 3 lines)\n",
    "    absolute_weights = np.abs(weights)\n",
    "    sum_absolute_weights = np.sum(absolute_weights)\n",
    "    l1_term = lambda_param * sum_absolute_weights\n",
    "    ### YOUR CODE ENDS HERE\n",
    "\n",
    "    return l1_term"
   ]
  },
  {
   "cell_type": "code",
   "execution_count": 17,
   "id": "2488d55c",
   "metadata": {},
   "outputs": [],
   "source": [
    "# PLEASE DO NOT CHANGE THE FOLLOWING CODE\n",
    "def l2_regularization(weights, lambda_param):\n",
    "    \"\"\"\n",
    "    Compute L2 regularization term.\n",
    "\n",
    "    \"\"\"\n",
    "    # Step 1. Compute the squared values of the weights\n",
    "    # Step 2. Sum the squared values\n",
    "    # Step 3. Multiply by lambda_param and divide by 2\n",
    "\n",
    "    ### YOUR CODE BEGINS HERE (approximately 3 lines)\n",
    "    squared_weights = np.square(weights)\n",
    "    sum_squared_weights = np.sum(squared_weights)\n",
    "    l2_term = (lambda_param / 2) * sum_squared_weights\n",
    "    ### YOUR CODE ENDS HERE\n",
    "\n",
    "    return l2_term"
   ]
  },
  {
   "cell_type": "markdown",
   "id": "ec76aea4",
   "metadata": {},
   "source": [
    "You may want to run the following code to check if your code is correct."
   ]
  },
  {
   "cell_type": "code",
   "execution_count": 25,
   "id": "9a78a5e6",
   "metadata": {},
   "outputs": [
    {
     "name": "stdout",
     "output_type": "stream",
     "text": [
      "L1 Regularization Term: 0.4\n",
      "L2 Regularization Term: 0.275\n",
      "\n",
      "Your result should be:\n",
      "L1 Regularization Term: 0.4\n",
      "L2 Regularization Term: 0.275\n"
     ]
    }
   ],
   "source": [
    "# PLEASE DO NOT CHANGE THE FOLLOWING CODE\n",
    "# Example usage\n",
    "if __name__ == \"__main__\":\n",
    "    # Define model weights and regularization strength\n",
    "    weights = np.array([0.5, -1.0, 2.0, -0.5])\n",
    "    lambda_param = 0.1\n",
    "\n",
    "    # Compute L1 and L2 regularization terms\n",
    "    l1_term = l1_regularization(weights, lambda_param)\n",
    "    l2_term = l2_regularization(weights, lambda_param)\n",
    "\n",
    "    # Output the results\n",
    "    print(f\"L1 Regularization Term: {l1_term}\")\n",
    "    print(f\"L2 Regularization Term: {l2_term}\")\n",
    "    \n",
    "print(\"\\nYour result should be:\\nL1 Regularization Term: 0.4\\nL2 Regularization Term: 0.275\")"
   ]
  },
  {
   "cell_type": "markdown",
   "id": "7c787fc6",
   "metadata": {},
   "source": [
    "### Dropout\n",
    "**Dropout** is a regularisation technique commonly used in training deep learning models, the core idea of which is to randomly ‘dropout’ (i.e., set to 0) a portion of the neurons in each hidden layer of the neural network during the training process to mitigate the overfitting of the model to the training data."
   ]
  },
  {
   "cell_type": "markdown",
   "id": "c9e10887",
   "metadata": {},
   "source": [
    "### Early Stopping\n",
    "During the training process of a deep learning model, the model usually improves its performance on the training set as the training progresses. However, when the model learns too much about the training data, it may capture noise and specific features in the training data, causing the performance on the validation (or test) set to begin to degrade, i.e., overfitting occurs. \n",
    "\n",
    "**Early stopping** technique avoids overfitting by monitoring the model's performance on the validation set and stopping the training in time when it is found that the performance no longer improves or starts to decline."
   ]
  },
  {
   "cell_type": "markdown",
   "id": "b7704ffc",
   "metadata": {},
   "source": [
    "<a name='7'></a>\n",
    "## 7 - Grid Search for Hyperparameter Tuning\n",
    "\n",
    "<a name='7.1'></a>\n",
    "### 7.1 - Principle and Implementation"
   ]
  },
  {
   "cell_type": "markdown",
   "id": "34b14bf1",
   "metadata": {},
   "source": [
    "Grid search is a systematic and comprehensive method for hyperparameter tuning. It operates by traversing a predefined hyperparameter space, exhaustively evaluating each combination of hyperparameters through model training and cross-validation. This approach ensures that no combination is left unexplored within the defined grid.\n",
    "\n",
    "The process of grid search can be succinctly described by the following steps:\n",
    "1. **Define the hyperparameter grid (Θ)**: Specify various combinations of hyperparameters, such as learning rates, tree depths, or regularization strengths.\n",
    "2. **Iterate over each combination (θ) in the grid (Θ)**:\n",
    "   - Train a model (M) on the training dataset using the current θ.\n",
    "   - Evaluate model (M) using cross-validation to determine its performance.\n",
    "3. **Select the best hyperparameter combination (θ)**: Choose the combination that achieves the optimal performance metric (e.g., highest accuracy or best F1-score)."
   ]
  },
  {
   "cell_type": "markdown",
   "id": "9c525510",
   "metadata": {},
   "source": [
    "**Your Task:**\n",
    "- Implement grid search for a random forest classifier.\n",
    "- Define the hyperparameter grid and initialize GridSearchCV.\n",
    "\n",
    "**Steps:**\n",
    "1. Define the model.\n",
    "2. Define the hyperparameter grid.\n",
    "3. Initialize GridSearchCV.\n",
    "4. Perform grid search.\n",
    "5. Output the best hyperparameters and score."
   ]
  },
  {
   "cell_type": "code",
   "execution_count": 19,
   "id": "882802e3",
   "metadata": {},
   "outputs": [],
   "source": [
    "# PLEASE DO NOT CHANGE THE FOLLOWING CODE\n",
    "# Set the random seed for reproducibility\n",
    "RANDOM_STATE = 220\n",
    "np.random.seed(RANDOM_STATE)\n",
    "\n",
    "def custom_grid_search(X, y, model_class, param_grid, cv=3, scoring='accuracy'):\n",
    "    \"\"\"\n",
    "    Custom grid search function to find the best hyperparameters for a model.\n",
    "    \n",
    "    \"\"\"\n",
    "    # X: Feature data\n",
    "    # y: Target data\n",
    "    # model_class: The model class to be used (e.g., RandomForestClassifier)\n",
    "    # param_grid: A dictionary where keys are parameter names and values are lists of parameter values to try\n",
    "    # cv: Number of cross-validation folds\n",
    "    # scoring: The evaluation metric to use\n",
    "\n",
    "    # Step 1: Split the data into training and validation sets for cross-validation\n",
    "    # Step 2: Generate all possible combinations of hyperparameters\n",
    "    # Step 3: Initialize variables to store the best model and score\n",
    "    # Step 4: Iterate over each combination of hyperparameters\n",
    "    #         Step 4.1: Perform cross-validation\n",
    "    #         Step 4.2: Update the best score and parameters if the current combination is better\n",
    "    \n",
    "    ### YOUR CODE BEGINS HERE (approximately 20 lines)\n",
    "    cv_splits = []\n",
    "    for i in range(cv):\n",
    "        X_train, X_val, y_train, y_val = train_test_split(X, y, test_size=1/cv, random_state=RANDOM_STATE + i)\n",
    "        cv_splits.append((X_train, X_val, y_train, y_val))\n",
    "    \n",
    "    param_combinations = generate_param_combinations(param_grid)\n",
    "    \n",
    "    best_score = -np.inf\n",
    "    best_params = {}\n",
    "    cv_results = {\"params\": [], \"mean_test_score\": []}\n",
    "    \n",
    "    for params in param_combinations:\n",
    "        model = model_class(random_state=RANDOM_STATE, **params)\n",
    "        \n",
    "        avg_score = 0\n",
    "        for split in cv_splits:\n",
    "            X_train, X_val, y_train, y_val = split\n",
    "            model.fit(X_train, y_train)\n",
    "            y_pred = model.predict(X_val)\n",
    "            score = calculate_score(y_val, y_pred, scoring)\n",
    "            avg_score += score / cv\n",
    "        \n",
    "        if avg_score > best_score:\n",
    "            best_score = avg_score\n",
    "            best_params = params\n",
    "        \n",
    "        ### YOUR CODE ENDS\n",
    "        cv_results[\"params\"].append(params)\n",
    "        cv_results[\"mean_test_score\"].append(avg_score)\n",
    "    \n",
    "    return {\"best_params\": best_params, \"best_score\": best_score, \"cv_results\": cv_results}\n",
    "\n",
    "def generate_param_combinations(param_grid):\n",
    "    \"\"\"\n",
    "    Generate all possible combinations of hyperparameters.\n",
    "   \n",
    "    \"\"\"\n",
    "    \n",
    "    # param_grid: A dictionary where keys are parameter names and values are lists of parameter values\n",
    "\n",
    "    # Step 1: Extract the keys and values from the parameter grid\n",
    "    # Step 2: Generate all possible combinations of hyperparameters\n",
    "    \n",
    "    from itertools import product\n",
    "    ### YOUR CODE BEGINS HERE (approximately 5 lines)\n",
    "    keys = param_grid.keys()\n",
    "    values = param_grid.values()\n",
    "    param_combinations = []\n",
    "    for combination in product(*values):\n",
    "        param_combinations.append(dict(zip(keys, combination)))   \n",
    "    ### YOUR CODE ENDS\n",
    "\n",
    "    return param_combinations\n",
    "\n",
    "def calculate_score(y_true, y_pred, scoring):\n",
    "    \"\"\"\n",
    "    Calculate the evaluation score based on the true and predicted values.\n",
    "    \"\"\"\n",
    "    if scoring == 'accuracy':\n",
    "        return accuracy_score(y_true, y_pred)\n",
    "    else:\n",
    "        raise ValueError(f\"Scoring metric '{scoring}' is not supported.\")"
   ]
  },
  {
   "cell_type": "markdown",
   "id": "2540f85b",
   "metadata": {},
   "source": [
    "You may want to run the following code to check if your code is correct."
   ]
  },
  {
   "cell_type": "code",
   "execution_count": 20,
   "id": "d12be6c3",
   "metadata": {},
   "outputs": [
    {
     "name": "stdout",
     "output_type": "stream",
     "text": [
      "Best Hyperparameters: {'n_estimators': 50, 'max_depth': None, 'min_samples_split': 2}\n",
      "Best Score: 0.9019607843137254\n",
      "Your result should be:\n",
      "Best Hyperparameters: {'n_estimators': 50, 'max_depth': None, 'min_samples_split': 2}\n",
      "Best Score: 0.9019607843137254\n"
     ]
    }
   ],
   "source": [
    "# PLEASE DO NOT CHANGE THE FOLLOWING CODE\n",
    "# Example usage\n",
    "if __name__ == \"__main__\":\n",
    "    # Generate a simple classification dataset\n",
    "    X, y = make_classification(n_samples=100, n_features=20, n_classes=2, random_state=RANDOM_STATE)\n",
    "\n",
    "    # Define the model class and hyperparameter grid\n",
    "    param_grid = {\n",
    "        'n_estimators': [50, 100, 200],\n",
    "        'max_depth': [None, 10, 20],\n",
    "        'min_samples_split': [2, 5, 10]\n",
    "    }\n",
    "\n",
    "    # Perform custom grid search\n",
    "    result = custom_grid_search(X, y, RandomForestClassifier, param_grid, cv=3, scoring='accuracy')\n",
    "\n",
    "    # Output the best hyperparameters and score\n",
    "    print(\"Best Hyperparameters:\", result[\"best_params\"])\n",
    "    print(\"Best Score:\", result[\"best_score\"])\n",
    "\n",
    "print(\"Your result should be:\\nBest Hyperparameters: {'n_estimators': 50, 'max_depth': None, 'min_samples_split': 2}\\nBest Score: 0.9019607843137254\")"
   ]
  },
  {
   "cell_type": "markdown",
   "id": "0af9c46d",
   "metadata": {},
   "source": [
    "<a name='7.2'></a>\n",
    "### 7.2 - Model Training and Evaluation with Regularization and Early Stopping"
   ]
  },
  {
   "cell_type": "markdown",
   "id": "95c8ba77",
   "metadata": {},
   "source": [
    "In this section, you will train a neural network with L2 regularization and early stopping. Regularization helps prevent overfitting by adding a penalty term to the loss function, while early stopping monitors the validation performance and stops training when it stops improving.\n",
    "\n",
    "You can train a neural network with L2 regularization and early stopping by running the following cell."
   ]
  },
  {
   "cell_type": "code",
   "execution_count": 21,
   "id": "931cbd30",
   "metadata": {},
   "outputs": [],
   "source": [
    "# PLEASE DO NOT CHANGE THE FOLLOWING CODE\n",
    "def train_neural_network(X_train, y_train, X_val, y_val, X_test, y_test):\n",
    "    \"\"\"\n",
    "    Train a neural network with L2 regularization and early stopping.\n",
    "    \n",
    "    Parameters:\n",
    "    X_train: Training feature data.\n",
    "    y_train: Training target data.\n",
    "    X_val: Validation feature data.\n",
    "    y_val: Validation target data.\n",
    "    X_test: Test feature data.\n",
    "    y_test: Test target data.\n",
    "    \n",
    "    Returns:\n",
    "    tuple: A tuple containing the trained model, validation loss, and test loss.\n",
    "    \"\"\"\n",
    "    # Initialize the neural network with regularization and early stopping parameters\n",
    "    mlp = MLPClassifier(\n",
    "        hidden_layer_sizes=(100,), \n",
    "        activation='relu', \n",
    "        max_iter=1000, \n",
    "        random_state=RANDOM_STATE,\n",
    "        alpha=0.01,  # L2 regularization term\n",
    "        early_stopping=True,  # Enable early stopping\n",
    "        validation_fraction=0.1  # Fraction of training data used for validation\n",
    "    )\n",
    "\n",
    "    # Train the model\n",
    "    mlp.fit(X_train, y_train)\n",
    "\n",
    "    # Evaluate the model on the validation set\n",
    "    val_loss = log_loss(y_val, mlp.predict_proba(X_val)[:, 1])  # Use the probability of the positive class\n",
    "\n",
    "    # Evaluate the model on the test set\n",
    "    test_loss = log_loss(y_test, mlp.predict_proba(X_test)[:, 1])  # Use the probability of the positive class\n",
    "\n",
    "    return mlp, val_loss, test_loss"
   ]
  },
  {
   "cell_type": "code",
   "execution_count": 22,
   "id": "f6676e68",
   "metadata": {},
   "outputs": [
    {
     "name": "stdout",
     "output_type": "stream",
     "text": [
      "Validation loss with regularization and early stopping: 0.44353649267749323\n",
      "Test loss with regularization and early stopping: 0.4193853695259757\n",
      "Your result should be:\n",
      "Validation loss with regularization and early stopping: 0.44353649267749323\n",
      "Test loss with regularization and early stopping: 0.4193853695259757\n"
     ]
    }
   ],
   "source": [
    "# PLEASE DO NOT CHANGE THE FOLLOWING CODE\n",
    "# Example usage\n",
    "if __name__ == \"__main__\":\n",
    "    # Assuming X_train, y_train, X_val, y_val, X_test, y_test are already defined\n",
    "    mlp, val_loss, test_loss = train_neural_network(X_train, y_train, X_val, y_val, X_test, y_test)\n",
    "\n",
    "    # Output the validation and test loss\n",
    "    print(f\"Validation loss with regularization and early stopping: {val_loss}\")\n",
    "    print(f\"Test loss with regularization and early stopping: {test_loss}\")\n",
    "\n",
    "print(\"Your result should be:\\nValidation loss with regularization and early stopping: 0.44353649267749323\\nTest loss with regularization and early stopping: 0.4193853695259757\")"
   ]
  },
  {
   "cell_type": "markdown",
   "id": "59a14aba",
   "metadata": {},
   "source": [
    "<a name='7.3'></a>\n",
    "### 7.3 - Drawing Loss Function Plots During Grid Search"
   ]
  },
  {
   "cell_type": "markdown",
   "id": "2c0264c0",
   "metadata": {},
   "source": [
    "In this section, you will visualize the loss function during grid search to understand how different hyperparameters affect model performance. You can create both 3D and 2D plots of the loss function by running the following cell."
   ]
  },
  {
   "cell_type": "code",
   "execution_count": 23,
   "id": "1268463d",
   "metadata": {},
   "outputs": [
    {
     "data": {
      "image/png": "[encoded data removed]",
      "text/plain": [
       "<Figure size 1080x432 with 2 Axes>"
      ]
     },
     "metadata": {
      "needs_background": "light"
     },
     "output_type": "display_data"
    },
    {
     "data": {
      "image/png": "[encoded data removed]",
      "text/plain": [
       "<Figure size 720x432 with 1 Axes>"
      ]
     },
     "metadata": {
      "needs_background": "light"
     },
     "output_type": "display_data"
    },
    {
     "data": {
      "text/plain": [
       "<Figure size 432x288 with 0 Axes>"
      ]
     },
     "metadata": {},
     "output_type": "display_data"
    }
   ],
   "source": [
    "# PLEASE DO NOT CHANGE THE FOLLOWING CODE\n",
    "from mpl_toolkits.mplot3d import Axes3D\n",
    "\n",
    "def plot_loss_function(cv_results, mlp):\n",
    "    \"\"\"\n",
    "    Plot the loss function during grid search and neural network training.\n",
    "    \"\"\"\n",
    "    # Extract data for plotting from grid search results\n",
    "    params = cv_results[\"params\"]\n",
    "    mean_test_scores = cv_results[\"mean_test_score\"]\n",
    "    n_estimators = [param[\"n_estimators\"] for param in params]\n",
    "    max_depth = [param[\"max_depth\"] if param[\"max_depth\"] is not None else 30 for param in params]\n",
    "\n",
    "    # Create a figure with two subplots\n",
    "    fig = plt.figure(figsize=(15, 6))\n",
    "\n",
    "    # First subplot: 3D plot\n",
    "    ax1 = fig.add_subplot(121, projection=\"3d\")\n",
    "    ax1.scatter(n_estimators, max_depth, mean_test_scores, c=\"r\", marker=\"o\")\n",
    "    ax1.set_xlabel(\"n_estimators\")\n",
    "    ax1.set_ylabel(\"max_depth\")\n",
    "    ax1.set_zlabel(\"Mean Test Score\")\n",
    "    ax1.set_title(\"Grid Search Loss Function Plot (3D)\")\n",
    "\n",
    "    # Second subplot: 2D plot\n",
    "    ax2 = fig.add_subplot(122)\n",
    "    ax2.scatter(n_estimators, mean_test_scores, c=\"b\", marker=\"o\")\n",
    "    ax2.set_xlabel(\"n_estimators\")\n",
    "    ax2.set_ylabel(\"Mean Test Score\")\n",
    "    ax2.set_title(\"Grid Search Loss Function Plot (2D)\")\n",
    "\n",
    "    # Plot neural network loss curve\n",
    "    plt.figure(figsize=(10, 6))\n",
    "    plt.plot(mlp.loss_curve_)\n",
    "    plt.xlabel(\"Epoch\")\n",
    "    plt.ylabel(\"Loss\")\n",
    "    plt.title(\"Neural Network Loss Curve with Regularization and Early Stopping\")\n",
    "    plt.show()\n",
    "\n",
    "    # Adjust layout for the first figure\n",
    "    plt.tight_layout()\n",
    "    plt.show()\n",
    "\n",
    "# Example usage\n",
    "if __name__ == \"__main__\":\n",
    "    # Assuming result and mlp are already defined from previous steps\n",
    "    plot_loss_function(result[\"cv_results\"], mlp)"
   ]
  },
  {
   "cell_type": "markdown",
   "id": "9490a00f",
   "metadata": {},
   "source": [
    "<a name='7.4'></a>\n",
    "### 7.4 - Play by Yourself!\n",
    "\n",
    "You can further explore different hyperparameter combinations and neural network architectures\n",
    "For example, adjust the number of neurons in the hidden layer of the neural network and observe changes in performance.\n",
    "\n",
    "In this assignment, the Dropout and Early Stop examples are not given, so you can try them yourself!"
   ]
  }
 ],
 "metadata": {
  "kernelspec": {
   "display_name": "Python 3 (ipykernel)",
   "language": "python",
   "name": "python3"
  },
  "language_info": {
   "codemirror_mode": {
    "name": "ipython",
    "version": 3
   },
   "file_extension": ".py",
   "mimetype": "text/x-python",
   "name": "python",
   "nbconvert_exporter": "python",
   "pygments_lexer": "ipython3",
   "version": "3.9.20"
  }
 },
 "nbformat": 4,
 "nbformat_minor": 5
}
