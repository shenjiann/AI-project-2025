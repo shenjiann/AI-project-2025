{
 "cells": [
  {
   "cell_type": "code",
   "execution_count": 1,
   "id": "4581ecf9",
   "metadata": {},
   "outputs": [],
   "source": [
    "import pandas as pd\n",
    "import numpy as np\n",
    "from sklearn.model_selection import train_test_split"
   ]
  },
  {
   "cell_type": "code",
   "execution_count": 2,
   "id": "c795a6c3",
   "metadata": {},
   "outputs": [],
   "source": [
    "df = pd.read_excel('housing price.xlsx')\n",
    "df['y'] = (df['2025-04']/df['2024-11'] > 1).astype(int)\n",
    "# cols_to_save = [col for col in df.columns if col not in ['2024-11', '2024-12', '2025-01', '2025-02', '2025-03', '2025-04']]\n",
    "# df[cols_to_save].to_csv('../data.csv', index=False)\n",
    "df.to_csv('../data.csv', index=False)"
   ]
  },
  {
   "cell_type": "code",
   "execution_count": null,
   "id": "940a8a46",
   "metadata": {},
   "outputs": [],
   "source": []
  }
 ],
 "metadata": {
  "kernelspec": {
   "display_name": "workenv",
   "language": "python",
   "name": "python3"
  },
  "language_info": {
   "codemirror_mode": {
    "name": "ipython",
    "version": 3
   },
   "file_extension": ".py",
   "mimetype": "text/x-python",
   "name": "python",
   "nbconvert_exporter": "python",
   "pygments_lexer": "ipython3",
   "version": "3.12.2"
  }
 },
 "nbformat": 4,
 "nbformat_minor": 5
}
