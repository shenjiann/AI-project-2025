{
 "cells": [
  {
   "cell_type": "markdown",
   "id": "3834e474",
   "metadata": {},
   "source": [
    "# Model Analysis\n",
    "\n",
    "In the previous chapter, we introduced the basic use of `PyTorch` and use a neural network model to predict the probabilities of listed firms' tax non-compliance behaviors. Our previous model may be too simple, this leads to a bad prediction performance. By tuning the hyperparameters or regularizaition, we can further improve our model.\n",
    "\n",
    "So in section 1- 4, we would introduce the implementation of $\\ell_2$ regularization, dropout, early stopping and batch normalization. These techniques could help avoid over-fitting models. \n",
    "\n",
    "And in section 5, we tune hyperparameters and apply these methods to the example of tax non-compliant firms classfication. \n",
    "\n",
    "**Learning Goal**:\n",
    "1. Implementing regularization methods including L2 penalty, dropout, early stopping;\n",
    "2. Implementing batch normalization;\n",
    "3. tuning hyperparameters.\n",
    "\n",
    "## Contents\n",
    "* [0 - Import Packages and Data](#0---import-packages-and-data)\n",
    "* [1 - $\\ell_2$ Regularization](#1----regularization)\n",
    "  * [1.1 - parameter grouping for weight decay](#11---parameter-grouping-for-weight-decay)\n",
    "  * [1.2 - training with different weight decay](#12---training-with-different-weight-decay-values)\n",
    "* [2 - Dropout](#2---dropout)\n",
    "* [3 - Early Stopping](#3---early-stopping)\n",
    "  * [3.1 - early stopping utility](#31---early-stopping-utility)\n",
    "  * [3.2 - train with early stopping](#32---train-with-early-stopping)\n",
    "  * [3.3 - visualizing early stopping effect](#33-visualizing-early-stopping-effect)\n",
    "* [4 - Batch Normalization](#4---batch-normalization)\n",
    "* [5 - tuning Hyperparameters](#5---tuning-hyperparameters)\n",
    "  * [5.1 - hyperparameter combinations](#51---hyperparameters-combinations)\n",
    "  * [5.2 - network architecture](#52---network-architecture)\n",
    "  * [5.3 - tuning utility](#53---tuning-utility)\n",
    "  * [5.4 - load and analyze results](#54---load-and-analyze-results)\n",
    "  * [5.5 - train on the full training data](#55---train-on-the-full-training-data)"
   ]
  },
  {
   "cell_type": "markdown",
   "id": "b4ac1f17",
   "metadata": {},
   "source": [
    "## 0 - Import Packages and Data"
   ]
  },
  {
   "cell_type": "code",
   "execution_count": 1,
   "id": "ee8bca88",
   "metadata": {},
   "outputs": [
    {
     "data": {
      "text/plain": [
       "<torch._C.Generator at 0x12cdfee10>"
      ]
     },
     "execution_count": 1,
     "metadata": {},
     "output_type": "execute_result"
    }
   ],
   "source": [
    "import pandas as pd # used for data import\n",
    "import numpy as np # used for numerical operations\n",
    "import torch # used for tensor operations\n",
    "import torch.nn as nn # used for building neural networks\n",
    "from torch.utils.data import DataLoader, TensorDataset # used for creating data loaders\n",
    "from sklearn.preprocessing import StandardScaler # used for standardizing features\n",
    "from sklearn.metrics import average_precision_score, precision_recall_curve # used for evaluating models\n",
    "import matplotlib.pyplot as plt # used for plotting PR curves\n",
    "from sklearn.model_selection import train_test_split # used for splitting data into train/valiadtion sets\n",
    "from utils import FNN, train, test # copy and paste FNN, train, test functions in last chapter to utils.py in your current working directory\n",
    "import itertools # used for generating combinations of hyperparameters\n",
    "import json # used for write output to txt\n",
    "\n",
    "np.random.seed(42) # set random seed for reproducibility\n",
    "torch.manual_seed(42)"
   ]
  },
  {
   "cell_type": "markdown",
   "id": "bdee4766",
   "metadata": {},
   "source": [
    "Importing data is the same as what we do in last chapter. The only difference is we further split `train_df` into training data and validation data. Since validation data is used to evaluate the model performance and to choose hyperparameters."
   ]
  },
  {
   "cell_type": "code",
   "execution_count": 2,
   "id": "2ef660cb",
   "metadata": {},
   "outputs": [],
   "source": [
    "# import csv\n",
    "full_train_df = pd.read_csv('../全连接神经网络/train_data.csv') # import training data\n",
    "test_df = pd.read_csv('../全连接神经网络/test_data.csv')\n",
    "\n",
    "# split train_df into training and validation set\n",
    "train_df, valid_df = train_test_split(full_train_df,\n",
    "                                      stratify=full_train_df['noncompliance'], \n",
    "                                      test_size=0.2,\n",
    "                                      random_state=42,\n",
    "                                      shuffle=True)\n",
    "\n",
    "# standardize the input\n",
    "scaler = StandardScaler()\n",
    "X_train_array = scaler.fit_transform(train_df.drop(['noncompliance'], axis=1)) # standardize train X\n",
    "X_valid_array = scaler.transform(valid_df.drop(['noncompliance'], axis=1)) # standardize validation X using train scaler\n",
    "X_test_array = scaler.transform(test_df.drop(['noncompliance'], axis=1)) # standardize test X using train scaler\n",
    "y_train_array = train_df['noncompliance'].values # transform train y to array\n",
    "y_valid_array = valid_df['noncompliance'].values # transform validation y to array\n",
    "y_test_array = test_df['noncompliance'].values # transform test y to array"
   ]
  },
  {
   "cell_type": "markdown",
   "id": "b708de15",
   "metadata": {},
   "source": [
    "The procedures of preparing `train_loader` and `test_loader` are the same. For simplicity, we could define `prepare_loader()` function used to transform our array like data into DataLoader. "
   ]
  },
  {
   "cell_type": "code",
   "execution_count": 3,
   "id": "d5934df5",
   "metadata": {},
   "outputs": [],
   "source": [
    "def prepare_loader(X_array, y_array, batch_size, shuffle):\n",
    "    \"\"\"\n",
    "    transform array data into DataLoader\n",
    "    params:\n",
    "        X_array: ndarray, feature;\n",
    "        y_array: ndarray, label;\n",
    "        batch_size: int, batch size;\n",
    "        shuffle: bool, change the order of samples;\n",
    "    return:\n",
    "        loader: DataLoader, data including features and labels used in pytorch.\n",
    "    \"\"\"\n",
    "    X_tensor = torch.tensor(X_array, dtype=torch.float32) # transform X_array to tensor\n",
    "    y_tensor = torch.tensor(y_array, dtype=torch.float32) # transform X_array to tensor\n",
    "    dataset = TensorDataset(X_tensor, y_tensor) # bundle X_tensor and y_tensor into TensorDataset\n",
    "    loader = DataLoader(dataset, batch_size=batch_size, shuffle=shuffle) # transform dataset to DataLoader\n",
    "    return loader\n",
    "\n",
    "# prepare training, validation and test data\n",
    "train_loader = prepare_loader(X_train_array, y_train_array, batch_size=128, shuffle=True)\n",
    "valid_loader = prepare_loader(X_valid_array, y_valid_array, batch_size=128, shuffle=False)\n",
    "test_loader = prepare_loader(X_test_array, y_test_array, batch_size=128, shuffle=False)"
   ]
  },
  {
   "cell_type": "markdown",
   "id": "848163b8",
   "metadata": {},
   "source": [
    "## 1 - $\\ell_2$ Regularization"
   ]
  },
  {
   "cell_type": "markdown",
   "id": "4322b767",
   "metadata": {},
   "source": [
    "Recall the backpropagation of $\\ell_2$ penalty:\n",
    "$J_2 = \\frac{\\lambda}{2n} \\sum_{l} ||W^{[l]}||_{F}^2$ \n",
    "and the derivative is \n",
    "$\\frac{\\partial J_2}{\\partial W^{[l]}} = \\frac{\\lambda}{n} W^{[l]}.$\n",
    "The update step for $\\ell_2$ penalty is \n",
    "$$\n",
    "W^{[l] (t+1)} = W^{[l] (t)} - \\text{lr} \\times (\\text{grad}_{W^{[l]}} + \\lambda \\times W^{[l] (t)}).\n",
    "$$\n",
    "\n",
    "**In the optimizer without momentum** (e.g. `torch.optim.SGD`), we can implement $\\ell_2$ regularization by adding $\\lambda \\times W$ to the gradients, instead of actually modifying the loss function. This can be done by setting the param `weight_decay`, which allows the optimizer to update parameters in the following way: \n",
    "$$\n",
    "\\text{param} = \\text{param} - \\text{lr} \\times (\\text{grad} + \\text{weight decay} * \\text{param})\n",
    "$$\n",
    "\n",
    "**In the optimizer with momentum** (e.g. `torch.optim.Adam`), `weight_decay` and $\\ell_2$ regularization are different, see [Loshchilov and Hutter (2019)](https://arxiv.org/pdf/1711.05101) for more details. The solution is to use `torch.optim.AdamW` optimizer. "
   ]
  },
  {
   "cell_type": "markdown",
   "id": "e5761a08",
   "metadata": {},
   "source": [
    "### 1.1 - parameter grouping for weight decay"
   ]
  },
  {
   "cell_type": "markdown",
   "id": "d22ed818",
   "metadata": {},
   "source": [
    "Another notification is that `weight_decay` would apply on all the model parameters including bias. So, the following function classifies all the parameters into `decay` group and `no_decay` group, then return a list that can be directly passed to `torch.optim`."
   ]
  },
  {
   "cell_type": "code",
   "execution_count": 4,
   "id": "099d7127",
   "metadata": {},
   "outputs": [],
   "source": [
    "def get_param_groups(model, weight_decay=3e-3):\n",
    "    \"\"\"\n",
    "    group parameters that need weight_decay and no weight_decay\n",
    "    params:\n",
    "        model: nn.Module \n",
    "        weight_decay: float, weight_decay for weights parameters\n",
    "    return:\n",
    "        param_groups: list, parameter groups to optimizer\n",
    "    \"\"\"\n",
    "    decay, no_decay = [], []\n",
    "    for name, param in model.named_parameters():\n",
    "        if 'bias' in name or 'bn' in name: # exclude bias and batch norm parameters from weight decay\n",
    "            no_decay.append(param) # append param to no_decay\n",
    "        else: # all other parameters (weights) will have weight decay\n",
    "            decay.append(param) # append param to decay\n",
    "\n",
    "    param_groups = [\n",
    "        {'params': decay, 'weight_decay': weight_decay}, # set weight_decay for 'decay group'\n",
    "        {'params': no_decay, 'weight_decay': 0.0} # set no weigth_decay for 'no decay group'\n",
    "    ]\n",
    "    return param_groups\n",
    "\n",
    "optimizer = torch.optim.AdamW(get_param_groups(FNN(), weight_decay=1e-3), lr=3e-3) # setting l2 regularization with Adam optimizer"
   ]
  },
  {
   "cell_type": "markdown",
   "id": "fef2fdec",
   "metadata": {},
   "source": [
    "### 1.2 - training with different weight decay values"
   ]
  },
  {
   "cell_type": "markdown",
   "id": "2440030c",
   "metadata": {},
   "source": [
    "We can implement $\\ell_2$ regularization by modifying the optimizer. In the following codes, we would see how the l2 norm of all weights would change as weight decay increases. \n",
    "\n",
    "Firstly, we define a function to calculate the l2 norm of all weights in a model."
   ]
  },
  {
   "cell_type": "code",
   "execution_count": 5,
   "id": "efc1d707",
   "metadata": {},
   "outputs": [],
   "source": [
    "def get_all_weights_l2norm(model):\n",
    "    '''calculate l2 norm of all weights'''\n",
    "    total_norm = 0.0\n",
    "    for name, param in model.named_parameters():\n",
    "        if 'weight' in name and param.requires_grad:\n",
    "            total_norm += torch.norm(param, p=2) ** 2\n",
    "    return total_norm.sqrt().item()"
   ]
  },
  {
   "cell_type": "markdown",
   "id": "0977fa26",
   "metadata": {},
   "source": [
    "Then, we change `weight_decay` from 1e-3 to 9e-3. The $\\ell_2$ norm of all weights decreases as `weight_decay` increases. This is reasonable, since larger `weight_decay` means larger penalty to weights, and the optimal weights is more likely to shrink to 0."
   ]
  },
  {
   "cell_type": "code",
   "execution_count": 6,
   "id": "30fc4f93",
   "metadata": {},
   "outputs": [
    {
     "name": "stdout",
     "output_type": "stream",
     "text": [
      "Training weight decay: 0.001\n",
      "Epoch [50/500] Loss: 0.1302\n",
      "Epoch [100/500] Loss: 0.0986\n",
      "Epoch [150/500] Loss: 0.0829\n",
      "Epoch [200/500] Loss: 0.0833\n",
      "Epoch [250/500] Loss: 0.0652\n",
      "Epoch [300/500] Loss: 0.0661\n",
      "Epoch [350/500] Loss: 0.0926\n",
      "Epoch [400/500] Loss: 0.0798\n",
      "Epoch [450/500] Loss: 0.0473\n",
      "Epoch [500/500] Loss: 0.0594\n",
      "Training weight decay: 0.003\n",
      "Epoch [50/500] Loss: 0.1145\n",
      "Epoch [100/500] Loss: 0.0921\n",
      "Epoch [150/500] Loss: 0.0812\n",
      "Epoch [200/500] Loss: 0.0705\n",
      "Epoch [250/500] Loss: 0.0703\n",
      "Epoch [300/500] Loss: 0.0586\n",
      "Epoch [350/500] Loss: 0.0471\n",
      "Epoch [400/500] Loss: 0.0450\n",
      "Epoch [450/500] Loss: 0.0448\n",
      "Epoch [500/500] Loss: 0.0539\n",
      "Training weight decay: 0.005\n",
      "Epoch [50/500] Loss: 0.1144\n",
      "Epoch [100/500] Loss: 0.0885\n",
      "Epoch [150/500] Loss: 0.0729\n",
      "Epoch [200/500] Loss: 0.0608\n",
      "Epoch [250/500] Loss: 0.0555\n",
      "Epoch [300/500] Loss: 0.0488\n",
      "Epoch [350/500] Loss: 0.0528\n",
      "Epoch [400/500] Loss: 0.0474\n",
      "Epoch [450/500] Loss: 0.0420\n",
      "Epoch [500/500] Loss: 0.0354\n",
      "Training weight decay: 0.007\n",
      "Epoch [50/500] Loss: 0.1237\n",
      "Epoch [100/500] Loss: 0.0973\n",
      "Epoch [150/500] Loss: 0.0837\n",
      "Epoch [200/500] Loss: 0.0771\n",
      "Epoch [250/500] Loss: 0.0677\n",
      "Epoch [300/500] Loss: 0.0597\n",
      "Epoch [350/500] Loss: 0.0878\n",
      "Epoch [400/500] Loss: 0.0696\n",
      "Epoch [450/500] Loss: 0.0718\n",
      "Epoch [500/500] Loss: 0.0611\n",
      "Training weight decay: 0.009\n",
      "Epoch [50/500] Loss: 0.1261\n",
      "Epoch [100/500] Loss: 0.0973\n",
      "Epoch [150/500] Loss: 0.0837\n",
      "Epoch [200/500] Loss: 0.0851\n",
      "Epoch [250/500] Loss: 0.0718\n",
      "Epoch [300/500] Loss: 0.0672\n",
      "Epoch [350/500] Loss: 0.0612\n",
      "Epoch [400/500] Loss: 0.0586\n",
      "Epoch [450/500] Loss: 0.0618\n",
      "Epoch [500/500] Loss: 0.0571\n"
     ]
    },
    {
     "data": {
      "image/png": "[encoded data removed]",
      "text/plain": [
       "<Figure size 640x480 with 1 Axes>"
      ]
     },
     "metadata": {},
     "output_type": "display_data"
    }
   ],
   "source": [
    "weight_decay_list = [1e-3, 3e-3, 5e-3, 7e-3, 9e-3]\n",
    "l2_norm_results = [] # store l2 norm for different weight_decay\n",
    "\n",
    "# loop for different weight_decay values\n",
    "for wd in weight_decay_list:\n",
    "    print(f'Training weight decay: {wd}')\n",
    "    model = FNN() # initialize a model\n",
    "    criterion = nn.BCELoss() # set loss function\n",
    "    optimizer = torch.optim.AdamW(get_param_groups(model, weight_decay=wd), lr=3e-3) # set optimizer\n",
    "    train(model, train_loader, criterion, optimizer, num_epochs=500)\n",
    "    norm_value = get_all_weights_l2norm(model) # calculate l2 norm\n",
    "    l2_norm_results.append(norm_value) # append norm to l2_norm_results\n",
    "\n",
    "# plot weight_decay and l2 norm \n",
    "plt.plot(weight_decay_list, l2_norm_results, marker='o')\n",
    "plt.xlabel('Weight Decay')\n",
    "plt.ylabel('L2 Norm of Weights')\n",
    "plt.grid(True)\n",
    "plt.show()"
   ]
  },
  {
   "cell_type": "markdown",
   "id": "9ad6e345",
   "metadata": {},
   "source": [
    "## 2 - Dropout"
   ]
  },
  {
   "cell_type": "markdown",
   "id": "ef7943ec",
   "metadata": {},
   "source": [
    "We can implement dropout by modifying network structure. In the following codes, we define `FNN_dropout` a network with dropout layer.\n",
    "\n",
    "In the `__init__` method, `self.dropout1 = nn.Dropout(p=0.5)` defines a dropout layer with dropout probability of 0.5, it would randomly zeroes some elements of the input with probability $p=0.5$ during training mode.\n",
    "\n",
    "In the `forward` method, `x = self.dropout1(x)` applies the dropout operator to the output of first layer."
   ]
  },
  {
   "cell_type": "code",
   "execution_count": 7,
   "id": "c4656ca3",
   "metadata": {},
   "outputs": [],
   "source": [
    "class FNN_dropout(nn.Module):\n",
    "    \"\"\"\n",
    "    A fully connected neural network with dropout.\n",
    "    \"\"\"\n",
    "    def __init__(self):\n",
    "        super(FNN_dropout, self).__init__()\n",
    "        self.fc1 = nn.Linear(24, 64)\n",
    "        self.dropout1 = nn.Dropout(p=0.5) # define dropout layer with 50% probability\n",
    "        self.fc2 = nn.Linear(64, 32)\n",
    "        self.dropout2 = nn.Dropout(p=0.3) # define dropout layer with 30% probability\n",
    "        self.fc3 = nn.Linear(32, 8)\n",
    "        self.dropout3 = nn.Dropout(p=0.1) # define dropout layer with 10% probability\n",
    "        self.fc4 = nn.Linear(8, 1)\n",
    "        \n",
    "    def forward(self, x):\n",
    "        x = torch.relu(self.fc1(x))\n",
    "        x = self.dropout1(x) # apply dropout\n",
    "        x = torch.relu(self.fc2(x))\n",
    "        x = self.dropout2(x) # apply dropout\n",
    "        x = torch.relu(self.fc3(x))\n",
    "        x = self.dropout3(x) # apply dropout\n",
    "        x = torch.sigmoid(self.fc4(x))\n",
    "        return x"
   ]
  },
  {
   "cell_type": "code",
   "execution_count": 8,
   "id": "ef00feda",
   "metadata": {},
   "outputs": [
    {
     "name": "stdout",
     "output_type": "stream",
     "text": [
      "Epoch [50/500] Loss: 0.1757\n",
      "Epoch [100/500] Loss: 0.1661\n",
      "Epoch [150/500] Loss: 0.1614\n",
      "Epoch [200/500] Loss: 0.1588\n",
      "Epoch [250/500] Loss: 0.1565\n",
      "Epoch [300/500] Loss: 0.1547\n",
      "Epoch [350/500] Loss: 0.1515\n",
      "Epoch [400/500] Loss: 0.1523\n",
      "Epoch [450/500] Loss: 0.1496\n",
      "Epoch [500/500] Loss: 0.1515\n"
     ]
    }
   ],
   "source": [
    "model_dropout = FNN_dropout()\n",
    "criterion = nn.BCELoss()\n",
    "optimizer = torch.optim.Adam(model_dropout.parameters(), lr=3e-4)\n",
    "train(model_dropout, train_loader, criterion, optimizer, num_epochs=500)"
   ]
  },
  {
   "cell_type": "markdown",
   "id": "5b450c97",
   "metadata": {},
   "source": [
    "## 3 - Early Stopping"
   ]
  },
  {
   "cell_type": "markdown",
   "id": "7583f514",
   "metadata": {},
   "source": [
    "### 3.1 - early stopping utility"
   ]
  },
  {
   "cell_type": "markdown",
   "id": "637892a4",
   "metadata": {},
   "source": [
    "Early Stopping technique monitors a model's metric (e.g. loss, auc) on a validation set and stops training when the metric starts to increase. The implementation of early stopping is easy, we start from defining a `EarlyStopping` class. This `EarlyStopping` class is a utility used for detect improment, save the best model and stop training if no improvement.\n",
    "\n",
    "How it works:\n",
    "- `__call__` method:\n",
    "  1. On first call, records the initial validation loss and saves the model\n",
    "  2. When improvement is detected (metric decreases by at least `delta`): Updates `best_metric` -> Saves the model -> Resets the patience counter\n",
    "  3. When no improvement: Increments the `counter` -> Triggers stop if `patience` is exceeded\n",
    "- `save_checkpoint` method:\n",
    "  1. Saves the model's state dictionary to the specified path"
   ]
  },
  {
   "cell_type": "code",
   "execution_count": 9,
   "id": "c8bad27f",
   "metadata": {},
   "outputs": [],
   "source": [
    "class EarlyStopping:\n",
    "    '''\n",
    "    Early stops training if metric doesn't imporve after patience (expect lower metric are better)\n",
    "    '''\n",
    "    def __init__(self, patience=50, delta=0, path='checkpoint.pt', verbose=False):\n",
    "        self.patience = patience # number of epochs to wait since no improvement\n",
    "        self.delta = delta # score reduction required to detect siginificant improvement\n",
    "        self.counter = 0 # counter of patience\n",
    "        self.stop = False # flag for stop training\n",
    "        self.best_metric = None\n",
    "        # self.verbose = verbose\n",
    "        self.path = path # path to save the check point\n",
    "    \n",
    "    def __call__(self, valid_metric, model):\n",
    "        if self.best_metric is None:\n",
    "            # first call\n",
    "            self.best_metric = valid_metric\n",
    "            self.save_checkpoint(valid_metric, model)\n",
    "        elif valid_metric < self.best_metric - self.delta:\n",
    "            # significant improvement detect\n",
    "            self.best_metric = valid_metric # update best loss\n",
    "            self.save_checkpoint(valid_metric, model) # save the model\n",
    "            self.counter = 0 # resets the patience counter\n",
    "        else:\n",
    "            # no significant improvement\n",
    "            self.counter += 1 # increment patience counter\n",
    "            if self.counter >= self.patience:\n",
    "                self.stop = True\n",
    "\n",
    "    def save_checkpoint(self, valid_metric, model):\n",
    "        '''save models when metric decreases'''\n",
    "        # if self.verbose:\n",
    "        #     print(f'loss improvement: {valid_metric:.6f}. Saving model.')\n",
    "        torch.save(model.state_dict(), self.path)"
   ]
  },
  {
   "cell_type": "markdown",
   "id": "774c6d92",
   "metadata": {},
   "source": [
    "### 3.2 - train with early stopping"
   ]
  },
  {
   "cell_type": "markdown",
   "id": "820c342f",
   "metadata": {},
   "source": [
    "We can implement early stopping by modifing previous `train` function in the following way:\n",
    "1. instanciate a `EarlyStopping` class\n",
    "2. loop until `num_epochs` or until early stopping triggers\n",
    "   1. train the model (same as last chapter)\n",
    "   2. get validation loss and probability using `test()` function\n",
    "   3. call `early_stopping` "
   ]
  },
  {
   "cell_type": "code",
   "execution_count": 10,
   "id": "5c4e7274",
   "metadata": {},
   "outputs": [],
   "source": [
    "def train_and_validate(model, train_loader, valid_loader, criterion, optimizer, num_epochs, early_stop='loss'):\n",
    "    '''\n",
    "    train the model and early stopping on the validation loss\n",
    "    params:\n",
    "        model: the neural network model to train\n",
    "        train_loader: DataLoader, training data;\n",
    "        valid_loader: DataLoader, validation data;\n",
    "        criterion: loss function;\n",
    "        optimizer: optimization algorithm\n",
    "        num_epochs: int, number of epochs\n",
    "        early_stop: early stopping strategy:\n",
    "                    - False: No early stopping\n",
    "                    - 'loss': monitor validation loss\n",
    "                    - 'auprc': monitor validation auprc\n",
    "    return:\n",
    "        model: trained model (best version if early stopping used)\n",
    "        train_losses: list, training losses per epoch\n",
    "        valid_losses: list, validation losses per epoch\n",
    "    '''\n",
    "    train_losses, valid_losses = [], [] # used to store loss of all epochs\n",
    "    early_stopping = EarlyStopping() # initialize an EarlyStopping object\n",
    "\n",
    "    for epoch in range(num_epochs):\n",
    "        # train the model\n",
    "        model.train()\n",
    "        acc_train_loss = 0 # used to store training loss of all batches\n",
    "        for batch_idx, (data, target) in enumerate(train_loader):\n",
    "            optimizer.zero_grad() # clear previous gradients\n",
    "            output = model(data) # forward propagation\n",
    "            loss = criterion(output.squeeze(1), target) # calculate average batch loss\n",
    "            loss.backward() # backpropagation\n",
    "            optimizer.step() # update parameters\n",
    "            acc_train_loss += loss.item() * data.size(0) # accumulate loss\n",
    "        train_loss = acc_train_loss / len(train_loader.dataset) # calculate average epoch loss\n",
    "        train_losses.append(train_loss)\n",
    "        if (epoch + 1) % 50 == 0: # print loss each 50 epochs\n",
    "            print(f\"Epoch [{epoch+1}/{num_epochs}] Loss: {train_loss:.4f}\")\n",
    "\n",
    "        # validate the model\n",
    "        valid_loss, valid_probs = test(model, valid_loader, criterion)\n",
    "        valid_losses.append(valid_loss)\n",
    "        valid_auprc = average_precision_score(y_valid_array, valid_probs)\n",
    "\n",
    "        # early stopping\n",
    "        if early_stop:\n",
    "            if early_stop == 'loss':\n",
    "                early_stopping(valid_loss, model)\n",
    "            elif early_stop == 'auprc':\n",
    "                early_stopping(-valid_auprc, model)\n",
    "            if early_stopping.stop:\n",
    "                print(f'early stopping in epoch {epoch}.')\n",
    "                break\n",
    "            model.load_state_dict(torch.load('checkpoint.pt', weights_only=True)) # load the best model\n",
    "    return model, train_losses, valid_losses\n",
    "    "
   ]
  },
  {
   "cell_type": "markdown",
   "id": "a08c8be2",
   "metadata": {},
   "source": [
    "### 3.3 visualizing early stopping effect"
   ]
  },
  {
   "cell_type": "markdown",
   "id": "c26d7d92",
   "metadata": {},
   "source": [
    "In the following codes, we train the model with early stopping. The training procedures stops at epoch 142, and epoch 92 has the minimum validation loss."
   ]
  },
  {
   "cell_type": "code",
   "execution_count": 11,
   "id": "30271b28",
   "metadata": {},
   "outputs": [
    {
     "name": "stdout",
     "output_type": "stream",
     "text": [
      "Epoch [50/500] Loss: 0.1536\n",
      "Epoch [100/500] Loss: 0.1365\n",
      "Epoch [150/500] Loss: 0.1256\n",
      "Epoch [200/500] Loss: 0.1168\n",
      "Epoch [250/500] Loss: 0.1105\n",
      "Epoch [300/500] Loss: 0.1060\n",
      "Epoch [350/500] Loss: 0.1015\n",
      "Epoch [400/500] Loss: 0.0970\n",
      "Epoch [450/500] Loss: 0.0926\n",
      "Epoch [500/500] Loss: 0.0892\n"
     ]
    }
   ],
   "source": [
    "model = FNN()\n",
    "criterion = nn.BCELoss()\n",
    "optimizer = torch.optim.Adam(model.parameters(), lr=3e-4)\n",
    "model, train_losses, valid_losses = train_and_validate(model, train_loader, valid_loader, criterion, optimizer, 500, early_stop=False)"
   ]
  },
  {
   "cell_type": "markdown",
   "id": "c7c48748",
   "metadata": {},
   "source": [
    "We can plot the training loss and validation loss of all epochs. The training losses keep decreasing, but the validation loss begin increasing after epoch 92."
   ]
  },
  {
   "cell_type": "code",
   "execution_count": 12,
   "id": "c526133a",
   "metadata": {},
   "outputs": [
    {
     "data": {
      "image/png": "[encoded data removed]",
      "text/plain": [
       "<Figure size 640x480 with 1 Axes>"
      ]
     },
     "metadata": {},
     "output_type": "display_data"
    }
   ],
   "source": [
    "plt.plot(range(len(train_losses)),train_losses, label='Training Loss')\n",
    "plt.plot(range(len(valid_losses)),valid_losses,label='Validation Loss')\n",
    "plt.axvline(valid_losses.index(min(valid_losses)), linestyle='--', color='r',label='Early Stopping Checkpoint')\n",
    "\n",
    "plt.xlabel('epochs')\n",
    "plt.ylabel('loss')\n",
    "plt.xlim(0, len(train_losses))\n",
    "plt.grid(True)\n",
    "plt.legend()\n",
    "plt.show()"
   ]
  },
  {
   "cell_type": "markdown",
   "id": "54b0c001",
   "metadata": {},
   "source": [
    "## 4 - Batch Normalization"
   ]
  },
  {
   "cell_type": "markdown",
   "id": "6b5ea1e3",
   "metadata": {},
   "source": [
    "Batch normalization normalizes the inputs to each layer by re-centering them around zero and scaling them to a standard size. We can implement batch normalization by modifying the network structure.\n",
    "\n",
    "In the `__init__` method, `self.bn1 = nn.BatchNorm1d(64)` defines a batch normalization over a 2D input with 64 features.\n",
    "\n",
    "In the `forward` method, `x = torch.relu(self.bn1(self.fc1(x)))` firstly do the linear transformation, then apply batch normalization, and then do relu activation."
   ]
  },
  {
   "cell_type": "code",
   "execution_count": 13,
   "id": "6f30fa98",
   "metadata": {},
   "outputs": [],
   "source": [
    "class FNN_bn(nn.Module):\n",
    "    \"\"\"\n",
    "    A fully connnected neural network with batch normalization\n",
    "    \"\"\"\n",
    "    def __init__(self):\n",
    "        super(FNN_bn, self).__init__()\n",
    "        self.fc1 = nn.Linear(24, 64)\n",
    "        self.bn1 = nn.BatchNorm1d(64) # defines batch normalization over a 2D input with 64 features\n",
    "        self.fc2 = nn.Linear(64, 32)\n",
    "        self.bn2 = nn.BatchNorm1d(32) # defines batch normalization over a 2D input with 32 features\n",
    "        self.fc3 = nn.Linear(32, 8)\n",
    "        self.bn3 = nn.BatchNorm1d(8) # defines batch normalization over a 2D input with 8 features\n",
    "        self.fc4 = nn.Linear(8, 1)\n",
    "        \n",
    "    def forward(self, x):\n",
    "        x = torch.relu(self.bn1(self.fc1(x)))\n",
    "        x = torch.relu(self.bn2(self.fc2(x)))\n",
    "        x = torch.relu(self.bn3(self.fc3(x)))\n",
    "        x = torch.sigmoid(self.fc4(x))\n",
    "        return x"
   ]
  },
  {
   "cell_type": "code",
   "execution_count": 14,
   "id": "9fd3676b",
   "metadata": {},
   "outputs": [
    {
     "name": "stdout",
     "output_type": "stream",
     "text": [
      "Epoch [50/500] Loss: 0.1378\n",
      "Epoch [100/500] Loss: 0.1235\n",
      "Epoch [150/500] Loss: 0.1159\n",
      "Epoch [200/500] Loss: 0.1091\n",
      "Epoch [250/500] Loss: 0.1069\n",
      "Epoch [300/500] Loss: 0.1015\n",
      "Epoch [350/500] Loss: 0.0991\n",
      "Epoch [400/500] Loss: 0.0960\n",
      "Epoch [450/500] Loss: 0.0964\n",
      "Epoch [500/500] Loss: 0.0920\n"
     ]
    }
   ],
   "source": [
    "model_bn = FNN_bn()\n",
    "criterion = nn.BCELoss()\n",
    "optimizer = torch.optim.Adam(model_bn.parameters(), lr=3e-4)\n",
    "train(model_bn, train_loader, criterion, optimizer, num_epochs=500)"
   ]
  },
  {
   "cell_type": "markdown",
   "id": "1e01c181",
   "metadata": {},
   "source": [
    "## 5 - Tuning Hyperparameters"
   ]
  },
  {
   "cell_type": "markdown",
   "id": "8a20d353",
   "metadata": {},
   "source": [
    "### 5.1 - hyperparameters combinations"
   ]
  },
  {
   "cell_type": "markdown",
   "id": "0a819173",
   "metadata": {},
   "source": [
    "There are many third-party libraries that can help you automatically tuning hyperparameters. Here, we tune by hands.\n",
    "\n",
    "Firstly, we define a parameters grid containing all the possible values of hyperparameters. Since `hidden_layers` and `dropout_rates` must have the same length, after expanding the grid, we need to filter out the combinations with different `hidden_layers` and `dropout_rates` lengths."
   ]
  },
  {
   "cell_type": "code",
   "execution_count": 15,
   "id": "00655702",
   "metadata": {},
   "outputs": [],
   "source": [
    "# all the values of hyperparameters to be trained\n",
    "param_grid = {\n",
    "    'batch_size': [128],\n",
    "    'hidden_layers': [[64, 32, 16], [12, 6]], # number of neurons in each hidden layers\n",
    "    'dropout_rates': [[0, 0, 0], [0, 0]],\n",
    "    'batch_norm': [True],\n",
    "    'criterion': ['BCE'],\n",
    "    'optimizer': ['Adam'],\n",
    "    'lr': [3e-3],\n",
    "    'weight_decay': [0, 1e-3],\n",
    "    'num_epochs': [500],\n",
    "    'early_stop': ['auprc', False],\n",
    "}\n",
    "\n",
    "# expand the grid to combinations\n",
    "keys, values = zip(*param_grid.items())\n",
    "all_combinations = [dict(zip(keys, v)) for v in itertools.product(*values)]\n",
    "\n",
    "# filter out combination that hidden_layers and dropout_rates have different lengths\n",
    "all_combinations = [\n",
    "    combo for combo in all_combinations \n",
    "    if len(combo['hidden_layers']) == len(combo['dropout_rates'])\n",
    "]"
   ]
  },
  {
   "cell_type": "markdown",
   "id": "7641fca1",
   "metadata": {},
   "source": [
    "### 5.2 - network architecture"
   ]
  },
  {
   "cell_type": "markdown",
   "id": "427712f7",
   "metadata": {},
   "source": [
    "Secondly, we build a flexible neural network `Net`, its architecture depends on the input parameters `input_dim`, `hidden_layers`, `dropout_rates` and `use_batchnorm`.\n",
    "\n",
    "`__init__` method:\n",
    "1. Iterates through each specified hidden layer size\n",
    "2. For each layer, adds:\n",
    "    1. Linear transformation (nn.Linear)\n",
    "    2. Batch normalization (if enabled)\n",
    "    3. ReLU activation\n",
    "    4. Dropout (if `dropout_rates > 0`)\n",
    "3. Final linear layer reduces to 1 output neuron\n",
    "4. Sigmoid activation for binary classification\n",
    "\n",
    "\n"
   ]
  },
  {
   "cell_type": "code",
   "execution_count": 16,
   "id": "40ab64af",
   "metadata": {},
   "outputs": [],
   "source": [
    "class Net(nn.Module):\n",
    "    def __init__(self, input_dim, hidden_layers, dropout_rates, use_batchnorm=False):\n",
    "        '''\n",
    "        params:\n",
    "            input_dim: int, dimension of input features;\n",
    "            hidden_layers: list, number of neurons for each hidden layers;\n",
    "            dropout_rates: list, same length as hidden_layers, dropout probability for each hidden layer;\n",
    "            use_batchnorm: bool, use batch normalization in each layer.\n",
    "        '''\n",
    "        super(Net, self).__init__()\n",
    "        layers = [] # store all the layers\n",
    "        prev_dim = input_dim\n",
    "        for i, hidden_dim in enumerate(hidden_layers): # loop over hidden layers\n",
    "            layers.append(nn.Linear(prev_dim, hidden_dim)) # add linear layer\n",
    "            if use_batchnorm: # if enable batch normalization\n",
    "                layers.append(nn.BatchNorm1d(hidden_dim)) # add batch normalization layer\n",
    "            layers.append(nn.ReLU()) # add ReLu activation\n",
    "            if dropout_rates[i] > 0: # if enable dropout\n",
    "                layers.append(nn.Dropout(dropout_rates[i])) # add dropout layer\n",
    "            prev_dim = hidden_dim \n",
    "        layers.append(nn.Linear(prev_dim, 1)) # add linear layer\n",
    "        layers.append(nn.Sigmoid()) # sigmoid transformation to output probability\n",
    "        self.network = nn.Sequential(*layers) # combining layers into a container\n",
    "    \n",
    "    def forward(self, x):\n",
    "        return self.network(x) # pass input sequentially through all the layers"
   ]
  },
  {
   "cell_type": "markdown",
   "id": "ada5f9f4",
   "metadata": {},
   "source": [
    "### 5.3 - tuning utility"
   ]
  },
  {
   "cell_type": "markdown",
   "id": "fd8aa4d4",
   "metadata": {},
   "source": [
    "Thirdly, we define a `tune()` function. This function would loop over all the hyperparameter combinations and calculate the validation loss, then write the information to `output_file`.\n",
    "\n",
    "How it works:\n",
    "1. prepare train_loader and valid_loader based on `batch_size`;\n",
    "2. build network based on `hidden_layers`, `dropout_rates` and `batch_norm`;\n",
    "3. prepare loss function and optimizer based on;\n",
    "4. train the model using `train_and_validate`\n",
    "5. save information (hyperparaters and validation loss) to `output_file`. "
   ]
  },
  {
   "cell_type": "code",
   "execution_count": 17,
   "id": "a8dc5649",
   "metadata": {},
   "outputs": [],
   "source": [
    "def tune(combinations, output_file='output.txt'):\n",
    "    '''\n",
    "    loop over combinations and calculate validation loss \n",
    "    params:\n",
    "        combindations: list, each element is a dict containing hyperparameter's name and value;\n",
    "        output_file: file path to save the output.\n",
    "    return:\n",
    "        None\n",
    "    '''\n",
    "    with open(output_file, 'w') as f: # clean output_file\n",
    "        pass\n",
    "\n",
    "    for config in combinations: # loop over all combinations\n",
    "        print(f'config: {config}')\n",
    "    \n",
    "        # prepare data \n",
    "        train_loader = prepare_loader(X_train_array, y_train_array, batch_size=config['batch_size'], shuffle=True)\n",
    "        valid_loader = prepare_loader(X_valid_array, y_valid_array, batch_size=config['batch_size'], shuffle=False)\n",
    "        \n",
    "        # build model\n",
    "        model = Net(\n",
    "            input_dim=next(iter(train_loader))[0].shape[1],\n",
    "            hidden_layers=config['hidden_layers'],\n",
    "            dropout_rates=config['dropout_rates'],\n",
    "            use_batchnorm=config['batch_norm']\n",
    "        )\n",
    "        \n",
    "        # set up loss\n",
    "        if config['criterion'] == 'BCE':\n",
    "            criterion = nn.BCELoss()\n",
    "        else: # you can modify here to add more loss function\n",
    "            raise ValueError('Unknown criterion')\n",
    "        \n",
    "        # set up optimizer\n",
    "        if config['optimizer'] == 'Adam':\n",
    "            optimizer = torch.optim.Adam(get_param_groups(model, weight_decay=config['weight_decay']), lr=config['lr'])\n",
    "        else: # you can modify here to add more optimizer\n",
    "            raise ValueError(\"Unknown optimizer\")\n",
    "        \n",
    "        # train & validate\n",
    "        model, _, _ = train_and_validate(model, train_loader, valid_loader, criterion, optimizer, config['num_epochs'], config['early_stop'])\n",
    "        \n",
    "        # save results\n",
    "        valid_loss, pred_probs = test(model, valid_loader, criterion) # calculate validation loss and predicts\n",
    "        valid_auprc = average_precision_score(y_valid_array, pred_probs) # calculate validation auc\n",
    "        result = {**config,\n",
    "                  'valid_loss': valid_loss,\n",
    "                  \"valid_auprc\": valid_auprc} # bundle config, loss and auc to dict\n",
    "\n",
    "        with open(output_file, 'a') as f:\n",
    "            f.write(json.dumps(result) + '\\n') # write result to file"
   ]
  },
  {
   "cell_type": "code",
   "execution_count": 18,
   "id": "ce11a7ce",
   "metadata": {},
   "outputs": [
    {
     "name": "stdout",
     "output_type": "stream",
     "text": [
      "config: {'batch_size': 128, 'hidden_layers': [64, 32, 16], 'dropout_rates': [0, 0, 0], 'batch_norm': True, 'criterion': 'BCE', 'optimizer': 'Adam', 'lr': 0.003, 'weight_decay': 0, 'num_epochs': 500, 'early_stop': 'auprc'}\n",
      "Epoch [50/500] Loss: 0.1578\n",
      "Epoch [100/500] Loss: 0.1488\n",
      "Epoch [150/500] Loss: 0.1458\n",
      "early stopping in epoch 180.\n",
      "config: {'batch_size': 128, 'hidden_layers': [64, 32, 16], 'dropout_rates': [0, 0, 0], 'batch_norm': True, 'criterion': 'BCE', 'optimizer': 'Adam', 'lr': 0.003, 'weight_decay': 0, 'num_epochs': 500, 'early_stop': False}\n",
      "Epoch [50/500] Loss: 0.1255\n",
      "Epoch [100/500] Loss: 0.1100\n",
      "Epoch [150/500] Loss: 0.0986\n",
      "Epoch [200/500] Loss: 0.0945\n",
      "Epoch [250/500] Loss: 0.0913\n",
      "Epoch [300/500] Loss: 0.0882\n",
      "Epoch [350/500] Loss: 0.0841\n",
      "Epoch [400/500] Loss: 0.0842\n",
      "Epoch [450/500] Loss: 0.0825\n",
      "Epoch [500/500] Loss: 0.0797\n",
      "config: {'batch_size': 128, 'hidden_layers': [64, 32, 16], 'dropout_rates': [0, 0, 0], 'batch_norm': True, 'criterion': 'BCE', 'optimizer': 'Adam', 'lr': 0.003, 'weight_decay': 0.001, 'num_epochs': 500, 'early_stop': 'auprc'}\n",
      "Epoch [50/500] Loss: 0.1652\n",
      "Epoch [100/500] Loss: 0.1643\n",
      "Epoch [150/500] Loss: 0.1640\n",
      "early stopping in epoch 159.\n",
      "config: {'batch_size': 128, 'hidden_layers': [64, 32, 16], 'dropout_rates': [0, 0, 0], 'batch_norm': True, 'criterion': 'BCE', 'optimizer': 'Adam', 'lr': 0.003, 'weight_decay': 0.001, 'num_epochs': 500, 'early_stop': False}\n",
      "Epoch [50/500] Loss: 0.1601\n",
      "Epoch [100/500] Loss: 0.1580\n",
      "Epoch [150/500] Loss: 0.1577\n",
      "Epoch [200/500] Loss: 0.1582\n",
      "Epoch [250/500] Loss: 0.1572\n",
      "Epoch [300/500] Loss: 0.1564\n",
      "Epoch [350/500] Loss: 0.1567\n",
      "Epoch [400/500] Loss: 0.1563\n",
      "Epoch [450/500] Loss: 0.1569\n",
      "Epoch [500/500] Loss: 0.1569\n",
      "config: {'batch_size': 128, 'hidden_layers': [12, 6], 'dropout_rates': [0, 0], 'batch_norm': True, 'criterion': 'BCE', 'optimizer': 'Adam', 'lr': 0.003, 'weight_decay': 0, 'num_epochs': 500, 'early_stop': 'auprc'}\n",
      "Epoch [50/500] Loss: 0.1631\n",
      "Epoch [100/500] Loss: 0.1617\n",
      "early stopping in epoch 139.\n",
      "config: {'batch_size': 128, 'hidden_layers': [12, 6], 'dropout_rates': [0, 0], 'batch_norm': True, 'criterion': 'BCE', 'optimizer': 'Adam', 'lr': 0.003, 'weight_decay': 0, 'num_epochs': 500, 'early_stop': False}\n",
      "Epoch [50/500] Loss: 0.1596\n",
      "Epoch [100/500] Loss: 0.1573\n",
      "Epoch [150/500] Loss: 0.1572\n",
      "Epoch [200/500] Loss: 0.1557\n",
      "Epoch [250/500] Loss: 0.1552\n",
      "Epoch [300/500] Loss: 0.1550\n",
      "Epoch [350/500] Loss: 0.1546\n",
      "Epoch [400/500] Loss: 0.1539\n",
      "Epoch [450/500] Loss: 0.1540\n",
      "Epoch [500/500] Loss: 0.1527\n",
      "config: {'batch_size': 128, 'hidden_layers': [12, 6], 'dropout_rates': [0, 0], 'batch_norm': True, 'criterion': 'BCE', 'optimizer': 'Adam', 'lr': 0.003, 'weight_decay': 0.001, 'num_epochs': 500, 'early_stop': 'auprc'}\n",
      "Epoch [50/500] Loss: 0.1670\n",
      "early stopping in epoch 65.\n",
      "config: {'batch_size': 128, 'hidden_layers': [12, 6], 'dropout_rates': [0, 0], 'batch_norm': True, 'criterion': 'BCE', 'optimizer': 'Adam', 'lr': 0.003, 'weight_decay': 0.001, 'num_epochs': 500, 'early_stop': False}\n",
      "Epoch [50/500] Loss: 0.1618\n",
      "Epoch [100/500] Loss: 0.1618\n",
      "Epoch [150/500] Loss: 0.1619\n",
      "Epoch [200/500] Loss: 0.1616\n",
      "Epoch [250/500] Loss: 0.1607\n",
      "Epoch [300/500] Loss: 0.1609\n",
      "Epoch [350/500] Loss: 0.1609\n",
      "Epoch [400/500] Loss: 0.1591\n",
      "Epoch [450/500] Loss: 0.1601\n",
      "Epoch [500/500] Loss: 0.1606\n"
     ]
    }
   ],
   "source": [
    "tune(all_combinations)"
   ]
  },
  {
   "cell_type": "markdown",
   "id": "70c1c602",
   "metadata": {},
   "source": [
    "### 5.4 - load and analyze results"
   ]
  },
  {
   "cell_type": "markdown",
   "id": "6419d8d1",
   "metadata": {},
   "source": [
    "We define `load_resutls` function used to load the output file into a dataframe."
   ]
  },
  {
   "cell_type": "code",
   "execution_count": 19,
   "id": "c93f7637",
   "metadata": {},
   "outputs": [
    {
     "data": {
      "application/vnd.microsoft.datawrangler.viewer.v0+json": {
       "columns": [
        {
         "name": "index",
         "rawType": "int64",
         "type": "integer"
        },
        {
         "name": "batch_size",
         "rawType": "int64",
         "type": "integer"
        },
        {
         "name": "hidden_layers",
         "rawType": "object",
         "type": "unknown"
        },
        {
         "name": "dropout_rates",
         "rawType": "object",
         "type": "unknown"
        },
        {
         "name": "batch_norm",
         "rawType": "bool",
         "type": "boolean"
        },
        {
         "name": "criterion",
         "rawType": "object",
         "type": "string"
        },
        {
         "name": "optimizer",
         "rawType": "object",
         "type": "string"
        },
        {
         "name": "lr",
         "rawType": "float64",
         "type": "float"
        },
        {
         "name": "weight_decay",
         "rawType": "float64",
         "type": "float"
        },
        {
         "name": "num_epochs",
         "rawType": "int64",
         "type": "integer"
        },
        {
         "name": "early_stop",
         "rawType": "object",
         "type": "unknown"
        },
        {
         "name": "valid_loss",
         "rawType": "float64",
         "type": "float"
        },
        {
         "name": "valid_auprc",
         "rawType": "float64",
         "type": "float"
        }
       ],
       "conversionMethod": "pd.DataFrame",
       "ref": "a0ae04b5-841d-4b00-81f0-72bb78cb34e8",
       "rows": [
        [
         "0",
         "128",
         "[64, 32, 16]",
         "[0, 0, 0]",
         "True",
         "BCE",
         "Adam",
         "0.003",
         "0.0",
         "500",
         "auprc",
         "0.1736728891217569",
         "0.2057126083274024"
        ],
        [
         "1",
         "128",
         "[64, 32, 16]",
         "[0, 0, 0]",
         "True",
         "BCE",
         "Adam",
         "0.003",
         "0.0",
         "500",
         "False",
         "0.220417728631071",
         "0.2992310995874432"
        ],
        [
         "2",
         "128",
         "[64, 32, 16]",
         "[0, 0, 0]",
         "True",
         "BCE",
         "Adam",
         "0.003",
         "0.001",
         "500",
         "auprc",
         "0.1723145331292763",
         "0.13970321411180583"
        ],
        [
         "3",
         "128",
         "[64, 32, 16]",
         "[0, 0, 0]",
         "True",
         "BCE",
         "Adam",
         "0.003",
         "0.001",
         "500",
         "False",
         "0.173676834097142",
         "0.16220637617633102"
        ],
        [
         "4",
         "128",
         "[12, 6]",
         "[0, 0]",
         "True",
         "BCE",
         "Adam",
         "0.003",
         "0.0",
         "500",
         "auprc",
         "0.17263935575590103",
         "0.15776044962823832"
        ],
        [
         "5",
         "128",
         "[12, 6]",
         "[0, 0]",
         "True",
         "BCE",
         "Adam",
         "0.003",
         "0.0",
         "500",
         "False",
         "0.17038983090755236",
         "0.20295692778364727"
        ],
        [
         "6",
         "128",
         "[12, 6]",
         "[0, 0]",
         "True",
         "BCE",
         "Adam",
         "0.003",
         "0.001",
         "500",
         "auprc",
         "0.1735406926482567",
         "0.14685358375278318"
        ],
        [
         "7",
         "128",
         "[12, 6]",
         "[0, 0]",
         "True",
         "BCE",
         "Adam",
         "0.003",
         "0.001",
         "500",
         "False",
         "0.16902375189536598",
         "0.1765770574648492"
        ]
       ],
       "shape": {
        "columns": 12,
        "rows": 8
       }
      },
      "text/html": [
       "<div>\n",
       "<style scoped>\n",
       "    .dataframe tbody tr th:only-of-type {\n",
       "        vertical-align: middle;\n",
       "    }\n",
       "\n",
       "    .dataframe tbody tr th {\n",
       "        vertical-align: top;\n",
       "    }\n",
       "\n",
       "    .dataframe thead th {\n",
       "        text-align: right;\n",
       "    }\n",
       "</style>\n",
       "<table border=\"1\" class=\"dataframe\">\n",
       "  <thead>\n",
       "    <tr style=\"text-align: right;\">\n",
       "      <th></th>\n",
       "      <th>batch_size</th>\n",
       "      <th>hidden_layers</th>\n",
       "      <th>dropout_rates</th>\n",
       "      <th>batch_norm</th>\n",
       "      <th>criterion</th>\n",
       "      <th>optimizer</th>\n",
       "      <th>lr</th>\n",
       "      <th>weight_decay</th>\n",
       "      <th>num_epochs</th>\n",
       "      <th>early_stop</th>\n",
       "      <th>valid_loss</th>\n",
       "      <th>valid_auprc</th>\n",
       "    </tr>\n",
       "  </thead>\n",
       "  <tbody>\n",
       "    <tr>\n",
       "      <th>0</th>\n",
       "      <td>128</td>\n",
       "      <td>[64, 32, 16]</td>\n",
       "      <td>[0, 0, 0]</td>\n",
       "      <td>True</td>\n",
       "      <td>BCE</td>\n",
       "      <td>Adam</td>\n",
       "      <td>0.003</td>\n",
       "      <td>0.000</td>\n",
       "      <td>500</td>\n",
       "      <td>auprc</td>\n",
       "      <td>0.173673</td>\n",
       "      <td>0.205713</td>\n",
       "    </tr>\n",
       "    <tr>\n",
       "      <th>1</th>\n",
       "      <td>128</td>\n",
       "      <td>[64, 32, 16]</td>\n",
       "      <td>[0, 0, 0]</td>\n",
       "      <td>True</td>\n",
       "      <td>BCE</td>\n",
       "      <td>Adam</td>\n",
       "      <td>0.003</td>\n",
       "      <td>0.000</td>\n",
       "      <td>500</td>\n",
       "      <td>False</td>\n",
       "      <td>0.220418</td>\n",
       "      <td>0.299231</td>\n",
       "    </tr>\n",
       "    <tr>\n",
       "      <th>2</th>\n",
       "      <td>128</td>\n",
       "      <td>[64, 32, 16]</td>\n",
       "      <td>[0, 0, 0]</td>\n",
       "      <td>True</td>\n",
       "      <td>BCE</td>\n",
       "      <td>Adam</td>\n",
       "      <td>0.003</td>\n",
       "      <td>0.001</td>\n",
       "      <td>500</td>\n",
       "      <td>auprc</td>\n",
       "      <td>0.172315</td>\n",
       "      <td>0.139703</td>\n",
       "    </tr>\n",
       "    <tr>\n",
       "      <th>3</th>\n",
       "      <td>128</td>\n",
       "      <td>[64, 32, 16]</td>\n",
       "      <td>[0, 0, 0]</td>\n",
       "      <td>True</td>\n",
       "      <td>BCE</td>\n",
       "      <td>Adam</td>\n",
       "      <td>0.003</td>\n",
       "      <td>0.001</td>\n",
       "      <td>500</td>\n",
       "      <td>False</td>\n",
       "      <td>0.173677</td>\n",
       "      <td>0.162206</td>\n",
       "    </tr>\n",
       "    <tr>\n",
       "      <th>4</th>\n",
       "      <td>128</td>\n",
       "      <td>[12, 6]</td>\n",
       "      <td>[0, 0]</td>\n",
       "      <td>True</td>\n",
       "      <td>BCE</td>\n",
       "      <td>Adam</td>\n",
       "      <td>0.003</td>\n",
       "      <td>0.000</td>\n",
       "      <td>500</td>\n",
       "      <td>auprc</td>\n",
       "      <td>0.172639</td>\n",
       "      <td>0.157760</td>\n",
       "    </tr>\n",
       "    <tr>\n",
       "      <th>5</th>\n",
       "      <td>128</td>\n",
       "      <td>[12, 6]</td>\n",
       "      <td>[0, 0]</td>\n",
       "      <td>True</td>\n",
       "      <td>BCE</td>\n",
       "      <td>Adam</td>\n",
       "      <td>0.003</td>\n",
       "      <td>0.000</td>\n",
       "      <td>500</td>\n",
       "      <td>False</td>\n",
       "      <td>0.170390</td>\n",
       "      <td>0.202957</td>\n",
       "    </tr>\n",
       "    <tr>\n",
       "      <th>6</th>\n",
       "      <td>128</td>\n",
       "      <td>[12, 6]</td>\n",
       "      <td>[0, 0]</td>\n",
       "      <td>True</td>\n",
       "      <td>BCE</td>\n",
       "      <td>Adam</td>\n",
       "      <td>0.003</td>\n",
       "      <td>0.001</td>\n",
       "      <td>500</td>\n",
       "      <td>auprc</td>\n",
       "      <td>0.173541</td>\n",
       "      <td>0.146854</td>\n",
       "    </tr>\n",
       "    <tr>\n",
       "      <th>7</th>\n",
       "      <td>128</td>\n",
       "      <td>[12, 6]</td>\n",
       "      <td>[0, 0]</td>\n",
       "      <td>True</td>\n",
       "      <td>BCE</td>\n",
       "      <td>Adam</td>\n",
       "      <td>0.003</td>\n",
       "      <td>0.001</td>\n",
       "      <td>500</td>\n",
       "      <td>False</td>\n",
       "      <td>0.169024</td>\n",
       "      <td>0.176577</td>\n",
       "    </tr>\n",
       "  </tbody>\n",
       "</table>\n",
       "</div>"
      ],
      "text/plain": [
       "   batch_size hidden_layers dropout_rates  batch_norm criterion optimizer  \\\n",
       "0         128  [64, 32, 16]     [0, 0, 0]        True       BCE      Adam   \n",
       "1         128  [64, 32, 16]     [0, 0, 0]        True       BCE      Adam   \n",
       "2         128  [64, 32, 16]     [0, 0, 0]        True       BCE      Adam   \n",
       "3         128  [64, 32, 16]     [0, 0, 0]        True       BCE      Adam   \n",
       "4         128       [12, 6]        [0, 0]        True       BCE      Adam   \n",
       "5         128       [12, 6]        [0, 0]        True       BCE      Adam   \n",
       "6         128       [12, 6]        [0, 0]        True       BCE      Adam   \n",
       "7         128       [12, 6]        [0, 0]        True       BCE      Adam   \n",
       "\n",
       "      lr  weight_decay  num_epochs early_stop  valid_loss  valid_auprc  \n",
       "0  0.003         0.000         500      auprc    0.173673     0.205713  \n",
       "1  0.003         0.000         500      False    0.220418     0.299231  \n",
       "2  0.003         0.001         500      auprc    0.172315     0.139703  \n",
       "3  0.003         0.001         500      False    0.173677     0.162206  \n",
       "4  0.003         0.000         500      auprc    0.172639     0.157760  \n",
       "5  0.003         0.000         500      False    0.170390     0.202957  \n",
       "6  0.003         0.001         500      auprc    0.173541     0.146854  \n",
       "7  0.003         0.001         500      False    0.169024     0.176577  "
      ]
     },
     "execution_count": 19,
     "metadata": {},
     "output_type": "execute_result"
    }
   ],
   "source": [
    "def load_results(file_path):\n",
    "    '''\n",
    "    load tuning results'\n",
    "    params:\n",
    "        file_path: file path of the tuning results;\n",
    "    return:\n",
    "        df_results: DataFrame.\n",
    "    '''\n",
    "    results = []\n",
    "    with open(file_path, 'r') as f:\n",
    "        for line in f:\n",
    "            result = json.loads(line.strip())  # read to dict\n",
    "            results.append(result)\n",
    "    df_results = pd.DataFrame(results) # transform to DataFrame\n",
    "    return df_results\n",
    "\n",
    "load_results('output.txt')"
   ]
  },
  {
   "cell_type": "markdown",
   "id": "ef8a22bd",
   "metadata": {},
   "source": [
    "### 5.5 - train on the full training data"
   ]
  },
  {
   "cell_type": "markdown",
   "id": "cd3ecf8a",
   "metadata": {},
   "source": [
    "We find a network with 64, 32, 16 neurons in hidden layers and applying batch normalization to each layer would have a better performance. \n",
    "\n",
    "Finally, we can use this combination to predict on the test dataset. In the following codes, we merge the former training and validation dataset, and use it to train on the selected hyperparameters."
   ]
  },
  {
   "cell_type": "code",
   "execution_count": 20,
   "id": "faae91fd",
   "metadata": {},
   "outputs": [
    {
     "name": "stdout",
     "output_type": "stream",
     "text": [
      "Epoch [50/500] Loss: 0.1241\n",
      "Epoch [100/500] Loss: 0.1109\n",
      "Epoch [150/500] Loss: 0.1044\n",
      "Epoch [200/500] Loss: 0.0978\n",
      "Epoch [250/500] Loss: 0.0933\n",
      "Epoch [300/500] Loss: 0.0937\n",
      "Epoch [350/500] Loss: 0.0915\n",
      "Epoch [400/500] Loss: 0.0869\n",
      "Epoch [450/500] Loss: 0.0884\n",
      "Epoch [500/500] Loss: 0.0841\n"
     ]
    }
   ],
   "source": [
    "scaler = StandardScaler() # initialize standardize scaler\n",
    "X_full_train = scaler.fit_transform(full_train_df.drop(['noncompliance'], axis=1)) # standardize full_train\n",
    "X_test_array = scaler.transform(test_df.drop(['noncompliance'], axis=1)) # standardize test using full_train scaler\n",
    "full_train_loader = prepare_loader(X_full_train, full_train_df['noncompliance'].values, batch_size=128, shuffle=True) # prepare loader\n",
    "test_loader = prepare_loader(X_test_array, test_df['noncompliance'].values, batch_size=128, shuffle=False)\n",
    "\n",
    "# train on the full training data\n",
    "model = Net(input_dim=24, hidden_layers=[64, 32, 16], dropout_rates=[0, 0, 0], use_batchnorm=True)\n",
    "criterion = nn.BCELoss()\n",
    "optimizer = torch.optim.Adam(get_param_groups(model, weight_decay=0), lr=0.003)\n",
    "train(model, full_train_loader, criterion, optimizer, 500)"
   ]
  },
  {
   "cell_type": "code",
   "execution_count": 21,
   "id": "8ef9d273",
   "metadata": {},
   "outputs": [
    {
     "data": {
      "text/plain": [
       "0.35931813478312186"
      ]
     },
     "execution_count": 21,
     "metadata": {},
     "output_type": "execute_result"
    }
   ],
   "source": [
    "# test\n",
    "test_loss, test_preds = test(model, test_loader, criterion)\n",
    "average_precision_score(y_test_array, test_preds) # auprc"
   ]
  },
  {
   "cell_type": "markdown",
   "id": "91412812",
   "metadata": {},
   "source": [
    "Compared with last chapter's results, our tuned model has a better performance. It's AUPRC increased from 0.257 in last chapter to 0.360.\n",
    "\n",
    "But for time limited, we only consider a small range of hyperparameters. In practive, you need to enrich `param_grid`, so that more hyperparameter combinations can be considered."
   ]
  }
 ],
 "metadata": {
  "kernelspec": {
   "display_name": "workenv",
   "language": "python",
   "name": "python3"
  },
  "language_info": {
   "codemirror_mode": {
    "name": "ipython",
    "version": 3
   },
   "file_extension": ".py",
   "mimetype": "text/x-python",
   "name": "python",
   "nbconvert_exporter": "python",
   "pygments_lexer": "ipython3",
   "version": "3.12.2"
  }
 },
 "nbformat": 4,
 "nbformat_minor": 5
}
