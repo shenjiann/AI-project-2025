{
 "cells": [
  {
   "cell_type": "markdown",
   "id": "3834e474",
   "metadata": {},
   "source": [
    "# Model Analysis\n",
    "\n",
    "In the previous chapter, we introduced the basic use of `PyTorch` and use a neural network model to predict the probabilities of listed firms' tax non-compliance behaviors. Our previous model may be too simple, this leads to a bad prediction performance. By tunning the hyperparameters or regularizaition, we can further improve our model.\n",
    "\n",
    "So in section 1- 4, we would introduce the implementation of $\\ell_2$ regularization, dropout, early stopping and batch normalization. These techniques could help avoid over-fitting models. \n",
    "\n",
    "And in section 5, we tune hyperparameters and apply these methods to the example of tax non-compliant firms classfication. \n",
    "\n",
    "**Learning Goal**:\n",
    "1. Implementing regularization methods including L2 penalty, dropout, early stopping;\n",
    "2. Implementing batch normalization;\n",
    "3. Tunning hyperparameters.\n",
    "\n",
    "## Contents\n",
    "* [0 - Import Packages and Data](#0)\n",
    "* [1 - $\\ell_2$ Regularization](#1)\n",
    "* [2 - Dropout](#2)\n",
    "* [3 - Early Stopping](#3)\n",
    "* [4 - Batch Normalization](#4)\n",
    "* [5 - Tunning](#5)"
   ]
  },
  {
   "cell_type": "markdown",
   "id": "b4ac1f17",
   "metadata": {},
   "source": [
    "## 0 - Import Packages and Data"
   ]
  },
  {
   "cell_type": "code",
   "execution_count": 1,
   "id": "ee8bca88",
   "metadata": {},
   "outputs": [
    {
     "data": {
      "text/plain": [
       "<torch._C.Generator at 0x136216e10>"
      ]
     },
     "execution_count": 1,
     "metadata": {},
     "output_type": "execute_result"
    }
   ],
   "source": [
    "import pandas as pd # used for data import\n",
    "import numpy as np # used for numerical operations\n",
    "import torch # used for tensor operations\n",
    "import torch.nn as nn # used for building neural networks\n",
    "from torch.utils.data import DataLoader, TensorDataset # used for creating data loaders\n",
    "from sklearn.preprocessing import StandardScaler # used for standardizing features\n",
    "from sklearn.metrics import average_precision_score # used for evaluating models\n",
    "import matplotlib.pyplot as plt # used for plotting PR curves\n",
    "from sklearn.model_selection import train_test_split # used for splitting data into train/valiadtion sets\n",
    "from utils import FNN, train, test # copy and paste FNN, train, test functions in last chapter to utils.py in your current working directory\n",
    "import itertools # used for generating combinations of hyperparameters\n",
    "import json # used for write output to txt\n",
    "\n",
    "np.random.seed(42) # set random seed for reproducibility\n",
    "torch.manual_seed(42)"
   ]
  },
  {
   "cell_type": "markdown",
   "id": "bdee4766",
   "metadata": {},
   "source": [
    "Importing data is the same as what we do in last chapter. The only difference is we further split `train_df` into training data and validation data. Since validation data is used to evaluate the model performance and to choose hyperparameters."
   ]
  },
  {
   "cell_type": "code",
   "execution_count": 2,
   "id": "2ef660cb",
   "metadata": {},
   "outputs": [],
   "source": [
    "# import csv\n",
    "train_df = pd.read_csv('../全连接神经网络/train_data.csv') # import training data\n",
    "test_df = pd.read_csv('../全连接神经网络/test_data.csv')\n",
    "\n",
    "# split train_df into training and validation set\n",
    "train_df, valid_df = train_test_split(train_df, \n",
    "                                      stratify=train_df['noncompliance'], \n",
    "                                      test_size=0.2, \n",
    "                                      random_state=42,\n",
    "                                      shuffle=True)\n",
    "\n",
    "# standardize the input\n",
    "scaler = StandardScaler()\n",
    "X_train_array = scaler.fit_transform(train_df.drop(['noncompliance'], axis=1))\n",
    "X_valid_array = scaler.transform(valid_df.drop(['noncompliance'], axis=1))\n",
    "X_test_array = scaler.transform(test_df.drop(['noncompliance'], axis=1))\n",
    "y_train_array = train_df['noncompliance'].values\n",
    "y_valid_array = valid_df['noncompliance'].values\n",
    "y_test_array = test_df['noncompliance'].values"
   ]
  },
  {
   "cell_type": "markdown",
   "id": "b708de15",
   "metadata": {},
   "source": [
    "The procedures of preparing `train_loader` and `test_loader` are the same. For simplicity, we could define `prepare_loader()` function used to transform our array like data into DataLoader. "
   ]
  },
  {
   "cell_type": "code",
   "execution_count": 3,
   "id": "d5934df5",
   "metadata": {},
   "outputs": [],
   "source": [
    "def prepare_loader(X_array, y_array, batch_size, shuffle):\n",
    "    \"\"\"\n",
    "    transform array data into DataLoader\n",
    "    params:\n",
    "        X_array: ndarray, feature;\n",
    "        y_array: ndarray, label;\n",
    "        batch_size: int, batch size;\n",
    "        shuffle: bool, change the order of samples;\n",
    "    return:\n",
    "        loader: DataLoader, data including features and labels used in pytorch.\n",
    "    \"\"\"\n",
    "    X_tensor = torch.tensor(X_array, dtype=torch.float32)\n",
    "    y_tensor = torch.tensor(y_array, dtype=torch.float32)\n",
    "    dataset = TensorDataset(X_tensor, y_tensor)\n",
    "    loader = DataLoader(dataset, batch_size=batch_size, shuffle=shuffle)\n",
    "    return loader\n",
    "\n",
    "# prepare training, validation and test data\n",
    "train_loader = prepare_loader(X_train_array, y_train_array, batch_size=128, shuffle=True)\n",
    "valid_loader = prepare_loader(X_valid_array, y_valid_array, batch_size=128, shuffle=False)\n",
    "test_loader = prepare_loader(X_test_array, y_test_array, batch_size=128, shuffle=False)"
   ]
  },
  {
   "cell_type": "markdown",
   "id": "848163b8",
   "metadata": {},
   "source": [
    "## 1 - $\\ell_2$ Regularization"
   ]
  },
  {
   "cell_type": "markdown",
   "id": "4322b767",
   "metadata": {},
   "source": [
    "Recall the backpropagation of $\\ell_2$ penalty:\n",
    "$J_2 = \\frac{\\lambda}{2n} \\sum_{l} ||W^{[l]}||_{F}^2$ \n",
    "and the derivative is \n",
    "$\\frac{\\partial J_2}{\\partial W^{[l]}} = \\frac{\\lambda}{n} W^{[l]}.$\n",
    "The update step for $\\ell_2$ penalty is \n",
    "$$\n",
    "W^{[l] (t+1)} = W^{[l] (t)} - \\text{lr} \\times (\\text{grad}_{W^{[l]}} + \\lambda \\times W^{[l] (t)}).\n",
    "$$\n",
    "\n",
    "**In the optimizer without momentum** (e.g. `torch.optim.SGD`), we can implement $\\ell_2$ regularization by adding $\\lambda \\times W$ to the gradients, instead of actually modifying the loss function. This can be done by setting the param `weight_decay`, which allows the optimizer to update parameters in the following way: \n",
    "$$\n",
    "\\text{param} = \\text{param} - \\text{lr} \\times (\\text{grad} + \\text{weight decay} * \\text{param})\n",
    "$$\n",
    "\n",
    "**In the optimizer with momentum** (e.g. `torch.optim.Adam`), `weight_decay` and $\\ell_2$ regularization are different, see [Loshchilov and Hutter (2019)](https://arxiv.org/pdf/1711.05101) for more details. The solution is to use `torch.optim.AdamW` optimizer. \n",
    "\n",
    "Another notification is that `weight_decay` would apply on all the model parameters including bias. So, the following function classifies all the parameters into `decay` group and `no_decay` group, then return a list that can be directly passed to `torch.optim`."
   ]
  },
  {
   "cell_type": "code",
   "execution_count": 4,
   "id": "099d7127",
   "metadata": {},
   "outputs": [],
   "source": [
    "def get_param_groups(model, weight_decay=3e-3):\n",
    "    \"\"\"\n",
    "    group parameters that need weight_decay and no weight_decay\n",
    "    params:\n",
    "        model: nn.Module \n",
    "        weight_decay: float, weight_decay for weights parameters\n",
    "    return:\n",
    "        param_groups: list, parameter groups to optimizer\n",
    "    \"\"\"\n",
    "    decay, no_decay = [], []\n",
    "    for name, param in model.named_parameters():\n",
    "        if 'bias' in name or 'bn' in name: # exclude bias and batch norm parameters from weight decay\n",
    "            no_decay.append(param)\n",
    "        else: # all other parameters (weights) will have weight decay\n",
    "            decay.append(param)\n",
    "\n",
    "    param_groups = [\n",
    "        {'params': decay, 'weight_decay': weight_decay}, # set weight_decay for 'decay group'\n",
    "        {'params': no_decay, 'weight_decay': 0.0} # set no weigth_decay for 'no decay group'\n",
    "    ]\n",
    "    return param_groups"
   ]
  },
  {
   "cell_type": "markdown",
   "id": "2440030c",
   "metadata": {},
   "source": [
    "We can implement $\\ell_2$ regularization by modifying the optimizer: `optimizer = torch.optim.AdamW(get_param_groups(model, weight_decay=1e-4), lr=3e-4)`. In the following codes, we would see how the l2 norm of all weights would change as weight decay increases. \n",
    "\n",
    "Firstly, we define a function to calculate the l2 norm of all weights in a model."
   ]
  },
  {
   "cell_type": "code",
   "execution_count": 5,
   "id": "efc1d707",
   "metadata": {},
   "outputs": [],
   "source": [
    "def get_all_weights_l2norm(model):\n",
    "    '''calculate l2 norm of all weights'''\n",
    "    total_norm = 0.0\n",
    "    for name, param in model.named_parameters():\n",
    "        if 'weight' in name and param.requires_grad:\n",
    "            total_norm += torch.norm(param, p=2) ** 2\n",
    "    return total_norm.sqrt().item()"
   ]
  },
  {
   "cell_type": "markdown",
   "id": "0977fa26",
   "metadata": {},
   "source": [
    "Then, we change `weight_decay` from 1e-4 to 1e-2. This is consistent with our intuition."
   ]
  },
  {
   "cell_type": "code",
   "execution_count": 6,
   "id": "30fc4f93",
   "metadata": {},
   "outputs": [
    {
     "name": "stdout",
     "output_type": "stream",
     "text": [
      "Training weight decay: 0.001\n",
      "Epoch [50/500] Loss: 0.1369\n",
      "Epoch [100/500] Loss: 0.1169\n",
      "Epoch [150/500] Loss: 0.1072\n",
      "Epoch [200/500] Loss: 0.0923\n",
      "Epoch [250/500] Loss: 0.0836\n",
      "Epoch [300/500] Loss: 0.0788\n",
      "Epoch [350/500] Loss: 0.0689\n",
      "Epoch [400/500] Loss: 0.0705\n",
      "Epoch [450/500] Loss: 0.0601\n",
      "Epoch [500/500] Loss: 0.0555\n",
      "Training weight decay: 0.003\n",
      "Epoch [50/500] Loss: 0.1272\n",
      "Epoch [100/500] Loss: 0.1025\n",
      "Epoch [150/500] Loss: 0.0876\n",
      "Epoch [200/500] Loss: 0.0776\n",
      "Epoch [250/500] Loss: 0.0661\n",
      "Epoch [300/500] Loss: 0.0796\n",
      "Epoch [350/500] Loss: 0.0634\n",
      "Epoch [400/500] Loss: 0.0467\n",
      "Epoch [450/500] Loss: 0.0401\n",
      "Epoch [500/500] Loss: 0.0377\n",
      "Training weight decay: 0.005\n",
      "Epoch [50/500] Loss: 0.1304\n",
      "Epoch [100/500] Loss: 0.1065\n",
      "Epoch [150/500] Loss: 0.0934\n",
      "Epoch [200/500] Loss: 0.0845\n",
      "Epoch [250/500] Loss: 0.0819\n",
      "Epoch [300/500] Loss: 0.0768\n",
      "Epoch [350/500] Loss: 0.0696\n",
      "Epoch [400/500] Loss: 0.0648\n",
      "Epoch [450/500] Loss: 0.0587\n",
      "Epoch [500/500] Loss: 0.0688\n",
      "Training weight decay: 0.007\n",
      "Epoch [50/500] Loss: 0.1281\n",
      "Epoch [100/500] Loss: 0.1044\n",
      "Epoch [150/500] Loss: 0.0906\n",
      "Epoch [200/500] Loss: 0.0856\n",
      "Epoch [250/500] Loss: 0.0835\n",
      "Epoch [300/500] Loss: 0.0797\n",
      "Epoch [350/500] Loss: 0.0699\n",
      "Epoch [400/500] Loss: 0.0677\n",
      "Epoch [450/500] Loss: 0.0713\n",
      "Epoch [500/500] Loss: 0.0637\n",
      "Training weight decay: 0.009\n",
      "Epoch [50/500] Loss: 0.1314\n",
      "Epoch [100/500] Loss: 0.1085\n",
      "Epoch [150/500] Loss: 0.0979\n",
      "Epoch [200/500] Loss: 0.0900\n",
      "Epoch [250/500] Loss: 0.0816\n",
      "Epoch [300/500] Loss: 0.0721\n",
      "Epoch [350/500] Loss: 0.0672\n",
      "Epoch [400/500] Loss: 0.0644\n",
      "Epoch [450/500] Loss: 0.0650\n",
      "Epoch [500/500] Loss: 0.0680\n"
     ]
    },
    {
     "data": {
      "image/png": "[encoded data removed]",
      "text/plain": [
       "<Figure size 640x480 with 1 Axes>"
      ]
     },
     "metadata": {},
     "output_type": "display_data"
    }
   ],
   "source": [
    "weight_decay_list = [1e-3, 3e-3, 5e-3, 7e-3, 9e-3]\n",
    "l2_norm_results = [] # store l2 norm for each weight_decay\n",
    "\n",
    "# Training loop for different weight_decay values\n",
    "for wd in weight_decay_list:\n",
    "    print(f'Training weight decay: {wd}')\n",
    "    model = FNN()\n",
    "    criterion = nn.BCELoss()\n",
    "    optimizer = torch.optim.AdamW(get_param_groups(model, weight_decay=wd), lr=1e-3)\n",
    "    train(model, train_loader, criterion, optimizer, num_epochs=500)\n",
    "    norm_value = get_all_weights_l2norm(model)\n",
    "    l2_norm_results.append(norm_value)\n",
    "\n",
    "# plot weight_decay and l2 norm \n",
    "plt.plot(weight_decay_list, l2_norm_results, marker='o')\n",
    "plt.xlabel('Weight Decay')\n",
    "plt.ylabel('L2 Norm of Weights')\n",
    "plt.grid(True)\n",
    "plt.show()"
   ]
  },
  {
   "cell_type": "markdown",
   "id": "9ad6e345",
   "metadata": {},
   "source": [
    "## 2 - Dropout"
   ]
  },
  {
   "cell_type": "markdown",
   "id": "ef7943ec",
   "metadata": {},
   "source": [
    "We can implement dropout by modifying network structure. In the following codes, we define `FNN_dropout` a network with dropout layer.\n",
    "\n",
    "In the `__init__` method, `self.dropout1 = nn.Dropout(p=0.5)` defines a dropout layer with dropout probability of 0.5, it would randomly zeroes some elements of the input with probability $p=0.5$ during training mode.\n",
    "\n",
    "In the `forward` method, `x = self.dropout1(x)` applies the dropout operator to the output of first layer."
   ]
  },
  {
   "cell_type": "code",
   "execution_count": null,
   "id": "c4656ca3",
   "metadata": {},
   "outputs": [],
   "source": [
    "class FNN_dropout(nn.Module):\n",
    "    \"\"\"\n",
    "    A fully connected neural network with dropout.\n",
    "    \"\"\"\n",
    "    def __init__(self):\n",
    "        super(FNN_dropout, self).__init__()\n",
    "        self.fc1 = nn.Linear(24, 64)\n",
    "        self.dropout1 = nn.Dropout(p=0.5) # define dropout layer with 50% probability\n",
    "        self.fc2 = nn.Linear(64, 32)\n",
    "        self.dropout2 = nn.Dropout(p=0.3) # define dropout layer with 30% probability\n",
    "        self.fc3 = nn.Linear(32, 8)\n",
    "        self.dropout3 = nn.Dropout(p=0.1) # define dropout layer with 10% probability\n",
    "        self.fc4 = nn.Linear(8, 1)\n",
    "        \n",
    "    def forward(self, x):\n",
    "        x = torch.relu(self.fc1(x))\n",
    "        x = self.dropout1(x) # apply dropout\n",
    "        x = torch.relu(self.fc2(x))\n",
    "        x = self.dropout2(x) # apply dropout\n",
    "        x = torch.relu(self.fc3(x))\n",
    "        x = self.dropout3(x) # apply dropout\n",
    "        x = torch.sigmoid(self.fc4(x))\n",
    "        return x"
   ]
  },
  {
   "cell_type": "code",
   "execution_count": null,
   "id": "ef00feda",
   "metadata": {},
   "outputs": [],
   "source": [
    "model_dropout = FNN_dropout()\n",
    "criterion = nn.BCELoss()\n",
    "optimizer = torch.optim.Adam(model_dropout.parameters(), lr=3e-4)\n",
    "train(model_dropout, train_loader, criterion, optimizer, num_epochs=500)"
   ]
  },
  {
   "cell_type": "markdown",
   "id": "5b450c97",
   "metadata": {},
   "source": [
    "## 3 - Early Stopping"
   ]
  },
  {
   "cell_type": "markdown",
   "id": "637892a4",
   "metadata": {},
   "source": [
    "Early Stopping technique monitors a model's metric (e.g. loss, auc) on a validation set and stops training when the metric starts to increase. The implementation of early stopping is easy, we start from defining a `EarlyStopping` class. This `EarlyStopping` class is a utility used for detect improment, save the best model and stop training if no improvement.\n",
    "\n",
    "How it works:\n",
    "- `__call__` method:\n",
    "  1. On first call, records the initial validation loss and saves the model\n",
    "  2. When improvement is detected (metric decreases by at least `delta`): Updates `best_metric` -> Saves the model -> Resets the patience counter\n",
    "  3. When no improvement: Increments the `counter` -> Triggers stop if `patience` is exceeded\n",
    "- `save_checkpoint` method:\n",
    "  1. Saves the model's state dictionary to the specified path"
   ]
  },
  {
   "cell_type": "code",
   "execution_count": null,
   "id": "c8bad27f",
   "metadata": {},
   "outputs": [],
   "source": [
    "class EarlyStopping:\n",
    "    '''\n",
    "    Early stops training if metric doesn't imporve after patience (expect lower metric are better)\n",
    "    '''\n",
    "    def __init__(self, patience=50, delta=0, path='checkpoint.pt', verbose=False):\n",
    "        self.patience = patience # number of epochs to wait since no improvement\n",
    "        self.delta = delta # score reduction required to detect siginificant improvement\n",
    "        self.counter = 0 # counter of patience\n",
    "        self.stop = False # flag for stop training\n",
    "        self.best_metric = None\n",
    "        # self.verbose = verbose\n",
    "        self.path = path # path to save the check point\n",
    "    \n",
    "    def __call__(self, valid_metric, model):\n",
    "        if self.best_metric is None:\n",
    "            # first call\n",
    "            self.best_metric = valid_metric\n",
    "            self.save_checkpoint(valid_metric, model)\n",
    "        elif valid_metric < self.best_metric - self.delta:\n",
    "            # significant improvement detect\n",
    "            self.best_metric = valid_metric # update best loss\n",
    "            self.save_checkpoint(valid_metric, model) # save the model\n",
    "            self.counter = 0 # resets the patience counter\n",
    "        else:\n",
    "            # no significant improvement\n",
    "            self.counter += 1\n",
    "            if self.counter >= self.patience:\n",
    "                self.stop = True\n",
    "\n",
    "    def save_checkpoint(self, valid_metric, model):\n",
    "        '''save models when metric decreases'''\n",
    "        # if self.verbose:\n",
    "        #     print(f'loss improvement: {valid_metric:.6f}. Saving model.')\n",
    "        torch.save(model.state_dict(), self.path)"
   ]
  },
  {
   "cell_type": "markdown",
   "id": "820c342f",
   "metadata": {},
   "source": [
    "We can implement early stopping by modifing previous `train` function in the following way:\n",
    "1. instanciate a `EarlyStopping` class\n",
    "2. loop until `num_epochs` or until early stopping triggers\n",
    "   1. train the model (same as last chapter)\n",
    "   2. get validation loss and probability using `test()` function\n",
    "   3. call `early_stopping` "
   ]
  },
  {
   "cell_type": "code",
   "execution_count": null,
   "id": "5c4e7274",
   "metadata": {},
   "outputs": [],
   "source": [
    "def train_and_validate(model, train_loader, valid_loader, criterion, optimizer, num_epochs, early_stop='loss'):\n",
    "    '''\n",
    "    train the model and early stopping on the validation loss\n",
    "    params:\n",
    "        model: the neural network model to train\n",
    "        train_loader: DataLoader, training data;\n",
    "        valid_loader: DataLoader, validation data;\n",
    "        criterion: loss function;\n",
    "        optimizer: optimization algorithm\n",
    "        num_epochs: int, number of epochs\n",
    "        early_stop: early stopping strategy:\n",
    "                    - False: No early stopping\n",
    "                    - 'loss': monitor validation loss\n",
    "                    - 'auprc': monitor validation auprc\n",
    "    return:\n",
    "        model: trained model (best version if early stopping used)\n",
    "        train_losses: list, training losses per epoch\n",
    "        valid_losses: list, validation losses per epoch\n",
    "    '''\n",
    "    train_losses, valid_losses = [], [] # used to store loss of all epochs\n",
    "    early_stopping = EarlyStopping() # initialize an EarlyStopping object\n",
    "\n",
    "    for epoch in range(num_epochs):\n",
    "        # train the model\n",
    "        model.train()\n",
    "        acc_train_loss = 0 # used to store training loss of all batches\n",
    "        for batch_idx, (data, target) in enumerate(train_loader):\n",
    "            optimizer.zero_grad() # clear previous gradients\n",
    "            output = model(data) # forward propagation\n",
    "            loss = criterion(output.squeeze(1), target) # calculate average batch loss\n",
    "            loss.backward() # backpropagation\n",
    "            optimizer.step() # update parameters\n",
    "            acc_train_loss += loss.item() * data.size(0) # accumulate loss\n",
    "        train_loss = acc_train_loss / len(train_loader.dataset) # calculate average epoch loss\n",
    "        train_losses.append(train_loss)\n",
    "        if (epoch + 1) % 50 == 0: # print loss each 50 epochs\n",
    "            print(f\"Epoch [{epoch+1}/{num_epochs}] Loss: {train_loss:.4f}\")\n",
    "\n",
    "        # validate the model\n",
    "        valid_loss, valid_probs = test(model, valid_loader, criterion)\n",
    "        valid_losses.append(valid_loss)\n",
    "        valid_auprc = average_precision_score(y_valid_array, valid_probs)\n",
    "\n",
    "        # early stopping\n",
    "        if early_stop:\n",
    "            if early_stop == 'loss':\n",
    "                early_stopping(valid_loss, model)\n",
    "            elif early_stop == 'auprc':\n",
    "                early_stopping(-valid_auprc, model)\n",
    "            if early_stopping.stop:\n",
    "                print(f'early stopping in epoch {epoch}.')\n",
    "                break\n",
    "            model.load_state_dict(torch.load('checkpoint.pt', weights_only=True)) # load the best model\n",
    "    return model, train_losses, valid_losses\n",
    "    "
   ]
  },
  {
   "cell_type": "markdown",
   "id": "c26d7d92",
   "metadata": {},
   "source": [
    "In the following codes, we train the model with early stopping. The training procedures stops at epoch 142, and epoch 92 has the minimum validation loss."
   ]
  },
  {
   "cell_type": "code",
   "execution_count": null,
   "id": "30271b28",
   "metadata": {},
   "outputs": [],
   "source": [
    "model = FNN()\n",
    "criterion = nn.BCELoss()\n",
    "optimizer = torch.optim.Adam(model.parameters(), lr=3e-4)\n",
    "model, train_losses, valid_losses = train_and_validate(model, train_loader, valid_loader, criterion, optimizer, 500, early_stop=False)"
   ]
  },
  {
   "cell_type": "markdown",
   "id": "c7c48748",
   "metadata": {},
   "source": [
    "We can plot the training loss and validation loss of all epochs. The training losses keep decreasing, but the validation loss begin increasing after epoch 92."
   ]
  },
  {
   "cell_type": "code",
   "execution_count": null,
   "id": "c526133a",
   "metadata": {},
   "outputs": [],
   "source": [
    "plt.plot(range(len(train_losses)),train_losses, label='Training Loss')\n",
    "plt.plot(range(len(valid_losses)),valid_losses,label='Validation Loss')\n",
    "plt.axvline(valid_losses.index(min(valid_losses)), linestyle='--', color='r',label='Early Stopping Checkpoint')\n",
    "\n",
    "plt.xlabel('epochs')\n",
    "plt.ylabel('loss')\n",
    "plt.xlim(0, len(train_losses))\n",
    "plt.grid(True)\n",
    "plt.legend()\n",
    "plt.show()"
   ]
  },
  {
   "cell_type": "markdown",
   "id": "54b0c001",
   "metadata": {},
   "source": [
    "## 4 - Batch Normalization"
   ]
  },
  {
   "cell_type": "markdown",
   "id": "6b5ea1e3",
   "metadata": {},
   "source": [
    "Batch normalization normalizes the inputs to each layer by re-centering them around zero and scaling them to a standard size. We can implement batch normalization by modifying the network structure.\n",
    "\n",
    "In the `__init__` method, `self.bn1 = nn.BatchNorm1d(64)` defines a batch normalization over a 2D input with 64 features.\n",
    "\n",
    "In the `forward` method, `x = torch.relu(self.bn1(self.fc1(x)))` firstly do the linear transformation, then apply batch normalization, and then do relu activation."
   ]
  },
  {
   "cell_type": "code",
   "execution_count": null,
   "id": "6f30fa98",
   "metadata": {},
   "outputs": [],
   "source": [
    "class FNN_bn(nn.Module):\n",
    "    \"\"\"\n",
    "    A fully connnected neural network with batch normalization\n",
    "    \"\"\"\n",
    "    def __init__(self):\n",
    "        super(FNN_bn, self).__init__()\n",
    "        self.fc1 = nn.Linear(24, 64)\n",
    "        self.bn1 = nn.BatchNorm1d(64) # defines batch normalization over a 2D input with 64 features\n",
    "        self.fc2 = nn.Linear(64, 32)\n",
    "        self.bn2 = nn.BatchNorm1d(32) # defines batch normalization over a 2D input with 32 features\n",
    "        self.fc3 = nn.Linear(32, 8)\n",
    "        self.bn3 = nn.BatchNorm1d(8) # defines batch normalization over a 2D input with 8 features\n",
    "        self.fc4 = nn.Linear(8, 1)\n",
    "        \n",
    "    def forward(self, x):\n",
    "        x = torch.relu(self.bn1(self.fc1(x)))\n",
    "        x = torch.relu(self.bn2(self.fc2(x)))\n",
    "        x = torch.relu(self.bn3(self.fc3(x)))\n",
    "        x = torch.sigmoid(self.fc4(x))\n",
    "        return x"
   ]
  },
  {
   "cell_type": "code",
   "execution_count": null,
   "id": "9fd3676b",
   "metadata": {},
   "outputs": [],
   "source": [
    "model_bn = FNN_bn()\n",
    "criterion = nn.BCELoss()\n",
    "optimizer = torch.optim.Adam(model_bn.parameters(), lr=3e-4)\n",
    "train(model_bn, train_loader, criterion, optimizer, num_epochs=500)"
   ]
  },
  {
   "cell_type": "markdown",
   "id": "1e01c181",
   "metadata": {},
   "source": [
    "## 5 - Tunning"
   ]
  },
  {
   "cell_type": "markdown",
   "id": "0a819173",
   "metadata": {},
   "source": [
    "There are many third-party libraries that can help you automatically tunning hyperparameters. Here, we tune by hands.\n",
    "\n",
    "Firstly, we define a parameters grid containing all the possible values of hyperparameters. Since `hidden_layers` and `dropout_rates` must have the same length, after expanding the grid, we need to filter out the combinations with different `hidden_layers` and `dropout_rates` lengths."
   ]
  },
  {
   "cell_type": "code",
   "execution_count": null,
   "id": "00655702",
   "metadata": {},
   "outputs": [],
   "source": [
    "# all the values of hyperparameters to be trained\n",
    "param_grid = {\n",
    "    'batch_size': [256, 128, 64],\n",
    "    'hidden_layers': [[64, 32, 16], [32, 8]], # number of neurons in each hidden layers\n",
    "    'dropout_rates': [[0, 0, 0], [0, 0]],\n",
    "    'batch_norm': [True, False],\n",
    "    'criterion': ['BCE'],\n",
    "    'optimizer': ['Adam'],\n",
    "    'lr': [3e-3, 1e-3, 3e-4],\n",
    "    'weight_decay': [0, 1e-4, 3e-4],\n",
    "    'num_epochs': [100, 300, 500],\n",
    "    'early_stop': ['auprc', False],\n",
    "}\n",
    "\n",
    "# expand the grid to combinations\n",
    "keys, values = zip(*param_grid.items())\n",
    "all_combinations = [dict(zip(keys, v)) for v in itertools.product(*values)]\n",
    "\n",
    "# filter out combination that hidden_layers and dropout_rates have different lengths\n",
    "all_combinations = [\n",
    "    combo for combo in all_combinations \n",
    "    if len(combo['hidden_layers']) == len(combo['dropout_rates'])\n",
    "]"
   ]
  },
  {
   "cell_type": "markdown",
   "id": "427712f7",
   "metadata": {},
   "source": [
    "Secondly, we build a flexible neural network `Net`, its architecture depends on the input parameters `input_dim`, `hidden_layers`, `dropout_rates` and `use_batchnorm`.\n",
    "\n",
    "`__init__` method:\n",
    "1. Iterates through each specified hidden layer size\n",
    "2. For each layer, adds:\n",
    "    1. Linear transformation (nn.Linear)\n",
    "    2. Batch normalization (if enabled)\n",
    "    3. ReLU activation\n",
    "    4. Dropout (if `dropout_rates > 0`)\n",
    "3. Final linear layer reduces to 1 output neuron\n",
    "4. Sigmoid activation for binary classification\n",
    "\n",
    "\n"
   ]
  },
  {
   "cell_type": "code",
   "execution_count": null,
   "id": "40ab64af",
   "metadata": {},
   "outputs": [],
   "source": [
    "class Net(nn.Module):\n",
    "    def __init__(self, input_dim, hidden_layers, dropout_rates, use_batchnorm=False):\n",
    "        '''\n",
    "        params:\n",
    "            input_dim: int, dimension of input features;\n",
    "            hidden_layers: list, number of neurons for each hidden layers;\n",
    "            dropout_rates: list, same length as hidden_layers, dropout probability for each hidden layer;\n",
    "            use_batchnorm: bool, use batch normalization in each layer.\n",
    "        '''\n",
    "        super(Net, self).__init__()\n",
    "        layers = [] # store all the layers\n",
    "        prev_dim = input_dim\n",
    "        for i, hidden_dim in enumerate(hidden_layers): # loop over hidden layers\n",
    "            layers.append(nn.Linear(prev_dim, hidden_dim)) # add linear layer\n",
    "            if use_batchnorm: # if enable batch normalization\n",
    "                layers.append(nn.BatchNorm1d(hidden_dim)) # add batch normalization layer\n",
    "            layers.append(nn.ReLU()) # add ReLu activation\n",
    "            if dropout_rates[i] > 0: # if enable dropout\n",
    "                layers.append(nn.Dropout(dropout_rates[i])) # add dropout layer\n",
    "            prev_dim = hidden_dim \n",
    "        layers.append(nn.Linear(prev_dim, 1)) # add linear layer\n",
    "        layers.append(nn.Sigmoid()) # sigmoid transformation to output probability\n",
    "        self.network = nn.Sequential(*layers) # combining layers into a container\n",
    "    \n",
    "    def forward(self, x):\n",
    "        return self.network(x) # pass input sequentially through all the layers"
   ]
  },
  {
   "cell_type": "markdown",
   "id": "fd8aa4d4",
   "metadata": {},
   "source": [
    "Thirdly, we define a `tune()` function. This function would loop over all the hyperparameter combinations and calculate the validation loss, then write the information to `output_file`.\n",
    "\n",
    "How it works:\n",
    "1. prepare train_loader and valid_loader based on `batch_size`;\n",
    "2. build network based on `hidden_layers`, `dropout_rates` and `batch_norm`;\n",
    "3. prepare loss function and optimizer based on;\n",
    "4. train the model using `train_and_validate`\n",
    "5. save information (hyperparaters and validation loss) to `output_file`. "
   ]
  },
  {
   "cell_type": "code",
   "execution_count": null,
   "id": "a8dc5649",
   "metadata": {},
   "outputs": [],
   "source": [
    "def tune(combinations, output_file='output.txt'):\n",
    "    '''\n",
    "    loop over combinations and calculate validation loss \n",
    "    params:\n",
    "        combindations: list, each element is a dict containing hyperparameter's name and value;\n",
    "        output_file: file path to save the output.\n",
    "    return:\n",
    "        None\n",
    "    '''\n",
    "    with open(output_file, 'w') as f: # clean output_file\n",
    "        pass\n",
    "\n",
    "    for config in combinations:\n",
    "        print(f'config: {config}')\n",
    "    \n",
    "        # prepare data\n",
    "        train_loader = prepare_loader(X_train_array, y_train_array, batch_size=config['batch_size'], shuffle=True)\n",
    "        valid_loader = prepare_loader(X_valid_array, y_valid_array, batch_size=config['batch_size'], shuffle=False)\n",
    "        \n",
    "        # build model\n",
    "        model = Net(\n",
    "            input_dim=next(iter(train_loader))[0].shape[1],\n",
    "            hidden_layers=config['hidden_layers'],\n",
    "            dropout_rates=config['dropout_rates'],\n",
    "            use_batchnorm=config['batch_norm']\n",
    "        )\n",
    "        \n",
    "        # loss\n",
    "        if config['criterion'] == 'BCE':\n",
    "            criterion = nn.BCELoss()\n",
    "        else:\n",
    "            raise ValueError('Unknown criterion')\n",
    "        \n",
    "        # optimizer\n",
    "        if config['optimizer'] == 'Adam':\n",
    "            optimizer = torch.optim.Adam(get_param_groups(model, weight_decay=config['weight_decay']), lr=config['lr'])\n",
    "        else:\n",
    "            raise ValueError(\"Unknown optimizer\")\n",
    "        \n",
    "        # train & validate\n",
    "        model, _, _ = train_and_validate(model, train_loader, valid_loader, criterion, optimizer, config['num_epochs'], config['early_stop'])\n",
    "        \n",
    "        # save results\n",
    "        valid_loss, pred_probs = test(model, valid_loader, criterion)\n",
    "        config['valid_loss'] = valid_loss\n",
    "        valid_auprc = average_precision_score(y_valid_array, pred_probs)\n",
    "        result = {**config, \"valid_auprc\": valid_auprc}\n",
    "\n",
    "        with open(output_file, 'a') as f:\n",
    "            f.write(json.dumps(result) + '\\n')"
   ]
  },
  {
   "cell_type": "code",
   "execution_count": null,
   "id": "ce11a7ce",
   "metadata": {},
   "outputs": [],
   "source": [
    "tune(all_combinations)"
   ]
  },
  {
   "cell_type": "code",
   "execution_count": null,
   "id": "c93f7637",
   "metadata": {},
   "outputs": [],
   "source": []
  }
 ],
 "metadata": {
  "kernelspec": {
   "display_name": "workenv",
   "language": "python",
   "name": "python3"
  },
  "language_info": {
   "codemirror_mode": {
    "name": "ipython",
    "version": 3
   },
   "file_extension": ".py",
   "mimetype": "text/x-python",
   "name": "python",
   "nbconvert_exporter": "python",
   "pygments_lexer": "ipython3",
   "version": "3.12.2"
  }
 },
 "nbformat": 4,
 "nbformat_minor": 5
}
