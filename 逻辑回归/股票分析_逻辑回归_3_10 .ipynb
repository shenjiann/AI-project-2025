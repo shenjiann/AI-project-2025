{
 "cells": [
  {
   "cell_type": "markdown",
   "id": "ea3df885",
   "metadata": {},
   "source": [
    "# 逻辑模型实际数据分析\n",
    "\n",
    "欢迎来到**人工智能与深度学习**课程！在实践中，诸多重要经济问题涉及到分类数据的分析，比如，如何基于当前房地产运行指标预测我国经济是否会产生系统性风险；如何根据我国当年的经济运行指标来确定次年是否实施量化宽松的经济政策；如何基于当日股票技术指标对下一交易日的涨跌情况进行预测。作为分类数据分析的基础，逻辑回归在统计学和深度学习中都具有重要意义。在这个例子中，我们将在一个真实的股市数据中运用逻辑回归模型，建立股价涨跌的分类模型，并通过梯度下降法进行参数估计。\n",
    "\n",
    "**学习目标**：在此项目中，我们将基于逻辑回归进行一个简单的研究。完成这项作业后，您将知道：\n",
    "* 如何进行简单的数据预处理。\n",
    "* 如何通过基于梯度的方法估计模型参数。\n",
    "* 梯度下降法的工作原理。\n"
   ]
  },
  {
   "attachments": {},
   "cell_type": "markdown",
   "id": "446b6656",
   "metadata": {},
   "source": [
    "## 目录\n",
    "* [1 - 第三方包导入](#1)\n",
    "* [2 - 探索性数据分析](#2)\n",
    "* [3 - 建模分析](#3) "
   ]
  },
  {
   "cell_type": "markdown",
   "id": "8c69d644",
   "metadata": {},
   "source": [
    "<a name='1'></a>\n",
    "## 1- 第三方包导入\n",
    "\n",
    "为了数据分析任务，我们需要导入一些**Python**包，其中数据分析最常用的包是**numpy**（np）和**pandas**（pd），画图常用的包有**matplotlib**和**seaborn**。"
   ]
  },
  {
   "cell_type": "code",
   "execution_count": 7,
   "id": "ecf3bd5f",
   "metadata": {
    "ExecuteTime": {
     "end_time": "2025-03-10T01:49:44.634669Z",
     "start_time": "2025-03-10T01:49:44.632498Z"
    },
    "metadata": {}
   },
   "outputs": [],
   "source": [
    "import numpy as np # 用于数值计算\n",
    "import pandas as pd # 用于导入和处理数据\n",
    "import matplotlib.pyplot as plt # 用于画图\n",
    "import time # 用于计时\n",
    "\n",
    "# 设置字体为支持中文的字体\n",
    "plt.rcParams['axes.unicode_minus'] = False # 保证负号正常显示\n",
    "plt.rcParams['font.sans-serif'] = ['SimHei']  # 使用黑体\n",
    "plt.rcParams['axes.unicode_minus'] = False  # 解决负号显示问题\n",
    "plt.rcParams['font.sans-serif'] = ['Arial Unicode MS']  # macOS 系统"
   ]
  },
  {
   "attachments": {},
   "cell_type": "markdown",
   "id": "819445a5",
   "metadata": {},
   "source": [
    "<a name='2'></a>\n",
    "## 2 - 探索性数据分析\n",
    "\n",
    "首先，我们使用**pandas**读取MT_daily.xlsx数据文件（贵州茅台2023年1月3日至2024年2月28日的日度股市数据），该数据库总共包含520条数据，用来建立 Logit 回归模型。\n",
    "\n",
    "下面我们读取并展示部分数据，建立对所用数据的基础认识。"
   ]
  },
  {
   "cell_type": "code",
   "execution_count": 4,
   "id": "f674c5c3",
   "metadata": {
    "ExecuteTime": {
     "end_time": "2025-03-10T01:49:17.724960Z",
     "start_time": "2025-03-10T01:49:17.617453Z"
    },
    "metadata": {}
   },
   "outputs": [
    {
     "data": {
      "text/html": [
       "<div>\n",
       "<style scoped>\n",
       "    .dataframe tbody tr th:only-of-type {\n",
       "        vertical-align: middle;\n",
       "    }\n",
       "\n",
       "    .dataframe tbody tr th {\n",
       "        vertical-align: top;\n",
       "    }\n",
       "\n",
       "    .dataframe thead th {\n",
       "        text-align: right;\n",
       "    }\n",
       "</style>\n",
       "<table border=\"1\" class=\"dataframe\">\n",
       "  <thead>\n",
       "    <tr style=\"text-align: right;\">\n",
       "      <th></th>\n",
       "      <th>交易日期</th>\n",
       "      <th>开盘价(元)</th>\n",
       "      <th>最高价(元)</th>\n",
       "      <th>最低价(元)</th>\n",
       "      <th>收盘价(元)</th>\n",
       "      <th>收盘价(前复权)(元)</th>\n",
       "      <th>收盘价(后复权)(元)</th>\n",
       "      <th>涨跌(元)</th>\n",
       "      <th>涨跌幅(%)</th>\n",
       "      <th>成交量(股)</th>\n",
       "      <th>成交额(元)</th>\n",
       "      <th>换手率(%)</th>\n",
       "      <th>PE市盈率</th>\n",
       "      <th>PB市净率</th>\n",
       "      <th>PS市销率</th>\n",
       "      <th>PCF市现率</th>\n",
       "      <th>总股本(股)</th>\n",
       "      <th>总市值(元)</th>\n",
       "      <th>流通股本(股)</th>\n",
       "      <th>流通市值(元)</th>\n",
       "    </tr>\n",
       "  </thead>\n",
       "  <tbody>\n",
       "    <tr>\n",
       "      <th>0</th>\n",
       "      <td>2025-02-28</td>\n",
       "      <td>1485.50</td>\n",
       "      <td>1528.38</td>\n",
       "      <td>1482.00</td>\n",
       "      <td>1500.79</td>\n",
       "      <td>1500.79</td>\n",
       "      <td>10843.10</td>\n",
       "      <td>15.23</td>\n",
       "      <td>1.03</td>\n",
       "      <td>5612895</td>\n",
       "      <td>8.475738e+09</td>\n",
       "      <td>0.45</td>\n",
       "      <td>22.80</td>\n",
       "      <td>7.93</td>\n",
       "      <td>11.20</td>\n",
       "      <td>-453.91</td>\n",
       "      <td>1256197800</td>\n",
       "      <td>1885289096262</td>\n",
       "      <td>1256197800</td>\n",
       "      <td>1885289096262</td>\n",
       "    </tr>\n",
       "    <tr>\n",
       "      <th>1</th>\n",
       "      <td>2025-02-27</td>\n",
       "      <td>1460.02</td>\n",
       "      <td>1489.90</td>\n",
       "      <td>1454.00</td>\n",
       "      <td>1485.56</td>\n",
       "      <td>1485.56</td>\n",
       "      <td>10733.06</td>\n",
       "      <td>25.55</td>\n",
       "      <td>1.75</td>\n",
       "      <td>4976217</td>\n",
       "      <td>7.368002e+09</td>\n",
       "      <td>0.40</td>\n",
       "      <td>22.57</td>\n",
       "      <td>7.85</td>\n",
       "      <td>11.08</td>\n",
       "      <td>-449.30</td>\n",
       "      <td>1256197800</td>\n",
       "      <td>1866157203768</td>\n",
       "      <td>1256197800</td>\n",
       "      <td>1866157203768</td>\n",
       "    </tr>\n",
       "    <tr>\n",
       "      <th>2</th>\n",
       "      <td>2025-02-26</td>\n",
       "      <td>1455.45</td>\n",
       "      <td>1464.96</td>\n",
       "      <td>1445.00</td>\n",
       "      <td>1460.01</td>\n",
       "      <td>1460.01</td>\n",
       "      <td>10548.47</td>\n",
       "      <td>6.01</td>\n",
       "      <td>0.41</td>\n",
       "      <td>2636609</td>\n",
       "      <td>3.835949e+09</td>\n",
       "      <td>0.21</td>\n",
       "      <td>22.18</td>\n",
       "      <td>7.72</td>\n",
       "      <td>10.89</td>\n",
       "      <td>-441.58</td>\n",
       "      <td>1256197800</td>\n",
       "      <td>1834061349978</td>\n",
       "      <td>1256197800</td>\n",
       "      <td>1834061349978</td>\n",
       "    </tr>\n",
       "    <tr>\n",
       "      <th>3</th>\n",
       "      <td>2025-02-25</td>\n",
       "      <td>1470.01</td>\n",
       "      <td>1473.39</td>\n",
       "      <td>1452.00</td>\n",
       "      <td>1454.00</td>\n",
       "      <td>1454.00</td>\n",
       "      <td>10505.04</td>\n",
       "      <td>-25.07</td>\n",
       "      <td>-1.70</td>\n",
       "      <td>2838743</td>\n",
       "      <td>4.142814e+09</td>\n",
       "      <td>0.23</td>\n",
       "      <td>22.09</td>\n",
       "      <td>7.68</td>\n",
       "      <td>10.85</td>\n",
       "      <td>-439.76</td>\n",
       "      <td>1256197800</td>\n",
       "      <td>1826511601200</td>\n",
       "      <td>1256197800</td>\n",
       "      <td>1826511601200</td>\n",
       "    </tr>\n",
       "    <tr>\n",
       "      <th>4</th>\n",
       "      <td>2025-02-24</td>\n",
       "      <td>1488.00</td>\n",
       "      <td>1499.52</td>\n",
       "      <td>1474.00</td>\n",
       "      <td>1479.07</td>\n",
       "      <td>1479.07</td>\n",
       "      <td>10686.17</td>\n",
       "      <td>-9.14</td>\n",
       "      <td>-0.61</td>\n",
       "      <td>3474373</td>\n",
       "      <td>5.157907e+09</td>\n",
       "      <td>0.28</td>\n",
       "      <td>22.47</td>\n",
       "      <td>7.82</td>\n",
       "      <td>11.04</td>\n",
       "      <td>-447.34</td>\n",
       "      <td>1256197800</td>\n",
       "      <td>1858004480046</td>\n",
       "      <td>1256197800</td>\n",
       "      <td>1858004480046</td>\n",
       "    </tr>\n",
       "    <tr>\n",
       "      <th>...</th>\n",
       "      <td>...</td>\n",
       "      <td>...</td>\n",
       "      <td>...</td>\n",
       "      <td>...</td>\n",
       "      <td>...</td>\n",
       "      <td>...</td>\n",
       "      <td>...</td>\n",
       "      <td>...</td>\n",
       "      <td>...</td>\n",
       "      <td>...</td>\n",
       "      <td>...</td>\n",
       "      <td>...</td>\n",
       "      <td>...</td>\n",
       "      <td>...</td>\n",
       "      <td>...</td>\n",
       "      <td>...</td>\n",
       "      <td>...</td>\n",
       "      <td>...</td>\n",
       "      <td>...</td>\n",
       "      <td>...</td>\n",
       "    </tr>\n",
       "    <tr>\n",
       "      <th>273</th>\n",
       "      <td>2024-01-08</td>\n",
       "      <td>1661.00</td>\n",
       "      <td>1662.00</td>\n",
       "      <td>1640.01</td>\n",
       "      <td>1643.99</td>\n",
       "      <td>1585.83</td>\n",
       "      <td>11457.48</td>\n",
       "      <td>-19.37</td>\n",
       "      <td>-1.16</td>\n",
       "      <td>2558620</td>\n",
       "      <td>4.211919e+09</td>\n",
       "      <td>0.20</td>\n",
       "      <td>29.01</td>\n",
       "      <td>9.58</td>\n",
       "      <td>14.43</td>\n",
       "      <td>539.10</td>\n",
       "      <td>1256197800</td>\n",
       "      <td>2065176621222</td>\n",
       "      <td>1256197800</td>\n",
       "      <td>2065176621222</td>\n",
       "    </tr>\n",
       "    <tr>\n",
       "      <th>274</th>\n",
       "      <td>2024-01-05</td>\n",
       "      <td>1661.33</td>\n",
       "      <td>1678.66</td>\n",
       "      <td>1652.11</td>\n",
       "      <td>1663.36</td>\n",
       "      <td>1604.51</td>\n",
       "      <td>11592.47</td>\n",
       "      <td>-5.64</td>\n",
       "      <td>-0.34</td>\n",
       "      <td>2024286</td>\n",
       "      <td>3.373156e+09</td>\n",
       "      <td>0.16</td>\n",
       "      <td>29.35</td>\n",
       "      <td>9.69</td>\n",
       "      <td>14.60</td>\n",
       "      <td>545.45</td>\n",
       "      <td>1256197800</td>\n",
       "      <td>2089509172608</td>\n",
       "      <td>1256197800</td>\n",
       "      <td>2089509172608</td>\n",
       "    </tr>\n",
       "    <tr>\n",
       "      <th>275</th>\n",
       "      <td>2024-01-04</td>\n",
       "      <td>1693.00</td>\n",
       "      <td>1693.00</td>\n",
       "      <td>1662.93</td>\n",
       "      <td>1669.00</td>\n",
       "      <td>1609.95</td>\n",
       "      <td>11631.78</td>\n",
       "      <td>-25.00</td>\n",
       "      <td>-1.48</td>\n",
       "      <td>2155107</td>\n",
       "      <td>3.603970e+09</td>\n",
       "      <td>0.17</td>\n",
       "      <td>29.45</td>\n",
       "      <td>9.72</td>\n",
       "      <td>14.65</td>\n",
       "      <td>547.30</td>\n",
       "      <td>1256197800</td>\n",
       "      <td>2096594128200</td>\n",
       "      <td>1256197800</td>\n",
       "      <td>2096594128200</td>\n",
       "    </tr>\n",
       "    <tr>\n",
       "      <th>276</th>\n",
       "      <td>2024-01-03</td>\n",
       "      <td>1681.11</td>\n",
       "      <td>1695.22</td>\n",
       "      <td>1676.33</td>\n",
       "      <td>1694.00</td>\n",
       "      <td>1634.07</td>\n",
       "      <td>11806.01</td>\n",
       "      <td>8.99</td>\n",
       "      <td>0.53</td>\n",
       "      <td>2022929</td>\n",
       "      <td>3.411401e+09</td>\n",
       "      <td>0.16</td>\n",
       "      <td>29.89</td>\n",
       "      <td>9.87</td>\n",
       "      <td>14.87</td>\n",
       "      <td>555.50</td>\n",
       "      <td>1256197800</td>\n",
       "      <td>2127999073200</td>\n",
       "      <td>1256197800</td>\n",
       "      <td>2127999073200</td>\n",
       "    </tr>\n",
       "    <tr>\n",
       "      <th>277</th>\n",
       "      <td>2024-01-02</td>\n",
       "      <td>1715.00</td>\n",
       "      <td>1718.19</td>\n",
       "      <td>1678.10</td>\n",
       "      <td>1685.01</td>\n",
       "      <td>1625.39</td>\n",
       "      <td>11743.36</td>\n",
       "      <td>-40.99</td>\n",
       "      <td>-2.37</td>\n",
       "      <td>3215644</td>\n",
       "      <td>5.440083e+09</td>\n",
       "      <td>0.26</td>\n",
       "      <td>29.73</td>\n",
       "      <td>9.81</td>\n",
       "      <td>14.79</td>\n",
       "      <td>552.55</td>\n",
       "      <td>1256197800</td>\n",
       "      <td>2116705854978</td>\n",
       "      <td>1256197800</td>\n",
       "      <td>2116705854978</td>\n",
       "    </tr>\n",
       "  </tbody>\n",
       "</table>\n",
       "<p>278 rows × 20 columns</p>\n",
       "</div>"
      ],
      "text/plain": [
       "           交易日期   开盘价(元)   最高价(元)   最低价(元)   收盘价(元)  收盘价(前复权)(元)  收盘价(后复权)(元)  \\\n",
       "0    2025-02-28  1485.50  1528.38  1482.00  1500.79      1500.79     10843.10   \n",
       "1    2025-02-27  1460.02  1489.90  1454.00  1485.56      1485.56     10733.06   \n",
       "2    2025-02-26  1455.45  1464.96  1445.00  1460.01      1460.01     10548.47   \n",
       "3    2025-02-25  1470.01  1473.39  1452.00  1454.00      1454.00     10505.04   \n",
       "4    2025-02-24  1488.00  1499.52  1474.00  1479.07      1479.07     10686.17   \n",
       "..          ...      ...      ...      ...      ...          ...          ...   \n",
       "273  2024-01-08  1661.00  1662.00  1640.01  1643.99      1585.83     11457.48   \n",
       "274  2024-01-05  1661.33  1678.66  1652.11  1663.36      1604.51     11592.47   \n",
       "275  2024-01-04  1693.00  1693.00  1662.93  1669.00      1609.95     11631.78   \n",
       "276  2024-01-03  1681.11  1695.22  1676.33  1694.00      1634.07     11806.01   \n",
       "277  2024-01-02  1715.00  1718.19  1678.10  1685.01      1625.39     11743.36   \n",
       "\n",
       "     涨跌(元)  涨跌幅(%)   成交量(股)        成交额(元)  换手率(%)  PE市盈率  PB市净率  PS市销率  \\\n",
       "0    15.23    1.03  5612895  8.475738e+09    0.45  22.80   7.93  11.20   \n",
       "1    25.55    1.75  4976217  7.368002e+09    0.40  22.57   7.85  11.08   \n",
       "2     6.01    0.41  2636609  3.835949e+09    0.21  22.18   7.72  10.89   \n",
       "3   -25.07   -1.70  2838743  4.142814e+09    0.23  22.09   7.68  10.85   \n",
       "4    -9.14   -0.61  3474373  5.157907e+09    0.28  22.47   7.82  11.04   \n",
       "..     ...     ...      ...           ...     ...    ...    ...    ...   \n",
       "273 -19.37   -1.16  2558620  4.211919e+09    0.20  29.01   9.58  14.43   \n",
       "274  -5.64   -0.34  2024286  3.373156e+09    0.16  29.35   9.69  14.60   \n",
       "275 -25.00   -1.48  2155107  3.603970e+09    0.17  29.45   9.72  14.65   \n",
       "276   8.99    0.53  2022929  3.411401e+09    0.16  29.89   9.87  14.87   \n",
       "277 -40.99   -2.37  3215644  5.440083e+09    0.26  29.73   9.81  14.79   \n",
       "\n",
       "     PCF市现率      总股本(股)         总市值(元)     流通股本(股)        流通市值(元)  \n",
       "0   -453.91  1256197800  1885289096262  1256197800  1885289096262  \n",
       "1   -449.30  1256197800  1866157203768  1256197800  1866157203768  \n",
       "2   -441.58  1256197800  1834061349978  1256197800  1834061349978  \n",
       "3   -439.76  1256197800  1826511601200  1256197800  1826511601200  \n",
       "4   -447.34  1256197800  1858004480046  1256197800  1858004480046  \n",
       "..      ...         ...            ...         ...            ...  \n",
       "273  539.10  1256197800  2065176621222  1256197800  2065176621222  \n",
       "274  545.45  1256197800  2089509172608  1256197800  2089509172608  \n",
       "275  547.30  1256197800  2096594128200  1256197800  2096594128200  \n",
       "276  555.50  1256197800  2127999073200  1256197800  2127999073200  \n",
       "277  552.55  1256197800  2116705854978  1256197800  2116705854978  \n",
       "\n",
       "[278 rows x 20 columns]"
      ]
     },
     "execution_count": 4,
     "metadata": {},
     "output_type": "execute_result"
    }
   ],
   "source": [
    "df = pd.read_excel('MT_daily.xlsx') # 读取数据\n",
    "df # 显示数据，但请注意在.py文件中不能这样显示数据，要使用print(df)"
   ]
  },
  {
   "cell_type": "markdown",
   "id": "3aadb14a",
   "metadata": {},
   "source": [
    "在进行数据的处理和分析之前，进行描述性统计是数据整体理解的关键阶段。\n",
    "\n",
    "计算各特征的集中趋势——均值，离散程度——方差。变化"
   ]
  },
  {
   "cell_type": "code",
   "execution_count": 5,
   "id": "cb174ab0-79bc-4913-bc09-6142267a0d21",
   "metadata": {
    "ExecuteTime": {
     "end_time": "2025-03-10T01:49:20.832582Z",
     "start_time": "2025-03-10T01:49:20.830526Z"
    }
   },
   "outputs": [],
   "source": [
    "x = df['换手率(%)'] # 获取换手率数据，\n",
    "y = df['涨跌幅(%)']>0  # 获取涨跌幅数据\n",
    "y = y + 0"
   ]
  },
  {
   "cell_type": "code",
   "execution_count": 5,
   "id": "ebfd8609",
   "metadata": {
    "ExecuteTime": {
     "end_time": "2025-03-05T06:12:07.802325Z",
     "start_time": "2025-03-05T06:12:07.799437Z"
    },
    "metadata": {}
   },
   "outputs": [
    {
     "ename": "SyntaxError",
     "evalue": "invalid syntax (237026990.py, line 9)",
     "output_type": "error",
     "traceback": [
      "\u001b[0;36m  Cell \u001b[0;32mIn[5], line 9\u001b[0;36m\u001b[0m\n\u001b[0;31m    means =     # 计算均值\u001b[0m\n\u001b[0m                ^\u001b[0m\n\u001b[0;31mSyntaxError\u001b[0m\u001b[0;31m:\u001b[0m invalid syntax\n"
     ]
    }
   ],
   "source": [
    "def calculate_mean_variance(data):\n",
    "    \"\"\"\n",
    "    基于numpy计算数据的均值和方差\n",
    "    参数:\n",
    "        data: 需要分析的输入数据，例如换手率或者涨跌情况等\n",
    "    返回:\n",
    "        tuple: 均值和方差\n",
    "    \"\"\"\n",
    "    means =     # 计算均值\n",
    "    variances =    # 计算方差\n",
    "    return means, variances"
   ]
  },
  {
   "cell_type": "markdown",
   "id": "43918572",
   "metadata": {},
   "source": [
    "我们选择涨跌幅和换手率作为待分析变量，分析这两个变量的均值和方差"
   ]
  },
  {
   "cell_type": "code",
   "execution_count": 37,
   "id": "4edff4b7",
   "metadata": {
    "ExecuteTime": {
     "end_time": "2025-03-05T06:12:10.204866Z",
     "start_time": "2025-03-05T06:12:10.200507Z"
    },
    "metadata": {}
   },
   "outputs": [
    {
     "name": "stdout",
     "output_type": "stream",
     "text": [
      "换手率的均值和方差分别为： (0.2652517985611511, 0.023480332280937842)\n",
      "涨跌幅的均值和方差分别为： (0.4316546762589928, 0.2453289167227365)\n",
      "--------------------------------------------------------------------------------\n",
      "正确的输出应当为：\n",
      "换手率的均值和方差分别为： (0.2652517985611511, 0.023480332280937842)\n",
      "涨跌幅的均值和方差分别为： (-0.02359712230215827, 2.802622312509701)\n"
     ]
    }
   ],
   "source": [
    "print('换手率的均值和方差分别为：', calculate_mean_variance(x))\n",
    "print('涨跌幅的均值和方差分别为：', calculate_mean_variance(y))\n",
    "print('-'*80)\n",
    "print('正确的输出应当为：')\n",
    "print('换手率的均值和方差分别为： (0.2652517985611511, 0.023480332280937842)')\n",
    "print('涨跌幅的均值和方差分别为： (-0.02359712230215827, 2.802622312509701)')"
   ]
  },
  {
   "cell_type": "markdown",
   "id": "c5783b3a",
   "metadata": {},
   "source": [
    "为了了解数据的分布情况，我们可以绘制关键变量的直方图。此处，我们选择换手率这一变量，分别统计股票上涨和下跌时换手率的分布情况"
   ]
  },
  {
   "cell_type": "code",
   "execution_count": 8,
   "id": "2645ce01",
   "metadata": {
    "ExecuteTime": {
     "end_time": "2025-03-10T01:49:48.279466Z",
     "start_time": "2025-03-10T01:49:48.181130Z"
    },
    "metadata": {},
    "scrolled": true
   },
   "outputs": [
    {
     "data": {
      "image/png": "[encoded data removed]",
      "text/plain": [
       "<Figure size 1200x500 with 2 Axes>"
      ]
     },
     "metadata": {},
     "output_type": "display_data"
    }
   ],
   "source": [
    "# 绘制双分布图\n",
    "plt.figure(figsize=(12, 5))  # 定义画布大小\n",
    "\n",
    "# 上涨时换手率分布\n",
    "plt.subplot(1, 2, 1) # 第一个子图\n",
    "plt.hist( x[y==1] , color='red', bins=30)  # 绘制直方图\n",
    "plt.title('换手率分布(涨)', fontsize=18) # 设置标题\n",
    "plt.xlabel('换手率', fontsize=16) # 设置x轴标签\n",
    "plt.ylabel('频率', fontsize=16) # 设置y轴标签\n",
    "\n",
    "# 下跌时换手率分布\n",
    "plt.subplot(1, 2, 2)\n",
    "plt.hist( x[y==0] , color='green', bins=30)  # 绘制直方图\n",
    "plt.title('换手率分布(跌)', fontsize=18) # 设置标题\n",
    "plt.xlabel('换手率', fontsize=16) # 设置x轴标签\n",
    "plt.ylabel('频率', fontsize=16) # 设置y轴标签\n",
    "\n",
    "plt.tight_layout() # 调整子图之间的间距\n",
    "plt.show() # 显示图像"
   ]
  },
  {
   "attachments": {},
   "cell_type": "markdown",
   "id": "ff0257e9",
   "metadata": {},
   "source": [
    "<a name='3'></a>\n",
    "## 3 - 建模分析\n",
    "\n",
    "逻辑回归模型的参数 $\\boldsymbol{\\theta} = (b, w)$ 的估计 $\\hat{\\boldsymbol{\\theta}} = (\\hat{b}, \\hat{w})$ 可以通过最小化如下损失函数获得：\n",
    "$$\n",
    "J(\\boldsymbol{\\theta}) = - \\frac{1}{n} \\sum_{i=1}^{n} \\{ y_i \\log a_i + (1 - y_i) \\log(1 - a_i) \\},\n",
    "$$\n",
    "其中 $a_i = \\sigma(z_i)$， $z_i = b+wx_{i}$."
   ]
  },
  {
   "cell_type": "markdown",
   "id": "36582173",
   "metadata": {},
   "source": [
    "\n",
    "梯度下降法步骤如下：\n",
    "\n",
    "- **步骤 1. 随机选取参数初始值** $\\boldsymbol{\\theta} = (b^{(0)}, w^{(0)})$。\n",
    "  \n",
    "- **步骤 2. 基于当前参数值$\\boldsymbol{\\theta}^{(t)} = (b^{(t)}, w^{(t)})，$计算梯度**  \n",
    "  \n",
    "  \\begin{aligned}\n",
    "  \\frac{\\partial J}{\\partial b} &= \\frac{1}{n} \\sum_{i=1}^{n} (a_{i} - y_{i}) \\\\\n",
    "  \\frac{\\partial J}{\\partial w} &= \\frac{1}{n} \\sum_{i=1}^{n} (a_{i} - y_{i}) x_{i} \n",
    "  \\end{aligned}\n",
    "  \n",
    "  \n",
    "- **步骤 3. 给定学习率$\\alpha>0$，更新参数**  \n",
    "  \\begin{aligned}\n",
    "  b^{(t+1)} &= b^{(t)} - \\alpha  \\frac{\\partial J}{\\partial b} \\\\\n",
    "  w^{(t+1)} &= w^{(t)} - \\alpha  \\frac{\\partial J}{\\partial w}\n",
    "  \\end{aligned}\n",
    "  \n",
    "- **步骤 4. 回到步骤 2直到收敛** \n"
   ]
  },
  {
   "cell_type": "markdown",
   "id": "6246ab73",
   "metadata": {},
   "source": [
    "我们首先编写较为复杂的第二步和第三步的函数："
   ]
  },
  {
   "cell_type": "markdown",
   "id": "2be563ff",
   "metadata": {},
   "source": [
    "定义sigmoid函数："
   ]
  },
  {
   "cell_type": "code",
   "execution_count": 13,
   "id": "2c0f8d62",
   "metadata": {
    "ExecuteTime": {
     "end_time": "2025-03-10T01:50:12.270803Z",
     "start_time": "2025-03-10T01:50:12.268852Z"
    },
    "metadata": {}
   },
   "outputs": [],
   "source": [
    "def sigmoid(z):\n",
    "    '''\n",
    "    输入自变量z，输出sigmoid函数值\n",
    "    '''\n",
    "    \n",
    "    result =   1/(1+np.exp(-z))\n",
    "    return result"
   ]
  },
  {
   "cell_type": "code",
   "execution_count": 49,
   "id": "8c54993f",
   "metadata": {
    "ExecuteTime": {
     "end_time": "2025-03-05T06:10:53.772277Z",
     "start_time": "2025-03-05T06:10:53.768707Z"
    },
    "metadata": {}
   },
   "outputs": [
    {
     "name": "stdout",
     "output_type": "stream",
     "text": [
      "sigmoid 函数的输出为： 0.610639233949222\n",
      "--------------------------------------------------------------------------------\n",
      "正确的输出应当为：\n",
      "sigmoid 函数的输出为： 0.610639233949222\n"
     ]
    }
   ],
   "source": [
    "print('sigmoid 函数的输出为：', sigmoid(z = x[0]))\n",
    "print('-'*80)\n",
    "print('正确的输出应当为：')\n",
    "print('sigmoid 函数的输出为： 0.610639233949222')"
   ]
  },
  {
   "cell_type": "markdown",
   "id": "6acb43c2",
   "metadata": {},
   "source": [
    "在当前参数$\\boldsymbol{\\theta}^{(t)} = (b^{(t)}, w^{(t)})$下，计算损失函数。注意，这个函数在梯度下降法中不会用到，但我们用这个函数计算损失函数在当前参数下的函数值，帮助我们监控损失函数是否在参数更新过程中逐步下降。"
   ]
  },
  {
   "cell_type": "code",
   "execution_count": 47,
   "id": "7e2c99a5",
   "metadata": {
    "ExecuteTime": {
     "end_time": "2025-03-05T06:15:14.770663Z",
     "start_time": "2025-03-05T06:15:14.767600Z"
    },
    "metadata": {}
   },
   "outputs": [],
   "source": [
    "def logit_loss(bt, wt, x, y):\n",
    "    '''\n",
    "    输入：\n",
    "        截距项b、参数w、自变量x、因变量y\n",
    "    输出：\n",
    "        逻辑回归模型的损失函数值\n",
    "    '''\n",
    "    \n",
    "    J =  # 初始化损失值\n",
    "    n =   # 样本数量\n",
    "    for i in range(n): # 遍历所有样本\n",
    "        z =     # 计算z值\n",
    "        a =     # 计算a值\n",
    "        J =     # 累加损失函数\n",
    "    J = - J / n   # 计算平均损失\n",
    "    return J\n",
    "\n"
   ]
  },
  {
   "cell_type": "code",
   "execution_count": 53,
   "id": "9d884071-2511-4d75-86ff-70f49ddcdac6",
   "metadata": {},
   "outputs": [
    {
     "name": "stdout",
     "output_type": "stream",
     "text": [
      "logit_loss 函数的输出为： 0.6931471805599453\n",
      "--------------------------------------------------------------------------------\n",
      "正确的输出应当为：\n",
      "logit_loss 函数的输出为： 0.6931471805599453。\n"
     ]
    }
   ],
   "source": [
    "# 设置测试数据\n",
    "print('logit_loss 函数的输出为：', logit_loss(bt = 0, wt = 0, x = x[0:3], y= y[0:3]))\n",
    "print('-'*80)\n",
    "print('正确的输出应当为：')\n",
    "print('logit_loss 函数的输出为： 0.6931471805599453。')"
   ]
  },
  {
   "cell_type": "markdown",
   "id": "a923470a",
   "metadata": {},
   "source": [
    "在当前参数$\\boldsymbol{\\theta}^{(t)} = (b^{(t)}, w^{(t)})$下，计算损失函数的梯度。"
   ]
  },
  {
   "cell_type": "code",
   "execution_count": 31,
   "id": "27b2afe3",
   "metadata": {
    "ExecuteTime": {
     "end_time": "2025-03-05T06:16:19.782031Z",
     "start_time": "2025-03-05T06:16:19.778754Z"
    },
    "metadata": {}
   },
   "outputs": [],
   "source": [
    "def get_grade(bt, wt, x, y):\n",
    "    \"\"\"\n",
    "    输入：\n",
    "        截距项b、参数w、自变量x、因变量y\n",
    "    输出：\n",
    "        b和w的梯度\n",
    "    \n",
    "    步骤 1. 初始化b和w的梯度\n",
    "    步骤 2. 主循环，对所有xi，i=1,2,…,n：\n",
    "            2.1：计算xi的sigmoid函数值\n",
    "            2.2：计算xi的梯度\n",
    "    步骤 3. 汇总梯度\n",
    "    \"\"\"\n",
    "    \n",
    "    grad_b =   # 初始化b的梯度\n",
    "    grad_w =   # 初始化w的梯度\n",
    "    n =   # 样本数量\n",
    "    for i in range(n): # 遍历所有样本\n",
    "        z =    # 计算z值\n",
    "        a =    # 计算a值\n",
    "        grad_b =  # 累加b的梯度\n",
    "        grad_w =  # 累加w的梯度\n",
    "    grad_b = grad_b / n # 计算b的平均梯度\n",
    "    grad_w = grad_w / n # 计算w的平均梯度\n",
    "    return grad_b, grad_w"
   ]
  },
  {
   "cell_type": "code",
   "execution_count": 56,
   "id": "08560e07",
   "metadata": {
    "ExecuteTime": {
     "end_time": "2025-03-05T06:21:22.542345Z",
     "start_time": "2025-03-05T06:21:22.538332Z"
    },
    "metadata": {}
   },
   "outputs": [
    {
     "name": "stdout",
     "output_type": "stream",
     "text": [
      "b和w的梯度分别为： (0.0683453237410072, 0.009568345323741005)\n",
      "--------------------------------------------------------------------------------\n",
      "正确的输出应当为：\n",
      "b和w的梯度分别为： (0.0683453237410072, 0.009568345323741005)。\n"
     ]
    }
   ],
   "source": [
    "print('b和w的梯度分别为：', get_grade(bt = 0, wt = 0, x = x, y = y))\n",
    "print('-' * 80)\n",
    "print('正确的输出应当为：')\n",
    "print('b和w的梯度分别为： (0.0683453237410072, 0.009568345323741005)。')"
   ]
  },
  {
   "cell_type": "markdown",
   "id": "7f6fcd4b",
   "metadata": {},
   "source": [
    "我们利用已经构造好的函数，编写梯度下降法求解参数估计值的代码。"
   ]
  },
  {
   "cell_type": "code",
   "execution_count": 33,
   "id": "a453442f",
   "metadata": {
    "ExecuteTime": {
     "end_time": "2025-03-05T06:21:26.499018Z",
     "start_time": "2025-03-05T06:21:26.494545Z"
    },
    "metadata": {}
   },
   "outputs": [],
   "source": [
    "def GD_est(b, w, x, y, alpha=1e-1, tol=1e-8, max_iter=1000):\n",
    "    \"\"\"\n",
    "    输入：\n",
    "        参数b的初值b，参数w的初值w，自变量x、因变量y，学习率alpha（默认值为0.1），\n",
    "        收敛条件tol（默认值为0.0001），最大迭代次数（默认值为1000）\n",
    "    输出：\n",
    "        b和w的优化结果\n",
    "    \n",
    "   主循环：\n",
    "        2.1：依据步骤2，计算b和w的梯度\n",
    "        2.2：依据步骤2，更新b和w\n",
    "        2.3：检查收敛条件（更新前后参数是否有显著改变）\n",
    "    \"\"\"\n",
    "    \n",
    "    for i in range(max_iter): # 主循环\n",
    "        grad_b, grad_w = get_grade(b, w, x, y) # 计算梯度\n",
    "        \n",
    "        # 更新参数\n",
    "        b = \n",
    "        w = \n",
    "    \n",
    "        # 检查收敛条件\n",
    "        update = \n",
    "        if update < tol:\n",
    "            break\n",
    "    \n",
    "    return b, w\n",
    "\n"
   ]
  },
  {
   "cell_type": "code",
   "execution_count": 61,
   "id": "d6ee003e",
   "metadata": {
    "ExecuteTime": {
     "end_time": "2025-03-05T06:22:11.418168Z",
     "start_time": "2025-03-05T06:22:11.407324Z"
    },
    "metadata": {}
   },
   "outputs": [
    {
     "name": "stdout",
     "output_type": "stream",
     "text": [
      "b和w的优化结果分别为： (-0.6904925150918437, 1.5666598363213844)\n",
      "--------------------------------------------------------------------------------\n",
      "正确的输出应当为：\n",
      "b和w的优化结果分别为： (-0.6904925150918437, 1.5666598363213844)\n"
     ]
    }
   ],
   "source": [
    "print('b和w的优化结果分别为：', GD_est(b = 0, w = 0, x = x, y = y, alpha = 5, tol = 1e-10, max_iter = 5000))\n",
    "print('-' * 80)\n",
    "print('正确的输出应当为：')\n",
    "print('b和w的优化结果分别为： (-0.6904925150918437, 1.5666598363213844)')"
   ]
  },
  {
   "cell_type": "code",
   "execution_count": 9,
   "id": "48c96255",
   "metadata": {
    "ExecuteTime": {
     "end_time": "2025-03-10T01:49:57.079416Z",
     "start_time": "2025-03-10T01:49:57.077522Z"
    },
    "metadata": {}
   },
   "outputs": [],
   "source": [
    "alpha = 0.5 # 学习率\n",
    "tol = 10**(-4) # 收敛条件\n",
    "max_iter = 150 # 最大迭代次数"
   ]
  },
  {
   "cell_type": "markdown",
   "id": "468e224a",
   "metadata": {},
   "source": [
    "改变以上三个超参数，观察其对算法的影响"
   ]
  },
  {
   "cell_type": "code",
   "execution_count": 11,
   "id": "90281213-eb1a-41a2-950b-8e9a4c2ee4df",
   "metadata": {
    "ExecuteTime": {
     "end_time": "2025-03-10T01:49:59.698097Z",
     "start_time": "2025-03-10T01:49:59.695146Z"
    }
   },
   "outputs": [],
   "source": [
    "def get_grade_vec(par, aug_x, y):\n",
    "    \"\"\"\n",
    "    输入：\n",
    "        参数向量par、自变量x、因变量y\n",
    "    输出：\n",
    "        参数的梯度向量\n",
    "    \"\"\"\n",
    "    n = len(y) # 样本数量\n",
    "    z = aug_x @ par # 计算z\n",
    "    A = sigmoid(z) # 计算A\n",
    "    nabla_J = aug_x.T @ (A - y) / n   # 计算平均梯度\n",
    "    return nabla_J\n",
    "def GD_est_vec(par, x, y, alpha=10**(-1), tol=10**(-4), max_iter=1000):\n",
    "    \"\"\"\n",
    "    输入：\n",
    "        自变量x，因变量y，学习率alpha，收敛条件tol，最大迭代次数\n",
    "    输出：\n",
    "        b和w的优化结果\n",
    "    \n",
    "    步骤 1. 向自变量x中增加截距项，更改为aug_x\n",
    "    步骤 2. 初始化参数向量par\n",
    "    步骤 3. 主循环\n",
    "            3.1：计算b和w的梯度\n",
    "            3.2：基于学习率和梯度计算参数更新值\n",
    "            3.3：更新参数\n",
    "            3.4：检查退出条件\n",
    "    \"\"\"\n",
    "    n = len(y) # 样本数量\n",
    "    aug_x = np.concatenate((np.ones((n,1)),x), axis = 1) # 加入截距项\n",
    "    \n",
    "    for _ in range(max_iter): # 主循环\n",
    "        nabla_J = get_grade_vec(par, aug_x, y) # 计算梯度\n",
    "        update = alpha* nabla_J # 计算更新值\n",
    "        par -= update # 更新参数\n",
    "\n",
    "        if np.linalg.norm(update) < tol: # 收敛判定\n",
    "            break\n",
    "        \n",
    "    return par  \n",
    " "
   ]
  },
  {
   "cell_type": "code",
   "execution_count": 14,
   "id": "0299da0a",
   "metadata": {
    "ExecuteTime": {
     "end_time": "2025-03-10T01:50:17.139773Z",
     "start_time": "2025-03-10T01:50:16.940867Z"
    },
    "metadata": {}
   },
   "outputs": [
    {
     "data": {
      "text/html": [
       "\n",
       "<button onclick=\"$(this).closest('.cell').find('.input, .output_stderr, .output_error').toggle()\">显示代码</button>\n",
       "<script>\n",
       "    // 默认隐藏逻辑\n",
       "    (function(){\n",
       "        // 通过脚本自身定位到当前单元格\n",
       "        const script = document.currentScript;\n",
       "        const cell = $(script).closest('.cell');\n",
       "        // 隐藏输入区域并修改按钮文字\n",
       "        cell.find('.input, .output_stderr, .output_error').hide();\n",
       "        cell.find('button').text('显示\\隐藏代码'); // 初始化按钮文字\n",
       "    })();\n",
       "</script>\n"
      ]
     },
     "metadata": {},
     "output_type": "display_data"
    },
    {
     "data": {
      "application/javascript": "/* Put everything inside the global mpl namespace */\n/* global mpl */\nwindow.mpl = {};\n\nmpl.get_websocket_type = function () {\n    if (typeof WebSocket !== 'undefined') {\n        return WebSocket;\n    } else if (typeof MozWebSocket !== 'undefined') {\n        return MozWebSocket;\n    } else {\n        alert(\n            'Your browser does not have WebSocket support. ' +\n                'Please try Chrome, Safari or Firefox ≥ 6. ' +\n                'Firefox 4 and 5 are also supported but you ' +\n                'have to enable WebSockets in about:config.'\n        );\n    }\n};\n\nmpl.figure = function (figure_id, websocket, ondownload, parent_element) {\n    this.id = figure_id;\n\n    this.ws = websocket;\n\n    this.supports_binary = this.ws.binaryType !== undefined;\n\n    if (!this.supports_binary) {\n        var warnings = document.getElementById('mpl-warnings');\n        if (warnings) {\n            warnings.style.display = 'block';\n            warnings.textContent =\n                'This browser does not support binary websocket messages. ' +\n                'Performance may be slow.';\n        }\n    }\n\n    this.imageObj = new Image();\n\n    this.context = undefined;\n    this.message = undefined;\n    this.canvas = undefined;\n    this.rubberband_canvas = undefined;\n    this.rubberband_context = undefined;\n    this.format_dropdown = undefined;\n\n    this.image_mode = 'full';\n\n    this.root = document.createElement('div');\n    this.root.setAttribute('style', 'display: inline-block');\n    this._root_extra_style(this.root);\n\n    parent_element.appendChild(this.root);\n\n    this._init_header(this);\n    this._init_canvas(this);\n    this._init_toolbar(this);\n\n    var fig = this;\n\n    this.waiting = false;\n\n    this.ws.onopen = function () {\n        fig.send_message('supports_binary', { value: fig.supports_binary });\n        fig.send_message('send_image_mode', {});\n        if (fig.ratio !== 1) {\n            fig.send_message('set_device_pixel_ratio', {\n                device_pixel_ratio: fig.ratio,\n            });\n        }\n        fig.send_message('refresh', {});\n    };\n\n    this.imageObj.onload = function () {\n        if (fig.image_mode === 'full') {\n            // Full images could contain transparency (where diff images\n            // almost always do), so we need to clear the canvas so that\n            // there is no ghosting.\n            fig.context.clearRect(0, 0, fig.canvas.width, fig.canvas.height);\n        }\n        fig.context.drawImage(fig.imageObj, 0, 0);\n    };\n\n    this.imageObj.onunload = function () {\n        fig.ws.close();\n    };\n\n    this.ws.onmessage = this._make_on_message_function(this);\n\n    this.ondownload = ondownload;\n};\n\nmpl.figure.prototype._init_header = function () {\n    var titlebar = document.createElement('div');\n    titlebar.classList =\n        'ui-dialog-titlebar ui-widget-header ui-corner-all ui-helper-clearfix';\n    var titletext = document.createElement('div');\n    titletext.classList = 'ui-dialog-title';\n    titletext.setAttribute(\n        'style',\n        'width: 100%; text-align: center; padding: 3px;'\n    );\n    titlebar.appendChild(titletext);\n    this.root.appendChild(titlebar);\n    this.header = titletext;\n};\n\nmpl.figure.prototype._canvas_extra_style = function (_canvas_div) {};\n\nmpl.figure.prototype._root_extra_style = function (_canvas_div) {};\n\nmpl.figure.prototype._init_canvas = function () {\n    var fig = this;\n\n    var canvas_div = (this.canvas_div = document.createElement('div'));\n    canvas_div.setAttribute('tabindex', '0');\n    canvas_div.setAttribute(\n        'style',\n        'border: 1px solid #ddd;' +\n            'box-sizing: content-box;' +\n            'clear: both;' +\n            'min-height: 1px;' +\n            'min-width: 1px;' +\n            'outline: 0;' +\n            'overflow: hidden;' +\n            'position: relative;' +\n            'resize: both;' +\n            'z-index: 2;'\n    );\n\n    function on_keyboard_event_closure(name) {\n        return function (event) {\n            return fig.key_event(event, name);\n        };\n    }\n\n    canvas_div.addEventListener(\n        'keydown',\n        on_keyboard_event_closure('key_press')\n    );\n    canvas_div.addEventListener(\n        'keyup',\n        on_keyboard_event_closure('key_release')\n    );\n\n    this._canvas_extra_style(canvas_div);\n    this.root.appendChild(canvas_div);\n\n    var canvas = (this.canvas = document.createElement('canvas'));\n    canvas.classList.add('mpl-canvas');\n    canvas.setAttribute(\n        'style',\n        'box-sizing: content-box;' +\n            'pointer-events: none;' +\n            'position: relative;' +\n            'z-index: 0;'\n    );\n\n    this.context = canvas.getContext('2d');\n\n    var backingStore =\n        this.context.backingStorePixelRatio ||\n        this.context.webkitBackingStorePixelRatio ||\n        this.context.mozBackingStorePixelRatio ||\n        this.context.msBackingStorePixelRatio ||\n        this.context.oBackingStorePixelRatio ||\n        this.context.backingStorePixelRatio ||\n        1;\n\n    this.ratio = (window.devicePixelRatio || 1) / backingStore;\n\n    var rubberband_canvas = (this.rubberband_canvas = document.createElement(\n        'canvas'\n    ));\n    rubberband_canvas.setAttribute(\n        'style',\n        'box-sizing: content-box;' +\n            'left: 0;' +\n            'pointer-events: none;' +\n            'position: absolute;' +\n            'top: 0;' +\n            'z-index: 1;'\n    );\n\n    // Apply a ponyfill if ResizeObserver is not implemented by browser.\n    if (this.ResizeObserver === undefined) {\n        if (window.ResizeObserver !== undefined) {\n            this.ResizeObserver = window.ResizeObserver;\n        } else {\n            var obs = _JSXTOOLS_RESIZE_OBSERVER({});\n            this.ResizeObserver = obs.ResizeObserver;\n        }\n    }\n\n    this.resizeObserverInstance = new this.ResizeObserver(function (entries) {\n        // There's no need to resize if the WebSocket is not connected:\n        // - If it is still connecting, then we will get an initial resize from\n        //   Python once it connects.\n        // - If it has disconnected, then resizing will clear the canvas and\n        //   never get anything back to refill it, so better to not resize and\n        //   keep something visible.\n        if (fig.ws.readyState != 1) {\n            return;\n        }\n        var nentries = entries.length;\n        for (var i = 0; i < nentries; i++) {\n            var entry = entries[i];\n            var width, height;\n            if (entry.contentBoxSize) {\n                if (entry.contentBoxSize instanceof Array) {\n                    // Chrome 84 implements new version of spec.\n                    width = entry.contentBoxSize[0].inlineSize;\n                    height = entry.contentBoxSize[0].blockSize;\n                } else {\n                    // Firefox implements old version of spec.\n                    width = entry.contentBoxSize.inlineSize;\n                    height = entry.contentBoxSize.blockSize;\n                }\n            } else {\n                // Chrome <84 implements even older version of spec.\n                width = entry.contentRect.width;\n                height = entry.contentRect.height;\n            }\n\n            // Keep the size of the canvas and rubber band canvas in sync with\n            // the canvas container.\n            if (entry.devicePixelContentBoxSize) {\n                // Chrome 84 implements new version of spec.\n                canvas.setAttribute(\n                    'width',\n                    entry.devicePixelContentBoxSize[0].inlineSize\n                );\n                canvas.setAttribute(\n                    'height',\n                    entry.devicePixelContentBoxSize[0].blockSize\n                );\n            } else {\n                canvas.setAttribute('width', width * fig.ratio);\n                canvas.setAttribute('height', height * fig.ratio);\n            }\n            /* This rescales the canvas back to display pixels, so that it\n             * appears correct on HiDPI screens. */\n            canvas.style.width = width + 'px';\n            canvas.style.height = height + 'px';\n\n            rubberband_canvas.setAttribute('width', width);\n            rubberband_canvas.setAttribute('height', height);\n\n            // And update the size in Python. We ignore the initial 0/0 size\n            // that occurs as the element is placed into the DOM, which should\n            // otherwise not happen due to the minimum size styling.\n            if (width != 0 && height != 0) {\n                fig.request_resize(width, height);\n            }\n        }\n    });\n    this.resizeObserverInstance.observe(canvas_div);\n\n    function on_mouse_event_closure(name) {\n        /* User Agent sniffing is bad, but WebKit is busted:\n         * https://bugs.webkit.org/show_bug.cgi?id=144526\n         * https://bugs.webkit.org/show_bug.cgi?id=181818\n         * The worst that happens here is that they get an extra browser\n         * selection when dragging, if this check fails to catch them.\n         */\n        var UA = navigator.userAgent;\n        var isWebKit = /AppleWebKit/.test(UA) && !/Chrome/.test(UA);\n        if(isWebKit) {\n            return function (event) {\n                /* This prevents the web browser from automatically changing to\n                 * the text insertion cursor when the button is pressed. We\n                 * want to control all of the cursor setting manually through\n                 * the 'cursor' event from matplotlib */\n                event.preventDefault()\n                return fig.mouse_event(event, name);\n            };\n        } else {\n            return function (event) {\n                return fig.mouse_event(event, name);\n            };\n        }\n    }\n\n    canvas_div.addEventListener(\n        'mousedown',\n        on_mouse_event_closure('button_press')\n    );\n    canvas_div.addEventListener(\n        'mouseup',\n        on_mouse_event_closure('button_release')\n    );\n    canvas_div.addEventListener(\n        'dblclick',\n        on_mouse_event_closure('dblclick')\n    );\n    // Throttle sequential mouse events to 1 every 20ms.\n    canvas_div.addEventListener(\n        'mousemove',\n        on_mouse_event_closure('motion_notify')\n    );\n\n    canvas_div.addEventListener(\n        'mouseenter',\n        on_mouse_event_closure('figure_enter')\n    );\n    canvas_div.addEventListener(\n        'mouseleave',\n        on_mouse_event_closure('figure_leave')\n    );\n\n    canvas_div.addEventListener('wheel', function (event) {\n        if (event.deltaY < 0) {\n            event.step = 1;\n        } else {\n            event.step = -1;\n        }\n        on_mouse_event_closure('scroll')(event);\n    });\n\n    canvas_div.appendChild(canvas);\n    canvas_div.appendChild(rubberband_canvas);\n\n    this.rubberband_context = rubberband_canvas.getContext('2d');\n    this.rubberband_context.strokeStyle = '#000000';\n\n    this._resize_canvas = function (width, height, forward) {\n        if (forward) {\n            canvas_div.style.width = width + 'px';\n            canvas_div.style.height = height + 'px';\n        }\n    };\n\n    // Disable right mouse context menu.\n    canvas_div.addEventListener('contextmenu', function (_e) {\n        event.preventDefault();\n        return false;\n    });\n\n    function set_focus() {\n        canvas.focus();\n        canvas_div.focus();\n    }\n\n    window.setTimeout(set_focus, 100);\n};\n\nmpl.figure.prototype._init_toolbar = function () {\n    var fig = this;\n\n    var toolbar = document.createElement('div');\n    toolbar.classList = 'mpl-toolbar';\n    this.root.appendChild(toolbar);\n\n    function on_click_closure(name) {\n        return function (_event) {\n            return fig.toolbar_button_onclick(name);\n        };\n    }\n\n    function on_mouseover_closure(tooltip) {\n        return function (event) {\n            if (!event.currentTarget.disabled) {\n                return fig.toolbar_button_onmouseover(tooltip);\n            }\n        };\n    }\n\n    fig.buttons = {};\n    var buttonGroup = document.createElement('div');\n    buttonGroup.classList = 'mpl-button-group';\n    for (var toolbar_ind in mpl.toolbar_items) {\n        var name = mpl.toolbar_items[toolbar_ind][0];\n        var tooltip = mpl.toolbar_items[toolbar_ind][1];\n        var image = mpl.toolbar_items[toolbar_ind][2];\n        var method_name = mpl.toolbar_items[toolbar_ind][3];\n\n        if (!name) {\n            /* Instead of a spacer, we start a new button group. */\n            if (buttonGroup.hasChildNodes()) {\n                toolbar.appendChild(buttonGroup);\n            }\n            buttonGroup = document.createElement('div');\n            buttonGroup.classList = 'mpl-button-group';\n            continue;\n        }\n\n        var button = (fig.buttons[name] = document.createElement('button'));\n        button.classList = 'mpl-widget';\n        button.setAttribute('role', 'button');\n        button.setAttribute('aria-disabled', 'false');\n        button.addEventListener('click', on_click_closure(method_name));\n        button.addEventListener('mouseover', on_mouseover_closure(tooltip));\n\n        var icon_img = document.createElement('img');\n        icon_img.src = '_images/' + image + '.png';\n        icon_img.srcset = '_images/' + image + '_large.png 2x';\n        icon_img.alt = tooltip;\n        button.appendChild(icon_img);\n\n        buttonGroup.appendChild(button);\n    }\n\n    if (buttonGroup.hasChildNodes()) {\n        toolbar.appendChild(buttonGroup);\n    }\n\n    var fmt_picker = document.createElement('select');\n    fmt_picker.classList = 'mpl-widget';\n    toolbar.appendChild(fmt_picker);\n    this.format_dropdown = fmt_picker;\n\n    for (var ind in mpl.extensions) {\n        var fmt = mpl.extensions[ind];\n        var option = document.createElement('option');\n        option.selected = fmt === mpl.default_extension;\n        option.innerHTML = fmt;\n        fmt_picker.appendChild(option);\n    }\n\n    var status_bar = document.createElement('span');\n    status_bar.classList = 'mpl-message';\n    toolbar.appendChild(status_bar);\n    this.message = status_bar;\n};\n\nmpl.figure.prototype.request_resize = function (x_pixels, y_pixels) {\n    // Request matplotlib to resize the figure. Matplotlib will then trigger a resize in the client,\n    // which will in turn request a refresh of the image.\n    this.send_message('resize', { width: x_pixels, height: y_pixels });\n};\n\nmpl.figure.prototype.send_message = function (type, properties) {\n    properties['type'] = type;\n    properties['figure_id'] = this.id;\n    this.ws.send(JSON.stringify(properties));\n};\n\nmpl.figure.prototype.send_draw_message = function () {\n    if (!this.waiting) {\n        this.waiting = true;\n        this.ws.send(JSON.stringify({ type: 'draw', figure_id: this.id }));\n    }\n};\n\nmpl.figure.prototype.handle_save = function (fig, _msg) {\n    var format_dropdown = fig.format_dropdown;\n    var format = format_dropdown.options[format_dropdown.selectedIndex].value;\n    fig.ondownload(fig, format);\n};\n\nmpl.figure.prototype.handle_resize = function (fig, msg) {\n    var size = msg['size'];\n    if (size[0] !== fig.canvas.width || size[1] !== fig.canvas.height) {\n        fig._resize_canvas(size[0], size[1], msg['forward']);\n        fig.send_message('refresh', {});\n    }\n};\n\nmpl.figure.prototype.handle_rubberband = function (fig, msg) {\n    var x0 = msg['x0'] / fig.ratio;\n    var y0 = (fig.canvas.height - msg['y0']) / fig.ratio;\n    var x1 = msg['x1'] / fig.ratio;\n    var y1 = (fig.canvas.height - msg['y1']) / fig.ratio;\n    x0 = Math.floor(x0) + 0.5;\n    y0 = Math.floor(y0) + 0.5;\n    x1 = Math.floor(x1) + 0.5;\n    y1 = Math.floor(y1) + 0.5;\n    var min_x = Math.min(x0, x1);\n    var min_y = Math.min(y0, y1);\n    var width = Math.abs(x1 - x0);\n    var height = Math.abs(y1 - y0);\n\n    fig.rubberband_context.clearRect(\n        0,\n        0,\n        fig.canvas.width / fig.ratio,\n        fig.canvas.height / fig.ratio\n    );\n\n    fig.rubberband_context.strokeRect(min_x, min_y, width, height);\n};\n\nmpl.figure.prototype.handle_figure_label = function (fig, msg) {\n    // Updates the figure title.\n    fig.header.textContent = msg['label'];\n};\n\nmpl.figure.prototype.handle_cursor = function (fig, msg) {\n    fig.canvas_div.style.cursor = msg['cursor'];\n};\n\nmpl.figure.prototype.handle_message = function (fig, msg) {\n    fig.message.textContent = msg['message'];\n};\n\nmpl.figure.prototype.handle_draw = function (fig, _msg) {\n    // Request the server to send over a new figure.\n    fig.send_draw_message();\n};\n\nmpl.figure.prototype.handle_image_mode = function (fig, msg) {\n    fig.image_mode = msg['mode'];\n};\n\nmpl.figure.prototype.handle_history_buttons = function (fig, msg) {\n    for (var key in msg) {\n        if (!(key in fig.buttons)) {\n            continue;\n        }\n        fig.buttons[key].disabled = !msg[key];\n        fig.buttons[key].setAttribute('aria-disabled', !msg[key]);\n    }\n};\n\nmpl.figure.prototype.handle_navigate_mode = function (fig, msg) {\n    if (msg['mode'] === 'PAN') {\n        fig.buttons['Pan'].classList.add('active');\n        fig.buttons['Zoom'].classList.remove('active');\n    } else if (msg['mode'] === 'ZOOM') {\n        fig.buttons['Pan'].classList.remove('active');\n        fig.buttons['Zoom'].classList.add('active');\n    } else {\n        fig.buttons['Pan'].classList.remove('active');\n        fig.buttons['Zoom'].classList.remove('active');\n    }\n};\n\nmpl.figure.prototype.updated_canvas_event = function () {\n    // Called whenever the canvas gets updated.\n    this.send_message('ack', {});\n};\n\n// A function to construct a web socket function for onmessage handling.\n// Called in the figure constructor.\nmpl.figure.prototype._make_on_message_function = function (fig) {\n    return function socket_on_message(evt) {\n        if (evt.data instanceof Blob) {\n            var img = evt.data;\n            if (img.type !== 'image/png') {\n                /* FIXME: We get \"Resource interpreted as Image but\n                 * transferred with MIME type text/plain:\" errors on\n                 * Chrome.  But how to set the MIME type?  It doesn't seem\n                 * to be part of the websocket stream */\n                img.type = 'image/png';\n            }\n\n            /* Free the memory for the previous frames */\n            if (fig.imageObj.src) {\n                (window.URL || window.webkitURL).revokeObjectURL(\n                    fig.imageObj.src\n                );\n            }\n\n            fig.imageObj.src = (window.URL || window.webkitURL).createObjectURL(\n                img\n            );\n            fig.updated_canvas_event();\n            fig.waiting = false;\n            return;\n        } else if (\n            typeof evt.data === 'string' &&\n            evt.data.slice(0, 21) === 'data:image/png;base64'\n        ) {\n            fig.imageObj.src = evt.data;\n            fig.updated_canvas_event();\n            fig.waiting = false;\n            return;\n        }\n\n        var msg = JSON.parse(evt.data);\n        var msg_type = msg['type'];\n\n        // Call the  \"handle_{type}\" callback, which takes\n        // the figure and JSON message as its only arguments.\n        try {\n            var callback = fig['handle_' + msg_type];\n        } catch (e) {\n            console.log(\n                \"No handler for the '\" + msg_type + \"' message type: \",\n                msg\n            );\n            return;\n        }\n\n        if (callback) {\n            try {\n                // console.log(\"Handling '\" + msg_type + \"' message: \", msg);\n                callback(fig, msg);\n            } catch (e) {\n                console.log(\n                    \"Exception inside the 'handler_\" + msg_type + \"' callback:\",\n                    e,\n                    e.stack,\n                    msg\n                );\n            }\n        }\n    };\n};\n\nfunction getModifiers(event) {\n    var mods = [];\n    if (event.ctrlKey) {\n        mods.push('ctrl');\n    }\n    if (event.altKey) {\n        mods.push('alt');\n    }\n    if (event.shiftKey) {\n        mods.push('shift');\n    }\n    if (event.metaKey) {\n        mods.push('meta');\n    }\n    return mods;\n}\n\n/*\n * return a copy of an object with only non-object keys\n * we need this to avoid circular references\n * https://stackoverflow.com/a/24161582/3208463\n */\nfunction simpleKeys(original) {\n    return Object.keys(original).reduce(function (obj, key) {\n        if (typeof original[key] !== 'object') {\n            obj[key] = original[key];\n        }\n        return obj;\n    }, {});\n}\n\nmpl.figure.prototype.mouse_event = function (event, name) {\n    if (name === 'button_press') {\n        this.canvas.focus();\n        this.canvas_div.focus();\n    }\n\n    // from https://stackoverflow.com/q/1114465\n    var boundingRect = this.canvas.getBoundingClientRect();\n    var x = (event.clientX - boundingRect.left) * this.ratio;\n    var y = (event.clientY - boundingRect.top) * this.ratio;\n\n    this.send_message(name, {\n        x: x,\n        y: y,\n        button: event.button,\n        step: event.step,\n        buttons: event.buttons,\n        modifiers: getModifiers(event),\n        guiEvent: simpleKeys(event),\n    });\n\n    return false;\n};\n\nmpl.figure.prototype._key_event_extra = function (_event, _name) {\n    // Handle any extra behaviour associated with a key event\n};\n\nmpl.figure.prototype.key_event = function (event, name) {\n    // Prevent repeat events\n    if (name === 'key_press') {\n        if (event.key === this._key) {\n            return;\n        } else {\n            this._key = event.key;\n        }\n    }\n    if (name === 'key_release') {\n        this._key = null;\n    }\n\n    var value = '';\n    if (event.ctrlKey && event.key !== 'Control') {\n        value += 'ctrl+';\n    }\n    else if (event.altKey && event.key !== 'Alt') {\n        value += 'alt+';\n    }\n    else if (event.shiftKey && event.key !== 'Shift') {\n        value += 'shift+';\n    }\n\n    value += 'k' + event.key;\n\n    this._key_event_extra(event, name);\n\n    this.send_message(name, { key: value, guiEvent: simpleKeys(event) });\n    return false;\n};\n\nmpl.figure.prototype.toolbar_button_onclick = function (name) {\n    if (name === 'download') {\n        this.handle_save(this, null);\n    } else {\n        this.send_message('toolbar_button', { name: name });\n    }\n};\n\nmpl.figure.prototype.toolbar_button_onmouseover = function (tooltip) {\n    this.message.textContent = tooltip;\n};\n\n///////////////// REMAINING CONTENT GENERATED BY embed_js.py /////////////////\n// prettier-ignore\nvar _JSXTOOLS_RESIZE_OBSERVER=function(A){var t,i=new WeakMap,n=new WeakMap,a=new WeakMap,r=new WeakMap,o=new Set;function s(e){if(!(this instanceof s))throw new TypeError(\"Constructor requires 'new' operator\");i.set(this,e)}function h(){throw new TypeError(\"Function is not a constructor\")}function c(e,t,i,n){e=0 in arguments?Number(arguments[0]):0,t=1 in arguments?Number(arguments[1]):0,i=2 in arguments?Number(arguments[2]):0,n=3 in arguments?Number(arguments[3]):0,this.right=(this.x=this.left=e)+(this.width=i),this.bottom=(this.y=this.top=t)+(this.height=n),Object.freeze(this)}function d(){t=requestAnimationFrame(d);var s=new WeakMap,p=new Set;o.forEach((function(t){r.get(t).forEach((function(i){var r=t instanceof window.SVGElement,o=a.get(t),d=r?0:parseFloat(o.paddingTop),f=r?0:parseFloat(o.paddingRight),l=r?0:parseFloat(o.paddingBottom),u=r?0:parseFloat(o.paddingLeft),g=r?0:parseFloat(o.borderTopWidth),m=r?0:parseFloat(o.borderRightWidth),w=r?0:parseFloat(o.borderBottomWidth),b=u+f,F=d+l,v=(r?0:parseFloat(o.borderLeftWidth))+m,W=g+w,y=r?0:t.offsetHeight-W-t.clientHeight,E=r?0:t.offsetWidth-v-t.clientWidth,R=b+v,z=F+W,M=r?t.width:parseFloat(o.width)-R-E,O=r?t.height:parseFloat(o.height)-z-y;if(n.has(t)){var k=n.get(t);if(k[0]===M&&k[1]===O)return}n.set(t,[M,O]);var S=Object.create(h.prototype);S.target=t,S.contentRect=new c(u,d,M,O),s.has(i)||(s.set(i,[]),p.add(i)),s.get(i).push(S)}))})),p.forEach((function(e){i.get(e).call(e,s.get(e),e)}))}return s.prototype.observe=function(i){if(i instanceof window.Element){r.has(i)||(r.set(i,new Set),o.add(i),a.set(i,window.getComputedStyle(i)));var n=r.get(i);n.has(this)||n.add(this),cancelAnimationFrame(t),t=requestAnimationFrame(d)}},s.prototype.unobserve=function(i){if(i instanceof window.Element&&r.has(i)){var n=r.get(i);n.has(this)&&(n.delete(this),n.size||(r.delete(i),o.delete(i))),n.size||r.delete(i),o.size||cancelAnimationFrame(t)}},A.DOMRectReadOnly=c,A.ResizeObserver=s,A.ResizeObserverEntry=h,A}; // eslint-disable-line\nmpl.toolbar_items = [[\"Home\", \"Reset original view\", \"fa fa-home\", \"home\"], [\"Back\", \"Back to previous view\", \"fa fa-arrow-left\", \"back\"], [\"Forward\", \"Forward to next view\", \"fa fa-arrow-right\", \"forward\"], [\"\", \"\", \"\", \"\"], [\"Pan\", \"Left button pans, Right button zooms\\nx/y fixes axis, CTRL fixes aspect\", \"fa fa-arrows\", \"pan\"], [\"Zoom\", \"Zoom to rectangle\\nx/y fixes axis\", \"fa fa-square-o\", \"zoom\"], [\"\", \"\", \"\", \"\"], [\"Download\", \"Download plot\", \"fa fa-floppy-o\", \"download\"]];\n\nmpl.extensions = [\"eps\", \"jpeg\", \"pgf\", \"pdf\", \"png\", \"ps\", \"raw\", \"svg\", \"tif\", \"webp\"];\n\nmpl.default_extension = \"png\";/* global mpl */\n\nvar comm_websocket_adapter = function (comm) {\n    // Create a \"websocket\"-like object which calls the given IPython comm\n    // object with the appropriate methods. Currently this is a non binary\n    // socket, so there is still some room for performance tuning.\n    var ws = {};\n\n    ws.binaryType = comm.kernel.ws.binaryType;\n    ws.readyState = comm.kernel.ws.readyState;\n    function updateReadyState(_event) {\n        if (comm.kernel.ws) {\n            ws.readyState = comm.kernel.ws.readyState;\n        } else {\n            ws.readyState = 3; // Closed state.\n        }\n    }\n    comm.kernel.ws.addEventListener('open', updateReadyState);\n    comm.kernel.ws.addEventListener('close', updateReadyState);\n    comm.kernel.ws.addEventListener('error', updateReadyState);\n\n    ws.close = function () {\n        comm.close();\n    };\n    ws.send = function (m) {\n        //console.log('sending', m);\n        comm.send(m);\n    };\n    // Register the callback with on_msg.\n    comm.on_msg(function (msg) {\n        //console.log('receiving', msg['content']['data'], msg);\n        var data = msg['content']['data'];\n        if (data['blob'] !== undefined) {\n            data = {\n                data: new Blob(msg['buffers'], { type: data['blob'] }),\n            };\n        }\n        // Pass the mpl event to the overridden (by mpl) onmessage function.\n        ws.onmessage(data);\n    });\n    return ws;\n};\n\nmpl.mpl_figure_comm = function (comm, msg) {\n    // This is the function which gets called when the mpl process\n    // starts-up an IPython Comm through the \"matplotlib\" channel.\n\n    var id = msg.content.data.id;\n    // Get hold of the div created by the display call when the Comm\n    // socket was opened in Python.\n    var element = document.getElementById(id);\n    var ws_proxy = comm_websocket_adapter(comm);\n\n    function ondownload(figure, _format) {\n        window.open(figure.canvas.toDataURL());\n    }\n\n    var fig = new mpl.figure(id, ws_proxy, ondownload, element);\n\n    // Call onopen now - mpl needs it, as it is assuming we've passed it a real\n    // web socket which is closed, not our websocket->open comm proxy.\n    ws_proxy.onopen();\n\n    fig.parent_element = element;\n    fig.cell_info = mpl.find_output_cell(\"<div id='\" + id + \"'></div>\");\n    if (!fig.cell_info) {\n        console.error('Failed to find cell for figure', id, fig);\n        return;\n    }\n    fig.cell_info[0].output_area.element.on(\n        'cleared',\n        { fig: fig },\n        fig._remove_fig_handler\n    );\n};\n\nmpl.figure.prototype.handle_close = function (fig, msg) {\n    var width = fig.canvas.width / fig.ratio;\n    fig.cell_info[0].output_area.element.off(\n        'cleared',\n        fig._remove_fig_handler\n    );\n    fig.resizeObserverInstance.unobserve(fig.canvas_div);\n\n    // Update the output cell to use the data from the current canvas.\n    fig.push_to_output();\n    var dataURL = fig.canvas.toDataURL();\n    // Re-enable the keyboard manager in IPython - without this line, in FF,\n    // the notebook keyboard shortcuts fail.\n    IPython.keyboard_manager.enable();\n    fig.parent_element.innerHTML =\n        '<img src=\"' + dataURL + '\" width=\"' + width + '\">';\n    fig.close_ws(fig, msg);\n};\n\nmpl.figure.prototype.close_ws = function (fig, msg) {\n    fig.send_message('closing', msg);\n    // fig.ws.close()\n};\n\nmpl.figure.prototype.push_to_output = function (_remove_interactive) {\n    // Turn the data on the canvas into data in the output cell.\n    var width = this.canvas.width / this.ratio;\n    var dataURL = this.canvas.toDataURL();\n    this.cell_info[1]['text/html'] =\n        '<img src=\"' + dataURL + '\" width=\"' + width + '\">';\n};\n\nmpl.figure.prototype.updated_canvas_event = function () {\n    // Tell IPython that the notebook contents must change.\n    IPython.notebook.set_dirty(true);\n    this.send_message('ack', {});\n    var fig = this;\n    // Wait a second, then push the new image to the DOM so\n    // that it is saved nicely (might be nice to debounce this).\n    setTimeout(function () {\n        fig.push_to_output();\n    }, 1000);\n};\n\nmpl.figure.prototype._init_toolbar = function () {\n    var fig = this;\n\n    var toolbar = document.createElement('div');\n    toolbar.classList = 'btn-toolbar';\n    this.root.appendChild(toolbar);\n\n    function on_click_closure(name) {\n        return function (_event) {\n            return fig.toolbar_button_onclick(name);\n        };\n    }\n\n    function on_mouseover_closure(tooltip) {\n        return function (event) {\n            if (!event.currentTarget.disabled) {\n                return fig.toolbar_button_onmouseover(tooltip);\n            }\n        };\n    }\n\n    fig.buttons = {};\n    var buttonGroup = document.createElement('div');\n    buttonGroup.classList = 'btn-group';\n    var button;\n    for (var toolbar_ind in mpl.toolbar_items) {\n        var name = mpl.toolbar_items[toolbar_ind][0];\n        var tooltip = mpl.toolbar_items[toolbar_ind][1];\n        var image = mpl.toolbar_items[toolbar_ind][2];\n        var method_name = mpl.toolbar_items[toolbar_ind][3];\n\n        if (!name) {\n            /* Instead of a spacer, we start a new button group. */\n            if (buttonGroup.hasChildNodes()) {\n                toolbar.appendChild(buttonGroup);\n            }\n            buttonGroup = document.createElement('div');\n            buttonGroup.classList = 'btn-group';\n            continue;\n        }\n\n        button = fig.buttons[name] = document.createElement('button');\n        button.classList = 'btn btn-default';\n        button.href = '#';\n        button.title = name;\n        button.innerHTML = '<i class=\"fa ' + image + ' fa-lg\"></i>';\n        button.addEventListener('click', on_click_closure(method_name));\n        button.addEventListener('mouseover', on_mouseover_closure(tooltip));\n        buttonGroup.appendChild(button);\n    }\n\n    if (buttonGroup.hasChildNodes()) {\n        toolbar.appendChild(buttonGroup);\n    }\n\n    // Add the status bar.\n    var status_bar = document.createElement('span');\n    status_bar.classList = 'mpl-message pull-right';\n    toolbar.appendChild(status_bar);\n    this.message = status_bar;\n\n    // Add the close button to the window.\n    var buttongrp = document.createElement('div');\n    buttongrp.classList = 'btn-group inline pull-right';\n    button = document.createElement('button');\n    button.classList = 'btn btn-mini btn-primary';\n    button.href = '#';\n    button.title = 'Stop Interaction';\n    button.innerHTML = '<i class=\"fa fa-power-off icon-remove icon-large\"></i>';\n    button.addEventListener('click', function (_evt) {\n        fig.handle_close(fig, {});\n    });\n    button.addEventListener(\n        'mouseover',\n        on_mouseover_closure('Stop Interaction')\n    );\n    buttongrp.appendChild(button);\n    var titlebar = this.root.querySelector('.ui-dialog-titlebar');\n    titlebar.insertBefore(buttongrp, titlebar.firstChild);\n};\n\nmpl.figure.prototype._remove_fig_handler = function (event) {\n    var fig = event.data.fig;\n    if (event.target !== this) {\n        // Ignore bubbled events from children.\n        return;\n    }\n    fig.close_ws(fig, {});\n};\n\nmpl.figure.prototype._root_extra_style = function (el) {\n    el.style.boxSizing = 'content-box'; // override notebook setting of border-box.\n};\n\nmpl.figure.prototype._canvas_extra_style = function (el) {\n    // this is important to make the div 'focusable\n    el.setAttribute('tabindex', 0);\n    // reach out to IPython and tell the keyboard manager to turn it's self\n    // off when our div gets focus\n\n    // location in version 3\n    if (IPython.notebook.keyboard_manager) {\n        IPython.notebook.keyboard_manager.register_events(el);\n    } else {\n        // location in version 2\n        IPython.keyboard_manager.register_events(el);\n    }\n};\n\nmpl.figure.prototype._key_event_extra = function (event, _name) {\n    // Check for shift+enter\n    if (event.shiftKey && event.which === 13) {\n        this.canvas_div.blur();\n        // select the cell after this one\n        var index = IPython.notebook.find_cell_index(this.cell_info[0]);\n        IPython.notebook.select(index + 1);\n    }\n};\n\nmpl.figure.prototype.handle_save = function (fig, _msg) {\n    fig.ondownload(fig, null);\n};\n\nmpl.find_output_cell = function (html_output) {\n    // Return the cell and output element which can be found *uniquely* in the notebook.\n    // Note - this is a bit hacky, but it is done because the \"notebook_saving.Notebook\"\n    // IPython event is triggered only after the cells have been serialised, which for\n    // our purposes (turning an active figure into a static one), is too late.\n    var cells = IPython.notebook.get_cells();\n    var ncells = cells.length;\n    for (var i = 0; i < ncells; i++) {\n        var cell = cells[i];\n        if (cell.cell_type === 'code') {\n            for (var j = 0; j < cell.output_area.outputs.length; j++) {\n                var data = cell.output_area.outputs[j];\n                if (data.data) {\n                    // IPython >= 3 moved mimebundle to data attribute of output\n                    data = data.data;\n                }\n                if (data['text/html'] === html_output) {\n                    return [cell, data, j];\n                }\n            }\n        }\n    }\n};\n\n// Register the function which deals with the matplotlib target/channel.\n// The kernel may be null if the page has been refreshed.\nif (IPython.notebook.kernel !== null) {\n    IPython.notebook.kernel.comm_manager.register_target(\n        'matplotlib',\n        mpl.mpl_figure_comm\n    );\n}\n",
      "text/plain": [
       "<IPython.core.display.Javascript object>"
      ]
     },
     "metadata": {},
     "output_type": "display_data"
    },
    {
     "data": {
      "text/html": [
       "<div id='1c080176-ccc0-426c-ba3f-f52adf1e5ce9'></div>"
      ],
      "text/plain": [
       "<IPython.core.display.HTML object>"
      ]
     },
     "metadata": {},
     "output_type": "display_data"
    }
   ],
   "source": [
    "from matplotlib.animation import FuncAnimation # 用于展示画图过程\n",
    "from IPython.display import display_html\n",
    "display_html(\"\"\"\n",
    "<button onclick=\"$(this).closest('.cell').find('.input, .output_stderr, .output_error').toggle()\">显示代码</button>\n",
    "<script>\n",
    "    // 默认隐藏逻辑\n",
    "    (function(){\n",
    "        // 通过脚本自身定位到当前单元格\n",
    "        const script = document.currentScript;\n",
    "        const cell = $(script).closest('.cell');\n",
    "        // 隐藏输入区域并修改按钮文字\n",
    "        cell.find('.input, .output_stderr, .output_error').hide();\n",
    "        cell.find('button').text('显示\\隐藏代码'); // 初始化按钮文字\n",
    "    })();\n",
    "</script>\n",
    "\"\"\", raw=True)\n",
    "\n",
    "def logit_loss_trace(par, x, y):\n",
    "    z = x @ par\n",
    "    A = sigmoid(z)\n",
    "    loss = -np.mean(y * np.log(A + 1e-15) + (1 - y) * np.log(1 - A + 1e-15))  # 添加小常数避免log(0)\n",
    "    return loss\n",
    "\n",
    "def GD_est_trace(x,y, alpha=10**(-1), tol=10**(-4), max_iter=1000):\n",
    "    n = len(y)\n",
    "    aug_x = np.concatenate((np.ones((n,1)),x), axis = 1) # 加入截距项\n",
    "\n",
    "    par = np.ones((2,1))\n",
    "    update = np.ones((2,1))\n",
    "    \n",
    "    # 初始化历史记录（包含初始参数）\n",
    "    history = [par.copy()]\n",
    "    \n",
    "    iter_index = 0\n",
    "    while iter_index < max_iter and np.linalg.norm(update) > tol:\n",
    "        z = aug_x @ par\n",
    "        A = sigmoid(z)\n",
    "        \n",
    "        nabla_J = aug_x.T @ (A - y) / n\n",
    "        \n",
    "        update = alpha* nabla_J\n",
    "        par -= update\n",
    "        \n",
    "        # 记录更新后的参数\n",
    "        history.append(par.copy())\n",
    "        iter_index += 1\n",
    "        \n",
    "    return par, np.array(history)\n",
    "\n",
    "# 开启交互模式，展示动图\n",
    "%matplotlib notebook\n",
    "\n",
    "# 重新设置自变量与因变量\n",
    "x = df['换手率(%)'].T.values.reshape(-1, 1)\n",
    "y = (df['涨跌幅(%)']>0).astype(int).T.values.reshape(-1, 1)\n",
    "\n",
    "# 运行BGD算法并获取历史参数\n",
    "par, history = GD_est_trace(x, y, alpha, tol, max_iter)\n",
    "trajectory = history.squeeze()\n",
    "\n",
    "# 计算 Loss 轨迹\n",
    "aug_x = np.concatenate((np.ones((len(x),1)),x), axis = 1)\n",
    "loss_history = [logit_loss_trace(par.reshape(-1, 1), aug_x, y) for par in trajectory]\n",
    "\n",
    "# 创建画布\n",
    "fig, (ax1, ax2) = plt.subplots(1, 2, figsize=(10, 5))\n",
    "\n",
    "# 创建参数空间的网格\n",
    "theta0_range = np.linspace(-4, 4, 100)  # 截距范围\n",
    "theta1_range = np.linspace(-4, 4, 100)  # 特征系数范围\n",
    "Theta0, Theta1 = np.meshgrid(theta0_range, theta1_range) # 创建网格\n",
    "Loss = np.zeros_like(Theta0) # 初始化 Loss 矩阵\n",
    "\n",
    "# 计算损失函数在网格上的值\n",
    "for i in range(Theta0.shape[0]):\n",
    "    for j in range(Theta0.shape[1]):\n",
    "        par = np.array([[Theta0[i, j]], [Theta1[i, j]]])\n",
    "        Loss[i, j] = logit_loss_trace(par, aug_x, y)\n",
    "\n",
    "# 初始化左侧图（参数轨迹）\n",
    "contour = ax1.contourf(Theta0, Theta1, Loss, levels=40, cmap='coolwarm')\n",
    "ax1.clabel(contour, inline=True, fontsize=8)\n",
    "fig.colorbar(contour, ax=ax1)\n",
    "\n",
    "ax1.set_xlabel('截距项')\n",
    "ax1.set_ylabel('特征参数')\n",
    "ax1.set_xlim(-4, 4)\n",
    "ax1.set_ylim(-4, 4)\n",
    "ax1.set_title('Logit 模型参数轨迹')\n",
    "ax1.grid(ls='--', alpha=0.5)\n",
    "\n",
    "# 初始化右侧图（Loss 轨迹）\n",
    "ax2.set_xlabel('迭代次数')\n",
    "ax2.set_ylabel('Loss 值')\n",
    "ax2.set_title('Loss 随迭代次数的变化')\n",
    "ax2.grid(ls='--', alpha=0.5)\n",
    "\n",
    "# 初始化轨迹线和点\n",
    "param_line, = ax1.plot([], [], 'b-o', markersize=3, linewidth=1, label='参数轨迹')\n",
    "loss_line, = ax2.plot([], [], 'r-', linewidth=1.5, label='Loss 轨迹')\n",
    "\n",
    "# 添加图例\n",
    "ax1.legend()\n",
    "ax2.legend()\n",
    "\n",
    "# 更新函数\n",
    "def update(frame):\n",
    "    # 更新左侧图（参数轨迹）\n",
    "    param_line.set_data(trajectory[:frame, 0], trajectory[:frame, 1])\n",
    "    \n",
    "    # 更新右侧图（Loss 轨迹）\n",
    "    loss_line.set_data(np.arange(frame), loss_history[:frame])\n",
    "    \n",
    "    # 动态调整右侧图的 x 轴范围\n",
    "    ax2.set_xlim(0, len(trajectory))\n",
    "    ax2.set_ylim(min(loss_history) - 0.1, max(loss_history) + 0.1)\n",
    "    \n",
    "    # 更新标题\n",
    "    ax1.set_title(f'参数轨迹 (迭代 {frame})')\n",
    "    ax2.set_title(f'Loss 轨迹 (迭代 {frame})')\n",
    "    \n",
    "    return param_line, loss_line\n",
    "\n",
    "# 创建动画\n",
    "ani = FuncAnimation(fig, update, frames=len(trajectory), interval=100, blit=True, repeat=False)\n",
    "\n",
    "# 显示动画\n",
    "plt.tight_layout()\n",
    "plt.show()"
   ]
  },
  {
   "cell_type": "markdown",
   "id": "3670144b",
   "metadata": {},
   "source": []
  }
 ],
 "metadata": {
  "kernelspec": {
   "display_name": "Python 3 (ipykernel)",
   "language": "python",
   "name": "python3"
  },
  "language_info": {
   "codemirror_mode": {
    "name": "ipython",
    "version": 3
   },
   "file_extension": ".py",
   "mimetype": "text/x-python",
   "name": "python",
   "nbconvert_exporter": "python",
   "pygments_lexer": "ipython3",
   "version": "3.12.7"
  }
 },
 "nbformat": 4,
 "nbformat_minor": 5
}
