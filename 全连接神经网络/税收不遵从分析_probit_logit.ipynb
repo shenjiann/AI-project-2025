{
 "cells": [
  {
   "cell_type": "code",
   "execution_count": 6,
   "id": "d5fcdd18",
   "metadata": {},
   "outputs": [],
   "source": [
    "import pandas as pd\n",
    "import statsmodels.api as sm\n",
    "from sklearn.metrics import precision_score, recall_score, f1_score\n",
    "from sklearn.preprocessing import StandardScaler\n",
    "\n",
    "# 1. 读取数据\n",
    "train_df = pd.read_csv('train_data.csv')\n",
    "test_df = pd.read_csv('test_data.csv')\n",
    "\n",
    "# 2. 拆分X和y\n",
    "y_train = train_df['noncompliance']\n",
    "X_train = sm.add_constant(train_df.drop(columns=['noncompliance']))  # 加截距\n",
    "y_test = test_df['noncompliance']\n",
    "X_test = sm.add_constant(test_df.drop(columns=['noncompliance']))\n",
    "\n",
    "# scaler = StandardScaler()\n",
    "# X_train = scaler.fit_transform(X_train.values)  # 计算均值和方差并标准化\n",
    "# X_test = scaler.transform(X_test.values)\n",
    "\n",
    "\n",
    "# 3. 定义评估函数\n",
    "def evaluate_model(model_name, model_class):\n",
    "    model = model_class(y_train, X_train).fit(disp=0)\n",
    "    # print(model.summary())\n",
    "\n",
    "    y_prob = model.predict(X_test)\n",
    "    y_pred = (y_prob >= 0.5).astype(int)\n",
    "\n",
    "    precision = precision_score(y_test, y_pred, zero_division=0)\n",
    "    recall = recall_score(y_test, y_pred, zero_division=0)\n",
    "    f1 = f1_score(y_test, y_pred, zero_division=0)\n",
    "\n",
    "    print(f\"Precision: {precision:.4f}\")\n",
    "    print(f\"Recall:    {recall:.4f}\")\n",
    "    print(f\"F1 Score:  {f1:.4f}\")"
   ]
  },
  {
   "cell_type": "code",
   "execution_count": 7,
   "id": "942b0352",
   "metadata": {},
   "outputs": [
    {
     "name": "stdout",
     "output_type": "stream",
     "text": [
      "Precision: 0.4737\n",
      "Recall:    0.0186\n",
      "F1 Score:  0.0359\n"
     ]
    },
    {
     "name": "stderr",
     "output_type": "stream",
     "text": [
      "/opt/miniconda3/envs/workenv/lib/python3.12/site-packages/statsmodels/base/model.py:607: ConvergenceWarning: Maximum Likelihood optimization failed to converge. Check mle_retvals\n",
      "  warnings.warn(\"Maximum Likelihood optimization failed to \"\n"
     ]
    }
   ],
   "source": [
    "evaluate_model(\"Probit\", sm.Probit)"
   ]
  },
  {
   "cell_type": "code",
   "execution_count": null,
   "id": "e6d9543b",
   "metadata": {},
   "outputs": [],
   "source": [
    "evaluate_model(\"Logit\", sm.Logit)"
   ]
  },
  {
   "cell_type": "code",
   "execution_count": null,
   "id": "6af6b17a",
   "metadata": {},
   "outputs": [],
   "source": []
  }
 ],
 "metadata": {
  "kernelspec": {
   "display_name": "workenv",
   "language": "python",
   "name": "python3"
  },
  "language_info": {
   "codemirror_mode": {
    "name": "ipython",
    "version": 3
   },
   "file_extension": ".py",
   "mimetype": "text/x-python",
   "name": "python",
   "nbconvert_exporter": "python",
   "pygments_lexer": "ipython3",
   "version": "3.12.2"
  }
 },
 "nbformat": 4,
 "nbformat_minor": 5
}
