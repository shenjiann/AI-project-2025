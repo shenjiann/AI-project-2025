{
 "cells": [
  {
   "cell_type": "markdown",
   "id": "67f9e064",
   "metadata": {},
   "source": [
    "# 数据清洗"
   ]
  },
  {
   "cell_type": "code",
   "execution_count": 14,
   "id": "499ea1a5",
   "metadata": {},
   "outputs": [],
   "source": [
    "import numpy as np\n",
    "import pandas as pd"
   ]
  },
  {
   "cell_type": "markdown",
   "id": "59d90e8d",
   "metadata": {},
   "source": [
    "### 税收不遵从"
   ]
  },
  {
   "cell_type": "code",
   "execution_count": 15,
   "id": "6194581f",
   "metadata": {},
   "outputs": [],
   "source": [
    "deregulation = pd.concat([\n",
    "    pd.read_excel('RESSET_DEREGULATION_EXT_1.xls', engine='xlrd'),\n",
    "    pd.read_excel('RESSET_DEREGULATION_EXT_2.xls', engine='xlrd')\n",
    "], ignore_index=True)\n",
    "deregulation['year'] = deregulation['信息发布日期_InfoPubDt'].dt.year - 1\n"
   ]
  },
  {
   "cell_type": "code",
   "execution_count": 16,
   "id": "fbb511a9",
   "metadata": {},
   "outputs": [],
   "source": [
    "# 检查处理原因和处分措施中是否包含关键词\n",
    "pattern = '|'.join(['税'])\n",
    "tax_noncomp = deregulation[\n",
    "    deregulation['涉及法规_InvolStatute'].astype(str).str.contains(pattern, regex=True) # |\n",
    "    # deregulation['处分措施_Pena'].astype(str).str.contains(pattern, regex=True)\n",
    "]\n",
    "tax_noncomp = tax_noncomp.drop_duplicates(subset=['year', '上市公司代码_ComCd'])[['上市公司代码_ComCd','最新公司全称_LComNm', 'year']]\n",
    "tax_noncomp['noncompliance'] = 1"
   ]
  },
  {
   "cell_type": "markdown",
   "id": "40f1862a",
   "metadata": {},
   "source": [
    "### 财报指标"
   ]
  },
  {
   "cell_type": "code",
   "execution_count": 17,
   "id": "4d9dd4b4",
   "metadata": {},
   "outputs": [],
   "source": [
    "finratio = pd.concat([\n",
    "    pd.read_excel('RESSET_FINRATIO_1.xls', engine='xlrd'),\n",
    "    pd.read_excel('RESSET_FINRATIO_2.xls', engine='xlrd'),\n",
    "    pd.read_excel('RESSET_FINRATIO_3.xls', engine='xlrd')\n",
    "], ignore_index=True)\n",
    "finratio = finratio.rename(columns={'上市公司代码_Comcd': '上市公司代码_ComCd', \n",
    "                                    '最新公司全称_Lcomnm': '最新公司全称_LComNm'})\n",
    "finratio['year'] = finratio['截止日期_Enddt'].dt.year\n"
   ]
  },
  {
   "cell_type": "markdown",
   "id": "6b79211e",
   "metadata": {},
   "source": [
    "### 股权指标"
   ]
  },
  {
   "cell_type": "code",
   "execution_count": 18,
   "id": "f1e7e4f6",
   "metadata": {},
   "outputs": [],
   "source": [
    "share_type = pd.read_excel('RESSET_MSHLSTANDOS_1.xls', engine='xlrd')\n",
    "share_type['year'] = share_type['截止日期_EndDt'].dt.year\n",
    "share_type['股东类别_SHType'] = (share_type['股东类别编码_SHTypeCd'] == 10).astype(int)\n",
    "\n",
    "share_num = pd.read_excel('RESSET_SHNUMBER_1.xls', engine='xlrd')\n",
    "share_num['year'] = share_num['截止日期_EndDt'].dt.year"
   ]
  },
  {
   "cell_type": "markdown",
   "id": "63689d38",
   "metadata": {},
   "source": [
    "### 合并"
   ]
  },
  {
   "cell_type": "code",
   "execution_count": null,
   "id": "ff6e578a",
   "metadata": {},
   "outputs": [],
   "source": [
    "data = share_type[['上市公司代码_ComCd', '最新公司全称_LComNm', 'year']]\n",
    "data = pd.merge(data,\n",
    "                tax_noncomp[['上市公司代码_ComCd', 'year', 'noncompliance']],\n",
    "                on=['year', '上市公司代码_ComCd'],\n",
    "                how='left')\n",
    "data['noncompliance'] = data['noncompliance'].fillna(0)\n",
    "data = pd.merge(data, \n",
    "                share_type[['year', '上市公司代码_ComCd', '股东类别_SHType']],\n",
    "                on=['year', '上市公司代码_ComCd'],\n",
    "                how='left')\n",
    "data = pd.merge(data, \n",
    "                share_num[['year', '上市公司代码_ComCd', '股东总户数(户)_SHNum', '户均持股数(股/户)_AvgHS']],\n",
    "                on=['year', '上市公司代码_ComCd'],\n",
    "                how='left')\n",
    "data = pd.merge(data,\n",
    "                finratio[[col for col in finratio.columns if col not in ['更新日期_Updt', '观测序号_nobs', '公司代码_CompanyCode', '截止日期_Enddt', '最新公司全称_LComNm']]],\n",
    "                on=['year', '上市公司代码_ComCd'],\n",
    "                how='left')"
   ]
  },
  {
   "cell_type": "markdown",
   "id": "a0c5110f",
   "metadata": {},
   "source": [
    "### 合规企业欠采样"
   ]
  },
  {
   "cell_type": "code",
   "execution_count": null,
   "id": "6102305f",
   "metadata": {},
   "outputs": [],
   "source": []
  }
 ],
 "metadata": {
  "kernelspec": {
   "display_name": "workenv",
   "language": "python",
   "name": "python3"
  },
  "language_info": {
   "codemirror_mode": {
    "name": "ipython",
    "version": 3
   },
   "file_extension": ".py",
   "mimetype": "text/x-python",
   "name": "python",
   "nbconvert_exporter": "python",
   "pygments_lexer": "ipython3",
   "version": "3.12.2"
  }
 },
 "nbformat": 4,
 "nbformat_minor": 5
}
