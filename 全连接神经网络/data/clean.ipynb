{
 "cells": [
  {
   "cell_type": "markdown",
   "id": "67f9e064",
   "metadata": {},
   "source": [
    "# 数据清洗"
   ]
  },
  {
   "cell_type": "code",
   "execution_count": 87,
   "id": "499ea1a5",
   "metadata": {},
   "outputs": [],
   "source": [
    "import numpy as np\n",
    "import pandas as pd"
   ]
  },
  {
   "cell_type": "markdown",
   "id": "59d90e8d",
   "metadata": {},
   "source": [
    "### 税收不遵从"
   ]
  },
  {
   "cell_type": "code",
   "execution_count": 88,
   "id": "6194581f",
   "metadata": {},
   "outputs": [],
   "source": [
    "deregulation = pd.concat([\n",
    "    pd.read_excel('RESSET_DEREGULATION_EXT_1.xls', engine='xlrd'),\n",
    "    pd.read_excel('RESSET_DEREGULATION_EXT_2.xls', engine='xlrd')\n",
    "], ignore_index=True)\n",
    "deregulation['year'] = deregulation['信息发布日期_InfoPubDt'].dt.year - 1\n"
   ]
  },
  {
   "cell_type": "code",
   "execution_count": 89,
   "id": "fbb511a9",
   "metadata": {},
   "outputs": [],
   "source": [
    "# 检查处理原因和处分措施中是否包含关键词\n",
    "pattern = '|'.join(['税'])\n",
    "tax_noncomp = deregulation[\n",
    "    deregulation['涉及法规_InvolStatute'].astype(str).str.contains(pattern, regex=True) # |\n",
    "    # deregulation['处分措施_Pena'].astype(str).str.contains(pattern, regex=True)\n",
    "]\n",
    "tax_noncomp = tax_noncomp.drop_duplicates(subset=['year', '上市公司代码_ComCd'])[['上市公司代码_ComCd','最新公司全称_LComNm', 'year']]\n",
    "tax_noncomp['noncompliance'] = 1"
   ]
  },
  {
   "cell_type": "markdown",
   "id": "40f1862a",
   "metadata": {},
   "source": [
    "### 财报指标"
   ]
  },
  {
   "cell_type": "code",
   "execution_count": 90,
   "id": "4d9dd4b4",
   "metadata": {},
   "outputs": [],
   "source": [
    "finratio = pd.concat([\n",
    "    pd.read_excel('RESSET_FINRATIO_1.xls', engine='xlrd'),\n",
    "    pd.read_excel('RESSET_FINRATIO_2.xls', engine='xlrd'),\n",
    "    pd.read_excel('RESSET_FINRATIO_3.xls', engine='xlrd')\n",
    "], ignore_index=True)\n",
    "finratio = finratio.rename(columns={'上市公司代码_Comcd': '上市公司代码_ComCd', \n",
    "                                    '最新公司全称_Lcomnm': '最新公司全称_LComNm'})\n",
    "finratio['year'] = finratio['截止日期_Enddt'].dt.year\n"
   ]
  },
  {
   "cell_type": "markdown",
   "id": "6b79211e",
   "metadata": {},
   "source": [
    "### 股权指标"
   ]
  },
  {
   "cell_type": "code",
   "execution_count": 91,
   "id": "f1e7e4f6",
   "metadata": {},
   "outputs": [],
   "source": [
    "share_type = pd.read_excel('RESSET_MSHLSTANDOS_1.xls', engine='xlrd')\n",
    "share_type['year'] = share_type['截止日期_EndDt'].dt.year\n",
    "share_type['股东类别_SHType'] = (share_type['股东类别编码_SHTypeCd'] == 10).astype(int)\n",
    "\n",
    "share_num = pd.read_excel('RESSET_SHNUMBER_1.xls', engine='xlrd')\n",
    "share_num['year'] = share_num['截止日期_EndDt'].dt.year"
   ]
  },
  {
   "cell_type": "markdown",
   "id": "63689d38",
   "metadata": {},
   "source": [
    "### 合并"
   ]
  },
  {
   "cell_type": "code",
   "execution_count": 92,
   "id": "ff6e578a",
   "metadata": {},
   "outputs": [],
   "source": [
    "data = share_type[['上市公司代码_ComCd', '最新公司全称_LComNm', 'year']]\n",
    "data = pd.merge(data,\n",
    "                tax_noncomp[['上市公司代码_ComCd', 'year', 'noncompliance']],\n",
    "                on=['year', '上市公司代码_ComCd'],\n",
    "                how='left')\n",
    "data['noncompliance'] = data['noncompliance'].fillna(0)\n",
    "data = pd.merge(data, \n",
    "                share_type[['year', '上市公司代码_ComCd', '股东类别_SHType']],\n",
    "                on=['year', '上市公司代码_ComCd'],\n",
    "                how='left')\n",
    "data = pd.merge(data, \n",
    "                share_num[['year', '上市公司代码_ComCd', '股东总户数(户)_SHNum', '户均持股数(股/户)_AvgHS']],\n",
    "                on=['year', '上市公司代码_ComCd'],\n",
    "                how='left')\n",
    "data = pd.merge(data,\n",
    "                finratio[[col for col in finratio.columns if col not in ['更新日期_Updt', '观测序号_nobs', '公司代码_CompanyCode', '截止日期_Enddt', '最新公司全称_LComNm']]],\n",
    "                on=['year', '上市公司代码_ComCd'],\n",
    "                how='left')"
   ]
  },
  {
   "cell_type": "code",
   "execution_count": 93,
   "id": "926be160",
   "metadata": {},
   "outputs": [],
   "source": [
    "# # 按noncompliance分组，分别统计缺失数量和比例\n",
    "# grouped = data.groupby('noncompliance')\n",
    "\n",
    "# # 统计缺失数量\n",
    "# missing_count = grouped.apply(lambda g: g.isnull().sum()).T\n",
    "# missing_count.columns = ['缺失数_合规', '缺失数_不合规']\n",
    "\n",
    "# # 统计缺失比例\n",
    "# missing_ratio = grouped.apply(lambda g: g.isnull().mean()).T\n",
    "# missing_ratio.columns = ['缺失率_合规', '缺失率_不合规']\n",
    "\n",
    "# # 合并为一个表格\n",
    "# missing_summary = pd.concat([missing_count, missing_ratio], axis=1)\n",
    "\n",
    "# # 可选：按不合规样本的缺失率降序排序\n",
    "# missing_summary = missing_summary.sort_values('缺失率_不合规', ascending=False)\n",
    "\n",
    "# # 显示前若干行\n",
    "# print(missing_summary.head(10))  # 或使用 missing_summary.to_excel(\"缺失统计.xlsx\")"
   ]
  },
  {
   "cell_type": "code",
   "execution_count": 94,
   "id": "fbb27cd2",
   "metadata": {},
   "outputs": [],
   "source": [
    "# 样本、变量清洗\n",
    "vars_kept = ['上市公司代码_ComCd',\n",
    "             '最新公司全称_LComNm',\n",
    "             'year',\n",
    "             'noncompliance',\n",
    "             '股东类别_SHType', \n",
    "             '股东总户数(户)_SHNum',\n",
    "             '户均持股数(股/户)_AvgHS',\n",
    "             '每股收益(元/股)_BasicEPS', \n",
    "             '每股经营活动现金流量(元/股)_OpeCFPS',\n",
    "             '每股现金及现金等价物余额(元/股)_CCEPS', \n",
    "             '净利润()_NetPrf', \n",
    "             '营业利润/营业总收入()_OpePrTOR', \n",
    "             '有形净值债务率(%)_DbTanEquRt', \n",
    "             '股东权益/负债合计_EquTotLia', \n",
    "             '资产负债率(%)_DbAstRt',\n",
    "             '产权比率(%)_DbEquRt',\n",
    "             '利润总额增长率(%)_TotPrfGrRt',\n",
    "             '营业收入3年复合增长率(%)_OperaInc3GrRt',\n",
    "             '股东权益周转率(次)_EquRat',\n",
    "             '经营现金净流量(元)_NOCF', \n",
    "             '营业收入增长率(%)_OpeIncmGrRt',\n",
    "             '每股资本公积金(元/股)_CapSurFdPS',\n",
    "             '权益乘数(%)_EquMul',\n",
    "            #  '净资产收益率(扣除，加权)(%)_WROECut',\n",
    "            #  '流动资产/总资产(%)_CurTotAst',\n",
    "            #  '销售成本率(%)_SalCostRt',\n",
    "            #  '销售毛利率(%)_GIncmRt',\n",
    "            #  '销售期间费用率(%)_PdCostRt',\n",
    "            #  '非流动资产/总资产(%)_NoncurTotAst',\n",
    "             ]\n",
    "\n",
    "data_cleaned = data[vars_kept].dropna()\n",
    "# data_cleaned = data[[col for col in data.columns if col not in ['利润总额/息税前利润(%)_TPEBITDDP']]].dropna()"
   ]
  },
  {
   "cell_type": "markdown",
   "id": "a0c5110f",
   "metadata": {},
   "source": [
    "### 合规企业欠采样"
   ]
  },
  {
   "cell_type": "code",
   "execution_count": 95,
   "id": "6102305f",
   "metadata": {},
   "outputs": [],
   "source": [
    "foo = []\n",
    "for year, group in data_cleaned.groupby('year'):\n",
    "    positive = group[group['noncompliance'] == 1]\n",
    "    negative = group[group['noncompliance'] == 0]\n",
    "    n_pos = len(positive)\n",
    "    n_neg = min(len(negative), n_pos * 5)\n",
    "\n",
    "    negative_sample = negative.sample(n=n_neg, random_state=42)\n",
    "\n",
    "    foo.append(pd.concat([positive, negative_sample]))\n",
    "\n",
    "data_sample = pd.concat(foo).reset_index(drop=True)\n"
   ]
  },
  {
   "cell_type": "markdown",
   "id": "9b4a3494",
   "metadata": {},
   "source": [
    "### 保存数据"
   ]
  },
  {
   "cell_type": "code",
   "execution_count": 96,
   "id": "a8b07932",
   "metadata": {},
   "outputs": [],
   "source": [
    "kept_cols = [col for col in data_sample.columns if col not in ['上市公司代码_ComCd', '最新公司全称_LComNm', 'year']]\n",
    "data_sample[kept_cols].to_csv('../data.csv', index=False, encoding='utf-8-sig')"
   ]
  },
  {
   "cell_type": "code",
   "execution_count": null,
   "id": "33ccbacb",
   "metadata": {},
   "outputs": [],
   "source": []
  }
 ],
 "metadata": {
  "kernelspec": {
   "display_name": "workenv",
   "language": "python",
   "name": "python3"
  },
  "language_info": {
   "codemirror_mode": {
    "name": "ipython",
    "version": 3
   },
   "file_extension": ".py",
   "mimetype": "text/x-python",
   "name": "python",
   "nbconvert_exporter": "python",
   "pygments_lexer": "ipython3",
   "version": "3.12.2"
  }
 },
 "nbformat": 4,
 "nbformat_minor": 5
}
