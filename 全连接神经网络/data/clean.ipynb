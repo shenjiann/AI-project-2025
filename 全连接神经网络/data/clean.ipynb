{
 "cells": [
  {
   "cell_type": "markdown",
   "id": "67f9e064",
   "metadata": {},
   "source": [
    "# 数据清洗"
   ]
  },
  {
   "cell_type": "code",
   "execution_count": 13,
   "id": "499ea1a5",
   "metadata": {},
   "outputs": [],
   "source": [
    "import numpy as np\n",
    "import pandas as pd"
   ]
  },
  {
   "cell_type": "markdown",
   "id": "59d90e8d",
   "metadata": {},
   "source": [
    "### 税收不遵从"
   ]
  },
  {
   "cell_type": "code",
   "execution_count": 14,
   "id": "6194581f",
   "metadata": {},
   "outputs": [],
   "source": [
    "deregulation = pd.concat([\n",
    "    pd.read_excel('RESSET_DEREGULATION_EXT_1.xls', engine='xlrd'),\n",
    "    pd.read_excel('RESSET_DEREGULATION_EXT_2.xls', engine='xlrd')\n",
    "], ignore_index=True)\n",
    "deregulation['year'] = deregulation['信息发布日期_InfoPubDt'].dt.year\n"
   ]
  },
  {
   "cell_type": "code",
   "execution_count": 15,
   "id": "fbb511a9",
   "metadata": {},
   "outputs": [],
   "source": [
    "# 检查处理原因和处分措施中是否包含关键词\n",
    "pattern = '|'.join(['税'])\n",
    "tax_noncomp = deregulation[\n",
    "    deregulation['涉及法规_InvolStatute'].astype(str).str.contains(pattern, regex=True) |\n",
    "    deregulation['处理原因说明_Rea'].astype(str).str.contains(pattern, regex=True)\n",
    "]\n",
    "# tax_noncomp = tax_noncomp.drop_duplicates(subset=['year', '上市公司代码_ComCd'])[['上市公司代码_ComCd','最新公司全称_LComNm', 'year']]\n",
    "tax_noncomp = tax_noncomp.drop_duplicates(subset=['year', '上市公司代码_ComCd'])\n",
    "tax_noncomp['noncompliance'] = 1"
   ]
  },
  {
   "cell_type": "code",
   "execution_count": 16,
   "id": "c20cf79f",
   "metadata": {},
   "outputs": [],
   "source": [
    "# 复制一遍，year赋值t-1\n",
    "\n",
    "# 生成 t‑1 的那一份记录\n",
    "tax_noncomp_lag = tax_noncomp.copy()\n",
    "tax_noncomp_lag['year'] = tax_noncomp_lag['year'] - 1\n",
    "tax_noncomp = pd.concat([tax_noncomp, tax_noncomp_lag], ignore_index=True)\n",
    "tax_noncomp_aug = tax_noncomp.drop_duplicates(subset=['year', '上市公司代码_ComCd'])"
   ]
  },
  {
   "cell_type": "markdown",
   "id": "40f1862a",
   "metadata": {},
   "source": [
    "### 财报指标"
   ]
  },
  {
   "cell_type": "code",
   "execution_count": 17,
   "id": "4d9dd4b4",
   "metadata": {},
   "outputs": [],
   "source": [
    "finratio = pd.concat([\n",
    "    pd.read_excel('RESSET_FINRATIO_1.xls', engine='xlrd'),\n",
    "    pd.read_excel('RESSET_FINRATIO_2.xls', engine='xlrd'),\n",
    "    pd.read_excel('RESSET_FINRATIO_3.xls', engine='xlrd')\n",
    "], ignore_index=True)\n",
    "finratio = finratio.rename(columns={'上市公司代码_Comcd': '上市公司代码_ComCd', \n",
    "                                    '最新公司全称_Lcomnm': '最新公司全称_LComNm'})\n",
    "finratio['year'] = finratio['截止日期_Enddt'].dt.year\n"
   ]
  },
  {
   "cell_type": "markdown",
   "id": "6b79211e",
   "metadata": {},
   "source": [
    "### 股权指标"
   ]
  },
  {
   "cell_type": "code",
   "execution_count": 18,
   "id": "f1e7e4f6",
   "metadata": {},
   "outputs": [],
   "source": [
    "share_type = pd.read_excel('RESSET_MSHLSTANDOS_1.xls', engine='xlrd')\n",
    "share_type['year'] = share_type['截止日期_EndDt'].dt.year\n",
    "share_type['股东类别_SHType'] = (share_type['股东类别编码_SHTypeCd'] == 10).astype(int)\n",
    "\n",
    "share_num = pd.read_excel('RESSET_SHNUMBER_1.xls', engine='xlrd')\n",
    "share_num['year'] = share_num['截止日期_EndDt'].dt.year"
   ]
  },
  {
   "cell_type": "markdown",
   "id": "63689d38",
   "metadata": {},
   "source": [
    "### 合并"
   ]
  },
  {
   "cell_type": "code",
   "execution_count": 19,
   "id": "ff6e578a",
   "metadata": {},
   "outputs": [],
   "source": [
    "data = share_type[['上市公司代码_ComCd', '最新公司全称_LComNm', 'year']]\n",
    "data = pd.merge(data,\n",
    "                tax_noncomp[['上市公司代码_ComCd', 'year', 'noncompliance']],\n",
    "                on=['year', '上市公司代码_ComCd'],\n",
    "                how='left')\n",
    "data['noncompliance'] = data['noncompliance'].fillna(0)\n",
    "data = pd.merge(data, \n",
    "                share_type[['year', '上市公司代码_ComCd', '股东类别_SHType']],\n",
    "                on=['year', '上市公司代码_ComCd'],\n",
    "                how='left')\n",
    "data = pd.merge(data, \n",
    "                share_num[['year', '上市公司代码_ComCd', '股东总户数(户)_SHNum', '户均持股数(股/户)_AvgHS']],\n",
    "                on=['year', '上市公司代码_ComCd'],\n",
    "                how='left')\n",
    "data = pd.merge(data,\n",
    "                finratio[[col for col in finratio.columns if col not in ['更新日期_Updt', '观测序号_nobs', '公司代码_CompanyCode', '截止日期_Enddt', '最新公司全称_LComNm']]],\n",
    "                on=['year', '上市公司代码_ComCd'],\n",
    "                how='left')"
   ]
  },
  {
   "cell_type": "code",
   "execution_count": 20,
   "id": "926be160",
   "metadata": {},
   "outputs": [
    {
     "name": "stdout",
     "output_type": "stream",
     "text": [
      "                          缺失数_合规  缺失数_不合规    缺失率_合规   缺失率_不合规\n",
      "利润总额/息税前利润(%)_TPEBITDDP     5559      437  0.132093  0.243454\n",
      "固定资产周转率(次)_FixAssRat        1542       85  0.036641  0.047354\n",
      "销售费用率(%)_OpeExpRt           1557       84  0.036997  0.046797\n",
      "存货周转天数(天/次)_InvtrTrDay      1586       84  0.037687  0.046797\n",
      "存货周转率(次)_InvtrTrRat         1586       84  0.037687  0.046797\n",
      "应收账款周转天数(天/次)_ARTDay        1184       72  0.028134  0.040111\n",
      "应收账款周转率(次)_ARTRat           1057       70  0.025116  0.038997\n",
      "应付账款周转天数(天/次)_AccrPayDay    1165       68  0.027683  0.037883\n",
      "应付账款周转率(次)_AccrPayRat       1165       68  0.027683  0.037883\n",
      "营运资金(元)_WrkCap               865       63  0.020554  0.035097\n"
     ]
    },
    {
     "name": "stderr",
     "output_type": "stream",
     "text": [
      "/var/folders/5x/qtc65mpj3yq7tq5_jvzbtydw0000gn/T/ipykernel_24111/2595813229.py:5: DeprecationWarning: DataFrameGroupBy.apply operated on the grouping columns. This behavior is deprecated, and in a future version of pandas the grouping columns will be excluded from the operation. Either pass `include_groups=False` to exclude the groupings or explicitly select the grouping columns after groupby to silence this warning.\n",
      "  missing_count = grouped.apply(lambda g: g.isnull().sum()).T\n",
      "/var/folders/5x/qtc65mpj3yq7tq5_jvzbtydw0000gn/T/ipykernel_24111/2595813229.py:9: DeprecationWarning: DataFrameGroupBy.apply operated on the grouping columns. This behavior is deprecated, and in a future version of pandas the grouping columns will be excluded from the operation. Either pass `include_groups=False` to exclude the groupings or explicitly select the grouping columns after groupby to silence this warning.\n",
      "  missing_ratio = grouped.apply(lambda g: g.isnull().mean()).T\n"
     ]
    }
   ],
   "source": [
    "# 按noncompliance分组，分别统计缺失数量和比例\n",
    "grouped = data.groupby('noncompliance')\n",
    "\n",
    "# 统计缺失数量\n",
    "missing_count = grouped.apply(lambda g: g.isnull().sum()).T\n",
    "missing_count.columns = ['缺失数_合规', '缺失数_不合规']\n",
    "\n",
    "# 统计缺失比例\n",
    "missing_ratio = grouped.apply(lambda g: g.isnull().mean()).T\n",
    "missing_ratio.columns = ['缺失率_合规', '缺失率_不合规']\n",
    "\n",
    "# 合并为一个表格\n",
    "missing_summary = pd.concat([missing_count, missing_ratio], axis=1)\n",
    "\n",
    "# 可选：按不合规样本的缺失率降序排序\n",
    "missing_summary = missing_summary.sort_values('缺失率_不合规', ascending=False)\n",
    "\n",
    "# 显示前若干行\n",
    "print(missing_summary.head(10))  # 或使用 missing_summary.to_excel(\"缺失统计.xlsx\")"
   ]
  },
  {
   "cell_type": "code",
   "execution_count": 21,
   "id": "fbb27cd2",
   "metadata": {},
   "outputs": [],
   "source": [
    "# 样本、变量清洗\n",
    "vars_kept = ['上市公司代码_ComCd',\n",
    "             '最新公司全称_LComNm',\n",
    "             'year',\n",
    "             'noncompliance',\n",
    "             '股东权益/负债合计_EquTotLia', \n",
    "             '股东类别_SHType', \n",
    "             '每股收益(元/股)_BasicEPS', \n",
    "             '每股经营活动现金流量(元/股)_OpeCFPS',\n",
    "             '营业利润/营业总收入()_OpePrTOR', \n",
    "             '净利润()_NetPrf', \n",
    "             '有形净值债务率(%)_DbTanEquRt', \n",
    "             '每股现金及现金等价物余额(元/股)_CCEPS', \n",
    "             '资产负债率(%)_DbAstRt',\n",
    "\n",
    "             '经营现金净流量(元)_NOCF', \n",
    "             '股东总户数(户)_SHNum',\n",
    "             '利润总额增长率(%)_TotPrfGrRt',\n",
    "             '营业收入增长率(%)_OpeIncmGrRt',\n",
    "             '户均持股数(股/户)_AvgHS',\n",
    "             \n",
    "             '每股资本公积金(元/股)_CapSurFdPS',\n",
    "             '股东权益周转率(次)_EquRat',\n",
    "             '产权比率(%)_DbEquRt',\n",
    "             '权益乘数(%)_EquMul',\n",
    "             '营业收入3年复合增长率(%)_OperaInc3GrRt',\n",
    "\n",
    "             '净资产收益率(扣除，加权)(%)_WROECut',\n",
    "             '流动资产/总资产(%)_CurTotAst',\n",
    "             '销售成本率(%)_SalCostRt',\n",
    "            #  '销售毛利率(%)_GIncmRt',\n",
    "             '销售期间费用率(%)_PdCostRt',\n",
    "             '非流动资产/总资产(%)_NoncurTotAst',\n",
    "             ]\n",
    "\n",
    "data_cleaned = data[vars_kept].dropna()\n",
    "\n",
    "has_noncompliance = data_cleaned.groupby('最新公司全称_LComNm')['noncompliance'].transform(lambda x: (x == 1).any())\n",
    "data_cleaned = data_cleaned[~has_noncompliance | (data_cleaned['noncompliance'] == 1)]"
   ]
  },
  {
   "cell_type": "markdown",
   "id": "9b4a3494",
   "metadata": {},
   "source": [
    "### 划分测试集"
   ]
  },
  {
   "cell_type": "code",
   "execution_count": 22,
   "id": "aba6647a",
   "metadata": {},
   "outputs": [],
   "source": [
    "# 划分训练集和测试集\n",
    "from sklearn.model_selection import train_test_split\n",
    "train_df, test_df = train_test_split(data_cleaned, \n",
    "                                     test_size=0.3, \n",
    "                                     stratify=data_cleaned['noncompliance'],\n",
    "                                     shuffle=True,\n",
    "                                     random_state=42)\n",
    "\n"
   ]
  },
  {
   "cell_type": "markdown",
   "id": "a6367868",
   "metadata": {},
   "source": [
    "### SMOTE过采样 + 下采样"
   ]
  },
  {
   "cell_type": "code",
   "execution_count": 23,
   "id": "7c3c66c1",
   "metadata": {},
   "outputs": [],
   "source": [
    "# 训练数据下采样\n",
    "from imblearn.over_sampling import SMOTE\n",
    "from imblearn.under_sampling import RandomUnderSampler\n",
    "from imblearn.pipeline import Pipeline\n",
    "\n",
    "over = SMOTE(sampling_strategy=0.05, random_state=42)\n",
    "# under = RandomUnderSampler(sampling_strategy=0.4, random_state=42)\n",
    "# pipeline = Pipeline(steps=[('o', over), ('u', under)])\n",
    "pipeline = Pipeline(steps=[('o', over)])\n",
    "\n",
    "train_X_balanced, train_y_balanced = pipeline.fit_resample(\n",
    "    train_df.drop(columns=['noncompliance', '上市公司代码_ComCd', '最新公司全称_LComNm', 'year']), \n",
    "    train_df['noncompliance'])\n",
    "train_df_balanced = pd.concat([train_y_balanced, train_X_balanced], axis=1)"
   ]
  },
  {
   "cell_type": "code",
   "execution_count": 24,
   "id": "0fd2b755",
   "metadata": {},
   "outputs": [],
   "source": [
    "# 导出为 CSV 文件\n",
    "# train_df.drop(\n",
    "#     columns=['上市公司代码_ComCd', '最新公司全称_LComNm', 'year']\n",
    "#     ).to_csv(\n",
    "#         \"../train_data.csv\", \n",
    "#         index=False, \n",
    "#         encoding='utf-8-sig')\n",
    "train_df_balanced.to_csv(\n",
    "    '../train_data.csv',\n",
    "    index=False,\n",
    "    encoding='utf-8-sig'\n",
    ")\n",
    "test_df.drop(\n",
    "    columns=['上市公司代码_ComCd', '最新公司全称_LComNm', 'year']\n",
    "    ).to_csv(\n",
    "        \"../test_data.csv\", \n",
    "        index=False,\n",
    "        encoding='utf-8-sig')"
   ]
  },
  {
   "cell_type": "code",
   "execution_count": null,
   "id": "c1d12f9b",
   "metadata": {},
   "outputs": [],
   "source": []
  }
 ],
 "metadata": {
  "kernelspec": {
   "display_name": "workenv",
   "language": "python",
   "name": "python3"
  },
  "language_info": {
   "codemirror_mode": {
    "name": "ipython",
    "version": 3
   },
   "file_extension": ".py",
   "mimetype": "text/x-python",
   "name": "python",
   "nbconvert_exporter": "python",
   "pygments_lexer": "ipython3",
   "version": "3.12.2"
  }
 },
 "nbformat": 4,
 "nbformat_minor": 5
}
