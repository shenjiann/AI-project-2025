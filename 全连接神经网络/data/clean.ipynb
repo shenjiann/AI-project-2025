{
 "cells": [
  {
   "cell_type": "markdown",
   "id": "67f9e064",
   "metadata": {},
   "source": [
    "# data clean"
   ]
  },
  {
   "cell_type": "code",
   "execution_count": 6,
   "id": "499ea1a5",
   "metadata": {},
   "outputs": [],
   "source": [
    "import numpy as np\n",
    "import pandas as pd"
   ]
  },
  {
   "cell_type": "code",
   "execution_count": 8,
   "id": "6194581f",
   "metadata": {},
   "outputs": [],
   "source": [
    "foo = pd.read_excel('RESSET_DEREGULATION_EXT_1.xls', engine='xlrd')"
   ]
  },
  {
   "cell_type": "code",
   "execution_count": null,
   "id": "fbb511a9",
   "metadata": {},
   "outputs": [],
   "source": []
  }
 ],
 "metadata": {
  "kernelspec": {
   "display_name": "workenv",
   "language": "python",
   "name": "python3"
  },
  "language_info": {
   "codemirror_mode": {
    "name": "ipython",
    "version": 3
   },
   "file_extension": ".py",
   "mimetype": "text/x-python",
   "name": "python",
   "nbconvert_exporter": "python",
   "pygments_lexer": "ipython3",
   "version": "3.12.2"
  }
 },
 "nbformat": 4,
 "nbformat_minor": 5
}
