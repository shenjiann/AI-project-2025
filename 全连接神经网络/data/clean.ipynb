{
 "cells": [
  {
   "cell_type": "markdown",
   "id": "67f9e064",
   "metadata": {},
   "source": [
    "# data clean"
   ]
  },
  {
   "cell_type": "code",
   "execution_count": 1,
   "id": "499ea1a5",
   "metadata": {},
   "outputs": [],
   "source": [
    "import numpy as np\n",
    "import pandas as pd"
   ]
  },
  {
   "cell_type": "markdown",
   "id": "59d90e8d",
   "metadata": {},
   "source": [
    "### 识别税收不遵从"
   ]
  },
  {
   "cell_type": "code",
   "execution_count": 7,
   "id": "6194581f",
   "metadata": {},
   "outputs": [],
   "source": [
    "deregulation = pd.concat([\n",
    "    pd.read_excel('RESSET_DEREGULATION_EXT_1.xls', engine='xlrd'),\n",
    "    pd.read_excel('RESSET_DEREGULATION_EXT_2.xls', engine='xlrd')\n",
    "], ignore_index=True)\n",
    "deregulation['year'] = deregulation['信息发布日期_InfoPubDt'].dt.year - 1\n"
   ]
  },
  {
   "cell_type": "code",
   "execution_count": 8,
   "id": "fbb511a9",
   "metadata": {},
   "outputs": [],
   "source": [
    "# 检查处理原因和处分措施中是否包含关键词\n",
    "pattern = '|'.join(['税'])\n",
    "tax_noncomp = deregulation[\n",
    "    deregulation['涉及法规_InvolStatute'].astype(str).str.contains(pattern, regex=True) # |\n",
    "    # deregulation['处分措施_Pena'].astype(str).str.contains(pattern, regex=True)\n",
    "]\n",
    "tax_noncomp = tax_noncomp.drop_duplicates(subset=['year', '上市公司代码_ComCd'])[['上市公司代码_ComCd','最新公司全称_LComNm', 'year']]\n",
    "tax_noncomp['noncompliance'] = 1"
   ]
  },
  {
   "cell_type": "markdown",
   "id": "40f1862a",
   "metadata": {},
   "source": [
    "### 财报指标"
   ]
  },
  {
   "cell_type": "code",
   "execution_count": 4,
   "id": "4d9dd4b4",
   "metadata": {},
   "outputs": [],
   "source": [
    "finratio = pd.concat([\n",
    "    pd.read_excel('RESSET_FINRATIO_1.xls', engine='xlrd'),\n",
    "    pd.read_excel('RESSET_FINRATIO_2.xls', engine='xlrd'),\n",
    "    pd.read_excel('RESSET_FINRATIO_3.xls', engine='xlrd')\n",
    "], ignore_index=True)\n",
    "finratio['year'] = finratio['截止日期_Enddt'].dt.year"
   ]
  },
  {
   "cell_type": "code",
   "execution_count": 5,
   "id": "0a995774",
   "metadata": {},
   "outputs": [
    {
     "data": {
      "text/plain": [
       "0        2015-12-31\n",
       "1        2016-12-31\n",
       "2        2017-12-31\n",
       "3        2018-12-31\n",
       "4        2019-12-31\n",
       "            ...    \n",
       "119204   2024-12-31\n",
       "119205   2022-12-31\n",
       "119206   2023-12-31\n",
       "119207   2022-12-31\n",
       "119208   2023-12-31\n",
       "Name: 截止日期_Enddt, Length: 119209, dtype: datetime64[ns]"
      ]
     },
     "execution_count": 5,
     "metadata": {},
     "output_type": "execute_result"
    }
   ],
   "source": [
    "finratio['截止日期_Enddt']"
   ]
  },
  {
   "cell_type": "code",
   "execution_count": 6,
   "id": "5c9d6e64",
   "metadata": {},
   "outputs": [],
   "source": [
    "finratio['年份'] = finratio['截止日期_Enddt'].dt.year"
   ]
  },
  {
   "cell_type": "code",
   "execution_count": null,
   "id": "ba0134af",
   "metadata": {},
   "outputs": [],
   "source": []
  }
 ],
 "metadata": {
  "kernelspec": {
   "display_name": "workenv",
   "language": "python",
   "name": "python3"
  },
  "language_info": {
   "codemirror_mode": {
    "name": "ipython",
    "version": 3
   },
   "file_extension": ".py",
   "mimetype": "text/x-python",
   "name": "python",
   "nbconvert_exporter": "python",
   "pygments_lexer": "ipython3",
   "version": "3.12.2"
  }
 },
 "nbformat": 4,
 "nbformat_minor": 5
}
