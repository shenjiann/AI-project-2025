{
 "cells": [
  {
   "cell_type": "markdown",
   "id": "67f9e064",
   "metadata": {},
   "source": [
    "# 数据清洗"
   ]
  },
  {
   "cell_type": "code",
   "execution_count": 1,
   "id": "499ea1a5",
   "metadata": {},
   "outputs": [],
   "source": [
    "import numpy as np\n",
    "import pandas as pd"
   ]
  },
  {
   "cell_type": "markdown",
   "id": "59d90e8d",
   "metadata": {},
   "source": [
    "### 税收不遵从"
   ]
  },
  {
   "cell_type": "code",
   "execution_count": 2,
   "id": "6194581f",
   "metadata": {},
   "outputs": [],
   "source": [
    "deregulation = pd.concat([\n",
    "    pd.read_excel('RESSET_DEREGULATION_EXT_1.xls', engine='xlrd'),\n",
    "    pd.read_excel('RESSET_DEREGULATION_EXT_2.xls', engine='xlrd')\n",
    "], ignore_index=True)\n",
    "deregulation['year'] = deregulation['信息发布日期_InfoPubDt'].dt.year - 1\n"
   ]
  },
  {
   "cell_type": "code",
   "execution_count": 3,
   "id": "fbb511a9",
   "metadata": {},
   "outputs": [],
   "source": [
    "# 检查处理原因和处分措施中是否包含关键词\n",
    "pattern = '|'.join(['税'])\n",
    "tax_noncomp = deregulation[\n",
    "    deregulation['涉及法规_InvolStatute'].astype(str).str.contains(pattern, regex=True) |\n",
    "    deregulation['处理原因说明_Rea'].astype(str).str.contains(pattern, regex=True)\n",
    "]\n",
    "# tax_noncomp = tax_noncomp.drop_duplicates(subset=['year', '上市公司代码_ComCd'])[['上市公司代码_ComCd','最新公司全称_LComNm', 'year']]\n",
    "tax_noncomp = tax_noncomp.drop_duplicates(subset=['year', '上市公司代码_ComCd'])\n",
    "tax_noncomp['noncompliance'] = 1"
   ]
  },
  {
   "cell_type": "markdown",
   "id": "40f1862a",
   "metadata": {},
   "source": [
    "### 财报指标"
   ]
  },
  {
   "cell_type": "code",
   "execution_count": 4,
   "id": "4d9dd4b4",
   "metadata": {},
   "outputs": [],
   "source": [
    "finratio = pd.concat([\n",
    "    pd.read_excel('RESSET_FINRATIO_1.xls', engine='xlrd'),\n",
    "    pd.read_excel('RESSET_FINRATIO_2.xls', engine='xlrd'),\n",
    "    pd.read_excel('RESSET_FINRATIO_3.xls', engine='xlrd')\n",
    "], ignore_index=True)\n",
    "finratio = finratio.rename(columns={'上市公司代码_Comcd': '上市公司代码_ComCd', \n",
    "                                    '最新公司全称_Lcomnm': '最新公司全称_LComNm'})\n",
    "finratio['year'] = finratio['截止日期_Enddt'].dt.year\n"
   ]
  },
  {
   "cell_type": "markdown",
   "id": "6b79211e",
   "metadata": {},
   "source": [
    "### 股权指标"
   ]
  },
  {
   "cell_type": "code",
   "execution_count": 5,
   "id": "f1e7e4f6",
   "metadata": {},
   "outputs": [],
   "source": [
    "share_type = pd.read_excel('RESSET_MSHLSTANDOS_1.xls', engine='xlrd')\n",
    "share_type['year'] = share_type['截止日期_EndDt'].dt.year\n",
    "share_type['股东类别_SHType'] = (share_type['股东类别编码_SHTypeCd'] == 10).astype(int)\n",
    "\n",
    "share_num = pd.read_excel('RESSET_SHNUMBER_1.xls', engine='xlrd')\n",
    "share_num['year'] = share_num['截止日期_EndDt'].dt.year"
   ]
  },
  {
   "cell_type": "markdown",
   "id": "63689d38",
   "metadata": {},
   "source": [
    "### 合并"
   ]
  },
  {
   "cell_type": "code",
   "execution_count": 6,
   "id": "ff6e578a",
   "metadata": {},
   "outputs": [],
   "source": [
    "data = share_type[['上市公司代码_ComCd', '最新公司全称_LComNm', 'year']]\n",
    "data = pd.merge(data,\n",
    "                tax_noncomp[['上市公司代码_ComCd', 'year', 'noncompliance']],\n",
    "                on=['year', '上市公司代码_ComCd'],\n",
    "                how='left')\n",
    "data['noncompliance'] = data['noncompliance'].fillna(0)\n",
    "data = pd.merge(data, \n",
    "                share_type[['year', '上市公司代码_ComCd', '股东类别_SHType']],\n",
    "                on=['year', '上市公司代码_ComCd'],\n",
    "                how='left')\n",
    "data = pd.merge(data, \n",
    "                share_num[['year', '上市公司代码_ComCd', '股东总户数(户)_SHNum', '户均持股数(股/户)_AvgHS']],\n",
    "                on=['year', '上市公司代码_ComCd'],\n",
    "                how='left')\n",
    "data = pd.merge(data,\n",
    "                finratio[[col for col in finratio.columns if col not in ['更新日期_Updt', '观测序号_nobs', '公司代码_CompanyCode', '截止日期_Enddt', '最新公司全称_LComNm']]],\n",
    "                on=['year', '上市公司代码_ComCd'],\n",
    "                how='left')"
   ]
  },
  {
   "cell_type": "code",
   "execution_count": 7,
   "id": "926be160",
   "metadata": {},
   "outputs": [
    {
     "name": "stdout",
     "output_type": "stream",
     "text": [
      "                          缺失数_合规  缺失数_不合规    缺失率_合规   缺失率_不合规\n",
      "利润总额/息税前利润(%)_TPEBITDDP     5658      243  0.132705  0.251553\n",
      "存货周转天数(天/次)_InvtrTrDay      1619       44  0.037973  0.045549\n",
      "存货周转率(次)_InvtrTrRat         1619       44  0.037973  0.045549\n",
      "销售费用率(%)_OpeExpRt           1590       43  0.037292  0.044513\n",
      "固定资产周转率(次)_FixAssRat        1578       43  0.037011  0.044513\n",
      "应收账款周转天数(天/次)_ARTDay        1212       35  0.028427  0.036232\n",
      "应收账款周转率(次)_ARTRat           1083       35  0.025401  0.036232\n",
      "应付账款周转天数(天/次)_AccrPayDay    1194       33  0.028005  0.034161\n",
      "应付账款周转率(次)_AccrPayRat       1194       33  0.028005  0.034161\n",
      "流动比率(%)_CurRt                891       31  0.020898  0.032091\n"
     ]
    },
    {
     "name": "stderr",
     "output_type": "stream",
     "text": [
      "/var/folders/5x/qtc65mpj3yq7tq5_jvzbtydw0000gn/T/ipykernel_8181/2595813229.py:5: DeprecationWarning: DataFrameGroupBy.apply operated on the grouping columns. This behavior is deprecated, and in a future version of pandas the grouping columns will be excluded from the operation. Either pass `include_groups=False` to exclude the groupings or explicitly select the grouping columns after groupby to silence this warning.\n",
      "  missing_count = grouped.apply(lambda g: g.isnull().sum()).T\n",
      "/var/folders/5x/qtc65mpj3yq7tq5_jvzbtydw0000gn/T/ipykernel_8181/2595813229.py:9: DeprecationWarning: DataFrameGroupBy.apply operated on the grouping columns. This behavior is deprecated, and in a future version of pandas the grouping columns will be excluded from the operation. Either pass `include_groups=False` to exclude the groupings or explicitly select the grouping columns after groupby to silence this warning.\n",
      "  missing_ratio = grouped.apply(lambda g: g.isnull().mean()).T\n"
     ]
    }
   ],
   "source": [
    "# 按noncompliance分组，分别统计缺失数量和比例\n",
    "grouped = data.groupby('noncompliance')\n",
    "\n",
    "# 统计缺失数量\n",
    "missing_count = grouped.apply(lambda g: g.isnull().sum()).T\n",
    "missing_count.columns = ['缺失数_合规', '缺失数_不合规']\n",
    "\n",
    "# 统计缺失比例\n",
    "missing_ratio = grouped.apply(lambda g: g.isnull().mean()).T\n",
    "missing_ratio.columns = ['缺失率_合规', '缺失率_不合规']\n",
    "\n",
    "# 合并为一个表格\n",
    "missing_summary = pd.concat([missing_count, missing_ratio], axis=1)\n",
    "\n",
    "# 可选：按不合规样本的缺失率降序排序\n",
    "missing_summary = missing_summary.sort_values('缺失率_不合规', ascending=False)\n",
    "\n",
    "# 显示前若干行\n",
    "print(missing_summary.head(10))  # 或使用 missing_summary.to_excel(\"缺失统计.xlsx\")"
   ]
  },
  {
   "cell_type": "code",
   "execution_count": 8,
   "id": "fbb27cd2",
   "metadata": {},
   "outputs": [],
   "source": [
    "# 样本、变量清洗\n",
    "vars_kept = ['上市公司代码_ComCd',\n",
    "             '最新公司全称_LComNm',\n",
    "             'year',\n",
    "             'noncompliance',\n",
    "             '股东权益/负债合计_EquTotLia', \n",
    "             '股东类别_SHType', \n",
    "             '每股收益(元/股)_BasicEPS', \n",
    "             '每股经营活动现金流量(元/股)_OpeCFPS',\n",
    "             '营业利润/营业总收入()_OpePrTOR', \n",
    "             '净利润()_NetPrf', \n",
    "             '有形净值债务率(%)_DbTanEquRt', \n",
    "             '每股现金及现金等价物余额(元/股)_CCEPS', \n",
    "             '资产负债率(%)_DbAstRt',\n",
    "\n",
    "             '经营现金净流量(元)_NOCF', \n",
    "             '股东总户数(户)_SHNum',\n",
    "             '利润总额增长率(%)_TotPrfGrRt',\n",
    "             '营业收入增长率(%)_OpeIncmGrRt',\n",
    "             '户均持股数(股/户)_AvgHS',\n",
    "             \n",
    "             '每股资本公积金(元/股)_CapSurFdPS',\n",
    "             '股东权益周转率(次)_EquRat',\n",
    "             '产权比率(%)_DbEquRt',\n",
    "             '权益乘数(%)_EquMul',\n",
    "             '营业收入3年复合增长率(%)_OperaInc3GrRt',\n",
    "\n",
    "            #  '净资产收益率(扣除，加权)(%)_WROECut',\n",
    "            #  '流动资产/总资产(%)_CurTotAst',\n",
    "            #  '销售成本率(%)_SalCostRt',\n",
    "            #  '销售毛利率(%)_GIncmRt',\n",
    "            #  '销售期间费用率(%)_PdCostRt',\n",
    "            #  '非流动资产/总资产(%)_NoncurTotAst',\n",
    "             ]\n",
    "\n",
    "data_cleaned = data[vars_kept].dropna()"
   ]
  },
  {
   "cell_type": "markdown",
   "id": "a0c5110f",
   "metadata": {},
   "source": [
    "### 合规企业下采样"
   ]
  },
  {
   "cell_type": "code",
   "execution_count": 9,
   "id": "9eac74f9",
   "metadata": {},
   "outputs": [],
   "source": [
    "# noncompliant_firms = data_cleaned.loc[data_cleaned['noncompliance'] == 1, '上市公司代码_ComCd'].unique()\n",
    "# foo = []\n",
    "\n",
    "# for year, group in data_cleaned.groupby('year'):\n",
    "#     positive = group[group['noncompliance'] == 1]\n",
    "\n",
    "#     negative = group[\n",
    "#         (group['noncompliance'] == 0) &\n",
    "#         (~group['上市公司代码_ComCd'].isin(noncompliant_firms))\n",
    "#     ]\n",
    "\n",
    "#     n_pos = len(positive)\n",
    "#     n_neg = min(len(negative), n_pos * 9)\n",
    "\n",
    "#     negative_sample = negative.sample(n=n_neg, random_state=42)\n",
    "#     foo.append(pd.concat([positive, negative_sample]))\n",
    "\n",
    "# data_sample = pd.concat(foo).reset_index(drop=True)\n",
    "\n",
    "    "
   ]
  },
  {
   "cell_type": "markdown",
   "id": "9b4a3494",
   "metadata": {},
   "source": [
    "### 保存数据"
   ]
  },
  {
   "cell_type": "code",
   "execution_count": null,
   "id": "aba6647a",
   "metadata": {},
   "outputs": [],
   "source": [
    "# 划分训练集和测试集\n",
    "from sklearn.model_selection import train_test_split\n",
    "train_df, test_df = train_test_split(data_cleaned, \n",
    "                                     test_size=0.2, \n",
    "                                     stratify=data_cleaned['noncompliance'],\n",
    "                                     shuffle=True,\n",
    "                                     random_state=42)\n",
    "\n"
   ]
  },
  {
   "cell_type": "code",
   "execution_count": null,
   "id": "7c3c66c1",
   "metadata": {},
   "outputs": [],
   "source": [
    "# 训练数据下采样"
   ]
  },
  {
   "cell_type": "code",
   "execution_count": null,
   "id": "0fd2b755",
   "metadata": {},
   "outputs": [],
   "source": [
    "# 导出为 CSV 文件\n",
    "train_df.drop(\n",
    "    columns=['上市公司代码_ComCd', '最新公司全称_LComNm', 'year']\n",
    "    ).to_csv(\n",
    "        \"../train_data.csv\", \n",
    "        index=False, \n",
    "        encoding='utf-8-sig')\n",
    "test_df.drop(\n",
    "    columns=['上市公司代码_ComCd', '最新公司全称_LComNm', 'year']\n",
    "    ).to_csv(\n",
    "        \"../test_data.csv\", \n",
    "        index=False,\n",
    "        encoding='utf-8-sig')"
   ]
  }
 ],
 "metadata": {
  "kernelspec": {
   "display_name": "workenv",
   "language": "python",
   "name": "python3"
  },
  "language_info": {
   "codemirror_mode": {
    "name": "ipython",
    "version": 3
   },
   "file_extension": ".py",
   "mimetype": "text/x-python",
   "name": "python",
   "nbconvert_exporter": "python",
   "pygments_lexer": "ipython3",
   "version": "3.12.2"
  }
 },
 "nbformat": 4,
 "nbformat_minor": 5
}
