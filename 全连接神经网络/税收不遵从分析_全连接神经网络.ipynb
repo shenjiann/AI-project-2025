{
 "cells": [
  {
   "cell_type": "markdown",
   "id": "bb12756c",
   "metadata": {},
   "source": [
    "# 全连接神经网络实际数据分析\n",
    "\n",
    "在之前的章节中，我们介绍了神经网络的基本概念、以及如何对其进行编程。在这一章节中，我们以上市公司税收不遵从行为的分类为例，用```torch```展示神经网络的内部工作机制，并借此简单介绍```torch```的基本用法。\n",
    "\n",
    "**学习目标**：\n",
    "* a\n",
    "* b\n",
    "* c\n",
    "\n",
    "## 目录"
   ]
  },
  {
   "cell_type": "markdown",
   "id": "d1cb7bfd",
   "metadata": {},
   "source": [
    "<a name='1'></a>\n",
    "## 1-第三方包导入"
   ]
  },
  {
   "cell_type": "code",
   "execution_count": null,
   "id": "442a498f",
   "metadata": {},
   "outputs": [],
   "source": [
    "import pandas as pd\n",
    "from sklearn.model_selection import train_test_split"
   ]
  },
  {
   "cell_type": "markdown",
   "id": "068d5ad5",
   "metadata": {},
   "source": [
    "<a name='2'></a>\n",
    "## 2-探索性数据分析"
   ]
  },
  {
   "cell_type": "markdown",
   "id": "f01d8098",
   "metadata": {},
   "source": [
    "我们使用的数据包括2015-2024年中国所有上市公司的财报指标和纳税违规公告。由于税收遵从的公司占了绝大部分，我们对其进行下采样。最终得到的数据集data.csv中包含4155条税收遵从企业和831条不遵从企业的观测记录。\n",
    "\n",
    "下面我们先使用```pandas```读取数据文件，再展示数据集的前5条观测值，以对数据产生初步认识。"
   ]
  },
  {
   "cell_type": "code",
   "execution_count": 18,
   "id": "4e2244b9",
   "metadata": {},
   "outputs": [
    {
     "data": {
      "application/vnd.microsoft.datawrangler.viewer.v0+json": {
       "columns": [
        {
         "name": "index",
         "rawType": "int64",
         "type": "integer"
        },
        {
         "name": "noncompliance",
         "rawType": "float64",
         "type": "float"
        },
        {
         "name": "股东类别_SHType",
         "rawType": "int64",
         "type": "integer"
        },
        {
         "name": "股东总户数(户)_SHNum",
         "rawType": "float64",
         "type": "float"
        },
        {
         "name": "户均持股数(股/户)_AvgHS",
         "rawType": "float64",
         "type": "float"
        },
        {
         "name": "每股收益(元/股)_BasicEPS",
         "rawType": "float64",
         "type": "float"
        },
        {
         "name": "每股经营活动现金流量(元/股)_OpeCFPS",
         "rawType": "float64",
         "type": "float"
        },
        {
         "name": "每股现金及现金等价物余额(元/股)_CCEPS",
         "rawType": "float64",
         "type": "float"
        },
        {
         "name": "净利润()_NetPrf",
         "rawType": "float64",
         "type": "float"
        },
        {
         "name": "营业利润/营业总收入()_OpePrTOR",
         "rawType": "float64",
         "type": "float"
        },
        {
         "name": "有形净值债务率(%)_DbTanEquRt",
         "rawType": "float64",
         "type": "float"
        },
        {
         "name": "股东权益/负债合计_EquTotLia",
         "rawType": "float64",
         "type": "float"
        },
        {
         "name": "资产负债率(%)_DbAstRt",
         "rawType": "float64",
         "type": "float"
        },
        {
         "name": "产权比率(%)_DbEquRt",
         "rawType": "float64",
         "type": "float"
        },
        {
         "name": "利润总额增长率(%)_TotPrfGrRt",
         "rawType": "float64",
         "type": "float"
        },
        {
         "name": "营业收入3年复合增长率(%)_OperaInc3GrRt",
         "rawType": "float64",
         "type": "float"
        },
        {
         "name": "股东权益周转率(次)_EquRat",
         "rawType": "float64",
         "type": "float"
        },
        {
         "name": "经营现金净流量(元)_NOCF",
         "rawType": "float64",
         "type": "float"
        },
        {
         "name": "营业收入增长率(%)_OpeIncmGrRt",
         "rawType": "float64",
         "type": "float"
        },
        {
         "name": "每股资本公积金(元/股)_CapSurFdPS",
         "rawType": "float64",
         "type": "float"
        },
        {
         "name": "权益乘数(%)_EquMul",
         "rawType": "float64",
         "type": "float"
        }
       ],
       "conversionMethod": "pd.DataFrame",
       "ref": "fb82f383-8117-4d6b-8dfc-0c487c5e2556",
       "rows": [
        [
         "0",
         "1.0",
         "0",
         "47637.0",
         "13149.0",
         "0.61",
         "0.854",
         "1.8344",
         "382115791.9",
         "10.8036",
         "57.8121",
         "188.6212",
         "33.5835",
         "50.565",
         "-13.7859",
         "11.3971",
         "1.0675",
         "534961767.57",
         "8.8828",
         "0.2677",
         "1.5056"
        ],
        [
         "1",
         "1.0",
         "1",
         "45243.0",
         "35258.0",
         "0.01",
         "-1.1303",
         "0.8549",
         "18051860.6",
         "-45.4209",
         "334.6187",
         "35.4071",
         "73.4626",
         "276.8262",
         "101.8748",
         "-23.1548",
         "2.2301",
         "-1802976520.53",
         "5.3417",
         "0.8399",
         "3.7683"
        ],
        [
         "2",
         "1.0",
         "0",
         "12732.0",
         "22550.0",
         "1.86",
         "1.1441",
         "0.7015",
         "515566574.58",
         "28.0363",
         "47.1087",
         "297.0299",
         "25.189",
         "33.6701",
         "23.9927",
         "22.9617",
         "0.9925",
         "328465709.34",
         "81.9351",
         "2.6566",
         "1.3367"
        ],
        [
         "3",
         "1.0",
         "0",
         "21691.0",
         "10142.0",
         "0.3539",
         "0.0594",
         "0.7108",
         "77860426.59",
         "4.0816",
         "138.3406",
         "80.9723",
         "51.7863",
         "107.4101",
         "31.7674",
         "11.1301",
         "2.2031",
         "13072142.46",
         "12.8161",
         "1.1694",
         "2.0741"
        ],
        [
         "4",
         "1.0",
         "1",
         "35615.0",
         "8514.0",
         "0.1809",
         "0.5599",
         "1.4905",
         "54842444.53",
         "10.1237",
         "71.0228",
         "141.8598",
         "41.1106",
         "69.8098",
         "8.9495",
         "8.9858",
         "0.9102",
         "169791799.77",
         "-0.8419",
         "0.2838",
         "1.6981"
        ]
       ],
       "shape": {
        "columns": 20,
        "rows": 5
       }
      },
      "text/html": [
       "<div>\n",
       "<style scoped>\n",
       "    .dataframe tbody tr th:only-of-type {\n",
       "        vertical-align: middle;\n",
       "    }\n",
       "\n",
       "    .dataframe tbody tr th {\n",
       "        vertical-align: top;\n",
       "    }\n",
       "\n",
       "    .dataframe thead th {\n",
       "        text-align: right;\n",
       "    }\n",
       "</style>\n",
       "<table border=\"1\" class=\"dataframe\">\n",
       "  <thead>\n",
       "    <tr style=\"text-align: right;\">\n",
       "      <th></th>\n",
       "      <th>noncompliance</th>\n",
       "      <th>股东类别_SHType</th>\n",
       "      <th>股东总户数(户)_SHNum</th>\n",
       "      <th>户均持股数(股/户)_AvgHS</th>\n",
       "      <th>每股收益(元/股)_BasicEPS</th>\n",
       "      <th>每股经营活动现金流量(元/股)_OpeCFPS</th>\n",
       "      <th>每股现金及现金等价物余额(元/股)_CCEPS</th>\n",
       "      <th>净利润()_NetPrf</th>\n",
       "      <th>营业利润/营业总收入()_OpePrTOR</th>\n",
       "      <th>有形净值债务率(%)_DbTanEquRt</th>\n",
       "      <th>股东权益/负债合计_EquTotLia</th>\n",
       "      <th>资产负债率(%)_DbAstRt</th>\n",
       "      <th>产权比率(%)_DbEquRt</th>\n",
       "      <th>利润总额增长率(%)_TotPrfGrRt</th>\n",
       "      <th>营业收入3年复合增长率(%)_OperaInc3GrRt</th>\n",
       "      <th>股东权益周转率(次)_EquRat</th>\n",
       "      <th>经营现金净流量(元)_NOCF</th>\n",
       "      <th>营业收入增长率(%)_OpeIncmGrRt</th>\n",
       "      <th>每股资本公积金(元/股)_CapSurFdPS</th>\n",
       "      <th>权益乘数(%)_EquMul</th>\n",
       "    </tr>\n",
       "  </thead>\n",
       "  <tbody>\n",
       "    <tr>\n",
       "      <th>0</th>\n",
       "      <td>1.0</td>\n",
       "      <td>0</td>\n",
       "      <td>47637.0</td>\n",
       "      <td>13149.0</td>\n",
       "      <td>0.6100</td>\n",
       "      <td>0.8540</td>\n",
       "      <td>1.8344</td>\n",
       "      <td>3.821158e+08</td>\n",
       "      <td>10.8036</td>\n",
       "      <td>57.8121</td>\n",
       "      <td>188.6212</td>\n",
       "      <td>33.5835</td>\n",
       "      <td>50.5650</td>\n",
       "      <td>-13.7859</td>\n",
       "      <td>11.3971</td>\n",
       "      <td>1.0675</td>\n",
       "      <td>5.349618e+08</td>\n",
       "      <td>8.8828</td>\n",
       "      <td>0.2677</td>\n",
       "      <td>1.5056</td>\n",
       "    </tr>\n",
       "    <tr>\n",
       "      <th>1</th>\n",
       "      <td>1.0</td>\n",
       "      <td>1</td>\n",
       "      <td>45243.0</td>\n",
       "      <td>35258.0</td>\n",
       "      <td>0.0100</td>\n",
       "      <td>-1.1303</td>\n",
       "      <td>0.8549</td>\n",
       "      <td>1.805186e+07</td>\n",
       "      <td>-45.4209</td>\n",
       "      <td>334.6187</td>\n",
       "      <td>35.4071</td>\n",
       "      <td>73.4626</td>\n",
       "      <td>276.8262</td>\n",
       "      <td>101.8748</td>\n",
       "      <td>-23.1548</td>\n",
       "      <td>2.2301</td>\n",
       "      <td>-1.802977e+09</td>\n",
       "      <td>5.3417</td>\n",
       "      <td>0.8399</td>\n",
       "      <td>3.7683</td>\n",
       "    </tr>\n",
       "    <tr>\n",
       "      <th>2</th>\n",
       "      <td>1.0</td>\n",
       "      <td>0</td>\n",
       "      <td>12732.0</td>\n",
       "      <td>22550.0</td>\n",
       "      <td>1.8600</td>\n",
       "      <td>1.1441</td>\n",
       "      <td>0.7015</td>\n",
       "      <td>5.155666e+08</td>\n",
       "      <td>28.0363</td>\n",
       "      <td>47.1087</td>\n",
       "      <td>297.0299</td>\n",
       "      <td>25.1890</td>\n",
       "      <td>33.6701</td>\n",
       "      <td>23.9927</td>\n",
       "      <td>22.9617</td>\n",
       "      <td>0.9925</td>\n",
       "      <td>3.284657e+08</td>\n",
       "      <td>81.9351</td>\n",
       "      <td>2.6566</td>\n",
       "      <td>1.3367</td>\n",
       "    </tr>\n",
       "    <tr>\n",
       "      <th>3</th>\n",
       "      <td>1.0</td>\n",
       "      <td>0</td>\n",
       "      <td>21691.0</td>\n",
       "      <td>10142.0</td>\n",
       "      <td>0.3539</td>\n",
       "      <td>0.0594</td>\n",
       "      <td>0.7108</td>\n",
       "      <td>7.786043e+07</td>\n",
       "      <td>4.0816</td>\n",
       "      <td>138.3406</td>\n",
       "      <td>80.9723</td>\n",
       "      <td>51.7863</td>\n",
       "      <td>107.4101</td>\n",
       "      <td>31.7674</td>\n",
       "      <td>11.1301</td>\n",
       "      <td>2.2031</td>\n",
       "      <td>1.307214e+07</td>\n",
       "      <td>12.8161</td>\n",
       "      <td>1.1694</td>\n",
       "      <td>2.0741</td>\n",
       "    </tr>\n",
       "    <tr>\n",
       "      <th>4</th>\n",
       "      <td>1.0</td>\n",
       "      <td>1</td>\n",
       "      <td>35615.0</td>\n",
       "      <td>8514.0</td>\n",
       "      <td>0.1809</td>\n",
       "      <td>0.5599</td>\n",
       "      <td>1.4905</td>\n",
       "      <td>5.484244e+07</td>\n",
       "      <td>10.1237</td>\n",
       "      <td>71.0228</td>\n",
       "      <td>141.8598</td>\n",
       "      <td>41.1106</td>\n",
       "      <td>69.8098</td>\n",
       "      <td>8.9495</td>\n",
       "      <td>8.9858</td>\n",
       "      <td>0.9102</td>\n",
       "      <td>1.697918e+08</td>\n",
       "      <td>-0.8419</td>\n",
       "      <td>0.2838</td>\n",
       "      <td>1.6981</td>\n",
       "    </tr>\n",
       "  </tbody>\n",
       "</table>\n",
       "</div>"
      ],
      "text/plain": [
       "   noncompliance  股东类别_SHType  股东总户数(户)_SHNum  户均持股数(股/户)_AvgHS  \\\n",
       "0            1.0            0         47637.0           13149.0   \n",
       "1            1.0            1         45243.0           35258.0   \n",
       "2            1.0            0         12732.0           22550.0   \n",
       "3            1.0            0         21691.0           10142.0   \n",
       "4            1.0            1         35615.0            8514.0   \n",
       "\n",
       "   每股收益(元/股)_BasicEPS  每股经营活动现金流量(元/股)_OpeCFPS  每股现金及现金等价物余额(元/股)_CCEPS  \\\n",
       "0              0.6100                   0.8540                   1.8344   \n",
       "1              0.0100                  -1.1303                   0.8549   \n",
       "2              1.8600                   1.1441                   0.7015   \n",
       "3              0.3539                   0.0594                   0.7108   \n",
       "4              0.1809                   0.5599                   1.4905   \n",
       "\n",
       "   净利润()_NetPrf  营业利润/营业总收入()_OpePrTOR  有形净值债务率(%)_DbTanEquRt  \\\n",
       "0  3.821158e+08                10.8036                57.8121   \n",
       "1  1.805186e+07               -45.4209               334.6187   \n",
       "2  5.155666e+08                28.0363                47.1087   \n",
       "3  7.786043e+07                 4.0816               138.3406   \n",
       "4  5.484244e+07                10.1237                71.0228   \n",
       "\n",
       "   股东权益/负债合计_EquTotLia  资产负债率(%)_DbAstRt  产权比率(%)_DbEquRt  \\\n",
       "0             188.6212           33.5835          50.5650   \n",
       "1              35.4071           73.4626         276.8262   \n",
       "2             297.0299           25.1890          33.6701   \n",
       "3              80.9723           51.7863         107.4101   \n",
       "4             141.8598           41.1106          69.8098   \n",
       "\n",
       "   利润总额增长率(%)_TotPrfGrRt  营业收入3年复合增长率(%)_OperaInc3GrRt  股东权益周转率(次)_EquRat  \\\n",
       "0               -13.7859                       11.3971             1.0675   \n",
       "1               101.8748                      -23.1548             2.2301   \n",
       "2                23.9927                       22.9617             0.9925   \n",
       "3                31.7674                       11.1301             2.2031   \n",
       "4                 8.9495                        8.9858             0.9102   \n",
       "\n",
       "   经营现金净流量(元)_NOCF  营业收入增长率(%)_OpeIncmGrRt  每股资本公积金(元/股)_CapSurFdPS  \\\n",
       "0     5.349618e+08                  8.8828                   0.2677   \n",
       "1    -1.802977e+09                  5.3417                   0.8399   \n",
       "2     3.284657e+08                 81.9351                   2.6566   \n",
       "3     1.307214e+07                 12.8161                   1.1694   \n",
       "4     1.697918e+08                 -0.8419                   0.2838   \n",
       "\n",
       "   权益乘数(%)_EquMul  \n",
       "0          1.5056  \n",
       "1          3.7683  \n",
       "2          1.3367  \n",
       "3          2.0741  \n",
       "4          1.6981  "
      ]
     },
     "execution_count": 18,
     "metadata": {},
     "output_type": "execute_result"
    }
   ],
   "source": [
    "data = pd.read_csv('data.csv') # 读取数据\n",
    "data.head(5) # 展示数据前5行\n"
   ]
  },
  {
   "cell_type": "markdown",
   "id": "5f67d11a",
   "metadata": {},
   "source": [
    "在该数据集中，```noncompliance``` 变量是我们关心的Y变量，```noncompliance = 1```代表该企业在当年存在着税收不遵从行为。\n",
    "\n",
    "我们按照```noncompliance```变量进行分组，在每组中计算样本均值。可以发现税收不遵从的企业和税收遵从的企业在股权结构、偿债能力、盈利能力等方面都可能存在着不同。"
   ]
  },
  {
   "cell_type": "code",
   "execution_count": null,
   "id": "04cd756f",
   "metadata": {},
   "outputs": [
    {
     "data": {
      "application/vnd.microsoft.datawrangler.viewer.v0+json": {
       "columns": [
        {
         "name": "index",
         "rawType": "object",
         "type": "string"
        },
        {
         "name": "0.0",
         "rawType": "float64",
         "type": "float"
        },
        {
         "name": "1.0",
         "rawType": "float64",
         "type": "float"
        }
       ],
       "conversionMethod": "pd.DataFrame",
       "ref": "d1046fa1-b43c-4d03-9374-a2a0a80bf9fd",
       "rows": [
        [
         "股东类别_SHType",
         "0.263",
         "0.261"
        ],
        [
         "股东总户数(户)_SHNum",
         "47153.827",
         "55145.878"
        ],
        [
         "户均持股数(股/户)_AvgHS",
         "959603.203",
         "2308614.052"
        ],
        [
         "每股收益(元/股)_BasicEPS",
         "0.54",
         "0.342"
        ],
        [
         "每股经营活动现金流量(元/股)_OpeCFPS",
         "0.687",
         "0.589"
        ],
        [
         "每股现金及现金等价物余额(元/股)_CCEPS",
         "2.025",
         "2.289"
        ],
        [
         "净利润()_NetPrf",
         "1015823845.694",
         "1771778024.077"
        ],
        [
         "营业利润/营业总收入()_OpePrTOR",
         "2.735",
         "-3.152"
        ],
        [
         "有形净值债务率(%)_DbTanEquRt",
         "78.324",
         "271.553"
        ],
        [
         "股东权益/负债合计_EquTotLia",
         "239.712",
         "140.965"
        ],
        [
         "资产负债率(%)_DbAstRt",
         "42.336",
         "52.704"
        ],
        [
         "产权比率(%)_DbEquRt",
         "148.637",
         "238.619"
        ],
        [
         "利润总额增长率(%)_TotPrfGrRt",
         "-12.001",
         "-71.412"
        ],
        [
         "营业收入3年复合增长率(%)_OperaInc3GrRt",
         "12.801",
         "9.779"
        ],
        [
         "股东权益周转率(次)_EquRat",
         "1.639",
         "2.347"
        ],
        [
         "经营现金净流量(元)_NOCF",
         "2559377886.911",
         "2563108779.045"
        ],
        [
         "营业收入增长率(%)_OpeIncmGrRt",
         "13.721",
         "7.837"
        ],
        [
         "每股资本公积金(元/股)_CapSurFdPS",
         "2.512",
         "2.473"
        ],
        [
         "权益乘数(%)_EquMul",
         "2.486",
         "3.386"
        ]
       ],
       "shape": {
        "columns": 2,
        "rows": 19
       }
      },
      "text/html": [
       "<div>\n",
       "<style scoped>\n",
       "    .dataframe tbody tr th:only-of-type {\n",
       "        vertical-align: middle;\n",
       "    }\n",
       "\n",
       "    .dataframe tbody tr th {\n",
       "        vertical-align: top;\n",
       "    }\n",
       "\n",
       "    .dataframe thead th {\n",
       "        text-align: right;\n",
       "    }\n",
       "</style>\n",
       "<table border=\"1\" class=\"dataframe\">\n",
       "  <thead>\n",
       "    <tr style=\"text-align: right;\">\n",
       "      <th>noncompliance</th>\n",
       "      <th>0.0</th>\n",
       "      <th>1.0</th>\n",
       "    </tr>\n",
       "  </thead>\n",
       "  <tbody>\n",
       "    <tr>\n",
       "      <th>股东类别_SHType</th>\n",
       "      <td>2.630000e-01</td>\n",
       "      <td>2.610000e-01</td>\n",
       "    </tr>\n",
       "    <tr>\n",
       "      <th>股东总户数(户)_SHNum</th>\n",
       "      <td>4.715383e+04</td>\n",
       "      <td>5.514588e+04</td>\n",
       "    </tr>\n",
       "    <tr>\n",
       "      <th>户均持股数(股/户)_AvgHS</th>\n",
       "      <td>9.596032e+05</td>\n",
       "      <td>2.308614e+06</td>\n",
       "    </tr>\n",
       "    <tr>\n",
       "      <th>每股收益(元/股)_BasicEPS</th>\n",
       "      <td>5.400000e-01</td>\n",
       "      <td>3.420000e-01</td>\n",
       "    </tr>\n",
       "    <tr>\n",
       "      <th>每股经营活动现金流量(元/股)_OpeCFPS</th>\n",
       "      <td>6.870000e-01</td>\n",
       "      <td>5.890000e-01</td>\n",
       "    </tr>\n",
       "    <tr>\n",
       "      <th>每股现金及现金等价物余额(元/股)_CCEPS</th>\n",
       "      <td>2.025000e+00</td>\n",
       "      <td>2.289000e+00</td>\n",
       "    </tr>\n",
       "    <tr>\n",
       "      <th>净利润()_NetPrf</th>\n",
       "      <td>1.015824e+09</td>\n",
       "      <td>1.771778e+09</td>\n",
       "    </tr>\n",
       "    <tr>\n",
       "      <th>营业利润/营业总收入()_OpePrTOR</th>\n",
       "      <td>2.735000e+00</td>\n",
       "      <td>-3.152000e+00</td>\n",
       "    </tr>\n",
       "    <tr>\n",
       "      <th>有形净值债务率(%)_DbTanEquRt</th>\n",
       "      <td>7.832400e+01</td>\n",
       "      <td>2.715530e+02</td>\n",
       "    </tr>\n",
       "    <tr>\n",
       "      <th>股东权益/负债合计_EquTotLia</th>\n",
       "      <td>2.397120e+02</td>\n",
       "      <td>1.409650e+02</td>\n",
       "    </tr>\n",
       "    <tr>\n",
       "      <th>资产负债率(%)_DbAstRt</th>\n",
       "      <td>4.233600e+01</td>\n",
       "      <td>5.270400e+01</td>\n",
       "    </tr>\n",
       "    <tr>\n",
       "      <th>产权比率(%)_DbEquRt</th>\n",
       "      <td>1.486370e+02</td>\n",
       "      <td>2.386190e+02</td>\n",
       "    </tr>\n",
       "    <tr>\n",
       "      <th>利润总额增长率(%)_TotPrfGrRt</th>\n",
       "      <td>-1.200100e+01</td>\n",
       "      <td>-7.141200e+01</td>\n",
       "    </tr>\n",
       "    <tr>\n",
       "      <th>营业收入3年复合增长率(%)_OperaInc3GrRt</th>\n",
       "      <td>1.280100e+01</td>\n",
       "      <td>9.779000e+00</td>\n",
       "    </tr>\n",
       "    <tr>\n",
       "      <th>股东权益周转率(次)_EquRat</th>\n",
       "      <td>1.639000e+00</td>\n",
       "      <td>2.347000e+00</td>\n",
       "    </tr>\n",
       "    <tr>\n",
       "      <th>经营现金净流量(元)_NOCF</th>\n",
       "      <td>2.559378e+09</td>\n",
       "      <td>2.563109e+09</td>\n",
       "    </tr>\n",
       "    <tr>\n",
       "      <th>营业收入增长率(%)_OpeIncmGrRt</th>\n",
       "      <td>1.372100e+01</td>\n",
       "      <td>7.837000e+00</td>\n",
       "    </tr>\n",
       "    <tr>\n",
       "      <th>每股资本公积金(元/股)_CapSurFdPS</th>\n",
       "      <td>2.512000e+00</td>\n",
       "      <td>2.473000e+00</td>\n",
       "    </tr>\n",
       "    <tr>\n",
       "      <th>权益乘数(%)_EquMul</th>\n",
       "      <td>2.486000e+00</td>\n",
       "      <td>3.386000e+00</td>\n",
       "    </tr>\n",
       "  </tbody>\n",
       "</table>\n",
       "</div>"
      ],
      "text/plain": [
       "noncompliance                          0.0           1.0\n",
       "股东类别_SHType                   2.630000e-01  2.610000e-01\n",
       "股东总户数(户)_SHNum                4.715383e+04  5.514588e+04\n",
       "户均持股数(股/户)_AvgHS              9.596032e+05  2.308614e+06\n",
       "每股收益(元/股)_BasicEPS            5.400000e-01  3.420000e-01\n",
       "每股经营活动现金流量(元/股)_OpeCFPS       6.870000e-01  5.890000e-01\n",
       "每股现金及现金等价物余额(元/股)_CCEPS       2.025000e+00  2.289000e+00\n",
       "净利润()_NetPrf                  1.015824e+09  1.771778e+09\n",
       "营业利润/营业总收入()_OpePrTOR         2.735000e+00 -3.152000e+00\n",
       "有形净值债务率(%)_DbTanEquRt         7.832400e+01  2.715530e+02\n",
       "股东权益/负债合计_EquTotLia           2.397120e+02  1.409650e+02\n",
       "资产负债率(%)_DbAstRt              4.233600e+01  5.270400e+01\n",
       "产权比率(%)_DbEquRt               1.486370e+02  2.386190e+02\n",
       "利润总额增长率(%)_TotPrfGrRt        -1.200100e+01 -7.141200e+01\n",
       "营业收入3年复合增长率(%)_OperaInc3GrRt  1.280100e+01  9.779000e+00\n",
       "股东权益周转率(次)_EquRat             1.639000e+00  2.347000e+00\n",
       "经营现金净流量(元)_NOCF               2.559378e+09  2.563109e+09\n",
       "营业收入增长率(%)_OpeIncmGrRt        1.372100e+01  7.837000e+00\n",
       "每股资本公积金(元/股)_CapSurFdPS       2.512000e+00  2.473000e+00\n",
       "权益乘数(%)_EquMul                2.486000e+00  3.386000e+00"
      ]
     },
     "execution_count": 19,
     "metadata": {},
     "output_type": "execute_result"
    }
   ],
   "source": [
    "data.groupby('noncompliance').mean().round(3).T # 按照noncompliance分组计算均值，取3位小数"
   ]
  },
  {
   "cell_type": "markdown",
   "id": "151f2387",
   "metadata": {},
   "source": [
    "<a name='3'></a>\n",
    "## 3-建模分析"
   ]
  },
  {
   "cell_type": "markdown",
   "id": "7c743048",
   "metadata": {},
   "source": [
    "我们首先将数据集划分为训练集和测试机"
   ]
  }
 ],
 "metadata": {
  "kernelspec": {
   "display_name": "workenv",
   "language": "python",
   "name": "python3"
  },
  "language_info": {
   "codemirror_mode": {
    "name": "ipython",
    "version": 3
   },
   "file_extension": ".py",
   "mimetype": "text/x-python",
   "name": "python",
   "nbconvert_exporter": "python",
   "pygments_lexer": "ipython3",
   "version": "3.12.2"
  }
 },
 "nbformat": 4,
 "nbformat_minor": 5
}
