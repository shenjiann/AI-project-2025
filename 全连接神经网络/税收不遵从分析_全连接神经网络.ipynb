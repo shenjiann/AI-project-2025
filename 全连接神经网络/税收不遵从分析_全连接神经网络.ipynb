{
 "cells": [
  {
   "cell_type": "markdown",
   "id": "bb12756c",
   "metadata": {},
   "source": [
    "<!-- # 全连接神经网络数据分析（最后转成英文） -->\n",
    "# Fully Connected Neural Network Data Analysis\n",
    "\n",
    "<!-- 在之前的章节中，我们介绍了神经网络的基本概念、以及如何对其进行编程。在这一章节中，我们以上市公司税收不遵从行为的分类为例，用```torch```展示神经网络的内部工作机制，并借此简单介绍```torch```的基本用法。 -->\n",
    "\n",
    "In previous sections, we introduced the basic concepts of neural networks and how to programe them manually. Now in this section, we would demonstrate the usage of ```PyTorch``` as an example of **tax non-compliant company classification** .\n",
    "\n",
    "**Learning Goal**：\n",
    "* a\n",
    "* b\n",
    "* c\n",
    "\n",
    "## 目录"
   ]
  },
  {
   "cell_type": "markdown",
   "id": "d1cb7bfd",
   "metadata": {},
   "source": [
    "<a name='1'></a>\n",
    "## 1-Import Packages"
   ]
  },
  {
   "cell_type": "code",
   "execution_count": null,
   "id": "442a498f",
   "metadata": {},
   "outputs": [],
   "source": [
    "import pandas as pd\n",
    "import numpy as np\n",
    "import torch\n",
    "import torch.nn as nn\n",
    "from torch.utils.data import DataLoader, TensorDataset\n",
    "from sklearn.preprocessing import StandardScaler\n",
    "torch.manual_seed(42)"
   ]
  },
  {
   "cell_type": "markdown",
   "id": "068d5ad5",
   "metadata": {},
   "source": [
    "<a name='2'></a>\n",
    "## 2-Descriptive Analysis"
   ]
  },
  {
   "cell_type": "markdown",
   "id": "f01d8098",
   "metadata": {},
   "source": [
    "我们使用的数据包括2015-2024年中国所有上市公司的财报指标和纳税违规公告。在原始数据中，税收遵从企业的数量。通过上采样，最终得到的数据集data.csv中包含4155条税收遵从企业和831条不遵从企业的观测记录。\n",
    "\n",
    "下面我们先使用```pandas```读取数据文件，再展示数据集的前5条观测值，以对数据产生初步认识。"
   ]
  },
  {
   "cell_type": "code",
   "execution_count": 2,
   "id": "4e2244b9",
   "metadata": {},
   "outputs": [
    {
     "data": {
      "application/vnd.microsoft.datawrangler.viewer.v0+json": {
       "columns": [
        {
         "name": "index",
         "rawType": "int64",
         "type": "integer"
        },
        {
         "name": "noncompliance",
         "rawType": "float64",
         "type": "float"
        },
        {
         "name": "股东权益/负债合计_EquTotLia",
         "rawType": "float64",
         "type": "float"
        },
        {
         "name": "股东类别_SHType",
         "rawType": "int64",
         "type": "integer"
        },
        {
         "name": "每股收益(元/股)_BasicEPS",
         "rawType": "float64",
         "type": "float"
        },
        {
         "name": "每股经营活动现金流量(元/股)_OpeCFPS",
         "rawType": "float64",
         "type": "float"
        },
        {
         "name": "营业利润/营业总收入()_OpePrTOR",
         "rawType": "float64",
         "type": "float"
        },
        {
         "name": "净利润()_NetPrf",
         "rawType": "float64",
         "type": "float"
        },
        {
         "name": "有形净值债务率(%)_DbTanEquRt",
         "rawType": "float64",
         "type": "float"
        },
        {
         "name": "每股现金及现金等价物余额(元/股)_CCEPS",
         "rawType": "float64",
         "type": "float"
        },
        {
         "name": "资产负债率(%)_DbAstRt",
         "rawType": "float64",
         "type": "float"
        },
        {
         "name": "经营现金净流量(元)_NOCF",
         "rawType": "float64",
         "type": "float"
        },
        {
         "name": "股东总户数(户)_SHNum",
         "rawType": "float64",
         "type": "float"
        },
        {
         "name": "利润总额增长率(%)_TotPrfGrRt",
         "rawType": "float64",
         "type": "float"
        },
        {
         "name": "营业收入增长率(%)_OpeIncmGrRt",
         "rawType": "float64",
         "type": "float"
        },
        {
         "name": "户均持股数(股/户)_AvgHS",
         "rawType": "float64",
         "type": "float"
        },
        {
         "name": "每股资本公积金(元/股)_CapSurFdPS",
         "rawType": "float64",
         "type": "float"
        },
        {
         "name": "股东权益周转率(次)_EquRat",
         "rawType": "float64",
         "type": "float"
        },
        {
         "name": "产权比率(%)_DbEquRt",
         "rawType": "float64",
         "type": "float"
        },
        {
         "name": "权益乘数(%)_EquMul",
         "rawType": "float64",
         "type": "float"
        },
        {
         "name": "营业收入3年复合增长率(%)_OperaInc3GrRt",
         "rawType": "float64",
         "type": "float"
        },
        {
         "name": "净资产收益率(扣除，加权)(%)_WROECut",
         "rawType": "float64",
         "type": "float"
        },
        {
         "name": "流动资产/总资产(%)_CurTotAst",
         "rawType": "float64",
         "type": "float"
        },
        {
         "name": "销售成本率(%)_SalCostRt",
         "rawType": "float64",
         "type": "float"
        },
        {
         "name": "销售毛利率(%)_GIncmRt",
         "rawType": "float64",
         "type": "float"
        },
        {
         "name": "销售期间费用率(%)_PdCostRt",
         "rawType": "float64",
         "type": "float"
        },
        {
         "name": "非流动资产/总资产(%)_NoncurTotAst",
         "rawType": "float64",
         "type": "float"
        }
       ],
       "conversionMethod": "pd.DataFrame",
       "ref": "112b10ce-6e54-4b1c-9b1a-e66ee9458c69",
       "rows": [
        [
         "0",
         "0.0",
         "80.7537",
         "0",
         "0.0588",
         "0.0753",
         "3.9793",
         "101574444.58",
         "133.4197",
         "0.3359",
         "55.1437",
         "130118518.21",
         "108623.0",
         "-6.0505",
         "32.1281",
         "15909.0",
         "0.9477",
         "1.9469",
         "122.9342",
         "2.2293",
         "90.2712",
         "5.18",
         "69.1845",
         "88.9524",
         "11.0476",
         "8.1304",
         "30.8155"
        ],
        [
         "1",
         "0.0",
         "323.5963",
         "0",
         "0.74",
         "0.3335",
         "13.308",
         "15172071.43",
         "31.6858",
         "0.9271",
         "23.6074",
         "8816061.9",
         "30.0",
         "38.1417",
         "52.3041",
         "881067.0",
         "0.3429",
         "1.3302",
         "30.9027",
         "1.309",
         "52.6485",
         "21.05",
         "75.3315",
         "39.3969",
         "60.6031",
         "44.1717",
         "24.6685"
        ],
        [
         "2",
         "0.0",
         "40.9974",
         "0",
         "-2.04",
         "1.0992",
         "-21.5082",
         "-947124646.62",
         "364.32",
         "0.8515",
         "71.0248",
         "501870002.69",
         "22020.0",
         "-12010.3113",
         "-22.6205",
         "20734.0",
         "2.2845",
         "1.9207",
         "245.1222",
         "3.4512",
         "9.2016",
         "-47.12",
         "53.5268",
         "79.3969",
         "20.6031",
         "20.5129",
         "46.4732"
        ],
        [
         "3",
         "0.0",
         "68.6448",
         "0",
         "1.2704",
         "1.9955",
         "12.4332",
         "114337043.78",
         "192.2331",
         "0.6467",
         "59.2962",
         "179598875.95",
         "7.0",
         "54.0861",
         "0.5672",
         "12857143.0",
         "1.9856",
         "2.5506",
         "145.6775",
         "2.4568",
         "8.3138",
         "22.84",
         "46.1873",
         "73.8741",
         "26.1259",
         "15.2662",
         "53.8127"
        ],
        [
         "4",
         "0.0",
         "12.2972",
         "1",
         "-0.89",
         "-0.1791",
         "-14.399",
         "-203109864.05",
         "6375.7392",
         "0.5305",
         "86.7773",
         "-40649438.16",
         "13801.0",
         "-200.5883",
         "-9.1976",
         "16448.0",
         "1.5777",
         "4.1962",
         "656.2752",
         "7.5628",
         "-3.9599",
         "-60.48",
         "72.8318",
         "96.3563",
         "3.6437",
         "12.5189",
         "27.1682"
        ]
       ],
       "shape": {
        "columns": 26,
        "rows": 5
       }
      },
      "text/html": [
       "<div>\n",
       "<style scoped>\n",
       "    .dataframe tbody tr th:only-of-type {\n",
       "        vertical-align: middle;\n",
       "    }\n",
       "\n",
       "    .dataframe tbody tr th {\n",
       "        vertical-align: top;\n",
       "    }\n",
       "\n",
       "    .dataframe thead th {\n",
       "        text-align: right;\n",
       "    }\n",
       "</style>\n",
       "<table border=\"1\" class=\"dataframe\">\n",
       "  <thead>\n",
       "    <tr style=\"text-align: right;\">\n",
       "      <th></th>\n",
       "      <th>noncompliance</th>\n",
       "      <th>股东权益/负债合计_EquTotLia</th>\n",
       "      <th>股东类别_SHType</th>\n",
       "      <th>每股收益(元/股)_BasicEPS</th>\n",
       "      <th>每股经营活动现金流量(元/股)_OpeCFPS</th>\n",
       "      <th>营业利润/营业总收入()_OpePrTOR</th>\n",
       "      <th>净利润()_NetPrf</th>\n",
       "      <th>有形净值债务率(%)_DbTanEquRt</th>\n",
       "      <th>每股现金及现金等价物余额(元/股)_CCEPS</th>\n",
       "      <th>资产负债率(%)_DbAstRt</th>\n",
       "      <th>...</th>\n",
       "      <th>股东权益周转率(次)_EquRat</th>\n",
       "      <th>产权比率(%)_DbEquRt</th>\n",
       "      <th>权益乘数(%)_EquMul</th>\n",
       "      <th>营业收入3年复合增长率(%)_OperaInc3GrRt</th>\n",
       "      <th>净资产收益率(扣除，加权)(%)_WROECut</th>\n",
       "      <th>流动资产/总资产(%)_CurTotAst</th>\n",
       "      <th>销售成本率(%)_SalCostRt</th>\n",
       "      <th>销售毛利率(%)_GIncmRt</th>\n",
       "      <th>销售期间费用率(%)_PdCostRt</th>\n",
       "      <th>非流动资产/总资产(%)_NoncurTotAst</th>\n",
       "    </tr>\n",
       "  </thead>\n",
       "  <tbody>\n",
       "    <tr>\n",
       "      <th>0</th>\n",
       "      <td>0.0</td>\n",
       "      <td>80.7537</td>\n",
       "      <td>0</td>\n",
       "      <td>0.0588</td>\n",
       "      <td>0.0753</td>\n",
       "      <td>3.9793</td>\n",
       "      <td>1.015744e+08</td>\n",
       "      <td>133.4197</td>\n",
       "      <td>0.3359</td>\n",
       "      <td>55.1437</td>\n",
       "      <td>...</td>\n",
       "      <td>1.9469</td>\n",
       "      <td>122.9342</td>\n",
       "      <td>2.2293</td>\n",
       "      <td>90.2712</td>\n",
       "      <td>5.18</td>\n",
       "      <td>69.1845</td>\n",
       "      <td>88.9524</td>\n",
       "      <td>11.0476</td>\n",
       "      <td>8.1304</td>\n",
       "      <td>30.8155</td>\n",
       "    </tr>\n",
       "    <tr>\n",
       "      <th>1</th>\n",
       "      <td>0.0</td>\n",
       "      <td>323.5963</td>\n",
       "      <td>0</td>\n",
       "      <td>0.7400</td>\n",
       "      <td>0.3335</td>\n",
       "      <td>13.3080</td>\n",
       "      <td>1.517207e+07</td>\n",
       "      <td>31.6858</td>\n",
       "      <td>0.9271</td>\n",
       "      <td>23.6074</td>\n",
       "      <td>...</td>\n",
       "      <td>1.3302</td>\n",
       "      <td>30.9027</td>\n",
       "      <td>1.3090</td>\n",
       "      <td>52.6485</td>\n",
       "      <td>21.05</td>\n",
       "      <td>75.3315</td>\n",
       "      <td>39.3969</td>\n",
       "      <td>60.6031</td>\n",
       "      <td>44.1717</td>\n",
       "      <td>24.6685</td>\n",
       "    </tr>\n",
       "    <tr>\n",
       "      <th>2</th>\n",
       "      <td>0.0</td>\n",
       "      <td>40.9974</td>\n",
       "      <td>0</td>\n",
       "      <td>-2.0400</td>\n",
       "      <td>1.0992</td>\n",
       "      <td>-21.5082</td>\n",
       "      <td>-9.471246e+08</td>\n",
       "      <td>364.3200</td>\n",
       "      <td>0.8515</td>\n",
       "      <td>71.0248</td>\n",
       "      <td>...</td>\n",
       "      <td>1.9207</td>\n",
       "      <td>245.1222</td>\n",
       "      <td>3.4512</td>\n",
       "      <td>9.2016</td>\n",
       "      <td>-47.12</td>\n",
       "      <td>53.5268</td>\n",
       "      <td>79.3969</td>\n",
       "      <td>20.6031</td>\n",
       "      <td>20.5129</td>\n",
       "      <td>46.4732</td>\n",
       "    </tr>\n",
       "    <tr>\n",
       "      <th>3</th>\n",
       "      <td>0.0</td>\n",
       "      <td>68.6448</td>\n",
       "      <td>0</td>\n",
       "      <td>1.2704</td>\n",
       "      <td>1.9955</td>\n",
       "      <td>12.4332</td>\n",
       "      <td>1.143370e+08</td>\n",
       "      <td>192.2331</td>\n",
       "      <td>0.6467</td>\n",
       "      <td>59.2962</td>\n",
       "      <td>...</td>\n",
       "      <td>2.5506</td>\n",
       "      <td>145.6775</td>\n",
       "      <td>2.4568</td>\n",
       "      <td>8.3138</td>\n",
       "      <td>22.84</td>\n",
       "      <td>46.1873</td>\n",
       "      <td>73.8741</td>\n",
       "      <td>26.1259</td>\n",
       "      <td>15.2662</td>\n",
       "      <td>53.8127</td>\n",
       "    </tr>\n",
       "    <tr>\n",
       "      <th>4</th>\n",
       "      <td>0.0</td>\n",
       "      <td>12.2972</td>\n",
       "      <td>1</td>\n",
       "      <td>-0.8900</td>\n",
       "      <td>-0.1791</td>\n",
       "      <td>-14.3990</td>\n",
       "      <td>-2.031099e+08</td>\n",
       "      <td>6375.7392</td>\n",
       "      <td>0.5305</td>\n",
       "      <td>86.7773</td>\n",
       "      <td>...</td>\n",
       "      <td>4.1962</td>\n",
       "      <td>656.2752</td>\n",
       "      <td>7.5628</td>\n",
       "      <td>-3.9599</td>\n",
       "      <td>-60.48</td>\n",
       "      <td>72.8318</td>\n",
       "      <td>96.3563</td>\n",
       "      <td>3.6437</td>\n",
       "      <td>12.5189</td>\n",
       "      <td>27.1682</td>\n",
       "    </tr>\n",
       "  </tbody>\n",
       "</table>\n",
       "<p>5 rows × 26 columns</p>\n",
       "</div>"
      ],
      "text/plain": [
       "   noncompliance  股东权益/负债合计_EquTotLia  股东类别_SHType  每股收益(元/股)_BasicEPS  \\\n",
       "0            0.0              80.7537            0              0.0588   \n",
       "1            0.0             323.5963            0              0.7400   \n",
       "2            0.0              40.9974            0             -2.0400   \n",
       "3            0.0              68.6448            0              1.2704   \n",
       "4            0.0              12.2972            1             -0.8900   \n",
       "\n",
       "   每股经营活动现金流量(元/股)_OpeCFPS  营业利润/营业总收入()_OpePrTOR  净利润()_NetPrf  \\\n",
       "0                   0.0753                 3.9793  1.015744e+08   \n",
       "1                   0.3335                13.3080  1.517207e+07   \n",
       "2                   1.0992               -21.5082 -9.471246e+08   \n",
       "3                   1.9955                12.4332  1.143370e+08   \n",
       "4                  -0.1791               -14.3990 -2.031099e+08   \n",
       "\n",
       "   有形净值债务率(%)_DbTanEquRt  每股现金及现金等价物余额(元/股)_CCEPS  资产负债率(%)_DbAstRt  ...  \\\n",
       "0               133.4197                   0.3359           55.1437  ...   \n",
       "1                31.6858                   0.9271           23.6074  ...   \n",
       "2               364.3200                   0.8515           71.0248  ...   \n",
       "3               192.2331                   0.6467           59.2962  ...   \n",
       "4              6375.7392                   0.5305           86.7773  ...   \n",
       "\n",
       "   股东权益周转率(次)_EquRat  产权比率(%)_DbEquRt  权益乘数(%)_EquMul  \\\n",
       "0             1.9469         122.9342          2.2293   \n",
       "1             1.3302          30.9027          1.3090   \n",
       "2             1.9207         245.1222          3.4512   \n",
       "3             2.5506         145.6775          2.4568   \n",
       "4             4.1962         656.2752          7.5628   \n",
       "\n",
       "   营业收入3年复合增长率(%)_OperaInc3GrRt  净资产收益率(扣除，加权)(%)_WROECut  \\\n",
       "0                       90.2712                      5.18   \n",
       "1                       52.6485                     21.05   \n",
       "2                        9.2016                    -47.12   \n",
       "3                        8.3138                     22.84   \n",
       "4                       -3.9599                    -60.48   \n",
       "\n",
       "   流动资产/总资产(%)_CurTotAst  销售成本率(%)_SalCostRt  销售毛利率(%)_GIncmRt  \\\n",
       "0                69.1845             88.9524           11.0476   \n",
       "1                75.3315             39.3969           60.6031   \n",
       "2                53.5268             79.3969           20.6031   \n",
       "3                46.1873             73.8741           26.1259   \n",
       "4                72.8318             96.3563            3.6437   \n",
       "\n",
       "   销售期间费用率(%)_PdCostRt  非流动资产/总资产(%)_NoncurTotAst  \n",
       "0               8.1304                    30.8155  \n",
       "1              44.1717                    24.6685  \n",
       "2              20.5129                    46.4732  \n",
       "3              15.2662                    53.8127  \n",
       "4              12.5189                    27.1682  \n",
       "\n",
       "[5 rows x 26 columns]"
      ]
     },
     "execution_count": 2,
     "metadata": {},
     "output_type": "execute_result"
    }
   ],
   "source": [
    "train_df = pd.read_csv('train_data.csv') # 读取训练数据\n",
    "test_df = pd.read_csv('test_data.csv') # 读取测试数据\n",
    "train_df.head(5) # 展示训练数据前5行"
   ]
  },
  {
   "cell_type": "markdown",
   "id": "5f67d11a",
   "metadata": {},
   "source": [
    "在该数据集中，```noncompliance``` 变量是我们关心的Y变量，```noncompliance = 1```代表该企业在当年存在着税收不遵从行为。\n",
    "\n",
    "我们按照```noncompliance```变量进行分组，在每组中计算样本均值。可以发现税收不遵从的企业和税收遵从的企业在股权结构、偿债能力、盈利能力等方面都可能存在着不同。"
   ]
  },
  {
   "cell_type": "code",
   "execution_count": 3,
   "id": "04cd756f",
   "metadata": {},
   "outputs": [
    {
     "data": {
      "application/vnd.microsoft.datawrangler.viewer.v0+json": {
       "columns": [
        {
         "name": "index",
         "rawType": "object",
         "type": "string"
        },
        {
         "name": "0.0",
         "rawType": "float64",
         "type": "float"
        },
        {
         "name": "1.0",
         "rawType": "float64",
         "type": "float"
        }
       ],
       "conversionMethod": "pd.DataFrame",
       "ref": "0942dfb0-52d4-4a7e-aa6a-4f7e6fb30dfd",
       "rows": [
        [
         "股东权益/负债合计_EquTotLia",
         "248.918",
         "158.432"
        ],
        [
         "股东类别_SHType",
         "0.253",
         "0.166"
        ],
        [
         "每股收益(元/股)_BasicEPS",
         "0.5",
         "0.316"
        ],
        [
         "每股经营活动现金流量(元/股)_OpeCFPS",
         "0.632",
         "0.465"
        ],
        [
         "营业利润/营业总收入()_OpePrTOR",
         "-2.709",
         "-2.671"
        ],
        [
         "净利润()_NetPrf",
         "421247142.027",
         "762350976.698"
        ],
        [
         "有形净值债务率(%)_DbTanEquRt",
         "42.138",
         "282.448"
        ],
        [
         "每股现金及现金等价物余额(元/股)_CCEPS",
         "1.734",
         "2.053"
        ],
        [
         "资产负债率(%)_DbAstRt",
         "40.877",
         "49.537"
        ],
        [
         "经营现金净流量(元)_NOCF",
         "846587963.149",
         "1123683689.616"
        ],
        [
         "股东总户数(户)_SHNum",
         "41220.722",
         "50358.254"
        ],
        [
         "利润总额增长率(%)_TotPrfGrRt",
         "-35.473",
         "-73.587"
        ],
        [
         "营业收入增长率(%)_OpeIncmGrRt",
         "17.605",
         "8.091"
        ],
        [
         "户均持股数(股/户)_AvgHS",
         "2408662.54",
         "1110551.747"
        ],
        [
         "每股资本公积金(元/股)_CapSurFdPS",
         "2.29",
         "2.573"
        ],
        [
         "股东权益周转率(次)_EquRat",
         "1.6",
         "2.275"
        ],
        [
         "产权比率(%)_DbEquRt",
         "119.756",
         "182.364"
        ],
        [
         "权益乘数(%)_EquMul",
         "2.198",
         "2.824"
        ],
        [
         "营业收入3年复合增长率(%)_OperaInc3GrRt",
         "14.467",
         "10.536"
        ],
        [
         "净资产收益率(扣除，加权)(%)_WROECut",
         "4.739",
         "-18.0"
        ],
        [
         "流动资产/总资产(%)_CurTotAst",
         "58.368",
         "64.365"
        ],
        [
         "销售成本率(%)_SalCostRt",
         "70.154",
         "74.866"
        ],
        [
         "销售毛利率(%)_GIncmRt",
         "29.846",
         "25.134"
        ],
        [
         "销售期间费用率(%)_PdCostRt",
         "31.972",
         "22.707"
        ],
        [
         "非流动资产/总资产(%)_NoncurTotAst",
         "41.632",
         "35.635"
        ]
       ],
       "shape": {
        "columns": 2,
        "rows": 25
       }
      },
      "text/html": [
       "<div>\n",
       "<style scoped>\n",
       "    .dataframe tbody tr th:only-of-type {\n",
       "        vertical-align: middle;\n",
       "    }\n",
       "\n",
       "    .dataframe tbody tr th {\n",
       "        vertical-align: top;\n",
       "    }\n",
       "\n",
       "    .dataframe thead th {\n",
       "        text-align: right;\n",
       "    }\n",
       "</style>\n",
       "<table border=\"1\" class=\"dataframe\">\n",
       "  <thead>\n",
       "    <tr style=\"text-align: right;\">\n",
       "      <th>noncompliance</th>\n",
       "      <th>0.0</th>\n",
       "      <th>1.0</th>\n",
       "    </tr>\n",
       "  </thead>\n",
       "  <tbody>\n",
       "    <tr>\n",
       "      <th>股东权益/负债合计_EquTotLia</th>\n",
       "      <td>2.489180e+02</td>\n",
       "      <td>1.584320e+02</td>\n",
       "    </tr>\n",
       "    <tr>\n",
       "      <th>股东类别_SHType</th>\n",
       "      <td>2.530000e-01</td>\n",
       "      <td>1.660000e-01</td>\n",
       "    </tr>\n",
       "    <tr>\n",
       "      <th>每股收益(元/股)_BasicEPS</th>\n",
       "      <td>5.000000e-01</td>\n",
       "      <td>3.160000e-01</td>\n",
       "    </tr>\n",
       "    <tr>\n",
       "      <th>每股经营活动现金流量(元/股)_OpeCFPS</th>\n",
       "      <td>6.320000e-01</td>\n",
       "      <td>4.650000e-01</td>\n",
       "    </tr>\n",
       "    <tr>\n",
       "      <th>营业利润/营业总收入()_OpePrTOR</th>\n",
       "      <td>-2.709000e+00</td>\n",
       "      <td>-2.671000e+00</td>\n",
       "    </tr>\n",
       "    <tr>\n",
       "      <th>净利润()_NetPrf</th>\n",
       "      <td>4.212471e+08</td>\n",
       "      <td>7.623510e+08</td>\n",
       "    </tr>\n",
       "    <tr>\n",
       "      <th>有形净值债务率(%)_DbTanEquRt</th>\n",
       "      <td>4.213800e+01</td>\n",
       "      <td>2.824480e+02</td>\n",
       "    </tr>\n",
       "    <tr>\n",
       "      <th>每股现金及现金等价物余额(元/股)_CCEPS</th>\n",
       "      <td>1.734000e+00</td>\n",
       "      <td>2.053000e+00</td>\n",
       "    </tr>\n",
       "    <tr>\n",
       "      <th>资产负债率(%)_DbAstRt</th>\n",
       "      <td>4.087700e+01</td>\n",
       "      <td>4.953700e+01</td>\n",
       "    </tr>\n",
       "    <tr>\n",
       "      <th>经营现金净流量(元)_NOCF</th>\n",
       "      <td>8.465880e+08</td>\n",
       "      <td>1.123684e+09</td>\n",
       "    </tr>\n",
       "    <tr>\n",
       "      <th>股东总户数(户)_SHNum</th>\n",
       "      <td>4.122072e+04</td>\n",
       "      <td>5.035825e+04</td>\n",
       "    </tr>\n",
       "    <tr>\n",
       "      <th>利润总额增长率(%)_TotPrfGrRt</th>\n",
       "      <td>-3.547300e+01</td>\n",
       "      <td>-7.358700e+01</td>\n",
       "    </tr>\n",
       "    <tr>\n",
       "      <th>营业收入增长率(%)_OpeIncmGrRt</th>\n",
       "      <td>1.760500e+01</td>\n",
       "      <td>8.091000e+00</td>\n",
       "    </tr>\n",
       "    <tr>\n",
       "      <th>户均持股数(股/户)_AvgHS</th>\n",
       "      <td>2.408663e+06</td>\n",
       "      <td>1.110552e+06</td>\n",
       "    </tr>\n",
       "    <tr>\n",
       "      <th>每股资本公积金(元/股)_CapSurFdPS</th>\n",
       "      <td>2.290000e+00</td>\n",
       "      <td>2.573000e+00</td>\n",
       "    </tr>\n",
       "    <tr>\n",
       "      <th>股东权益周转率(次)_EquRat</th>\n",
       "      <td>1.600000e+00</td>\n",
       "      <td>2.275000e+00</td>\n",
       "    </tr>\n",
       "    <tr>\n",
       "      <th>产权比率(%)_DbEquRt</th>\n",
       "      <td>1.197560e+02</td>\n",
       "      <td>1.823640e+02</td>\n",
       "    </tr>\n",
       "    <tr>\n",
       "      <th>权益乘数(%)_EquMul</th>\n",
       "      <td>2.198000e+00</td>\n",
       "      <td>2.824000e+00</td>\n",
       "    </tr>\n",
       "    <tr>\n",
       "      <th>营业收入3年复合增长率(%)_OperaInc3GrRt</th>\n",
       "      <td>1.446700e+01</td>\n",
       "      <td>1.053600e+01</td>\n",
       "    </tr>\n",
       "    <tr>\n",
       "      <th>净资产收益率(扣除，加权)(%)_WROECut</th>\n",
       "      <td>4.739000e+00</td>\n",
       "      <td>-1.800000e+01</td>\n",
       "    </tr>\n",
       "    <tr>\n",
       "      <th>流动资产/总资产(%)_CurTotAst</th>\n",
       "      <td>5.836800e+01</td>\n",
       "      <td>6.436500e+01</td>\n",
       "    </tr>\n",
       "    <tr>\n",
       "      <th>销售成本率(%)_SalCostRt</th>\n",
       "      <td>7.015400e+01</td>\n",
       "      <td>7.486600e+01</td>\n",
       "    </tr>\n",
       "    <tr>\n",
       "      <th>销售毛利率(%)_GIncmRt</th>\n",
       "      <td>2.984600e+01</td>\n",
       "      <td>2.513400e+01</td>\n",
       "    </tr>\n",
       "    <tr>\n",
       "      <th>销售期间费用率(%)_PdCostRt</th>\n",
       "      <td>3.197200e+01</td>\n",
       "      <td>2.270700e+01</td>\n",
       "    </tr>\n",
       "    <tr>\n",
       "      <th>非流动资产/总资产(%)_NoncurTotAst</th>\n",
       "      <td>4.163200e+01</td>\n",
       "      <td>3.563500e+01</td>\n",
       "    </tr>\n",
       "  </tbody>\n",
       "</table>\n",
       "</div>"
      ],
      "text/plain": [
       "noncompliance                          0.0           1.0\n",
       "股东权益/负债合计_EquTotLia           2.489180e+02  1.584320e+02\n",
       "股东类别_SHType                   2.530000e-01  1.660000e-01\n",
       "每股收益(元/股)_BasicEPS            5.000000e-01  3.160000e-01\n",
       "每股经营活动现金流量(元/股)_OpeCFPS       6.320000e-01  4.650000e-01\n",
       "营业利润/营业总收入()_OpePrTOR        -2.709000e+00 -2.671000e+00\n",
       "净利润()_NetPrf                  4.212471e+08  7.623510e+08\n",
       "有形净值债务率(%)_DbTanEquRt         4.213800e+01  2.824480e+02\n",
       "每股现金及现金等价物余额(元/股)_CCEPS       1.734000e+00  2.053000e+00\n",
       "资产负债率(%)_DbAstRt              4.087700e+01  4.953700e+01\n",
       "经营现金净流量(元)_NOCF               8.465880e+08  1.123684e+09\n",
       "股东总户数(户)_SHNum                4.122072e+04  5.035825e+04\n",
       "利润总额增长率(%)_TotPrfGrRt        -3.547300e+01 -7.358700e+01\n",
       "营业收入增长率(%)_OpeIncmGrRt        1.760500e+01  8.091000e+00\n",
       "户均持股数(股/户)_AvgHS              2.408663e+06  1.110552e+06\n",
       "每股资本公积金(元/股)_CapSurFdPS       2.290000e+00  2.573000e+00\n",
       "股东权益周转率(次)_EquRat             1.600000e+00  2.275000e+00\n",
       "产权比率(%)_DbEquRt               1.197560e+02  1.823640e+02\n",
       "权益乘数(%)_EquMul                2.198000e+00  2.824000e+00\n",
       "营业收入3年复合增长率(%)_OperaInc3GrRt  1.446700e+01  1.053600e+01\n",
       "净资产收益率(扣除，加权)(%)_WROECut      4.739000e+00 -1.800000e+01\n",
       "流动资产/总资产(%)_CurTotAst         5.836800e+01  6.436500e+01\n",
       "销售成本率(%)_SalCostRt            7.015400e+01  7.486600e+01\n",
       "销售毛利率(%)_GIncmRt              2.984600e+01  2.513400e+01\n",
       "销售期间费用率(%)_PdCostRt           3.197200e+01  2.270700e+01\n",
       "非流动资产/总资产(%)_NoncurTotAst     4.163200e+01  3.563500e+01"
      ]
     },
     "execution_count": 3,
     "metadata": {},
     "output_type": "execute_result"
    }
   ],
   "source": [
    "train_df.groupby('noncompliance').mean().round(3).T # 按照noncompliance分组计算均值，取3位小数"
   ]
  },
  {
   "cell_type": "markdown",
   "id": "151f2387",
   "metadata": {},
   "source": [
    "<a name='3'></a>\n",
    "## 3-建模分析"
   ]
  },
  {
   "cell_type": "code",
   "execution_count": null,
   "id": "683af2e7",
   "metadata": {},
   "outputs": [
    {
     "data": {
      "text/plain": [
       "<torch._C.Generator at 0x10fb132d0>"
      ]
     },
     "execution_count": 4,
     "metadata": {},
     "output_type": "execute_result"
    }
   ],
   "source": []
  },
  {
   "cell_type": "code",
   "execution_count": 5,
   "id": "158e918d",
   "metadata": {},
   "outputs": [],
   "source": [
    "# 将data数据框转换为numpy数组\n",
    "X_train_array = train_df.drop(columns=['noncompliance']).values\n",
    "y_train_array = train_df['noncompliance'].values\n",
    "X_test_array = test_df.drop(columns=['noncompliance']).values\n",
    "y_test_array = test_df['noncompliance'].values\n",
    "\n",
    "scaler = StandardScaler()\n",
    "X_train_array = scaler.fit_transform(X_train_array)  # 计算均值和方差并标准化\n",
    "X_test_array = scaler.transform(X_test_array) # 使用训练集的均值和方差来标准化测试集\n",
    "\n",
    "# 将 numpy数组转换为 pytorch tensor\n",
    "X_train_tensor = torch.tensor(X_train_array, dtype=torch.float32)\n",
    "y_train_tensor = torch.tensor(y_train_array, dtype=torch.float32)\n",
    "X_test_tensor = torch.tensor(X_test_array, dtype=torch.float32)\n",
    "y_test_tensor = torch.tensor(y_test_array, dtype=torch.float32)\n",
    "\n",
    "# 将pytorch tensor 转换为 pytorch dataset\n",
    "train_dataset = TensorDataset(X_train_tensor, y_train_tensor)\n",
    "test_dataset = TensorDataset(X_test_tensor, y_test_tensor)\n",
    "\n",
    "train_loader = DataLoader(train_dataset, batch_size=128, shuffle=True)\n",
    "test_loader = DataLoader(test_dataset, batch_size=128, shuffle=False)"
   ]
  },
  {
   "cell_type": "code",
   "execution_count": 6,
   "id": "d3d3405a",
   "metadata": {},
   "outputs": [],
   "source": [
    "class FNN(nn.Module):\n",
    "    def __init__(self):\n",
    "        super(FNN, self).__init__()\n",
    "        self.fc1 = nn.Linear(25, 64)\n",
    "        self.fc2 = nn.Linear(64, 32)\n",
    "        self.fc3 = nn.Linear(32, 8)\n",
    "        self.fc4 = nn.Linear(8, 1)\n",
    "        \n",
    "    def forward(self, x):\n",
    "        x = torch.relu(self.fc1(x)) # relu激活函数\n",
    "        x = torch.relu(self.fc2(x))\n",
    "        x = torch.relu(self.fc3(x))\n",
    "        x = torch.sigmoid(self.fc4(x)) # sigmoid激活函数\n",
    "        # x = self.fc3(x)\n",
    "        return x"
   ]
  },
  {
   "cell_type": "code",
   "execution_count": 7,
   "id": "9f7f382b",
   "metadata": {},
   "outputs": [],
   "source": [
    "from sklearn.metrics import precision_score, recall_score, f1_score\n",
    "\n",
    "def train(model, train_loader, criterion, optimizer, num_epochs, device=\"cpu\"):\n",
    "    model.to(device)\n",
    "    model.train()\n",
    "\n",
    "    for epoch in range(num_epochs):\n",
    "        total_loss = 0.0\n",
    "        num_batches = 0\n",
    "\n",
    "        y_true_epoch = []\n",
    "        y_pred_epoch = []\n",
    "\n",
    "        for batch_idx, (data, target) in enumerate(train_loader):\n",
    "            data   = data.to(device)\n",
    "            target = target.to(device).float()          # BCELoss 需要 float 标签\n",
    "\n",
    "            optimizer.zero_grad()\n",
    "            prob   = model(data)                       # ⬅️ 已经是 [0,1] 概率\n",
    "            loss   = criterion(prob.squeeze(1), target)\n",
    "            loss.backward()\n",
    "            optimizer.step()\n",
    "\n",
    "            total_loss += loss.item()\n",
    "            num_batches += 1\n",
    "\n",
    "            # -------- 收集预测 ----------\n",
    "            preds = (prob.detach().squeeze(1) >= 0.5).long()\n",
    "            y_true_epoch.append(target.detach().cpu())\n",
    "            y_pred_epoch.append(preds.cpu())\n",
    "            # ----------------------------\n",
    "\n",
    "        avg_loss = total_loss / num_batches\n",
    "\n",
    "        y_true = torch.cat(y_true_epoch).numpy()\n",
    "        y_pred = torch.cat(y_pred_epoch).numpy()\n",
    "\n",
    "        precision = precision_score(y_true, y_pred, zero_division=0)\n",
    "        recall    = recall_score(y_true, y_pred, zero_division=0)\n",
    "        f1        = f1_score(y_true, y_pred, zero_division=0)\n",
    "\n",
    "        if (epoch + 1) % 50 == 0:\n",
    "            print(f\"Epoch [{epoch+1}/{num_epochs}] | \"\n",
    "                  f\"Loss: {avg_loss:.4f} | \"\n",
    "                  f\"P: {precision:.4f} R: {recall:.4f} F1: {f1:.4f}\")"
   ]
  },
  {
   "cell_type": "code",
   "execution_count": 8,
   "id": "94982cc1",
   "metadata": {},
   "outputs": [],
   "source": [
    "from sklearn.metrics import precision_score, recall_score, f1_score\n",
    "\n",
    "def test(model, test_loader, criterion, device=\"cpu\", thresh=0.5):\n",
    "    model.to(device)\n",
    "    model.eval()\n",
    "\n",
    "    total_loss = 0.0\n",
    "    n_batches  = 0\n",
    "\n",
    "    all_probs   = []\n",
    "    all_targets = []\n",
    "\n",
    "    with torch.no_grad():\n",
    "        for data, target in test_loader:\n",
    "            data    = data.to(device)\n",
    "            target  = target.to(device).float()\n",
    "\n",
    "            prob    = model(data).squeeze(1)\n",
    "            loss    = criterion(prob, target)\n",
    "            total_loss += loss.item()\n",
    "            n_batches += 1\n",
    "\n",
    "            all_probs.extend(prob.cpu().numpy())\n",
    "            all_targets.extend(target.cpu().numpy())\n",
    "\n",
    "    # ---- 依据阈值生成 0/1 预测 ----\n",
    "    all_preds = (np.array(all_probs) >= thresh).astype(int)\n",
    "    all_targets = np.array(all_targets).astype(int)\n",
    "\n",
    "    # ---- 指标 ----\n",
    "    test_loss = total_loss / n_batches\n",
    "    precision = precision_score(all_targets, all_preds, zero_division=0)\n",
    "    recall    = recall_score(all_targets, all_preds, zero_division=0)\n",
    "    f1        = f1_score(all_targets, all_preds, zero_division=0)\n",
    "\n",
    "    print(f\"Test Loss: {test_loss:.4f}\")\n",
    "    print(f\"Precision: {precision:.4f} | \"\n",
    "          f\"Recall: {recall:.4f} | \"\n",
    "          f\"F1: {f1:.4f}\")\n",
    "    print(\"Number of predicted positives:\", all_preds.sum())\n",
    "    print(\"Number of actual positives:\",   all_targets.sum())"
   ]
  },
  {
   "cell_type": "code",
   "execution_count": 9,
   "id": "3c5a10de",
   "metadata": {},
   "outputs": [],
   "source": [
    "model = FNN() # 实例化模型\n",
    "# criterion = nn.BCEWithLogitsLoss(pos_weight=torch.tensor([4])) # 二分类交叉熵损失函数\n",
    "criterion = nn.BCELoss() # 二分类交叉熵损失函数\n",
    "optimizer = torch.optim.Adam(model.parameters(), lr=1e-3) # Adam优化器\n"
   ]
  },
  {
   "cell_type": "code",
   "execution_count": 10,
   "id": "9de0b970",
   "metadata": {},
   "outputs": [
    {
     "name": "stdout",
     "output_type": "stream",
     "text": [
      "Epoch [50/500] | Loss: 0.1606 | P: 0.8343 R: 0.5006 F1: 0.6258\n",
      "Epoch [100/500] | Loss: 0.1305 | P: 0.8696 R: 0.6120 F1: 0.7184\n",
      "Epoch [150/500] | Loss: 0.1093 | P: 0.9045 R: 0.6847 F1: 0.7794\n",
      "Epoch [200/500] | Loss: 0.0989 | P: 0.9103 R: 0.7204 F1: 0.8043\n",
      "Epoch [250/500] | Loss: 0.0895 | P: 0.9131 R: 0.7501 F1: 0.8236\n",
      "Epoch [300/500] | Loss: 0.0842 | P: 0.9231 R: 0.7650 F1: 0.8366\n",
      "Epoch [350/500] | Loss: 0.0881 | P: 0.9180 R: 0.7760 F1: 0.8411\n",
      "Epoch [400/500] | Loss: 0.0694 | P: 0.9370 R: 0.8088 F1: 0.8682\n",
      "Epoch [450/500] | Loss: 0.0686 | P: 0.9361 R: 0.8096 F1: 0.8683\n",
      "Epoch [500/500] | Loss: 0.0650 | P: 0.9348 R: 0.8168 F1: 0.8719\n"
     ]
    }
   ],
   "source": [
    "train(model, train_loader, criterion, optimizer, num_epochs=500) # 训练模型"
   ]
  },
  {
   "cell_type": "code",
   "execution_count": 11,
   "id": "f0f23fc0",
   "metadata": {},
   "outputs": [
    {
     "name": "stdout",
     "output_type": "stream",
     "text": [
      "Test Loss: 0.5347\n",
      "Precision: 0.3694 | Recall: 0.3892 | F1: 0.3790\n",
      "Number of predicted positives: 509\n",
      "Number of actual positives: 483\n"
     ]
    }
   ],
   "source": [
    "test(model, test_loader, criterion)"
   ]
  },
  {
   "cell_type": "code",
   "execution_count": 12,
   "id": "9b581f97",
   "metadata": {},
   "outputs": [],
   "source": [
    "def get_probs_targets(model, loader, device=\"cpu\"):\n",
    "    \"\"\"返回两个 np.array: 预测概率 probs, 真实标签 targets\"\"\"\n",
    "    model.eval()\n",
    "    model.to(device)\n",
    "\n",
    "    probs   = []\n",
    "    targets = []\n",
    "\n",
    "    with torch.no_grad():\n",
    "        for x, y in loader:\n",
    "            x = x.to(device)\n",
    "            y = y.to(device).float()\n",
    "\n",
    "            p = model(x).squeeze(1)          # 你的网络已带 sigmoid → p∈[0,1]\n",
    "            probs.extend(p.cpu().numpy())\n",
    "            targets.extend(y.cpu().numpy())\n",
    "\n",
    "    return np.array(probs), np.array(targets, dtype=int)"
   ]
  },
  {
   "cell_type": "code",
   "execution_count": 13,
   "id": "c051cee7",
   "metadata": {},
   "outputs": [
    {
     "name": "stdout",
     "output_type": "stream",
     "text": [
      "PR‑AUC = 0.2745\n"
     ]
    }
   ],
   "source": [
    "from sklearn.metrics import precision_recall_curve, average_precision_score\n",
    "\n",
    "probs, y_true = get_probs_targets(model, test_loader, device = 'cpu')\n",
    "\n",
    "precision, recall, thresholds = precision_recall_curve(y_true, probs)\n",
    "auc_pr  = average_precision_score(y_true, probs)\n",
    "\n",
    "print(f\"PR‑AUC = {auc_pr:.4f}\")"
   ]
  },
  {
   "cell_type": "code",
   "execution_count": 14,
   "id": "cb6bc1fe",
   "metadata": {},
   "outputs": [
    {
     "data": {
      "image/png": "[encoded data removed]",
      "text/plain": [
       "<Figure size 640x480 with 1 Axes>"
      ]
     },
     "metadata": {},
     "output_type": "display_data"
    }
   ],
   "source": [
    "import matplotlib.pyplot as plt\n",
    "\n",
    "plt.figure()\n",
    "plt.plot(recall, precision, label=f\"FNN  (AUC={auc_pr:.3f})\")\n",
    "plt.xlabel(\"Recall\")\n",
    "plt.ylabel(\"Precision\")\n",
    "plt.title(\"Precision–Recall Curve\")\n",
    "plt.legend()\n",
    "plt.grid(True, linestyle=\"--\", linewidth=0.5, alpha=0.7)\n",
    "plt.show()"
   ]
  },
  {
   "cell_type": "markdown",
   "id": "79f1e899",
   "metadata": {},
   "source": [
    "## 4-模型比较"
   ]
  },
  {
   "cell_type": "markdown",
   "id": "125652cf",
   "metadata": {},
   "source": []
  }
 ],
 "metadata": {
  "kernelspec": {
   "display_name": "workenv",
   "language": "python",
   "name": "python3"
  },
  "language_info": {
   "codemirror_mode": {
    "name": "ipython",
    "version": 3
   },
   "file_extension": ".py",
   "mimetype": "text/x-python",
   "name": "python",
   "nbconvert_exporter": "python",
   "pygments_lexer": "ipython3",
   "version": "3.12.2"
  }
 },
 "nbformat": 4,
 "nbformat_minor": 5
}
