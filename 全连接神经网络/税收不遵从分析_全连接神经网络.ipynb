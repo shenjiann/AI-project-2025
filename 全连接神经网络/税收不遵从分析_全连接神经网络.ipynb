{
 "cells": [
  {
   "cell_type": "markdown",
   "id": "bb12756c",
   "metadata": {},
   "source": [
    "# 全连接神经网络数据分析（最后转成英文）\n",
    "\n",
    "在之前的章节中，我们介绍了神经网络的基本概念、以及如何对其进行编程。在这一章节中，我们以上市公司税收不遵从行为的分类为例，用```torch```展示神经网络的内部工作机制，并借此简单介绍```torch```的基本用法。\n",
    "\n",
    "**学习目标**：\n",
    "* a\n",
    "* b\n",
    "* c\n",
    "\n",
    "## 目录"
   ]
  },
  {
   "cell_type": "markdown",
   "id": "d1cb7bfd",
   "metadata": {},
   "source": [
    "<a name='1'></a>\n",
    "## 1-第三方包导入"
   ]
  },
  {
   "cell_type": "code",
   "execution_count": 1,
   "id": "442a498f",
   "metadata": {},
   "outputs": [],
   "source": [
    "import pandas as pd"
   ]
  },
  {
   "cell_type": "markdown",
   "id": "068d5ad5",
   "metadata": {},
   "source": [
    "<a name='2'></a>\n",
    "## 2-探索性数据分析"
   ]
  },
  {
   "cell_type": "markdown",
   "id": "f01d8098",
   "metadata": {},
   "source": [
    "我们使用的数据包括2015-2024年中国所有上市公司的财报指标和纳税违规公告。由于税收遵从的公司占了绝大部分，我们对其进行下采样。最终得到的数据集data.csv中包含4155条税收遵从企业和831条不遵从企业的观测记录。\n",
    "\n",
    "下面我们先使用```pandas```读取数据文件，再展示数据集的前5条观测值，以对数据产生初步认识。"
   ]
  },
  {
   "cell_type": "code",
   "execution_count": 2,
   "id": "4e2244b9",
   "metadata": {},
   "outputs": [
    {
     "data": {
      "application/vnd.microsoft.datawrangler.viewer.v0+json": {
       "columns": [
        {
         "name": "index",
         "rawType": "int64",
         "type": "integer"
        },
        {
         "name": "noncompliance",
         "rawType": "float64",
         "type": "float"
        },
        {
         "name": "股东权益/负债合计_EquTotLia",
         "rawType": "float64",
         "type": "float"
        },
        {
         "name": "股东类别_SHType",
         "rawType": "int64",
         "type": "integer"
        },
        {
         "name": "每股收益(元/股)_BasicEPS",
         "rawType": "float64",
         "type": "float"
        },
        {
         "name": "每股经营活动现金流量(元/股)_OpeCFPS",
         "rawType": "float64",
         "type": "float"
        },
        {
         "name": "营业利润/营业总收入()_OpePrTOR",
         "rawType": "float64",
         "type": "float"
        },
        {
         "name": "净利润()_NetPrf",
         "rawType": "float64",
         "type": "float"
        },
        {
         "name": "有形净值债务率(%)_DbTanEquRt",
         "rawType": "float64",
         "type": "float"
        },
        {
         "name": "每股现金及现金等价物余额(元/股)_CCEPS",
         "rawType": "float64",
         "type": "float"
        },
        {
         "name": "资产负债率(%)_DbAstRt",
         "rawType": "float64",
         "type": "float"
        },
        {
         "name": "经营现金净流量(元)_NOCF",
         "rawType": "float64",
         "type": "float"
        },
        {
         "name": "股东总户数(户)_SHNum",
         "rawType": "float64",
         "type": "float"
        },
        {
         "name": "利润总额增长率(%)_TotPrfGrRt",
         "rawType": "float64",
         "type": "float"
        },
        {
         "name": "营业收入增长率(%)_OpeIncmGrRt",
         "rawType": "float64",
         "type": "float"
        },
        {
         "name": "户均持股数(股/户)_AvgHS",
         "rawType": "float64",
         "type": "float"
        },
        {
         "name": "每股资本公积金(元/股)_CapSurFdPS",
         "rawType": "float64",
         "type": "float"
        },
        {
         "name": "股东权益周转率(次)_EquRat",
         "rawType": "float64",
         "type": "float"
        },
        {
         "name": "产权比率(%)_DbEquRt",
         "rawType": "float64",
         "type": "float"
        },
        {
         "name": "权益乘数(%)_EquMul",
         "rawType": "float64",
         "type": "float"
        },
        {
         "name": "营业收入3年复合增长率(%)_OperaInc3GrRt",
         "rawType": "float64",
         "type": "float"
        }
       ],
       "conversionMethod": "pd.DataFrame",
       "ref": "b1a6a08b-2fbf-4d64-9b62-8f001f7785eb",
       "rows": [
        [
         "0",
         "0.0",
         "174.883",
         "0",
         "-0.38",
         "-0.1315",
         "-57.4452",
         "-195816579.36",
         "78.2335",
         "0.5952",
         "36.8075",
         "-68076470.92",
         "46858.0",
         "-42.8375",
         "-30.1179",
         "11047.0",
         "2.0907",
         "0.202",
         "58.2465",
         "1.5825",
         "-34.051"
        ],
        [
         "1",
         "0.0",
         "118.3646",
         "0",
         "0.88",
         "-0.0025",
         "6.3096",
         "113947846.18",
         "93.7349",
         "0.4161",
         "45.795",
         "-354280.52",
         "48.0",
         "48.4912",
         "31.7471",
         "2937500.0",
         "3.2002",
         "3.5688",
         "84.4847",
         "1.8448",
         "11.1478"
        ],
        [
         "2",
         "0.0",
         "66.8906",
         "0",
         "0.58",
         "0.2602",
         "9.3053",
         "42845442.65",
         "155.1066",
         "1.2825",
         "59.8207",
         "19201927.36",
         "136.0",
         "5.3126",
         "12.4304",
         "542647.0",
         "0.6208",
         "2.4298",
         "148.8843",
         "2.4888",
         "32.6596"
        ],
        [
         "3",
         "1.0",
         "451.539",
         "0",
         "0.27",
         "0.1137",
         "23.8167",
         "413039235.38",
         "33.0603",
         "1.0412",
         "18.0099",
         "176219111.83",
         "33553.0",
         "20.0212",
         "16.2989",
         "46189.0",
         "0.9839",
         "0.4365",
         "21.9659",
         "1.2197",
         "13.7481"
        ],
        [
         "4",
         "0.0",
         "86.7559",
         "1",
         "0.103",
         "0.2129",
         "3.6002",
         "129559353.41",
         "119.5386",
         "0.4313",
         "53.5458",
         "267710706.26",
         "46289.0",
         "30.1121",
         "6.8971",
         "27170.0",
         "1.3461",
         "1.2921",
         "115.2659",
         "2.1527",
         "9.3085"
        ]
       ],
       "shape": {
        "columns": 20,
        "rows": 5
       }
      },
      "text/html": [
       "<div>\n",
       "<style scoped>\n",
       "    .dataframe tbody tr th:only-of-type {\n",
       "        vertical-align: middle;\n",
       "    }\n",
       "\n",
       "    .dataframe tbody tr th {\n",
       "        vertical-align: top;\n",
       "    }\n",
       "\n",
       "    .dataframe thead th {\n",
       "        text-align: right;\n",
       "    }\n",
       "</style>\n",
       "<table border=\"1\" class=\"dataframe\">\n",
       "  <thead>\n",
       "    <tr style=\"text-align: right;\">\n",
       "      <th></th>\n",
       "      <th>noncompliance</th>\n",
       "      <th>股东权益/负债合计_EquTotLia</th>\n",
       "      <th>股东类别_SHType</th>\n",
       "      <th>每股收益(元/股)_BasicEPS</th>\n",
       "      <th>每股经营活动现金流量(元/股)_OpeCFPS</th>\n",
       "      <th>营业利润/营业总收入()_OpePrTOR</th>\n",
       "      <th>净利润()_NetPrf</th>\n",
       "      <th>有形净值债务率(%)_DbTanEquRt</th>\n",
       "      <th>每股现金及现金等价物余额(元/股)_CCEPS</th>\n",
       "      <th>资产负债率(%)_DbAstRt</th>\n",
       "      <th>经营现金净流量(元)_NOCF</th>\n",
       "      <th>股东总户数(户)_SHNum</th>\n",
       "      <th>利润总额增长率(%)_TotPrfGrRt</th>\n",
       "      <th>营业收入增长率(%)_OpeIncmGrRt</th>\n",
       "      <th>户均持股数(股/户)_AvgHS</th>\n",
       "      <th>每股资本公积金(元/股)_CapSurFdPS</th>\n",
       "      <th>股东权益周转率(次)_EquRat</th>\n",
       "      <th>产权比率(%)_DbEquRt</th>\n",
       "      <th>权益乘数(%)_EquMul</th>\n",
       "      <th>营业收入3年复合增长率(%)_OperaInc3GrRt</th>\n",
       "    </tr>\n",
       "  </thead>\n",
       "  <tbody>\n",
       "    <tr>\n",
       "      <th>0</th>\n",
       "      <td>0.0</td>\n",
       "      <td>174.8830</td>\n",
       "      <td>0</td>\n",
       "      <td>-0.380</td>\n",
       "      <td>-0.1315</td>\n",
       "      <td>-57.4452</td>\n",
       "      <td>-1.958166e+08</td>\n",
       "      <td>78.2335</td>\n",
       "      <td>0.5952</td>\n",
       "      <td>36.8075</td>\n",
       "      <td>-6.807647e+07</td>\n",
       "      <td>46858.0</td>\n",
       "      <td>-42.8375</td>\n",
       "      <td>-30.1179</td>\n",
       "      <td>11047.0</td>\n",
       "      <td>2.0907</td>\n",
       "      <td>0.2020</td>\n",
       "      <td>58.2465</td>\n",
       "      <td>1.5825</td>\n",
       "      <td>-34.0510</td>\n",
       "    </tr>\n",
       "    <tr>\n",
       "      <th>1</th>\n",
       "      <td>0.0</td>\n",
       "      <td>118.3646</td>\n",
       "      <td>0</td>\n",
       "      <td>0.880</td>\n",
       "      <td>-0.0025</td>\n",
       "      <td>6.3096</td>\n",
       "      <td>1.139478e+08</td>\n",
       "      <td>93.7349</td>\n",
       "      <td>0.4161</td>\n",
       "      <td>45.7950</td>\n",
       "      <td>-3.542805e+05</td>\n",
       "      <td>48.0</td>\n",
       "      <td>48.4912</td>\n",
       "      <td>31.7471</td>\n",
       "      <td>2937500.0</td>\n",
       "      <td>3.2002</td>\n",
       "      <td>3.5688</td>\n",
       "      <td>84.4847</td>\n",
       "      <td>1.8448</td>\n",
       "      <td>11.1478</td>\n",
       "    </tr>\n",
       "    <tr>\n",
       "      <th>2</th>\n",
       "      <td>0.0</td>\n",
       "      <td>66.8906</td>\n",
       "      <td>0</td>\n",
       "      <td>0.580</td>\n",
       "      <td>0.2602</td>\n",
       "      <td>9.3053</td>\n",
       "      <td>4.284544e+07</td>\n",
       "      <td>155.1066</td>\n",
       "      <td>1.2825</td>\n",
       "      <td>59.8207</td>\n",
       "      <td>1.920193e+07</td>\n",
       "      <td>136.0</td>\n",
       "      <td>5.3126</td>\n",
       "      <td>12.4304</td>\n",
       "      <td>542647.0</td>\n",
       "      <td>0.6208</td>\n",
       "      <td>2.4298</td>\n",
       "      <td>148.8843</td>\n",
       "      <td>2.4888</td>\n",
       "      <td>32.6596</td>\n",
       "    </tr>\n",
       "    <tr>\n",
       "      <th>3</th>\n",
       "      <td>1.0</td>\n",
       "      <td>451.5390</td>\n",
       "      <td>0</td>\n",
       "      <td>0.270</td>\n",
       "      <td>0.1137</td>\n",
       "      <td>23.8167</td>\n",
       "      <td>4.130392e+08</td>\n",
       "      <td>33.0603</td>\n",
       "      <td>1.0412</td>\n",
       "      <td>18.0099</td>\n",
       "      <td>1.762191e+08</td>\n",
       "      <td>33553.0</td>\n",
       "      <td>20.0212</td>\n",
       "      <td>16.2989</td>\n",
       "      <td>46189.0</td>\n",
       "      <td>0.9839</td>\n",
       "      <td>0.4365</td>\n",
       "      <td>21.9659</td>\n",
       "      <td>1.2197</td>\n",
       "      <td>13.7481</td>\n",
       "    </tr>\n",
       "    <tr>\n",
       "      <th>4</th>\n",
       "      <td>0.0</td>\n",
       "      <td>86.7559</td>\n",
       "      <td>1</td>\n",
       "      <td>0.103</td>\n",
       "      <td>0.2129</td>\n",
       "      <td>3.6002</td>\n",
       "      <td>1.295594e+08</td>\n",
       "      <td>119.5386</td>\n",
       "      <td>0.4313</td>\n",
       "      <td>53.5458</td>\n",
       "      <td>2.677107e+08</td>\n",
       "      <td>46289.0</td>\n",
       "      <td>30.1121</td>\n",
       "      <td>6.8971</td>\n",
       "      <td>27170.0</td>\n",
       "      <td>1.3461</td>\n",
       "      <td>1.2921</td>\n",
       "      <td>115.2659</td>\n",
       "      <td>2.1527</td>\n",
       "      <td>9.3085</td>\n",
       "    </tr>\n",
       "  </tbody>\n",
       "</table>\n",
       "</div>"
      ],
      "text/plain": [
       "   noncompliance  股东权益/负债合计_EquTotLia  股东类别_SHType  每股收益(元/股)_BasicEPS  \\\n",
       "0            0.0             174.8830            0              -0.380   \n",
       "1            0.0             118.3646            0               0.880   \n",
       "2            0.0              66.8906            0               0.580   \n",
       "3            1.0             451.5390            0               0.270   \n",
       "4            0.0              86.7559            1               0.103   \n",
       "\n",
       "   每股经营活动现金流量(元/股)_OpeCFPS  营业利润/营业总收入()_OpePrTOR  净利润()_NetPrf  \\\n",
       "0                  -0.1315               -57.4452 -1.958166e+08   \n",
       "1                  -0.0025                 6.3096  1.139478e+08   \n",
       "2                   0.2602                 9.3053  4.284544e+07   \n",
       "3                   0.1137                23.8167  4.130392e+08   \n",
       "4                   0.2129                 3.6002  1.295594e+08   \n",
       "\n",
       "   有形净值债务率(%)_DbTanEquRt  每股现金及现金等价物余额(元/股)_CCEPS  资产负债率(%)_DbAstRt  \\\n",
       "0                78.2335                   0.5952           36.8075   \n",
       "1                93.7349                   0.4161           45.7950   \n",
       "2               155.1066                   1.2825           59.8207   \n",
       "3                33.0603                   1.0412           18.0099   \n",
       "4               119.5386                   0.4313           53.5458   \n",
       "\n",
       "   经营现金净流量(元)_NOCF  股东总户数(户)_SHNum  利润总额增长率(%)_TotPrfGrRt  \\\n",
       "0    -6.807647e+07         46858.0               -42.8375   \n",
       "1    -3.542805e+05            48.0                48.4912   \n",
       "2     1.920193e+07           136.0                 5.3126   \n",
       "3     1.762191e+08         33553.0                20.0212   \n",
       "4     2.677107e+08         46289.0                30.1121   \n",
       "\n",
       "   营业收入增长率(%)_OpeIncmGrRt  户均持股数(股/户)_AvgHS  每股资本公积金(元/股)_CapSurFdPS  \\\n",
       "0                -30.1179           11047.0                   2.0907   \n",
       "1                 31.7471         2937500.0                   3.2002   \n",
       "2                 12.4304          542647.0                   0.6208   \n",
       "3                 16.2989           46189.0                   0.9839   \n",
       "4                  6.8971           27170.0                   1.3461   \n",
       "\n",
       "   股东权益周转率(次)_EquRat  产权比率(%)_DbEquRt  权益乘数(%)_EquMul  \\\n",
       "0             0.2020          58.2465          1.5825   \n",
       "1             3.5688          84.4847          1.8448   \n",
       "2             2.4298         148.8843          2.4888   \n",
       "3             0.4365          21.9659          1.2197   \n",
       "4             1.2921         115.2659          2.1527   \n",
       "\n",
       "   营业收入3年复合增长率(%)_OperaInc3GrRt  \n",
       "0                      -34.0510  \n",
       "1                       11.1478  \n",
       "2                       32.6596  \n",
       "3                       13.7481  \n",
       "4                        9.3085  "
      ]
     },
     "execution_count": 2,
     "metadata": {},
     "output_type": "execute_result"
    }
   ],
   "source": [
    "train_df = pd.read_csv('train_data.csv') # 读取训练数据\n",
    "test_df = pd.read_csv('test_data.csv') # 读取测试数据\n",
    "train_df.head(5) # 展示训练数据前5行"
   ]
  },
  {
   "cell_type": "markdown",
   "id": "5f67d11a",
   "metadata": {},
   "source": [
    "在该数据集中，```noncompliance``` 变量是我们关心的Y变量，```noncompliance = 1```代表该企业在当年存在着税收不遵从行为。\n",
    "\n",
    "我们按照```noncompliance```变量进行分组，在每组中计算样本均值。可以发现税收不遵从的企业和税收遵从的企业在股权结构、偿债能力、盈利能力等方面都可能存在着不同。"
   ]
  },
  {
   "cell_type": "code",
   "execution_count": 3,
   "id": "04cd756f",
   "metadata": {},
   "outputs": [
    {
     "data": {
      "application/vnd.microsoft.datawrangler.viewer.v0+json": {
       "columns": [
        {
         "name": "index",
         "rawType": "object",
         "type": "string"
        },
        {
         "name": "0.0",
         "rawType": "float64",
         "type": "float"
        },
        {
         "name": "1.0",
         "rawType": "float64",
         "type": "float"
        }
       ],
       "conversionMethod": "pd.DataFrame",
       "ref": "30ce80fe-7042-4cc4-a490-d8c41d1de250",
       "rows": [
        [
         "股东权益/负债合计_EquTotLia",
         "238.302",
         "155.16"
        ],
        [
         "股东类别_SHType",
         "0.261",
         "0.272"
        ],
        [
         "每股收益(元/股)_BasicEPS",
         "0.505",
         "0.323"
        ],
        [
         "每股经营活动现金流量(元/股)_OpeCFPS",
         "0.621",
         "0.564"
        ],
        [
         "营业利润/营业总收入()_OpePrTOR",
         "-1.869",
         "-2.717"
        ],
        [
         "净利润()_NetPrf",
         "887208489.792",
         "1432635554.474"
        ],
        [
         "有形净值债务率(%)_DbTanEquRt",
         "98.924",
         "148.144"
        ],
        [
         "每股现金及现金等价物余额(元/股)_CCEPS",
         "1.852",
         "2.223"
        ],
        [
         "资产负债率(%)_DbAstRt",
         "42.075",
         "51.769"
        ],
        [
         "经营现金净流量(元)_NOCF",
         "1891478030.377",
         "1338614208.162"
        ],
        [
         "股东总户数(户)_SHNum",
         "44939.138",
         "55295.377"
        ],
        [
         "利润总额增长率(%)_TotPrfGrRt",
         "-9.586",
         "-66.74"
        ],
        [
         "营业收入增长率(%)_OpeIncmGrRt",
         "17.784",
         "7.925"
        ],
        [
         "户均持股数(股/户)_AvgHS",
         "2753535.43",
         "2158017.155"
        ],
        [
         "每股资本公积金(元/股)_CapSurFdPS",
         "2.282",
         "2.491"
        ],
        [
         "股东权益周转率(次)_EquRat",
         "1.604",
         "2.389"
        ],
        [
         "产权比率(%)_DbEquRt",
         "136.518",
         "237.84"
        ],
        [
         "权益乘数(%)_EquMul",
         "2.365",
         "3.378"
        ],
        [
         "营业收入3年复合增长率(%)_OperaInc3GrRt",
         "14.323",
         "10.063"
        ]
       ],
       "shape": {
        "columns": 2,
        "rows": 19
       }
      },
      "text/html": [
       "<div>\n",
       "<style scoped>\n",
       "    .dataframe tbody tr th:only-of-type {\n",
       "        vertical-align: middle;\n",
       "    }\n",
       "\n",
       "    .dataframe tbody tr th {\n",
       "        vertical-align: top;\n",
       "    }\n",
       "\n",
       "    .dataframe thead th {\n",
       "        text-align: right;\n",
       "    }\n",
       "</style>\n",
       "<table border=\"1\" class=\"dataframe\">\n",
       "  <thead>\n",
       "    <tr style=\"text-align: right;\">\n",
       "      <th>noncompliance</th>\n",
       "      <th>0.0</th>\n",
       "      <th>1.0</th>\n",
       "    </tr>\n",
       "  </thead>\n",
       "  <tbody>\n",
       "    <tr>\n",
       "      <th>股东权益/负债合计_EquTotLia</th>\n",
       "      <td>2.383020e+02</td>\n",
       "      <td>1.551600e+02</td>\n",
       "    </tr>\n",
       "    <tr>\n",
       "      <th>股东类别_SHType</th>\n",
       "      <td>2.610000e-01</td>\n",
       "      <td>2.720000e-01</td>\n",
       "    </tr>\n",
       "    <tr>\n",
       "      <th>每股收益(元/股)_BasicEPS</th>\n",
       "      <td>5.050000e-01</td>\n",
       "      <td>3.230000e-01</td>\n",
       "    </tr>\n",
       "    <tr>\n",
       "      <th>每股经营活动现金流量(元/股)_OpeCFPS</th>\n",
       "      <td>6.210000e-01</td>\n",
       "      <td>5.640000e-01</td>\n",
       "    </tr>\n",
       "    <tr>\n",
       "      <th>营业利润/营业总收入()_OpePrTOR</th>\n",
       "      <td>-1.869000e+00</td>\n",
       "      <td>-2.717000e+00</td>\n",
       "    </tr>\n",
       "    <tr>\n",
       "      <th>净利润()_NetPrf</th>\n",
       "      <td>8.872085e+08</td>\n",
       "      <td>1.432636e+09</td>\n",
       "    </tr>\n",
       "    <tr>\n",
       "      <th>有形净值债务率(%)_DbTanEquRt</th>\n",
       "      <td>9.892400e+01</td>\n",
       "      <td>1.481440e+02</td>\n",
       "    </tr>\n",
       "    <tr>\n",
       "      <th>每股现金及现金等价物余额(元/股)_CCEPS</th>\n",
       "      <td>1.852000e+00</td>\n",
       "      <td>2.223000e+00</td>\n",
       "    </tr>\n",
       "    <tr>\n",
       "      <th>资产负债率(%)_DbAstRt</th>\n",
       "      <td>4.207500e+01</td>\n",
       "      <td>5.176900e+01</td>\n",
       "    </tr>\n",
       "    <tr>\n",
       "      <th>经营现金净流量(元)_NOCF</th>\n",
       "      <td>1.891478e+09</td>\n",
       "      <td>1.338614e+09</td>\n",
       "    </tr>\n",
       "    <tr>\n",
       "      <th>股东总户数(户)_SHNum</th>\n",
       "      <td>4.493914e+04</td>\n",
       "      <td>5.529538e+04</td>\n",
       "    </tr>\n",
       "    <tr>\n",
       "      <th>利润总额增长率(%)_TotPrfGrRt</th>\n",
       "      <td>-9.586000e+00</td>\n",
       "      <td>-6.674000e+01</td>\n",
       "    </tr>\n",
       "    <tr>\n",
       "      <th>营业收入增长率(%)_OpeIncmGrRt</th>\n",
       "      <td>1.778400e+01</td>\n",
       "      <td>7.925000e+00</td>\n",
       "    </tr>\n",
       "    <tr>\n",
       "      <th>户均持股数(股/户)_AvgHS</th>\n",
       "      <td>2.753535e+06</td>\n",
       "      <td>2.158017e+06</td>\n",
       "    </tr>\n",
       "    <tr>\n",
       "      <th>每股资本公积金(元/股)_CapSurFdPS</th>\n",
       "      <td>2.282000e+00</td>\n",
       "      <td>2.491000e+00</td>\n",
       "    </tr>\n",
       "    <tr>\n",
       "      <th>股东权益周转率(次)_EquRat</th>\n",
       "      <td>1.604000e+00</td>\n",
       "      <td>2.389000e+00</td>\n",
       "    </tr>\n",
       "    <tr>\n",
       "      <th>产权比率(%)_DbEquRt</th>\n",
       "      <td>1.365180e+02</td>\n",
       "      <td>2.378400e+02</td>\n",
       "    </tr>\n",
       "    <tr>\n",
       "      <th>权益乘数(%)_EquMul</th>\n",
       "      <td>2.365000e+00</td>\n",
       "      <td>3.378000e+00</td>\n",
       "    </tr>\n",
       "    <tr>\n",
       "      <th>营业收入3年复合增长率(%)_OperaInc3GrRt</th>\n",
       "      <td>1.432300e+01</td>\n",
       "      <td>1.006300e+01</td>\n",
       "    </tr>\n",
       "  </tbody>\n",
       "</table>\n",
       "</div>"
      ],
      "text/plain": [
       "noncompliance                          0.0           1.0\n",
       "股东权益/负债合计_EquTotLia           2.383020e+02  1.551600e+02\n",
       "股东类别_SHType                   2.610000e-01  2.720000e-01\n",
       "每股收益(元/股)_BasicEPS            5.050000e-01  3.230000e-01\n",
       "每股经营活动现金流量(元/股)_OpeCFPS       6.210000e-01  5.640000e-01\n",
       "营业利润/营业总收入()_OpePrTOR        -1.869000e+00 -2.717000e+00\n",
       "净利润()_NetPrf                  8.872085e+08  1.432636e+09\n",
       "有形净值债务率(%)_DbTanEquRt         9.892400e+01  1.481440e+02\n",
       "每股现金及现金等价物余额(元/股)_CCEPS       1.852000e+00  2.223000e+00\n",
       "资产负债率(%)_DbAstRt              4.207500e+01  5.176900e+01\n",
       "经营现金净流量(元)_NOCF               1.891478e+09  1.338614e+09\n",
       "股东总户数(户)_SHNum                4.493914e+04  5.529538e+04\n",
       "利润总额增长率(%)_TotPrfGrRt        -9.586000e+00 -6.674000e+01\n",
       "营业收入增长率(%)_OpeIncmGrRt        1.778400e+01  7.925000e+00\n",
       "户均持股数(股/户)_AvgHS              2.753535e+06  2.158017e+06\n",
       "每股资本公积金(元/股)_CapSurFdPS       2.282000e+00  2.491000e+00\n",
       "股东权益周转率(次)_EquRat             1.604000e+00  2.389000e+00\n",
       "产权比率(%)_DbEquRt               1.365180e+02  2.378400e+02\n",
       "权益乘数(%)_EquMul                2.365000e+00  3.378000e+00\n",
       "营业收入3年复合增长率(%)_OperaInc3GrRt  1.432300e+01  1.006300e+01"
      ]
     },
     "execution_count": 3,
     "metadata": {},
     "output_type": "execute_result"
    }
   ],
   "source": [
    "train_df.groupby('noncompliance').mean().round(3).T # 按照noncompliance分组计算均值，取3位小数"
   ]
  },
  {
   "cell_type": "markdown",
   "id": "151f2387",
   "metadata": {},
   "source": [
    "<a name='3'></a>\n",
    "## 3-建模分析"
   ]
  },
  {
   "cell_type": "code",
   "execution_count": 4,
   "id": "683af2e7",
   "metadata": {},
   "outputs": [
    {
     "data": {
      "text/plain": [
       "<torch._C.Generator at 0x127d58cf0>"
      ]
     },
     "execution_count": 4,
     "metadata": {},
     "output_type": "execute_result"
    }
   ],
   "source": [
    "import torch\n",
    "import torch.nn as nn\n",
    "from torch.utils.data import DataLoader, TensorDataset\n",
    "from sklearn.preprocessing import StandardScaler\n",
    "torch.manual_seed(42)"
   ]
  },
  {
   "cell_type": "code",
   "execution_count": 6,
   "id": "158e918d",
   "metadata": {},
   "outputs": [],
   "source": [
    "# 将data数据框转换为numpy数组\n",
    "X_train_array = train_df.drop(columns=['noncompliance']).values\n",
    "y_train_array = train_df['noncompliance'].values\n",
    "X_test_array = test_df.drop(columns=['noncompliance']).values\n",
    "y_test_array = test_df['noncompliance'].values\n",
    "\n",
    "scaler = StandardScaler()\n",
    "X_train_array = scaler.fit_transform(X_train_array)  # 计算均值和方差并标准化\n",
    "X_test_array = scaler.transform(X_test_array) # 使用训练集的均值和方差来标准化测试集\n",
    "\n",
    "# 将 numpy数组转换为 pytorch tensor\n",
    "X_train_tensor = torch.tensor(X_train_array, dtype=torch.float32)\n",
    "y_train_tensor = torch.tensor(y_train_array, dtype=torch.float32)\n",
    "X_test_tensor = torch.tensor(X_test_array, dtype=torch.float32)\n",
    "y_test_tensor = torch.tensor(y_test_array, dtype=torch.float32)\n",
    "\n",
    "# 将pytorch tensor 转换为 pytorch dataset\n",
    "train_dataset = TensorDataset(X_train_tensor, y_train_tensor)\n",
    "test_dataset = TensorDataset(X_test_tensor, y_test_tensor)\n",
    "\n",
    "train_loader = DataLoader(train_dataset, batch_size=128, shuffle=True)\n",
    "test_loader = DataLoader(test_dataset, batch_size=128, shuffle=False)"
   ]
  },
  {
   "cell_type": "code",
   "execution_count": 7,
   "id": "d3d3405a",
   "metadata": {},
   "outputs": [],
   "source": [
    "class FNN(nn.Module):\n",
    "    def __init__(self):\n",
    "        super(FNN, self).__init__()\n",
    "        self.fc1 = nn.Linear(19, 8) # 输入层：19特征 -> 隐藏层1: 16神经元\n",
    "        self.fc2 = nn.Linear(8, 4) # 隐藏层1：19特征 -> 隐藏层2: 8神经元\n",
    "        self.fc3 = nn.Linear(4, 1) # 隐藏层2：8特征 -> 输出概率\n",
    "        \n",
    "    def forward(self, x):\n",
    "        x = torch.relu(self.fc1(x)) # relu激活函数\n",
    "        x = torch.relu(self.fc2(x))\n",
    "        x = torch.sigmoid(self.fc3(x)) # sigmoid激活函数\n",
    "        return x"
   ]
  },
  {
   "cell_type": "code",
   "execution_count": 8,
   "id": "9f7f382b",
   "metadata": {},
   "outputs": [],
   "source": [
    "def train(model, train_loader, criterion, optimizer, num_epochs):\n",
    "    model.train()  # 设置模型为训练模式\n",
    "    for epoch in range(num_epochs):\n",
    "        total_loss = 0.0  # 用于累计整个 epoch 的 loss\n",
    "        num_batches = 0\n",
    "\n",
    "        for batch_idx, (data, target) in enumerate(train_loader):\n",
    "            optimizer.zero_grad()\n",
    "            output = model(data)\n",
    "            loss = criterion(output.squeeze(1), target)\n",
    "            loss.backward()\n",
    "            optimizer.step()\n",
    "\n",
    "            total_loss += loss.item()\n",
    "            num_batches += 1\n",
    "\n",
    "        avg_loss = total_loss / num_batches\n",
    "        if (epoch + 1) % 50 == 0:\n",
    "            print(f'Epoch [{epoch+1}/{num_epochs}], Average epoch Loss: {avg_loss:.4f}')"
   ]
  },
  {
   "cell_type": "code",
   "execution_count": 16,
   "id": "94982cc1",
   "metadata": {},
   "outputs": [],
   "source": [
    "from sklearn.metrics import precision_score, recall_score, f1_score\n",
    "\n",
    "def test(model, test_loader, criterion):\n",
    "    model.eval()  # 设置模型为评估模式\n",
    "    test_loss = 0\n",
    "    correct = 0\n",
    "    all_preds = []\n",
    "    all_targets = []\n",
    "    \n",
    "    with torch.no_grad():\n",
    "        for data, target in test_loader:\n",
    "            output = model(data)\n",
    "            test_loss += criterion(output.squeeze(1), target).item()\n",
    "            \n",
    "            pred = output.argmax(dim=1, keepdim=True)\n",
    "            correct += pred.eq(target.view_as(pred)).sum().item()\n",
    "            \n",
    "            all_preds.extend(pred.cpu().numpy())\n",
    "            all_targets.extend(target.cpu().numpy())\n",
    "    \n",
    "    test_loss /= len(test_loader.dataset)\n",
    "    accuracy = 100. * correct / len(test_loader.dataset)\n",
    "    \n",
    "    # Precision, Recall, F1\n",
    "    precision = precision_score(all_targets, all_preds, zero_division=0)\n",
    "    recall = recall_score(all_targets, all_preds, zero_division=0)\n",
    "    f1 = f1_score(all_targets, all_preds, zero_division=0)\n",
    "\n",
    "    print(f'Test Loss: {test_loss:.4f}, Accuracy: {accuracy:.2f}%')\n",
    "    print(f'Precision: {precision:.4f}, Recall: {recall:.4f}, F1-score: {f1:.4f}')\n",
    "    print(\"Number of predicted positives:\", sum(all_preds))\n",
    "    print(\"Number of actual positives:\", sum(all_targets))"
   ]
  },
  {
   "cell_type": "code",
   "execution_count": null,
   "id": "e9c91474",
   "metadata": {},
   "outputs": [],
   "source": [
    "# def test(model, test_loader, criterion):\n",
    "#     model.eval() # 设置模型为评估模式\n",
    "#     test_loss = 0\n",
    "#     correct = 0\n",
    "#     with torch.no_grad():\n",
    "#         for data, target in test_loader:\n",
    "#             output = model(data)\n",
    "#             test_loss += criterion(output.squeeze(1), target).item()\n",
    "#             pred = output.argmax(dim=1, keepdim=True)\n",
    "#             correct += pred.eq(target.view_as(pred)).sum().item()\n",
    "#     test_loss /= len(test_loader.dataset)\n",
    "#     accuracy = 100. * correct / len(test_loader.dataset)\n",
    "\n",
    "#     print(f'Test Loss: {test_loss:.4f}, Accuracy: {accuracy:.2f}%')\n"
   ]
  },
  {
   "cell_type": "code",
   "execution_count": 10,
   "id": "3c5a10de",
   "metadata": {},
   "outputs": [],
   "source": [
    "model = FNN() # 实例化模型\n",
    "criterion = nn.BCELoss() # 二分类交叉熵损失函数\n",
    "optimizer = torch.optim.Adam(model.parameters(), lr=0.001) # Adam优化器\n"
   ]
  },
  {
   "cell_type": "code",
   "execution_count": 14,
   "id": "9de0b970",
   "metadata": {},
   "outputs": [
    {
     "name": "stdout",
     "output_type": "stream",
     "text": [
      "Epoch [50/500], Average epoch Loss: 0.1020\n",
      "Epoch [100/500], Average epoch Loss: 0.1021\n",
      "Epoch [150/500], Average epoch Loss: 0.1019\n",
      "Epoch [200/500], Average epoch Loss: 0.1019\n",
      "Epoch [250/500], Average epoch Loss: 0.1019\n",
      "Epoch [300/500], Average epoch Loss: 0.1031\n",
      "Epoch [350/500], Average epoch Loss: 0.1019\n",
      "Epoch [400/500], Average epoch Loss: 0.1028\n",
      "Epoch [450/500], Average epoch Loss: 0.1018\n",
      "Epoch [500/500], Average epoch Loss: 0.1016\n"
     ]
    }
   ],
   "source": [
    "train(model, train_loader, criterion, optimizer, num_epochs=500) # 训练模型"
   ]
  },
  {
   "cell_type": "code",
   "execution_count": 17,
   "id": "f0f23fc0",
   "metadata": {},
   "outputs": [
    {
     "name": "stdout",
     "output_type": "stream",
     "text": [
      "Test Loss: 0.0009, Accuracy: 97.82%\n",
      "Precision: 0.0000, Recall: 0.0000, F1-score: 0.0000\n",
      "Number of predicted positives: [0]\n",
      "Number of actual positives: 172.0\n"
     ]
    }
   ],
   "source": [
    "test(model, test_loader, criterion)"
   ]
  },
  {
   "cell_type": "markdown",
   "id": "7c743048",
   "metadata": {},
   "source": []
  },
  {
   "cell_type": "markdown",
   "id": "79f1e899",
   "metadata": {},
   "source": [
    "## 4-模型比较"
   ]
  },
  {
   "cell_type": "markdown",
   "id": "ff113951",
   "metadata": {},
   "source": []
  }
 ],
 "metadata": {
  "kernelspec": {
   "display_name": "workenv",
   "language": "python",
   "name": "python3"
  },
  "language_info": {
   "codemirror_mode": {
    "name": "ipython",
    "version": 3
   },
   "file_extension": ".py",
   "mimetype": "text/x-python",
   "name": "python",
   "nbconvert_exporter": "python",
   "pygments_lexer": "ipython3",
   "version": "3.12.2"
  }
 },
 "nbformat": 4,
 "nbformat_minor": 5
}
