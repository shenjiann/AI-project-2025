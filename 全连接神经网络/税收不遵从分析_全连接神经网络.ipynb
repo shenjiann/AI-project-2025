{
 "cells": [
  {
   "cell_type": "markdown",
   "id": "bb12756c",
   "metadata": {},
   "source": [
    "<!-- # 全连接神经网络数据分析（最后转成英文） -->\n",
    "# Fully Connected Neural Network Data Analysis\n",
    "\n",
    "<!-- 在之前的章节中，我们介绍了神经网络的基本概念、以及如何对其进行编程。在这一章节中，我们以上市公司税收不遵从行为的分类为例，用```torch```展示神经网络的内部工作机制，并借此简单介绍```torch```的基本用法。 -->\n",
    "\n",
    "In previous sections, we introduced the basic concepts of neural networks and how to programe them manually. Now in this section, we would demonstrate the usage of PyTorch as an example of **tax non-compliant company classification** .\n",
    "\n",
    "**Learning Goal**：\n",
    "* Preprocess your data;\n",
    "* Using PyTorch to build, train and test network;\n",
    "* Using sklearn to evalute model performance.\n",
    "\n",
    "## Contents\n",
    "* [1 - Import Packages](#1)\n",
    "* [2 - Descriptive Analysis](#2)\n",
    "* [3 - Model Analysis](#3) \n",
    "  * [3.1 - transform data structure](#3.1)\n",
    "  * [3.2 - build network](#3.2)\n",
    "  * [3.3 - define train and test functions](#3.3)\n",
    "  * [3.4 - train and test network](#3.4)\n",
    "* [4 - Model Evaluation and Comparison](#4)\n",
    "  * [4.1 - probit & logit regression](#4.1)\n",
    "  * [4.2 - draw precision-recall curve](#4.2)"
   ]
  },
  {
   "cell_type": "markdown",
   "id": "d1cb7bfd",
   "metadata": {},
   "source": [
    "<a name='1'></a>\n",
    "## 1 - Import Packages"
   ]
  },
  {
   "cell_type": "code",
   "execution_count": 269,
   "id": "442a498f",
   "metadata": {},
   "outputs": [
    {
     "data": {
      "text/plain": [
       "<torch._C.Generator at 0x127d12df0>"
      ]
     },
     "execution_count": 269,
     "metadata": {},
     "output_type": "execute_result"
    }
   ],
   "source": [
    "import pandas as pd # used for data import\n",
    "import numpy as np # used for numerical operations\n",
    "import torch # used for tensor operations\n",
    "import torch.nn as nn # used for building neural networks\n",
    "from torch.utils.data import DataLoader, TensorDataset # used for creating data loaders\n",
    "from sklearn.preprocessing import StandardScaler # used for standardizing features\n",
    "from sklearn.metrics import precision_recall_curve, average_precision_score # used for evaluating models\n",
    "import statsmodels.api as sm # used for probit & logit regression\n",
    "import matplotlib.pyplot as plt # used for plotting PR curves\n",
    "\n",
    "np.random.seed(42) # set random seed for reproducibility\n",
    "torch.manual_seed(42)"
   ]
  },
  {
   "cell_type": "markdown",
   "id": "068d5ad5",
   "metadata": {},
   "source": [
    "<a name='2'></a>\n",
    "## 2 - Descriptive Analysis"
   ]
  },
  {
   "cell_type": "markdown",
   "id": "f01d8098",
   "metadata": {},
   "source": [
    "The data we use includes financial reporting indicators and tax violation announcements for all listed companies in China from 2015-2024. The original data is highly imbalanced, so we use smote up-sampling algorithm to alliviate this problem.\n",
    "\n",
    "In the following codes, we import the data file using `pandas`. And showing the first 5 observations to have a quick look at the dataset."
   ]
  },
  {
   "cell_type": "code",
   "execution_count": 251,
   "id": "4e2244b9",
   "metadata": {},
   "outputs": [
    {
     "data": {
      "application/vnd.microsoft.datawrangler.viewer.v0+json": {
       "columns": [
        {
         "name": "index",
         "rawType": "int64",
         "type": "integer"
        },
        {
         "name": "noncompliance",
         "rawType": "float64",
         "type": "float"
        },
        {
         "name": "股东权益/负债合计_EquTotLia",
         "rawType": "float64",
         "type": "float"
        },
        {
         "name": "股东类别_SHType",
         "rawType": "int64",
         "type": "integer"
        },
        {
         "name": "每股收益(元/股)_BasicEPS",
         "rawType": "float64",
         "type": "float"
        },
        {
         "name": "每股经营活动现金流量(元/股)_OpeCFPS",
         "rawType": "float64",
         "type": "float"
        },
        {
         "name": "营业利润/营业总收入()_OpePrTOR",
         "rawType": "float64",
         "type": "float"
        },
        {
         "name": "净利润()_NetPrf",
         "rawType": "float64",
         "type": "float"
        },
        {
         "name": "有形净值债务率(%)_DbTanEquRt",
         "rawType": "float64",
         "type": "float"
        },
        {
         "name": "每股现金及现金等价物余额(元/股)_CCEPS",
         "rawType": "float64",
         "type": "float"
        },
        {
         "name": "资产负债率(%)_DbAstRt",
         "rawType": "float64",
         "type": "float"
        },
        {
         "name": "经营现金净流量(元)_NOCF",
         "rawType": "float64",
         "type": "float"
        },
        {
         "name": "股东总户数(户)_SHNum",
         "rawType": "float64",
         "type": "float"
        },
        {
         "name": "利润总额增长率(%)_TotPrfGrRt",
         "rawType": "float64",
         "type": "float"
        },
        {
         "name": "营业收入增长率(%)_OpeIncmGrRt",
         "rawType": "float64",
         "type": "float"
        },
        {
         "name": "户均持股数(股/户)_AvgHS",
         "rawType": "float64",
         "type": "float"
        },
        {
         "name": "每股资本公积金(元/股)_CapSurFdPS",
         "rawType": "float64",
         "type": "float"
        },
        {
         "name": "股东权益周转率(次)_EquRat",
         "rawType": "float64",
         "type": "float"
        },
        {
         "name": "产权比率(%)_DbEquRt",
         "rawType": "float64",
         "type": "float"
        },
        {
         "name": "权益乘数(%)_EquMul",
         "rawType": "float64",
         "type": "float"
        },
        {
         "name": "营业收入3年复合增长率(%)_OperaInc3GrRt",
         "rawType": "float64",
         "type": "float"
        },
        {
         "name": "净资产收益率(扣除，加权)(%)_WROECut",
         "rawType": "float64",
         "type": "float"
        },
        {
         "name": "流动资产/总资产(%)_CurTotAst",
         "rawType": "float64",
         "type": "float"
        },
        {
         "name": "销售成本率(%)_SalCostRt",
         "rawType": "float64",
         "type": "float"
        },
        {
         "name": "销售期间费用率(%)_PdCostRt",
         "rawType": "float64",
         "type": "float"
        },
        {
         "name": "非流动资产/总资产(%)_NoncurTotAst",
         "rawType": "float64",
         "type": "float"
        }
       ],
       "conversionMethod": "pd.DataFrame",
       "ref": "8d09280e-1485-4236-99fd-d17cb23ed186",
       "rows": [
        [
         "0",
         "0.0",
         "80.7537",
         "0",
         "0.0588",
         "0.0753",
         "3.9793",
         "101574444.58",
         "133.4197",
         "0.3359",
         "55.1437",
         "130118518.21",
         "108623.0",
         "-6.0505",
         "32.1281",
         "15909.0",
         "0.9477",
         "1.9469",
         "122.9342",
         "2.2293",
         "90.2712",
         "5.18",
         "69.1845",
         "88.9524",
         "8.1304",
         "30.8155"
        ],
        [
         "1",
         "0.0",
         "323.5963",
         "0",
         "0.74",
         "0.3335",
         "13.308",
         "15172071.43",
         "31.6858",
         "0.9271",
         "23.6074",
         "8816061.9",
         "30.0",
         "38.1417",
         "52.3041",
         "881067.0",
         "0.3429",
         "1.3302",
         "30.9027",
         "1.309",
         "52.6485",
         "21.05",
         "75.3315",
         "39.3969",
         "44.1717",
         "24.6685"
        ],
        [
         "2",
         "0.0",
         "40.9974",
         "0",
         "-2.04",
         "1.0992",
         "-21.5082",
         "-947124646.62",
         "364.32",
         "0.8515",
         "71.0248",
         "501870002.69",
         "22020.0",
         "-12010.3113",
         "-22.6205",
         "20734.0",
         "2.2845",
         "1.9207",
         "245.1222",
         "3.4512",
         "9.2016",
         "-47.12",
         "53.5268",
         "79.3969",
         "20.5129",
         "46.4732"
        ],
        [
         "3",
         "0.0",
         "68.6448",
         "0",
         "1.2704",
         "1.9955",
         "12.4332",
         "114337043.78",
         "192.2331",
         "0.6467",
         "59.2962",
         "179598875.95",
         "7.0",
         "54.0861",
         "0.5672",
         "12857143.0",
         "1.9856",
         "2.5506",
         "145.6775",
         "2.4568",
         "8.3138",
         "22.84",
         "46.1873",
         "73.8741",
         "15.2662",
         "53.8127"
        ],
        [
         "4",
         "0.0",
         "12.2972",
         "1",
         "-0.89",
         "-0.1791",
         "-14.399",
         "-203109864.05",
         "6375.7392",
         "0.5305",
         "86.7773",
         "-40649438.16",
         "13801.0",
         "-200.5883",
         "-9.1976",
         "16448.0",
         "1.5777",
         "4.1962",
         "656.2752",
         "7.5628",
         "-3.9599",
         "-60.48",
         "72.8318",
         "96.3563",
         "12.5189",
         "27.1682"
        ]
       ],
       "shape": {
        "columns": 25,
        "rows": 5
       }
      },
      "text/html": [
       "<div>\n",
       "<style scoped>\n",
       "    .dataframe tbody tr th:only-of-type {\n",
       "        vertical-align: middle;\n",
       "    }\n",
       "\n",
       "    .dataframe tbody tr th {\n",
       "        vertical-align: top;\n",
       "    }\n",
       "\n",
       "    .dataframe thead th {\n",
       "        text-align: right;\n",
       "    }\n",
       "</style>\n",
       "<table border=\"1\" class=\"dataframe\">\n",
       "  <thead>\n",
       "    <tr style=\"text-align: right;\">\n",
       "      <th></th>\n",
       "      <th>noncompliance</th>\n",
       "      <th>股东权益/负债合计_EquTotLia</th>\n",
       "      <th>股东类别_SHType</th>\n",
       "      <th>每股收益(元/股)_BasicEPS</th>\n",
       "      <th>每股经营活动现金流量(元/股)_OpeCFPS</th>\n",
       "      <th>营业利润/营业总收入()_OpePrTOR</th>\n",
       "      <th>净利润()_NetPrf</th>\n",
       "      <th>有形净值债务率(%)_DbTanEquRt</th>\n",
       "      <th>每股现金及现金等价物余额(元/股)_CCEPS</th>\n",
       "      <th>资产负债率(%)_DbAstRt</th>\n",
       "      <th>...</th>\n",
       "      <th>每股资本公积金(元/股)_CapSurFdPS</th>\n",
       "      <th>股东权益周转率(次)_EquRat</th>\n",
       "      <th>产权比率(%)_DbEquRt</th>\n",
       "      <th>权益乘数(%)_EquMul</th>\n",
       "      <th>营业收入3年复合增长率(%)_OperaInc3GrRt</th>\n",
       "      <th>净资产收益率(扣除，加权)(%)_WROECut</th>\n",
       "      <th>流动资产/总资产(%)_CurTotAst</th>\n",
       "      <th>销售成本率(%)_SalCostRt</th>\n",
       "      <th>销售期间费用率(%)_PdCostRt</th>\n",
       "      <th>非流动资产/总资产(%)_NoncurTotAst</th>\n",
       "    </tr>\n",
       "  </thead>\n",
       "  <tbody>\n",
       "    <tr>\n",
       "      <th>0</th>\n",
       "      <td>0.0</td>\n",
       "      <td>80.7537</td>\n",
       "      <td>0</td>\n",
       "      <td>0.0588</td>\n",
       "      <td>0.0753</td>\n",
       "      <td>3.9793</td>\n",
       "      <td>1.015744e+08</td>\n",
       "      <td>133.4197</td>\n",
       "      <td>0.3359</td>\n",
       "      <td>55.1437</td>\n",
       "      <td>...</td>\n",
       "      <td>0.9477</td>\n",
       "      <td>1.9469</td>\n",
       "      <td>122.9342</td>\n",
       "      <td>2.2293</td>\n",
       "      <td>90.2712</td>\n",
       "      <td>5.18</td>\n",
       "      <td>69.1845</td>\n",
       "      <td>88.9524</td>\n",
       "      <td>8.1304</td>\n",
       "      <td>30.8155</td>\n",
       "    </tr>\n",
       "    <tr>\n",
       "      <th>1</th>\n",
       "      <td>0.0</td>\n",
       "      <td>323.5963</td>\n",
       "      <td>0</td>\n",
       "      <td>0.7400</td>\n",
       "      <td>0.3335</td>\n",
       "      <td>13.3080</td>\n",
       "      <td>1.517207e+07</td>\n",
       "      <td>31.6858</td>\n",
       "      <td>0.9271</td>\n",
       "      <td>23.6074</td>\n",
       "      <td>...</td>\n",
       "      <td>0.3429</td>\n",
       "      <td>1.3302</td>\n",
       "      <td>30.9027</td>\n",
       "      <td>1.3090</td>\n",
       "      <td>52.6485</td>\n",
       "      <td>21.05</td>\n",
       "      <td>75.3315</td>\n",
       "      <td>39.3969</td>\n",
       "      <td>44.1717</td>\n",
       "      <td>24.6685</td>\n",
       "    </tr>\n",
       "    <tr>\n",
       "      <th>2</th>\n",
       "      <td>0.0</td>\n",
       "      <td>40.9974</td>\n",
       "      <td>0</td>\n",
       "      <td>-2.0400</td>\n",
       "      <td>1.0992</td>\n",
       "      <td>-21.5082</td>\n",
       "      <td>-9.471246e+08</td>\n",
       "      <td>364.3200</td>\n",
       "      <td>0.8515</td>\n",
       "      <td>71.0248</td>\n",
       "      <td>...</td>\n",
       "      <td>2.2845</td>\n",
       "      <td>1.9207</td>\n",
       "      <td>245.1222</td>\n",
       "      <td>3.4512</td>\n",
       "      <td>9.2016</td>\n",
       "      <td>-47.12</td>\n",
       "      <td>53.5268</td>\n",
       "      <td>79.3969</td>\n",
       "      <td>20.5129</td>\n",
       "      <td>46.4732</td>\n",
       "    </tr>\n",
       "    <tr>\n",
       "      <th>3</th>\n",
       "      <td>0.0</td>\n",
       "      <td>68.6448</td>\n",
       "      <td>0</td>\n",
       "      <td>1.2704</td>\n",
       "      <td>1.9955</td>\n",
       "      <td>12.4332</td>\n",
       "      <td>1.143370e+08</td>\n",
       "      <td>192.2331</td>\n",
       "      <td>0.6467</td>\n",
       "      <td>59.2962</td>\n",
       "      <td>...</td>\n",
       "      <td>1.9856</td>\n",
       "      <td>2.5506</td>\n",
       "      <td>145.6775</td>\n",
       "      <td>2.4568</td>\n",
       "      <td>8.3138</td>\n",
       "      <td>22.84</td>\n",
       "      <td>46.1873</td>\n",
       "      <td>73.8741</td>\n",
       "      <td>15.2662</td>\n",
       "      <td>53.8127</td>\n",
       "    </tr>\n",
       "    <tr>\n",
       "      <th>4</th>\n",
       "      <td>0.0</td>\n",
       "      <td>12.2972</td>\n",
       "      <td>1</td>\n",
       "      <td>-0.8900</td>\n",
       "      <td>-0.1791</td>\n",
       "      <td>-14.3990</td>\n",
       "      <td>-2.031099e+08</td>\n",
       "      <td>6375.7392</td>\n",
       "      <td>0.5305</td>\n",
       "      <td>86.7773</td>\n",
       "      <td>...</td>\n",
       "      <td>1.5777</td>\n",
       "      <td>4.1962</td>\n",
       "      <td>656.2752</td>\n",
       "      <td>7.5628</td>\n",
       "      <td>-3.9599</td>\n",
       "      <td>-60.48</td>\n",
       "      <td>72.8318</td>\n",
       "      <td>96.3563</td>\n",
       "      <td>12.5189</td>\n",
       "      <td>27.1682</td>\n",
       "    </tr>\n",
       "  </tbody>\n",
       "</table>\n",
       "<p>5 rows × 25 columns</p>\n",
       "</div>"
      ],
      "text/plain": [
       "   noncompliance  股东权益/负债合计_EquTotLia  股东类别_SHType  每股收益(元/股)_BasicEPS  \\\n",
       "0            0.0              80.7537            0              0.0588   \n",
       "1            0.0             323.5963            0              0.7400   \n",
       "2            0.0              40.9974            0             -2.0400   \n",
       "3            0.0              68.6448            0              1.2704   \n",
       "4            0.0              12.2972            1             -0.8900   \n",
       "\n",
       "   每股经营活动现金流量(元/股)_OpeCFPS  营业利润/营业总收入()_OpePrTOR  净利润()_NetPrf  \\\n",
       "0                   0.0753                 3.9793  1.015744e+08   \n",
       "1                   0.3335                13.3080  1.517207e+07   \n",
       "2                   1.0992               -21.5082 -9.471246e+08   \n",
       "3                   1.9955                12.4332  1.143370e+08   \n",
       "4                  -0.1791               -14.3990 -2.031099e+08   \n",
       "\n",
       "   有形净值债务率(%)_DbTanEquRt  每股现金及现金等价物余额(元/股)_CCEPS  资产负债率(%)_DbAstRt  ...  \\\n",
       "0               133.4197                   0.3359           55.1437  ...   \n",
       "1                31.6858                   0.9271           23.6074  ...   \n",
       "2               364.3200                   0.8515           71.0248  ...   \n",
       "3               192.2331                   0.6467           59.2962  ...   \n",
       "4              6375.7392                   0.5305           86.7773  ...   \n",
       "\n",
       "   每股资本公积金(元/股)_CapSurFdPS  股东权益周转率(次)_EquRat  产权比率(%)_DbEquRt  \\\n",
       "0                   0.9477             1.9469         122.9342   \n",
       "1                   0.3429             1.3302          30.9027   \n",
       "2                   2.2845             1.9207         245.1222   \n",
       "3                   1.9856             2.5506         145.6775   \n",
       "4                   1.5777             4.1962         656.2752   \n",
       "\n",
       "   权益乘数(%)_EquMul  营业收入3年复合增长率(%)_OperaInc3GrRt  净资产收益率(扣除，加权)(%)_WROECut  \\\n",
       "0          2.2293                       90.2712                      5.18   \n",
       "1          1.3090                       52.6485                     21.05   \n",
       "2          3.4512                        9.2016                    -47.12   \n",
       "3          2.4568                        8.3138                     22.84   \n",
       "4          7.5628                       -3.9599                    -60.48   \n",
       "\n",
       "   流动资产/总资产(%)_CurTotAst  销售成本率(%)_SalCostRt  销售期间费用率(%)_PdCostRt  \\\n",
       "0                69.1845             88.9524               8.1304   \n",
       "1                75.3315             39.3969              44.1717   \n",
       "2                53.5268             79.3969              20.5129   \n",
       "3                46.1873             73.8741              15.2662   \n",
       "4                72.8318             96.3563              12.5189   \n",
       "\n",
       "   非流动资产/总资产(%)_NoncurTotAst  \n",
       "0                    30.8155  \n",
       "1                    24.6685  \n",
       "2                    46.4732  \n",
       "3                    53.8127  \n",
       "4                    27.1682  \n",
       "\n",
       "[5 rows x 25 columns]"
      ]
     },
     "execution_count": 251,
     "metadata": {},
     "output_type": "execute_result"
    }
   ],
   "source": [
    "train_df = pd.read_csv('train_data.csv') # import training data\n",
    "test_df = pd.read_csv('test_data.csv')\n",
    "train_df.head(5) # display first 5 observations of training data"
   ]
  },
  {
   "cell_type": "markdown",
   "id": "5f67d11a",
   "metadata": {},
   "source": [
    "In this dataset, `noncompliace` is the label of interest, `noncomplicance = 1` means this firm is announced to be tax non-compliant (like tax fraud or arrears) in either the current year or the next year. \n",
    "\n",
    "We firstly group the data by `noncompliance`, and report the sample size in each group. In training data after up-sampling, we have 1176 non-compliant observations and 23536 compliant observations.\n",
    "\n",
    "We next calculate the sample mean in each group. It shows non-compliant firms and compliant firms may differ in terms of equity structure, solvency, and profitability."
   ]
  },
  {
   "cell_type": "code",
   "execution_count": 252,
   "id": "fbeec273",
   "metadata": {},
   "outputs": [
    {
     "data": {
      "text/plain": [
       "(noncompliance\n",
       " 0.0    23536\n",
       " 1.0     1176\n",
       " dtype: int64,\n",
       " noncompliance\n",
       " 0.0    10087\n",
       " 1.0      483\n",
       " dtype: int64)"
      ]
     },
     "execution_count": 252,
     "metadata": {},
     "output_type": "execute_result"
    }
   ],
   "source": [
    "# report sample size by group\n",
    "train_df.groupby('noncompliance').size(), test_df.groupby('noncompliance').size()"
   ]
  },
  {
   "cell_type": "code",
   "execution_count": 253,
   "id": "04cd756f",
   "metadata": {},
   "outputs": [
    {
     "data": {
      "application/vnd.microsoft.datawrangler.viewer.v0+json": {
       "columns": [
        {
         "name": "index",
         "rawType": "object",
         "type": "string"
        },
        {
         "name": "0.0",
         "rawType": "float64",
         "type": "float"
        },
        {
         "name": "1.0",
         "rawType": "float64",
         "type": "float"
        }
       ],
       "conversionMethod": "pd.DataFrame",
       "ref": "43cac2d5-52b4-4b8c-b89c-002c1b34fba7",
       "rows": [
        [
         "股东权益/负债合计_EquTotLia",
         "248.918",
         "153.805"
        ],
        [
         "股东类别_SHType",
         "0.253",
         "0.247"
        ],
        [
         "每股收益(元/股)_BasicEPS",
         "0.5",
         "0.332"
        ],
        [
         "每股经营活动现金流量(元/股)_OpeCFPS",
         "0.632",
         "0.463"
        ],
        [
         "营业利润/营业总收入()_OpePrTOR",
         "-2.709",
         "-2.411"
        ],
        [
         "净利润()_NetPrf",
         "421247142.027",
         "891976228.195"
        ],
        [
         "有形净值债务率(%)_DbTanEquRt",
         "42.138",
         "220.561"
        ],
        [
         "每股现金及现金等价物余额(元/股)_CCEPS",
         "1.734",
         "2.062"
        ],
        [
         "资产负债率(%)_DbAstRt",
         "40.877",
         "50.097"
        ],
        [
         "经营现金净流量(元)_NOCF",
         "846587963.149",
         "1160996371.367"
        ],
        [
         "股东总户数(户)_SHNum",
         "41220.722",
         "50860.82"
        ],
        [
         "利润总额增长率(%)_TotPrfGrRt",
         "-35.473",
         "-67.977"
        ],
        [
         "营业收入增长率(%)_OpeIncmGrRt",
         "17.605",
         "7.766"
        ],
        [
         "户均持股数(股/户)_AvgHS",
         "2408662.54",
         "1435034.989"
        ],
        [
         "每股资本公积金(元/股)_CapSurFdPS",
         "2.29",
         "2.536"
        ],
        [
         "股东权益周转率(次)_EquRat",
         "1.6",
         "2.169"
        ],
        [
         "产权比率(%)_DbEquRt",
         "119.756",
         "183.4"
        ],
        [
         "权益乘数(%)_EquMul",
         "2.198",
         "2.834"
        ],
        [
         "营业收入3年复合增长率(%)_OperaInc3GrRt",
         "14.467",
         "9.954"
        ],
        [
         "净资产收益率(扣除，加权)(%)_WROECut",
         "4.739",
         "-21.013"
        ],
        [
         "流动资产/总资产(%)_CurTotAst",
         "58.368",
         "63.961"
        ],
        [
         "销售成本率(%)_SalCostRt",
         "70.154",
         "75.323"
        ],
        [
         "销售期间费用率(%)_PdCostRt",
         "31.972",
         "22.356"
        ],
        [
         "非流动资产/总资产(%)_NoncurTotAst",
         "41.632",
         "36.039"
        ]
       ],
       "shape": {
        "columns": 2,
        "rows": 24
       }
      },
      "text/html": [
       "<div>\n",
       "<style scoped>\n",
       "    .dataframe tbody tr th:only-of-type {\n",
       "        vertical-align: middle;\n",
       "    }\n",
       "\n",
       "    .dataframe tbody tr th {\n",
       "        vertical-align: top;\n",
       "    }\n",
       "\n",
       "    .dataframe thead th {\n",
       "        text-align: right;\n",
       "    }\n",
       "</style>\n",
       "<table border=\"1\" class=\"dataframe\">\n",
       "  <thead>\n",
       "    <tr style=\"text-align: right;\">\n",
       "      <th>noncompliance</th>\n",
       "      <th>0.0</th>\n",
       "      <th>1.0</th>\n",
       "    </tr>\n",
       "  </thead>\n",
       "  <tbody>\n",
       "    <tr>\n",
       "      <th>股东权益/负债合计_EquTotLia</th>\n",
       "      <td>2.489180e+02</td>\n",
       "      <td>1.538050e+02</td>\n",
       "    </tr>\n",
       "    <tr>\n",
       "      <th>股东类别_SHType</th>\n",
       "      <td>2.530000e-01</td>\n",
       "      <td>2.470000e-01</td>\n",
       "    </tr>\n",
       "    <tr>\n",
       "      <th>每股收益(元/股)_BasicEPS</th>\n",
       "      <td>5.000000e-01</td>\n",
       "      <td>3.320000e-01</td>\n",
       "    </tr>\n",
       "    <tr>\n",
       "      <th>每股经营活动现金流量(元/股)_OpeCFPS</th>\n",
       "      <td>6.320000e-01</td>\n",
       "      <td>4.630000e-01</td>\n",
       "    </tr>\n",
       "    <tr>\n",
       "      <th>营业利润/营业总收入()_OpePrTOR</th>\n",
       "      <td>-2.709000e+00</td>\n",
       "      <td>-2.411000e+00</td>\n",
       "    </tr>\n",
       "    <tr>\n",
       "      <th>净利润()_NetPrf</th>\n",
       "      <td>4.212471e+08</td>\n",
       "      <td>8.919762e+08</td>\n",
       "    </tr>\n",
       "    <tr>\n",
       "      <th>有形净值债务率(%)_DbTanEquRt</th>\n",
       "      <td>4.213800e+01</td>\n",
       "      <td>2.205610e+02</td>\n",
       "    </tr>\n",
       "    <tr>\n",
       "      <th>每股现金及现金等价物余额(元/股)_CCEPS</th>\n",
       "      <td>1.734000e+00</td>\n",
       "      <td>2.062000e+00</td>\n",
       "    </tr>\n",
       "    <tr>\n",
       "      <th>资产负债率(%)_DbAstRt</th>\n",
       "      <td>4.087700e+01</td>\n",
       "      <td>5.009700e+01</td>\n",
       "    </tr>\n",
       "    <tr>\n",
       "      <th>经营现金净流量(元)_NOCF</th>\n",
       "      <td>8.465880e+08</td>\n",
       "      <td>1.160996e+09</td>\n",
       "    </tr>\n",
       "    <tr>\n",
       "      <th>股东总户数(户)_SHNum</th>\n",
       "      <td>4.122072e+04</td>\n",
       "      <td>5.086082e+04</td>\n",
       "    </tr>\n",
       "    <tr>\n",
       "      <th>利润总额增长率(%)_TotPrfGrRt</th>\n",
       "      <td>-3.547300e+01</td>\n",
       "      <td>-6.797700e+01</td>\n",
       "    </tr>\n",
       "    <tr>\n",
       "      <th>营业收入增长率(%)_OpeIncmGrRt</th>\n",
       "      <td>1.760500e+01</td>\n",
       "      <td>7.766000e+00</td>\n",
       "    </tr>\n",
       "    <tr>\n",
       "      <th>户均持股数(股/户)_AvgHS</th>\n",
       "      <td>2.408663e+06</td>\n",
       "      <td>1.435035e+06</td>\n",
       "    </tr>\n",
       "    <tr>\n",
       "      <th>每股资本公积金(元/股)_CapSurFdPS</th>\n",
       "      <td>2.290000e+00</td>\n",
       "      <td>2.536000e+00</td>\n",
       "    </tr>\n",
       "    <tr>\n",
       "      <th>股东权益周转率(次)_EquRat</th>\n",
       "      <td>1.600000e+00</td>\n",
       "      <td>2.169000e+00</td>\n",
       "    </tr>\n",
       "    <tr>\n",
       "      <th>产权比率(%)_DbEquRt</th>\n",
       "      <td>1.197560e+02</td>\n",
       "      <td>1.834000e+02</td>\n",
       "    </tr>\n",
       "    <tr>\n",
       "      <th>权益乘数(%)_EquMul</th>\n",
       "      <td>2.198000e+00</td>\n",
       "      <td>2.834000e+00</td>\n",
       "    </tr>\n",
       "    <tr>\n",
       "      <th>营业收入3年复合增长率(%)_OperaInc3GrRt</th>\n",
       "      <td>1.446700e+01</td>\n",
       "      <td>9.954000e+00</td>\n",
       "    </tr>\n",
       "    <tr>\n",
       "      <th>净资产收益率(扣除，加权)(%)_WROECut</th>\n",
       "      <td>4.739000e+00</td>\n",
       "      <td>-2.101300e+01</td>\n",
       "    </tr>\n",
       "    <tr>\n",
       "      <th>流动资产/总资产(%)_CurTotAst</th>\n",
       "      <td>5.836800e+01</td>\n",
       "      <td>6.396100e+01</td>\n",
       "    </tr>\n",
       "    <tr>\n",
       "      <th>销售成本率(%)_SalCostRt</th>\n",
       "      <td>7.015400e+01</td>\n",
       "      <td>7.532300e+01</td>\n",
       "    </tr>\n",
       "    <tr>\n",
       "      <th>销售期间费用率(%)_PdCostRt</th>\n",
       "      <td>3.197200e+01</td>\n",
       "      <td>2.235600e+01</td>\n",
       "    </tr>\n",
       "    <tr>\n",
       "      <th>非流动资产/总资产(%)_NoncurTotAst</th>\n",
       "      <td>4.163200e+01</td>\n",
       "      <td>3.603900e+01</td>\n",
       "    </tr>\n",
       "  </tbody>\n",
       "</table>\n",
       "</div>"
      ],
      "text/plain": [
       "noncompliance                          0.0           1.0\n",
       "股东权益/负债合计_EquTotLia           2.489180e+02  1.538050e+02\n",
       "股东类别_SHType                   2.530000e-01  2.470000e-01\n",
       "每股收益(元/股)_BasicEPS            5.000000e-01  3.320000e-01\n",
       "每股经营活动现金流量(元/股)_OpeCFPS       6.320000e-01  4.630000e-01\n",
       "营业利润/营业总收入()_OpePrTOR        -2.709000e+00 -2.411000e+00\n",
       "净利润()_NetPrf                  4.212471e+08  8.919762e+08\n",
       "有形净值债务率(%)_DbTanEquRt         4.213800e+01  2.205610e+02\n",
       "每股现金及现金等价物余额(元/股)_CCEPS       1.734000e+00  2.062000e+00\n",
       "资产负债率(%)_DbAstRt              4.087700e+01  5.009700e+01\n",
       "经营现金净流量(元)_NOCF               8.465880e+08  1.160996e+09\n",
       "股东总户数(户)_SHNum                4.122072e+04  5.086082e+04\n",
       "利润总额增长率(%)_TotPrfGrRt        -3.547300e+01 -6.797700e+01\n",
       "营业收入增长率(%)_OpeIncmGrRt        1.760500e+01  7.766000e+00\n",
       "户均持股数(股/户)_AvgHS              2.408663e+06  1.435035e+06\n",
       "每股资本公积金(元/股)_CapSurFdPS       2.290000e+00  2.536000e+00\n",
       "股东权益周转率(次)_EquRat             1.600000e+00  2.169000e+00\n",
       "产权比率(%)_DbEquRt               1.197560e+02  1.834000e+02\n",
       "权益乘数(%)_EquMul                2.198000e+00  2.834000e+00\n",
       "营业收入3年复合增长率(%)_OperaInc3GrRt  1.446700e+01  9.954000e+00\n",
       "净资产收益率(扣除，加权)(%)_WROECut      4.739000e+00 -2.101300e+01\n",
       "流动资产/总资产(%)_CurTotAst         5.836800e+01  6.396100e+01\n",
       "销售成本率(%)_SalCostRt            7.015400e+01  7.532300e+01\n",
       "销售期间费用率(%)_PdCostRt           3.197200e+01  2.235600e+01\n",
       "非流动资产/总资产(%)_NoncurTotAst     4.163200e+01  3.603900e+01"
      ]
     },
     "execution_count": 253,
     "metadata": {},
     "output_type": "execute_result"
    }
   ],
   "source": [
    "# report sample mean by group\n",
    "train_df.groupby('noncompliance').mean().round(3).T"
   ]
  },
  {
   "cell_type": "markdown",
   "id": "151f2387",
   "metadata": {},
   "source": [
    "<a name='3'></a>\n",
    "## 3 - Model Analysis"
   ]
  },
  {
   "cell_type": "markdown",
   "id": "e839e8f5",
   "metadata": {},
   "source": [
    "<a name='3.1'></a>\n",
    "### 3.1 - transform data structure"
   ]
  },
  {
   "cell_type": "markdown",
   "id": "93c0fb3f",
   "metadata": {},
   "source": [
    "In PyTorch, every network layers, loss functions and optimizer are designed to work with torch.Tensor objects. But we import train_data.csv as DataFrame. \n",
    "\n",
    "So in the following codes, we need to do transform:  DataFrame -> ndarray -> Tensor."
   ]
  },
  {
   "cell_type": "code",
   "execution_count": 254,
   "id": "01808b90",
   "metadata": {},
   "outputs": [],
   "source": [
    "# transform DataFrame into numpy ndarray\n",
    "X_train_array = train_df.drop(columns=['noncompliance']).values\n",
    "y_train_array = train_df['noncompliance'].values\n",
    "X_test_array = test_df.drop(columns=['noncompliance']).values\n",
    "y_test_array = test_df['noncompliance'].values\n",
    "\n",
    "# standardize input features\n",
    "scaler = StandardScaler() # initialize the scaler\n",
    "X_train_array = scaler.fit_transform(X_train_array)\n",
    "X_test_array = scaler.transform(X_test_array) # standardize test data using the train scaler\n",
    "\n",
    "# transform numpy ndarray into torch.tensor\n",
    "X_train_tensor = torch.tensor(X_train_array, dtype=torch.float32)\n",
    "y_train_tensor = torch.tensor(y_train_array, dtype=torch.float32)\n",
    "X_test_tensor = torch.tensor(X_test_array, dtype=torch.float32)\n",
    "y_test_tensor = torch.tensor(y_test_array, dtype=torch.float32)"
   ]
  },
  {
   "cell_type": "markdown",
   "id": "7449451a",
   "metadata": {},
   "source": [
    "After transform our data into Tensor, we further do transform: Tensor -> TensorDataset -> DataLoader.\n",
    "\n",
    "`TensorDataset` and `DataLoader` are two useful tools in PyTorch. Our feature `X_train_tensor` and label `y_train_tensor` could be bundled into a `TensorDataset` objects. This allows the `DataLoader` to use it to easily loop batches, shuffle, and load them in parallel."
   ]
  },
  {
   "cell_type": "code",
   "execution_count": 255,
   "id": "158e918d",
   "metadata": {},
   "outputs": [],
   "source": [
    "# bundle feature and label into TensorDataset\n",
    "train_dataset = TensorDataset(X_train_tensor, y_train_tensor)\n",
    "test_dataset = TensorDataset(X_test_tensor, y_test_tensor)\n",
    "\n",
    "# create DataLoader\n",
    "train_loader = DataLoader(train_dataset, batch_size=128, shuffle=True) # shuffle means randomize the order of observations\n",
    "test_loader = DataLoader(test_dataset, batch_size=128, shuffle=False)"
   ]
  },
  {
   "cell_type": "markdown",
   "id": "cac2598d",
   "metadata": {},
   "source": [
    "<a name='3.2'></a>\n",
    "### 3.2 - build network"
   ]
  },
  {
   "cell_type": "markdown",
   "id": "99b3f117",
   "metadata": {},
   "source": [
    "In the following codes, we build a neural network with 3 hidden layers (64, 32, 8 neurons respectively). We first define a class `FNN` inheriting from `nn.Module`.\n",
    "\n",
    "In `__init__` method, `self.fc1 = nn.Linear(25, 64)` do the linear transformation of the 25 input features to 64 neurons, and vice versa. \n",
    "\n",
    "In `forward` method, `x = torch.relu(self.fc1(x))` do the nonlinear activation (ReLU) of the `self.fc1` output, and vice versa. After the sigmoid activation, `forward` method finally outputs the probability (remark: the output is probability or logits is important)."
   ]
  },
  {
   "cell_type": "code",
   "execution_count": 256,
   "id": "d3d3405a",
   "metadata": {},
   "outputs": [],
   "source": [
    "class FNN(nn.Module):\n",
    "    \"\"\"\n",
    "    A fully connected neural network for binary classification.\n",
    "    \"\"\"\n",
    "    def __init__(self):\n",
    "        super(FNN, self).__init__()\n",
    "        self.fc1 = nn.Linear(24, 64) # input layer: 25 features -> 64 neurons\n",
    "        self.fc2 = nn.Linear(64, 32) # hidden layer1: 64 neurons -> 32 neurons\n",
    "        self.fc3 = nn.Linear(32, 8) # hidden layer2: 32 neurons -> 8 neurons\n",
    "        self.fc4 = nn.Linear(8, 1) # hidden layer3: 8 neurons -> output probability\n",
    "        \n",
    "    def forward(self, x):\n",
    "        x = torch.relu(self.fc1(x)) # relu activation\n",
    "        x = torch.relu(self.fc2(x))\n",
    "        x = torch.relu(self.fc3(x))\n",
    "        x = torch.sigmoid(self.fc4(x)) # sigmoid activation\n",
    "        return x"
   ]
  },
  {
   "cell_type": "markdown",
   "id": "20edea37",
   "metadata": {},
   "source": [
    "<a name='3.3'></a>\n",
    "### 3.3 - define train and test functions"
   ]
  },
  {
   "cell_type": "markdown",
   "id": "eabc4fc3",
   "metadata": {},
   "source": [
    "After defining our network, we would define a function `train` to do forward and backward propagation. In `train` function, we need to:\n",
    "1. switch the model into train mode, since our model would behave differently in training (train mode) and testing (eval mode) like dropout et al;\n",
    "2. forward propagation and return output;\n",
    "3. calculate loss;\n",
    "4. backpropagation;\n",
    "5. update parameters.\n",
    "\n",
    "Note that step 2 - 5 need to loop over the epochs and batches."
   ]
  },
  {
   "cell_type": "code",
   "execution_count": 257,
   "id": "9f7f382b",
   "metadata": {},
   "outputs": [],
   "source": [
    "def train(model, train_loader, criterion, optimizer, num_epochs):\n",
    "    \"\"\"\n",
    "    functions used to train the model\n",
    "    params:\n",
    "        model: the neural network to be trained;\n",
    "        train_loader: a DataLoader object, trainging dataset;\n",
    "        criterion: loss function;\n",
    "        optimizer: optimiser that updates parameters after backpropagation;\n",
    "        num_epochs: number of epochs in optimization;\n",
    "    return:\n",
    "        None\n",
    "    \"\"\"\n",
    "    model.train() # set the model to training mode\n",
    "    for epoch in range(num_epochs): # loop over epochs\n",
    "        for batch_idx, (data, target) in enumerate(train_loader): # loop over batches\n",
    "            optimizer.zero_grad() # clear previous gradients\n",
    "            output = model(data) # do forward propagation\n",
    "            loss = criterion(output.squeeze(1), target) # calculate loss\n",
    "            loss.backward() # do backpropagation\n",
    "            optimizer.step() # update parameters\n",
    "\n",
    "            if (epoch + 1) % 50 == 0 and batch_idx == len(train_loader)-2: # print second last batch's loss every 50 epochs\n",
    "                print(f\"Epoch [{epoch+1}/{num_epochs}] Batch {batch_idx+1} Loss: {loss.item():.4f}\")"
   ]
  },
  {
   "cell_type": "markdown",
   "id": "880981d4",
   "metadata": {},
   "source": [
    "We next define a `test` function to do test and return the predicted probabilities. In `test` function, we \n",
    "1. switch the model into eval mode.\n",
    "2. do forward propagation using the test data and get output. Notice `model(data)` would return a tensor with shape [batch_size, 1], `.squeeze(1)` transform it into shape [batch_size];\n",
    "3. calculate loss and return predicted probabilities."
   ]
  },
  {
   "cell_type": "code",
   "execution_count": 258,
   "id": "94982cc1",
   "metadata": {},
   "outputs": [],
   "source": [
    "def test(model, test_loader, criterion):\n",
    "    \"\"\"\n",
    "    Run the trained model on the test set.\n",
    "    params:\n",
    "        model: the network after trained;\n",
    "        test_loader: DataLoader, test dataset;\n",
    "        criterion: loss function;\n",
    "    return:\n",
    "        pred_probs: tensor, predicted test probabilities;\n",
    "    \"\"\"\n",
    "    model.eval() # set the model to evaluation mode\n",
    "    test_loss = 0.0\n",
    "    pred_probs = [] # a list used to accumulated each batch's predicted probabilities\n",
    "    with torch.no_grad():\n",
    "        for data, target in test_loader:\n",
    "            output = model(data).squeeze(1) # forward propagation using test data and return output probabilities\n",
    "            test_loss += criterion(output, target).item() # accumulate loss\n",
    "            pred_probs.append(output) # accumulate predicted probabilityes\n",
    "            \n",
    "    test_loss /= len(test_loader.dataset)\n",
    "    print(f\"Test Loss: {test_loss:.4f}\")\n",
    "    \n",
    "    return torch.cat(pred_probs)"
   ]
  },
  {
   "cell_type": "markdown",
   "id": "27d66d71",
   "metadata": {},
   "source": [
    "<a name='3.4'></a>\n",
    "### 3.4 - train and test the network"
   ]
  },
  {
   "cell_type": "markdown",
   "id": "6039ff4c",
   "metadata": {},
   "source": [
    "So far, we have defined our network, training function and test function. Train and test is easy. We first instanciate a network `model = FNN()`, then set up the loss function and optimizer."
   ]
  },
  {
   "cell_type": "code",
   "execution_count": 259,
   "id": "3c5a10de",
   "metadata": {},
   "outputs": [],
   "source": [
    "model = FNN() # instantiate the model\n",
    "criterion = nn.BCELoss() # binary cross entropy loss\n",
    "optimizer = torch.optim.Adam(model.parameters(), lr=3e-4) # Adam optimizer"
   ]
  },
  {
   "cell_type": "markdown",
   "id": "a6e57fd4",
   "metadata": {},
   "source": [
    "By calling the `train` function, we finish the training procedure. We find that the training loss flunctuates but generally decreases."
   ]
  },
  {
   "cell_type": "code",
   "execution_count": 260,
   "id": "9de0b970",
   "metadata": {},
   "outputs": [
    {
     "name": "stdout",
     "output_type": "stream",
     "text": [
      "Epoch [50/500] Batch 193 Loss: 0.1462\n",
      "Epoch [100/500] Batch 193 Loss: 0.0701\n",
      "Epoch [150/500] Batch 193 Loss: 0.1068\n",
      "Epoch [200/500] Batch 193 Loss: 0.2252\n",
      "Epoch [250/500] Batch 193 Loss: 0.0935\n",
      "Epoch [300/500] Batch 193 Loss: 0.0724\n",
      "Epoch [350/500] Batch 193 Loss: 0.1224\n",
      "Epoch [400/500] Batch 193 Loss: 0.0777\n",
      "Epoch [450/500] Batch 193 Loss: 0.1737\n",
      "Epoch [500/500] Batch 193 Loss: 0.1121\n"
     ]
    }
   ],
   "source": [
    "train(model, train_loader, criterion, optimizer, num_epochs=500)"
   ]
  },
  {
   "cell_type": "markdown",
   "id": "019dfa5e",
   "metadata": {},
   "source": [
    "We can get trained parameters by `model.named_parameters()`. Here, we show the dimension of each layers weights and bias."
   ]
  },
  {
   "cell_type": "code",
   "execution_count": 261,
   "id": "e00dd8b6",
   "metadata": {},
   "outputs": [
    {
     "name": "stdout",
     "output_type": "stream",
     "text": [
      "fc1.weight torch.Size([64, 24])\n",
      "fc1.bias torch.Size([64])\n",
      "fc2.weight torch.Size([32, 64])\n",
      "fc2.bias torch.Size([32])\n",
      "fc3.weight torch.Size([8, 32])\n",
      "fc3.bias torch.Size([8])\n",
      "fc4.weight torch.Size([1, 8])\n",
      "fc4.bias torch.Size([1])\n"
     ]
    }
   ],
   "source": [
    "for name, param in model.named_parameters():\n",
    "    print(name, param.size())"
   ]
  },
  {
   "cell_type": "markdown",
   "id": "d3d08a91",
   "metadata": {},
   "source": [
    "By calling the `test` function, we finish the test procedure, and the predicted probabilities are assigned to `nn_pred_probs`."
   ]
  },
  {
   "cell_type": "code",
   "execution_count": 262,
   "id": "f0f23fc0",
   "metadata": {},
   "outputs": [
    {
     "name": "stdout",
     "output_type": "stream",
     "text": [
      "Test Loss: 0.0018\n"
     ]
    },
    {
     "data": {
      "text/plain": [
       "tensor([0.0007, 0.0972, 0.1515, 0.0116, 0.1085])"
      ]
     },
     "execution_count": 262,
     "metadata": {},
     "output_type": "execute_result"
    }
   ],
   "source": [
    "nn_pred_probs = test(model, test_loader, criterion)\n",
    "nn_pred_probs[:5] # present the first 5 predicted probabilities"
   ]
  },
  {
   "cell_type": "markdown",
   "id": "79f1e899",
   "metadata": {},
   "source": [
    "<a name='4'></a>\n",
    "## 4 - Models Evaluation and Comparison\n",
    "\n",
    "So far we predicted the probabilities on test data using neural network. To evaluate our model performance, we compare our model with probit and logit regression in terms of precision, recall and the area under precision-recall curve."
   ]
  },
  {
   "cell_type": "markdown",
   "id": "125652cf",
   "metadata": {},
   "source": [
    "<a name='4.1'></a>\n",
    "### 4.1 - probit & logit regression"
   ]
  },
  {
   "cell_type": "markdown",
   "id": "f8f55a73",
   "metadata": {},
   "source": [
    "We first fit a probit and logit regression. "
   ]
  },
  {
   "cell_type": "code",
   "execution_count": 263,
   "id": "8991a831",
   "metadata": {},
   "outputs": [
    {
     "name": "stdout",
     "output_type": "stream",
     "text": [
      "Optimization terminated successfully.\n",
      "         Current function value: 0.180407\n",
      "         Iterations 11\n"
     ]
    },
    {
     "data": {
      "text/plain": [
       "array([0.01006122, 0.050818  , 0.07519969, 0.06611171, 0.04115089])"
      ]
     },
     "execution_count": 263,
     "metadata": {},
     "output_type": "execute_result"
    }
   ],
   "source": [
    "train_with_const = sm.add_constant(X_train_array) # add a constant term to X_train\n",
    "test_with_const = sm.add_constant(X_test_array)\n",
    "\n",
    "# probit model\n",
    "probit = sm.Probit(y_train_array, train_with_const).fit() # fit a probit model\n",
    "probit_pred_probs = probit.predict(test_with_const) # predict probabilities on test data\n",
    "\n",
    "probit_pred_probs[:5] # present the first 5 predicted probabilities"
   ]
  },
  {
   "cell_type": "code",
   "execution_count": 264,
   "id": "72f323a2",
   "metadata": {},
   "outputs": [
    {
     "name": "stdout",
     "output_type": "stream",
     "text": [
      "Optimization terminated successfully.\n",
      "         Current function value: 0.180053\n",
      "         Iterations 13\n"
     ]
    },
    {
     "data": {
      "text/plain": [
       "array([0.01098076, 0.04912958, 0.07527024, 0.06662138, 0.0410096 ])"
      ]
     },
     "execution_count": 264,
     "metadata": {},
     "output_type": "execute_result"
    }
   ],
   "source": [
    "# logit model\n",
    "logit = sm.Logit(y_train_array, train_with_const).fit() # fit a probit model\n",
    "logit_pred_probs = logit.predict(test_with_const) # predict probabilities on test data\n",
    "\n",
    "logit_pred_probs[:5] # present the first 5 predicted probabilities"
   ]
  },
  {
   "cell_type": "markdown",
   "id": "a0eaefdd",
   "metadata": {},
   "source": [
    "<a name='4.2'></a>\n",
    "### 4.2 - evaluate precision and recall\n",
    "\n",
    "Our data is highly imbalanced, and the sample size of positive : negative = 483 : 10087. So, precision and recall is better for model performance. \n",
    "\n",
    "In the following codes, we calculate precision and recall for network, probit model, logit model and random guess. `sklearn` provides an easy implementations."
   ]
  },
  {
   "cell_type": "code",
   "execution_count": 265,
   "id": "fe46c8a8",
   "metadata": {},
   "outputs": [],
   "source": [
    "# precision and recall for neural network\n",
    "precision_nn, recall_nn, _ = precision_recall_curve(y_test_array, nn_pred_probs)\n",
    "auc_nn = average_precision_score(y_test_array, nn_pred_probs)\n",
    "\n",
    "# probit\n",
    "precision_probit, recall_probit, _ = precision_recall_curve(y_test_array, probit_pred_probs)\n",
    "auc_probit = average_precision_score(y_test_array, probit_pred_probs)\n",
    "\n",
    "# logit\n",
    "precision_logit, recall_logit, _ = precision_recall_curve(y_test_array, logit_pred_probs)\n",
    "auc_logit = average_precision_score(y_test_array, logit_pred_probs)\n",
    "\n",
    "# random\n",
    "rand_pred_probs = np.random.rand(len(y_test_array))\n",
    "precision_rand, recall_rand, _ = precision_recall_curve(y_test_array, rand_pred_probs)\n",
    "auc_rand = average_precision_score(y_test_array, rand_pred_probs)\n"
   ]
  },
  {
   "cell_type": "markdown",
   "id": "a43658ab",
   "metadata": {},
   "source": [
    "Next, we draw precision-recall curve, and the area under the curve reflect the model's performance."
   ]
  },
  {
   "cell_type": "code",
   "execution_count": 266,
   "id": "5c77d589",
   "metadata": {},
   "outputs": [
    {
     "data": {
      "image/png": "[encoded data removed]",
      "text/plain": [
       "<Figure size 640x480 with 1 Axes>"
      ]
     },
     "metadata": {},
     "output_type": "display_data"
    }
   ],
   "source": [
    "# draw PRC curves\n",
    "plt.plot(recall_nn, precision_nn,  label=f\"Neural Net (AUC={auc_nn:.3f})\")\n",
    "plt.plot(recall_probit, precision_probit,  label=f\"Probit (AUC={auc_probit:.3f})\")\n",
    "plt.plot(recall_logit, precision_logit,  label=f\"Logit (AUC={auc_logit:.3f})\")\n",
    "plt.plot(recall_rand, precision_rand,  label=f\"Random (AUC={auc_rand:.3f})\")\n",
    "\n",
    "plt.xlabel(\"Recall\")\n",
    "plt.ylabel(\"Precision\")\n",
    "plt.title(\"PRC Curve Comparison\")\n",
    "plt.legend()\n",
    "plt.grid(True)\n",
    "plt.show()"
   ]
  },
  {
   "cell_type": "markdown",
   "id": "89bca125",
   "metadata": {},
   "source": [
    "Compared with probit and logit model, our neural network model has a better performance. But this neural network model can be further improved by tuning hyperparameters (network structure, loss functions, optimizer and learning rate et al.). We would talk about it in the next section."
   ]
  },
  {
   "cell_type": "markdown",
   "id": "083d63f8",
   "metadata": {},
   "source": []
  }
 ],
 "metadata": {
  "kernelspec": {
   "display_name": "workenv",
   "language": "python",
   "name": "python3"
  },
  "language_info": {
   "codemirror_mode": {
    "name": "ipython",
    "version": 3
   },
   "file_extension": ".py",
   "mimetype": "text/x-python",
   "name": "python",
   "nbconvert_exporter": "python",
   "pygments_lexer": "ipython3",
   "version": "3.12.2"
  }
 },
 "nbformat": 4,
 "nbformat_minor": 5
}
