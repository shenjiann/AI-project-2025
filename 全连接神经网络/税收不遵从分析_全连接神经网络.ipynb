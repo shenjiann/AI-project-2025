{
 "cells": [
  {
   "cell_type": "markdown",
   "id": "bb12756c",
   "metadata": {},
   "source": [
    "# 全连接神经网络实际数据分析"
   ]
  },
  {
   "cell_type": "markdown",
   "id": "1455a884",
   "metadata": {},
   "source": [
    "## 目录\n",
    "* [1 - 第三方包导入](#1)\n",
    "* [2 - 探索性数据分析](#2)\n",
    "* [3 - 建模分析](#3) "
   ]
  },
  {
   "cell_type": "markdown",
   "id": "d1cb7bfd",
   "metadata": {},
   "source": [
    "<a name='1'></a>\n",
    "## 1-第三方包导入"
   ]
  },
  {
   "cell_type": "markdown",
   "id": "068d5ad5",
   "metadata": {},
   "source": [
    "<a name='2'></a>\n",
    "## 2-探索性数据分析"
   ]
  },
  {
   "cell_type": "markdown",
   "id": "151f2387",
   "metadata": {},
   "source": [
    "<a name='3'></a>\n",
    "## 3-建模分析"
   ]
  },
  {
   "cell_type": "markdown",
   "id": "7c743048",
   "metadata": {},
   "source": []
  }
 ],
 "metadata": {
  "language_info": {
   "name": "python"
  }
 },
 "nbformat": 4,
 "nbformat_minor": 5
}
