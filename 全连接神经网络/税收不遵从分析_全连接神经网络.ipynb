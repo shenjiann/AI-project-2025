{
 "cells": [
  {
   "cell_type": "markdown",
   "id": "bb12756c",
   "metadata": {},
   "source": [
    "<!-- # 全连接神经网络数据分析（最后转成英文） -->\n",
    "# Fully Connected Neural Network Data Analysis\n",
    "\n",
    "<!-- 在之前的章节中，我们介绍了神经网络的基本概念、以及如何对其进行编程。在这一章节中，我们以上市公司税收不遵从行为的分类为例，用```torch```展示神经网络的内部工作机制，并借此简单介绍```torch```的基本用法。 -->\n",
    "\n",
    "In previous sections, we introduced the basic concepts of neural networks and how to programe them manually. Now in this section, we would demonstrate the usage of PyTorch as an example of **tax non-compliant company classification** .\n",
    "\n",
    "**Learning Goal**：\n",
    "* Preprocess your data;\n",
    "* Using PyTorch to build, train and test network;\n",
    "* Using sklearn to evalute model performance.\n",
    "\n",
    "## Contents\n",
    "* [1 - Import Packages](#1)\n",
    "* [2 - Descriptive Analysis](#2)\n",
    "* [3 - Model Analysis](#3) \n",
    "  * [3.1 - transform data structure](#3.1)\n",
    "  * [3.2 - build network](#3.2)\n",
    "  * [3.3 - define train and test functions](#3.3)\n",
    "  * [3.4 - train and test network](#3.4)\n",
    "* [4 - Model Evaluation and Comparison](#4)\n",
    "  * [4.1 - probit & logit regression](#4.1)\n",
    "  * [4.2 - draw precision-recall curve](#4.2)"
   ]
  },
  {
   "cell_type": "markdown",
   "id": "d1cb7bfd",
   "metadata": {},
   "source": [
    "<a name='1'></a>\n",
    "## 1 - Import Packages"
   ]
  },
  {
   "cell_type": "code",
   "execution_count": 23,
   "id": "442a498f",
   "metadata": {},
   "outputs": [
    {
     "data": {
      "text/plain": [
       "<torch._C.Generator at 0x12a316df0>"
      ]
     },
     "execution_count": 23,
     "metadata": {},
     "output_type": "execute_result"
    }
   ],
   "source": [
    "import pandas as pd # used for data import\n",
    "import numpy as np # used for numerical operations\n",
    "import torch # used for tensor operations\n",
    "import torch.nn as nn # used for building neural networks\n",
    "from torch.utils.data import DataLoader, TensorDataset # used for creating data loaders\n",
    "from sklearn.preprocessing import StandardScaler # used for standardizing features\n",
    "from sklearn.metrics import precision_recall_curve, average_precision_score # used for evaluating models\n",
    "import statsmodels.api as sm # used for probit & logit regression\n",
    "import matplotlib.pyplot as plt # used for plotting PR curves\n",
    "\n",
    "np.random.seed(42) # set random seed for reproducibility\n",
    "torch.manual_seed(42)"
   ]
  },
  {
   "cell_type": "markdown",
   "id": "068d5ad5",
   "metadata": {},
   "source": [
    "<a name='2'></a>\n",
    "## 2 - Descriptive Analysis"
   ]
  },
  {
   "cell_type": "markdown",
   "id": "f01d8098",
   "metadata": {},
   "source": [
    "The data we use includes financial reporting indicators and tax violation announcements for all listed companies in China during 2015-2024. Data source is [RESSET](http://db.resset.com) database\n",
    "\n",
    "In the following codes, we import the data file using `pandas`. And showing the first 5 observations to have a quick look at the dataset."
   ]
  },
  {
   "cell_type": "code",
   "execution_count": 24,
   "id": "4e2244b9",
   "metadata": {},
   "outputs": [
    {
     "data": {
      "application/vnd.microsoft.datawrangler.viewer.v0+json": {
       "columns": [
        {
         "name": "index",
         "rawType": "int64",
         "type": "integer"
        },
        {
         "name": "noncompliance",
         "rawType": "float64",
         "type": "float"
        },
        {
         "name": "股东权益/负债合计_EquTotLia",
         "rawType": "float64",
         "type": "float"
        },
        {
         "name": "股东类别_SHType",
         "rawType": "int64",
         "type": "integer"
        },
        {
         "name": "每股收益(元/股)_BasicEPS",
         "rawType": "float64",
         "type": "float"
        },
        {
         "name": "每股经营活动现金流量(元/股)_OpeCFPS",
         "rawType": "float64",
         "type": "float"
        },
        {
         "name": "营业利润/营业总收入()_OpePrTOR",
         "rawType": "float64",
         "type": "float"
        },
        {
         "name": "净利润()_NetPrf",
         "rawType": "float64",
         "type": "float"
        },
        {
         "name": "有形净值债务率(%)_DbTanEquRt",
         "rawType": "float64",
         "type": "float"
        },
        {
         "name": "每股现金及现金等价物余额(元/股)_CCEPS",
         "rawType": "float64",
         "type": "float"
        },
        {
         "name": "资产负债率(%)_DbAstRt",
         "rawType": "float64",
         "type": "float"
        },
        {
         "name": "经营现金净流量(元)_NOCF",
         "rawType": "float64",
         "type": "float"
        },
        {
         "name": "股东总户数(户)_SHNum",
         "rawType": "float64",
         "type": "float"
        },
        {
         "name": "利润总额增长率(%)_TotPrfGrRt",
         "rawType": "float64",
         "type": "float"
        },
        {
         "name": "营业收入增长率(%)_OpeIncmGrRt",
         "rawType": "float64",
         "type": "float"
        },
        {
         "name": "户均持股数(股/户)_AvgHS",
         "rawType": "float64",
         "type": "float"
        },
        {
         "name": "每股资本公积金(元/股)_CapSurFdPS",
         "rawType": "float64",
         "type": "float"
        },
        {
         "name": "股东权益周转率(次)_EquRat",
         "rawType": "float64",
         "type": "float"
        },
        {
         "name": "产权比率(%)_DbEquRt",
         "rawType": "float64",
         "type": "float"
        },
        {
         "name": "权益乘数(%)_EquMul",
         "rawType": "float64",
         "type": "float"
        },
        {
         "name": "营业收入3年复合增长率(%)_OperaInc3GrRt",
         "rawType": "float64",
         "type": "float"
        },
        {
         "name": "净资产收益率(扣除，加权)(%)_WROECut",
         "rawType": "float64",
         "type": "float"
        },
        {
         "name": "流动资产/总资产(%)_CurTotAst",
         "rawType": "float64",
         "type": "float"
        },
        {
         "name": "销售成本率(%)_SalCostRt",
         "rawType": "float64",
         "type": "float"
        },
        {
         "name": "销售期间费用率(%)_PdCostRt",
         "rawType": "float64",
         "type": "float"
        },
        {
         "name": "非流动资产/总资产(%)_NoncurTotAst",
         "rawType": "float64",
         "type": "float"
        }
       ],
       "conversionMethod": "pd.DataFrame",
       "ref": "fbf51d45-6d30-4a54-9ce9-414e80a4a015",
       "rows": [
        [
         "0",
         "0.0",
         "170.554",
         "0",
         "0.96",
         "0.9061",
         "10.062",
         "260394318.85",
         "77.7729",
         "0.521",
         "36.9612",
         "244645546.0",
         "21465.0",
         "35.5506",
         "37.5985",
         "12579.0",
         "2.1433",
         "1.6292",
         "58.6324",
         "1.5863",
         "32.0091",
         "13.58",
         "59.4718",
         "76.2939",
         "13.1258",
         "40.5282"
        ],
        [
         "1",
         "0.0",
         "124.5469",
         "0",
         "1.1",
         "1.6523",
         "13.1945",
         "89483779.62",
         "94.8014",
         "0.6296",
         "44.5341",
         "133836219.81",
         "8.0",
         "25.4491",
         "23.0095",
         "10125000.0",
         "0.3722",
         "2.245",
         "80.2911",
         "1.8029",
         "30.6081",
         "19.04",
         "85.068",
         "49.3462",
         "34.8238",
         "14.932"
        ],
        [
         "2",
         "0.0",
         "1397.9664",
         "0",
         "0.05",
         "-0.0227",
         "47.1971",
         "23862910.8",
         "7.417",
         "0.0382",
         "6.6757",
         "-11029242.86",
         "33598.0",
         "142.8654",
         "69.8225",
         "14433.0",
         "1.1929",
         "0.0598",
         "7.1532",
         "1.0715",
         "44.6893",
         "1.43",
         "10.5621",
         "96.7109",
         "44.0484",
         "89.4379"
        ],
        [
         "3",
         "0.0",
         "42.6336",
         "1",
         "0.18",
         "0.4157",
         "1.6698",
         "502922669.07",
         "273.4768",
         "0.3569",
         "68.9041",
         "1158512390.75",
         "52448.0",
         "1892.4546",
         "20.0642",
         "53136.0",
         "1.538",
         "3.6531",
         "221.5863",
         "3.2159",
         "-3.322",
         "4.8704",
         "56.8455",
         "93.6144",
         "4.0138",
         "43.1545"
        ],
        [
         "4",
         "0.0",
         "93.7299",
         "1",
         "0.5244",
         "1.4604",
         "11.0724",
         "2502238023.0",
         "113.1561",
         "0.7049",
         "51.4988",
         "6968341176.0",
         "53924.0",
         "391.5805",
         "41.8724",
         "88487.0",
         "2.5916",
         "0.8739",
         "106.1806",
         "2.0618",
         "27.133",
         "6.03",
         "30.2616",
         "81.2315",
         "8.3843",
         "69.7384"
        ]
       ],
       "shape": {
        "columns": 25,
        "rows": 5
       }
      },
      "text/html": [
       "<div>\n",
       "<style scoped>\n",
       "    .dataframe tbody tr th:only-of-type {\n",
       "        vertical-align: middle;\n",
       "    }\n",
       "\n",
       "    .dataframe tbody tr th {\n",
       "        vertical-align: top;\n",
       "    }\n",
       "\n",
       "    .dataframe thead th {\n",
       "        text-align: right;\n",
       "    }\n",
       "</style>\n",
       "<table border=\"1\" class=\"dataframe\">\n",
       "  <thead>\n",
       "    <tr style=\"text-align: right;\">\n",
       "      <th></th>\n",
       "      <th>noncompliance</th>\n",
       "      <th>股东权益/负债合计_EquTotLia</th>\n",
       "      <th>股东类别_SHType</th>\n",
       "      <th>每股收益(元/股)_BasicEPS</th>\n",
       "      <th>每股经营活动现金流量(元/股)_OpeCFPS</th>\n",
       "      <th>营业利润/营业总收入()_OpePrTOR</th>\n",
       "      <th>净利润()_NetPrf</th>\n",
       "      <th>有形净值债务率(%)_DbTanEquRt</th>\n",
       "      <th>每股现金及现金等价物余额(元/股)_CCEPS</th>\n",
       "      <th>资产负债率(%)_DbAstRt</th>\n",
       "      <th>...</th>\n",
       "      <th>每股资本公积金(元/股)_CapSurFdPS</th>\n",
       "      <th>股东权益周转率(次)_EquRat</th>\n",
       "      <th>产权比率(%)_DbEquRt</th>\n",
       "      <th>权益乘数(%)_EquMul</th>\n",
       "      <th>营业收入3年复合增长率(%)_OperaInc3GrRt</th>\n",
       "      <th>净资产收益率(扣除，加权)(%)_WROECut</th>\n",
       "      <th>流动资产/总资产(%)_CurTotAst</th>\n",
       "      <th>销售成本率(%)_SalCostRt</th>\n",
       "      <th>销售期间费用率(%)_PdCostRt</th>\n",
       "      <th>非流动资产/总资产(%)_NoncurTotAst</th>\n",
       "    </tr>\n",
       "  </thead>\n",
       "  <tbody>\n",
       "    <tr>\n",
       "      <th>0</th>\n",
       "      <td>0.0</td>\n",
       "      <td>170.5540</td>\n",
       "      <td>0</td>\n",
       "      <td>0.9600</td>\n",
       "      <td>0.9061</td>\n",
       "      <td>10.0620</td>\n",
       "      <td>2.603943e+08</td>\n",
       "      <td>77.7729</td>\n",
       "      <td>0.5210</td>\n",
       "      <td>36.9612</td>\n",
       "      <td>...</td>\n",
       "      <td>2.1433</td>\n",
       "      <td>1.6292</td>\n",
       "      <td>58.6324</td>\n",
       "      <td>1.5863</td>\n",
       "      <td>32.0091</td>\n",
       "      <td>13.5800</td>\n",
       "      <td>59.4718</td>\n",
       "      <td>76.2939</td>\n",
       "      <td>13.1258</td>\n",
       "      <td>40.5282</td>\n",
       "    </tr>\n",
       "    <tr>\n",
       "      <th>1</th>\n",
       "      <td>0.0</td>\n",
       "      <td>124.5469</td>\n",
       "      <td>0</td>\n",
       "      <td>1.1000</td>\n",
       "      <td>1.6523</td>\n",
       "      <td>13.1945</td>\n",
       "      <td>8.948378e+07</td>\n",
       "      <td>94.8014</td>\n",
       "      <td>0.6296</td>\n",
       "      <td>44.5341</td>\n",
       "      <td>...</td>\n",
       "      <td>0.3722</td>\n",
       "      <td>2.2450</td>\n",
       "      <td>80.2911</td>\n",
       "      <td>1.8029</td>\n",
       "      <td>30.6081</td>\n",
       "      <td>19.0400</td>\n",
       "      <td>85.0680</td>\n",
       "      <td>49.3462</td>\n",
       "      <td>34.8238</td>\n",
       "      <td>14.9320</td>\n",
       "    </tr>\n",
       "    <tr>\n",
       "      <th>2</th>\n",
       "      <td>0.0</td>\n",
       "      <td>1397.9664</td>\n",
       "      <td>0</td>\n",
       "      <td>0.0500</td>\n",
       "      <td>-0.0227</td>\n",
       "      <td>47.1971</td>\n",
       "      <td>2.386291e+07</td>\n",
       "      <td>7.4170</td>\n",
       "      <td>0.0382</td>\n",
       "      <td>6.6757</td>\n",
       "      <td>...</td>\n",
       "      <td>1.1929</td>\n",
       "      <td>0.0598</td>\n",
       "      <td>7.1532</td>\n",
       "      <td>1.0715</td>\n",
       "      <td>44.6893</td>\n",
       "      <td>1.4300</td>\n",
       "      <td>10.5621</td>\n",
       "      <td>96.7109</td>\n",
       "      <td>44.0484</td>\n",
       "      <td>89.4379</td>\n",
       "    </tr>\n",
       "    <tr>\n",
       "      <th>3</th>\n",
       "      <td>0.0</td>\n",
       "      <td>42.6336</td>\n",
       "      <td>1</td>\n",
       "      <td>0.1800</td>\n",
       "      <td>0.4157</td>\n",
       "      <td>1.6698</td>\n",
       "      <td>5.029227e+08</td>\n",
       "      <td>273.4768</td>\n",
       "      <td>0.3569</td>\n",
       "      <td>68.9041</td>\n",
       "      <td>...</td>\n",
       "      <td>1.5380</td>\n",
       "      <td>3.6531</td>\n",
       "      <td>221.5863</td>\n",
       "      <td>3.2159</td>\n",
       "      <td>-3.3220</td>\n",
       "      <td>4.8704</td>\n",
       "      <td>56.8455</td>\n",
       "      <td>93.6144</td>\n",
       "      <td>4.0138</td>\n",
       "      <td>43.1545</td>\n",
       "    </tr>\n",
       "    <tr>\n",
       "      <th>4</th>\n",
       "      <td>0.0</td>\n",
       "      <td>93.7299</td>\n",
       "      <td>1</td>\n",
       "      <td>0.5244</td>\n",
       "      <td>1.4604</td>\n",
       "      <td>11.0724</td>\n",
       "      <td>2.502238e+09</td>\n",
       "      <td>113.1561</td>\n",
       "      <td>0.7049</td>\n",
       "      <td>51.4988</td>\n",
       "      <td>...</td>\n",
       "      <td>2.5916</td>\n",
       "      <td>0.8739</td>\n",
       "      <td>106.1806</td>\n",
       "      <td>2.0618</td>\n",
       "      <td>27.1330</td>\n",
       "      <td>6.0300</td>\n",
       "      <td>30.2616</td>\n",
       "      <td>81.2315</td>\n",
       "      <td>8.3843</td>\n",
       "      <td>69.7384</td>\n",
       "    </tr>\n",
       "  </tbody>\n",
       "</table>\n",
       "<p>5 rows × 25 columns</p>\n",
       "</div>"
      ],
      "text/plain": [
       "   noncompliance  股东权益/负债合计_EquTotLia  股东类别_SHType  每股收益(元/股)_BasicEPS  \\\n",
       "0            0.0             170.5540            0              0.9600   \n",
       "1            0.0             124.5469            0              1.1000   \n",
       "2            0.0            1397.9664            0              0.0500   \n",
       "3            0.0              42.6336            1              0.1800   \n",
       "4            0.0              93.7299            1              0.5244   \n",
       "\n",
       "   每股经营活动现金流量(元/股)_OpeCFPS  营业利润/营业总收入()_OpePrTOR  净利润()_NetPrf  \\\n",
       "0                   0.9061                10.0620  2.603943e+08   \n",
       "1                   1.6523                13.1945  8.948378e+07   \n",
       "2                  -0.0227                47.1971  2.386291e+07   \n",
       "3                   0.4157                 1.6698  5.029227e+08   \n",
       "4                   1.4604                11.0724  2.502238e+09   \n",
       "\n",
       "   有形净值债务率(%)_DbTanEquRt  每股现金及现金等价物余额(元/股)_CCEPS  资产负债率(%)_DbAstRt  ...  \\\n",
       "0                77.7729                   0.5210           36.9612  ...   \n",
       "1                94.8014                   0.6296           44.5341  ...   \n",
       "2                 7.4170                   0.0382            6.6757  ...   \n",
       "3               273.4768                   0.3569           68.9041  ...   \n",
       "4               113.1561                   0.7049           51.4988  ...   \n",
       "\n",
       "   每股资本公积金(元/股)_CapSurFdPS  股东权益周转率(次)_EquRat  产权比率(%)_DbEquRt  \\\n",
       "0                   2.1433             1.6292          58.6324   \n",
       "1                   0.3722             2.2450          80.2911   \n",
       "2                   1.1929             0.0598           7.1532   \n",
       "3                   1.5380             3.6531         221.5863   \n",
       "4                   2.5916             0.8739         106.1806   \n",
       "\n",
       "   权益乘数(%)_EquMul  营业收入3年复合增长率(%)_OperaInc3GrRt  净资产收益率(扣除，加权)(%)_WROECut  \\\n",
       "0          1.5863                       32.0091                   13.5800   \n",
       "1          1.8029                       30.6081                   19.0400   \n",
       "2          1.0715                       44.6893                    1.4300   \n",
       "3          3.2159                       -3.3220                    4.8704   \n",
       "4          2.0618                       27.1330                    6.0300   \n",
       "\n",
       "   流动资产/总资产(%)_CurTotAst  销售成本率(%)_SalCostRt  销售期间费用率(%)_PdCostRt  \\\n",
       "0                59.4718             76.2939              13.1258   \n",
       "1                85.0680             49.3462              34.8238   \n",
       "2                10.5621             96.7109              44.0484   \n",
       "3                56.8455             93.6144               4.0138   \n",
       "4                30.2616             81.2315               8.3843   \n",
       "\n",
       "   非流动资产/总资产(%)_NoncurTotAst  \n",
       "0                    40.5282  \n",
       "1                    14.9320  \n",
       "2                    89.4379  \n",
       "3                    43.1545  \n",
       "4                    69.7384  \n",
       "\n",
       "[5 rows x 25 columns]"
      ]
     },
     "execution_count": 24,
     "metadata": {},
     "output_type": "execute_result"
    }
   ],
   "source": [
    "train_df = pd.read_csv('train_data.csv') # import training data\n",
    "test_df = pd.read_csv('test_data.csv')\n",
    "train_df.head(5) # display first 5 observations of training data"
   ]
  },
  {
   "cell_type": "markdown",
   "id": "5f67d11a",
   "metadata": {},
   "source": [
    "In this dataset, `noncompliace` is the label of interest, `noncomplicance = 1` means this firm is announced to be tax non-compliant (like tax fraud or arrears) in either the current year or the next year. \n",
    "\n",
    "We firstly group the data by `noncompliance`, and report the sample size in each group. In the training data, we have 1288 non-compliant observations and 26898 compliant observations. Our data is highly imbalanced, but for simplicity, we do not up-sample the data."
   ]
  },
  {
   "cell_type": "code",
   "execution_count": 25,
   "id": "fbeec273",
   "metadata": {},
   "outputs": [
    {
     "data": {
      "text/plain": [
       "(noncompliance\n",
       " 0.0    26898\n",
       " 1.0     1288\n",
       " dtype: int64,\n",
       " noncompliance\n",
       " 0.0    6725\n",
       " 1.0     322\n",
       " dtype: int64)"
      ]
     },
     "execution_count": 25,
     "metadata": {},
     "output_type": "execute_result"
    }
   ],
   "source": [
    "# report sample size by group\n",
    "train_df.groupby('noncompliance').size(), test_df.groupby('noncompliance').size()"
   ]
  },
  {
   "cell_type": "markdown",
   "id": "4cfe7350",
   "metadata": {},
   "source": [
    "We next calculate the sample mean in each group. It shows non-compliant firms and compliant firms may differ in terms of equity structure, solvency, and profitability."
   ]
  },
  {
   "cell_type": "code",
   "execution_count": 26,
   "id": "04cd756f",
   "metadata": {},
   "outputs": [
    {
     "data": {
      "application/vnd.microsoft.datawrangler.viewer.v0+json": {
       "columns": [
        {
         "name": "index",
         "rawType": "object",
         "type": "string"
        },
        {
         "name": "0.0",
         "rawType": "float64",
         "type": "float"
        },
        {
         "name": "1.0",
         "rawType": "float64",
         "type": "float"
        }
       ],
       "conversionMethod": "pd.DataFrame",
       "ref": "bb01f5ee-546e-4b37-b9eb-a4019874d7f5",
       "rows": [
        [
         "股东权益/负债合计_EquTotLia",
         "249.237",
         "155.236"
        ],
        [
         "股东类别_SHType",
         "0.252",
         "0.257"
        ],
        [
         "每股收益(元/股)_BasicEPS",
         "0.5",
         "0.332"
        ],
        [
         "每股经营活动现金流量(元/股)_OpeCFPS",
         "0.629",
         "0.468"
        ],
        [
         "营业利润/营业总收入()_OpePrTOR",
         "-9.396",
         "-2.521"
        ],
        [
         "净利润()_NetPrf",
         "421357688.19",
         "955678521.315"
        ],
        [
         "有形净值债务率(%)_DbTanEquRt",
         "53.467",
         "233.354"
        ],
        [
         "每股现金及现金等价物余额(元/股)_CCEPS",
         "1.734",
         "2.085"
        ],
        [
         "资产负债率(%)_DbAstRt",
         "40.858",
         "50.025"
        ],
        [
         "经营现金净流量(元)_NOCF",
         "840089778.524",
         "1158378442.559"
        ],
        [
         "股东总户数(户)_SHNum",
         "41433.124",
         "53688.349"
        ],
        [
         "利润总额增长率(%)_TotPrfGrRt",
         "-26.946",
         "-74.143"
        ],
        [
         "营业收入增长率(%)_OpeIncmGrRt",
         "17.507",
         "7.578"
        ],
        [
         "户均持股数(股/户)_AvgHS",
         "2389553.017",
         "1404065.064"
        ],
        [
         "每股资本公积金(元/股)_CapSurFdPS",
         "2.294",
         "2.533"
        ],
        [
         "股东权益周转率(次)_EquRat",
         "1.597",
         "2.173"
        ],
        [
         "产权比率(%)_DbEquRt",
         "120.68",
         "181.399"
        ],
        [
         "权益乘数(%)_EquMul",
         "2.207",
         "2.814"
        ],
        [
         "营业收入3年复合增长率(%)_OperaInc3GrRt",
         "14.423",
         "10.234"
        ],
        [
         "净资产收益率(扣除，加权)(%)_WROECut",
         "4.787",
         "-19.487"
        ],
        [
         "流动资产/总资产(%)_CurTotAst",
         "58.31",
         "64.383"
        ],
        [
         "销售成本率(%)_SalCostRt",
         "70.089",
         "75.322"
        ],
        [
         "销售期间费用率(%)_PdCostRt",
         "37.545",
         "22.462"
        ],
        [
         "非流动资产/总资产(%)_NoncurTotAst",
         "41.69",
         "35.617"
        ]
       ],
       "shape": {
        "columns": 2,
        "rows": 24
       }
      },
      "text/html": [
       "<div>\n",
       "<style scoped>\n",
       "    .dataframe tbody tr th:only-of-type {\n",
       "        vertical-align: middle;\n",
       "    }\n",
       "\n",
       "    .dataframe tbody tr th {\n",
       "        vertical-align: top;\n",
       "    }\n",
       "\n",
       "    .dataframe thead th {\n",
       "        text-align: right;\n",
       "    }\n",
       "</style>\n",
       "<table border=\"1\" class=\"dataframe\">\n",
       "  <thead>\n",
       "    <tr style=\"text-align: right;\">\n",
       "      <th>noncompliance</th>\n",
       "      <th>0.0</th>\n",
       "      <th>1.0</th>\n",
       "    </tr>\n",
       "  </thead>\n",
       "  <tbody>\n",
       "    <tr>\n",
       "      <th>股东权益/负债合计_EquTotLia</th>\n",
       "      <td>2.492370e+02</td>\n",
       "      <td>1.552360e+02</td>\n",
       "    </tr>\n",
       "    <tr>\n",
       "      <th>股东类别_SHType</th>\n",
       "      <td>2.520000e-01</td>\n",
       "      <td>2.570000e-01</td>\n",
       "    </tr>\n",
       "    <tr>\n",
       "      <th>每股收益(元/股)_BasicEPS</th>\n",
       "      <td>5.000000e-01</td>\n",
       "      <td>3.320000e-01</td>\n",
       "    </tr>\n",
       "    <tr>\n",
       "      <th>每股经营活动现金流量(元/股)_OpeCFPS</th>\n",
       "      <td>6.290000e-01</td>\n",
       "      <td>4.680000e-01</td>\n",
       "    </tr>\n",
       "    <tr>\n",
       "      <th>营业利润/营业总收入()_OpePrTOR</th>\n",
       "      <td>-9.396000e+00</td>\n",
       "      <td>-2.521000e+00</td>\n",
       "    </tr>\n",
       "    <tr>\n",
       "      <th>净利润()_NetPrf</th>\n",
       "      <td>4.213577e+08</td>\n",
       "      <td>9.556785e+08</td>\n",
       "    </tr>\n",
       "    <tr>\n",
       "      <th>有形净值债务率(%)_DbTanEquRt</th>\n",
       "      <td>5.346700e+01</td>\n",
       "      <td>2.333540e+02</td>\n",
       "    </tr>\n",
       "    <tr>\n",
       "      <th>每股现金及现金等价物余额(元/股)_CCEPS</th>\n",
       "      <td>1.734000e+00</td>\n",
       "      <td>2.085000e+00</td>\n",
       "    </tr>\n",
       "    <tr>\n",
       "      <th>资产负债率(%)_DbAstRt</th>\n",
       "      <td>4.085800e+01</td>\n",
       "      <td>5.002500e+01</td>\n",
       "    </tr>\n",
       "    <tr>\n",
       "      <th>经营现金净流量(元)_NOCF</th>\n",
       "      <td>8.400898e+08</td>\n",
       "      <td>1.158378e+09</td>\n",
       "    </tr>\n",
       "    <tr>\n",
       "      <th>股东总户数(户)_SHNum</th>\n",
       "      <td>4.143312e+04</td>\n",
       "      <td>5.368835e+04</td>\n",
       "    </tr>\n",
       "    <tr>\n",
       "      <th>利润总额增长率(%)_TotPrfGrRt</th>\n",
       "      <td>-2.694600e+01</td>\n",
       "      <td>-7.414300e+01</td>\n",
       "    </tr>\n",
       "    <tr>\n",
       "      <th>营业收入增长率(%)_OpeIncmGrRt</th>\n",
       "      <td>1.750700e+01</td>\n",
       "      <td>7.578000e+00</td>\n",
       "    </tr>\n",
       "    <tr>\n",
       "      <th>户均持股数(股/户)_AvgHS</th>\n",
       "      <td>2.389553e+06</td>\n",
       "      <td>1.404065e+06</td>\n",
       "    </tr>\n",
       "    <tr>\n",
       "      <th>每股资本公积金(元/股)_CapSurFdPS</th>\n",
       "      <td>2.294000e+00</td>\n",
       "      <td>2.533000e+00</td>\n",
       "    </tr>\n",
       "    <tr>\n",
       "      <th>股东权益周转率(次)_EquRat</th>\n",
       "      <td>1.597000e+00</td>\n",
       "      <td>2.173000e+00</td>\n",
       "    </tr>\n",
       "    <tr>\n",
       "      <th>产权比率(%)_DbEquRt</th>\n",
       "      <td>1.206800e+02</td>\n",
       "      <td>1.813990e+02</td>\n",
       "    </tr>\n",
       "    <tr>\n",
       "      <th>权益乘数(%)_EquMul</th>\n",
       "      <td>2.207000e+00</td>\n",
       "      <td>2.814000e+00</td>\n",
       "    </tr>\n",
       "    <tr>\n",
       "      <th>营业收入3年复合增长率(%)_OperaInc3GrRt</th>\n",
       "      <td>1.442300e+01</td>\n",
       "      <td>1.023400e+01</td>\n",
       "    </tr>\n",
       "    <tr>\n",
       "      <th>净资产收益率(扣除，加权)(%)_WROECut</th>\n",
       "      <td>4.787000e+00</td>\n",
       "      <td>-1.948700e+01</td>\n",
       "    </tr>\n",
       "    <tr>\n",
       "      <th>流动资产/总资产(%)_CurTotAst</th>\n",
       "      <td>5.831000e+01</td>\n",
       "      <td>6.438300e+01</td>\n",
       "    </tr>\n",
       "    <tr>\n",
       "      <th>销售成本率(%)_SalCostRt</th>\n",
       "      <td>7.008900e+01</td>\n",
       "      <td>7.532200e+01</td>\n",
       "    </tr>\n",
       "    <tr>\n",
       "      <th>销售期间费用率(%)_PdCostRt</th>\n",
       "      <td>3.754500e+01</td>\n",
       "      <td>2.246200e+01</td>\n",
       "    </tr>\n",
       "    <tr>\n",
       "      <th>非流动资产/总资产(%)_NoncurTotAst</th>\n",
       "      <td>4.169000e+01</td>\n",
       "      <td>3.561700e+01</td>\n",
       "    </tr>\n",
       "  </tbody>\n",
       "</table>\n",
       "</div>"
      ],
      "text/plain": [
       "noncompliance                          0.0           1.0\n",
       "股东权益/负债合计_EquTotLia           2.492370e+02  1.552360e+02\n",
       "股东类别_SHType                   2.520000e-01  2.570000e-01\n",
       "每股收益(元/股)_BasicEPS            5.000000e-01  3.320000e-01\n",
       "每股经营活动现金流量(元/股)_OpeCFPS       6.290000e-01  4.680000e-01\n",
       "营业利润/营业总收入()_OpePrTOR        -9.396000e+00 -2.521000e+00\n",
       "净利润()_NetPrf                  4.213577e+08  9.556785e+08\n",
       "有形净值债务率(%)_DbTanEquRt         5.346700e+01  2.333540e+02\n",
       "每股现金及现金等价物余额(元/股)_CCEPS       1.734000e+00  2.085000e+00\n",
       "资产负债率(%)_DbAstRt              4.085800e+01  5.002500e+01\n",
       "经营现金净流量(元)_NOCF               8.400898e+08  1.158378e+09\n",
       "股东总户数(户)_SHNum                4.143312e+04  5.368835e+04\n",
       "利润总额增长率(%)_TotPrfGrRt        -2.694600e+01 -7.414300e+01\n",
       "营业收入增长率(%)_OpeIncmGrRt        1.750700e+01  7.578000e+00\n",
       "户均持股数(股/户)_AvgHS              2.389553e+06  1.404065e+06\n",
       "每股资本公积金(元/股)_CapSurFdPS       2.294000e+00  2.533000e+00\n",
       "股东权益周转率(次)_EquRat             1.597000e+00  2.173000e+00\n",
       "产权比率(%)_DbEquRt               1.206800e+02  1.813990e+02\n",
       "权益乘数(%)_EquMul                2.207000e+00  2.814000e+00\n",
       "营业收入3年复合增长率(%)_OperaInc3GrRt  1.442300e+01  1.023400e+01\n",
       "净资产收益率(扣除，加权)(%)_WROECut      4.787000e+00 -1.948700e+01\n",
       "流动资产/总资产(%)_CurTotAst         5.831000e+01  6.438300e+01\n",
       "销售成本率(%)_SalCostRt            7.008900e+01  7.532200e+01\n",
       "销售期间费用率(%)_PdCostRt           3.754500e+01  2.246200e+01\n",
       "非流动资产/总资产(%)_NoncurTotAst     4.169000e+01  3.561700e+01"
      ]
     },
     "execution_count": 26,
     "metadata": {},
     "output_type": "execute_result"
    }
   ],
   "source": [
    "# report sample mean by group\n",
    "train_df.groupby('noncompliance').mean().round(3).T"
   ]
  },
  {
   "cell_type": "markdown",
   "id": "151f2387",
   "metadata": {},
   "source": [
    "<a name='3'></a>\n",
    "## 3 - Model Analysis"
   ]
  },
  {
   "cell_type": "markdown",
   "id": "e839e8f5",
   "metadata": {},
   "source": [
    "<a name='3.1'></a>\n",
    "### 3.1 - transform data structure"
   ]
  },
  {
   "cell_type": "markdown",
   "id": "93c0fb3f",
   "metadata": {},
   "source": [
    "In PyTorch, every network layers, loss functions and optimizer are designed to work with torch.Tensor objects. But we import train_data.csv as DataFrame. \n",
    "\n",
    "So in the following codes, we need to do transform:  DataFrame -> ndarray -> Tensor."
   ]
  },
  {
   "cell_type": "code",
   "execution_count": 27,
   "id": "f9250b62",
   "metadata": {},
   "outputs": [],
   "source": [
    "# standardize input features and transform df -> ndarray\n",
    "scaler = StandardScaler() # initialize the scaler\n",
    "X_train_array = scaler.fit_transform(train_df.drop(columns=['noncompliance']))\n",
    "y_train_array = train_df['noncompliance'].values\n",
    "X_test_array = scaler.transform(test_df.drop(columns=['noncompliance'])) # standardize test data using the train scaler\n",
    "y_test_array = test_df['noncompliance'].values\n",
    "\n",
    "# transform ndarray -> torch.tensor\n",
    "X_train_tensor = torch.tensor(X_train_array, dtype=torch.float32)\n",
    "y_train_tensor = torch.tensor(y_train_array, dtype=torch.float32)\n",
    "X_test_tensor = torch.tensor(X_test_array, dtype=torch.float32)\n",
    "y_test_tensor = torch.tensor(y_test_array, dtype=torch.float32)"
   ]
  },
  {
   "cell_type": "markdown",
   "id": "7449451a",
   "metadata": {},
   "source": [
    "After transform our data into Tensor, we further do transform: Tensor -> TensorDataset -> DataLoader.\n",
    "\n",
    "`TensorDataset` and `DataLoader` are two useful tools in PyTorch. Our feature `X_train_tensor` and label `y_train_tensor` could be bundled into a `TensorDataset` objects. This allows the `DataLoader` to use it to easily loop batches, shuffle, and load them in parallel."
   ]
  },
  {
   "cell_type": "code",
   "execution_count": 28,
   "id": "158e918d",
   "metadata": {},
   "outputs": [],
   "source": [
    "# bundle feature and label into TensorDataset\n",
    "train_dataset = TensorDataset(X_train_tensor, y_train_tensor)\n",
    "test_dataset = TensorDataset(X_test_tensor, y_test_tensor)\n",
    "\n",
    "# create DataLoader\n",
    "train_loader = DataLoader(train_dataset, batch_size=128, shuffle=True) # shuffle means randomize the order of observations\n",
    "test_loader = DataLoader(test_dataset, batch_size=128, shuffle=False)"
   ]
  },
  {
   "cell_type": "markdown",
   "id": "cac2598d",
   "metadata": {},
   "source": [
    "<a name='3.2'></a>\n",
    "### 3.2 - build network"
   ]
  },
  {
   "cell_type": "markdown",
   "id": "99b3f117",
   "metadata": {},
   "source": [
    "In the following codes, we build a neural network with 3 hidden layers (64, 32, 8 neurons respectively). We first define a class `FNN` inheriting from `nn.Module`.\n",
    "\n",
    "In `__init__` method, `self.fc1 = nn.Linear(25, 64)` do the linear transformation of the 25 input features to 64 neurons.\n",
    "\n",
    "In `forward` method, `x = torch.relu(self.fc1(x))` do the nonlinear activation (ReLU) of the `self.fc1` output. After the sigmoid activation, `forward` method finally outputs the probability (remark: the output is probability or logits is important)."
   ]
  },
  {
   "cell_type": "code",
   "execution_count": 29,
   "id": "d3d3405a",
   "metadata": {},
   "outputs": [],
   "source": [
    "class FNN(nn.Module):\n",
    "    \"\"\"\n",
    "    A fully connected neural network for binary classification.\n",
    "    \"\"\"\n",
    "    def __init__(self):\n",
    "        super(FNN, self).__init__()\n",
    "        self.fc1 = nn.Linear(24, 64) # input layer: 25 features -> 64 neurons\n",
    "        self.fc2 = nn.Linear(64, 32) # hidden layer1: 64 neurons -> 32 neurons\n",
    "        self.fc3 = nn.Linear(32, 8) # hidden layer2: 32 neurons -> 8 neurons\n",
    "        self.fc4 = nn.Linear(8, 1) # hidden layer3: 8 neurons -> output probability\n",
    "        \n",
    "    def forward(self, x):\n",
    "        x = torch.relu(self.fc1(x)) # relu activation\n",
    "        x = torch.relu(self.fc2(x))\n",
    "        x = torch.relu(self.fc3(x))\n",
    "        x = torch.sigmoid(self.fc4(x)) # sigmoid activation\n",
    "        return x"
   ]
  },
  {
   "cell_type": "markdown",
   "id": "20edea37",
   "metadata": {},
   "source": [
    "<a name='3.3'></a>\n",
    "### 3.3 - define train and test functions"
   ]
  },
  {
   "cell_type": "markdown",
   "id": "eabc4fc3",
   "metadata": {},
   "source": [
    "After defining our network, we would define a function `train` to do forward and backward propagation. In `train` function, we need to:\n",
    "1. switch the model into train mode, since our model would behave differently in training (train mode) and testing (eval mode) like dropout et al;\n",
    "2. forward propagation and return output;\n",
    "3. calculate loss;\n",
    "4. backpropagation;\n",
    "5. update parameters.\n",
    "\n",
    "Note that step 2 - 5 need to loop over the epochs and batches."
   ]
  },
  {
   "cell_type": "code",
   "execution_count": null,
   "id": "9f7f382b",
   "metadata": {},
   "outputs": [],
   "source": [
    "def train(model, train_loader, criterion, optimizer, num_epochs):\n",
    "    \"\"\"\n",
    "    functions used to train the model\n",
    "    params:\n",
    "        model: the neural network to be trained;\n",
    "        train_loader: a DataLoader object, trainging dataset;\n",
    "        criterion: loss function;\n",
    "        optimizer: optimiser that updates parameters after backpropagation;\n",
    "        num_epochs: number of epochs in optimization;\n",
    "    return:\n",
    "        None\n",
    "    \"\"\"\n",
    "    model.train() # set the model to training mode\n",
    "    for epoch in range(num_epochs): # loop over epochs\n",
    "        acc_loss = 0\n",
    "        for batch_idx, (data, target) in enumerate(train_loader): # loop over batches\n",
    "            optimizer.zero_grad() # clear previous gradients\n",
    "            output = model(data) # do forward propagation\n",
    "            loss = criterion(output.squeeze(1), target) # calculate loss\n",
    "            loss.backward() # do backpropagation\n",
    "            optimizer.step() # update parameters\n",
    "            acc_loss += loss.item() * data.size(0)\n",
    "        \n",
    "        train_loss = acc_loss / len(train_loader.dataset)\n",
    "        if (epoch + 1) % 50 == 0: # print loss every 50 epochs\n",
    "            print(f\"Epoch [{epoch+1}/{num_epochs}] Loss: {train_loss:.4f}\")"
   ]
  },
  {
   "cell_type": "markdown",
   "id": "880981d4",
   "metadata": {},
   "source": [
    "We next define a `test` function to do test and return the predicted probabilities. In `test` function, we \n",
    "1. switch the model into eval mode.\n",
    "2. do forward propagation using the test data and get output. Notice `model(data)` would return a tensor with shape [batch_size, 1], `.squeeze(1)` transform it into shape [batch_size];\n",
    "3. calculate loss and return predicted probabilities."
   ]
  },
  {
   "cell_type": "code",
   "execution_count": null,
   "id": "94982cc1",
   "metadata": {},
   "outputs": [],
   "source": [
    "def test(model, test_loader, criterion):\n",
    "    \"\"\"\n",
    "    Run the trained model on the test set.\n",
    "    params:\n",
    "        model: the network after trained;\n",
    "        test_loader: DataLoader, test dataset;\n",
    "        criterion: loss function;\n",
    "    return:\n",
    "        pred_probs: tensor, predicted test probabilities;\n",
    "    \"\"\"\n",
    "    model.eval() # set the model to evaluation mode\n",
    "    acc_loss = 0\n",
    "    pred_probs = [] # a list used to accumulated each batch's predicted probabilities\n",
    "    with torch.no_grad(): # not calculate gradient\n",
    "        for data, target in test_loader:\n",
    "            output = model(data) # forward propagation using test data and return output probabilities\n",
    "            loss = criterion(output.squeeze(1), target).item() # accumulate loss\n",
    "            acc_loss += loss * data.size(0)\n",
    "            pred_probs.append(output) # append predicted probabilityes\n",
    "\n",
    "    test_loss = acc_loss / len(test_loader.dataset)\n",
    "    print(f\"Test Loss: {test_loss:.4f}\")\n",
    "    \n",
    "    return torch.cat(pred_probs)"
   ]
  },
  {
   "cell_type": "markdown",
   "id": "27d66d71",
   "metadata": {},
   "source": [
    "<a name='3.4'></a>\n",
    "### 3.4 - train and test the network"
   ]
  },
  {
   "cell_type": "markdown",
   "id": "6039ff4c",
   "metadata": {},
   "source": [
    "So far, we have defined our network, training function and test function. Train and test is easy. We first instanciate a network `model = FNN()`, then set up the loss function and optimizer."
   ]
  },
  {
   "cell_type": "code",
   "execution_count": 32,
   "id": "3c5a10de",
   "metadata": {},
   "outputs": [],
   "source": [
    "model = FNN() # instantiate the model\n",
    "criterion = nn.BCELoss() # binary cross entropy loss\n",
    "optimizer = torch.optim.Adam(model.parameters(), lr=3e-4) # Adam optimizer"
   ]
  },
  {
   "cell_type": "markdown",
   "id": "a6e57fd4",
   "metadata": {},
   "source": [
    "By calling the `train` function, we finish the training procedure. We find that the training loss flunctuates but generally decreases."
   ]
  },
  {
   "cell_type": "code",
   "execution_count": 33,
   "id": "9de0b970",
   "metadata": {},
   "outputs": [
    {
     "ename": "AttributeError",
     "evalue": "'float' object has no attribute 'item'",
     "output_type": "error",
     "traceback": [
      "\u001b[0;31m---------------------------------------------------------------------------\u001b[0m",
      "\u001b[0;31mAttributeError\u001b[0m                            Traceback (most recent call last)",
      "Cell \u001b[0;32mIn[33], line 1\u001b[0m\n\u001b[0;32m----> 1\u001b[0m \u001b[43mtrain\u001b[49m\u001b[43m(\u001b[49m\u001b[43mmodel\u001b[49m\u001b[43m,\u001b[49m\u001b[43m \u001b[49m\u001b[43mtrain_loader\u001b[49m\u001b[43m,\u001b[49m\u001b[43m \u001b[49m\u001b[43mcriterion\u001b[49m\u001b[43m,\u001b[49m\u001b[43m \u001b[49m\u001b[43moptimizer\u001b[49m\u001b[43m,\u001b[49m\u001b[43m \u001b[49m\u001b[43mnum_epochs\u001b[49m\u001b[38;5;241;43m=\u001b[39;49m\u001b[38;5;241;43m500\u001b[39;49m\u001b[43m)\u001b[49m\n",
      "Cell \u001b[0;32mIn[30], line 26\u001b[0m, in \u001b[0;36mtrain\u001b[0;34m(model, train_loader, criterion, optimizer, num_epochs)\u001b[0m\n\u001b[1;32m     23\u001b[0m epoch_loss \u001b[38;5;241m=\u001b[39m acc_loss \u001b[38;5;241m/\u001b[39m \u001b[38;5;28mlen\u001b[39m(train_loader\u001b[38;5;241m.\u001b[39mdataset)\n\u001b[1;32m     25\u001b[0m \u001b[38;5;28;01mif\u001b[39;00m (epoch \u001b[38;5;241m+\u001b[39m \u001b[38;5;241m1\u001b[39m) \u001b[38;5;241m%\u001b[39m \u001b[38;5;241m50\u001b[39m \u001b[38;5;241m==\u001b[39m \u001b[38;5;241m0\u001b[39m: \u001b[38;5;66;03m# print loss every 50 epochs\u001b[39;00m\n\u001b[0;32m---> 26\u001b[0m     \u001b[38;5;28mprint\u001b[39m(\u001b[38;5;124mf\u001b[39m\u001b[38;5;124m\"\u001b[39m\u001b[38;5;124mEpoch [\u001b[39m\u001b[38;5;132;01m{\u001b[39;00mepoch\u001b[38;5;241m+\u001b[39m\u001b[38;5;241m1\u001b[39m\u001b[38;5;132;01m}\u001b[39;00m\u001b[38;5;124m/\u001b[39m\u001b[38;5;132;01m{\u001b[39;00mnum_epochs\u001b[38;5;132;01m}\u001b[39;00m\u001b[38;5;124m] Loss: \u001b[39m\u001b[38;5;132;01m{\u001b[39;00m\u001b[43mepoch_loss\u001b[49m\u001b[38;5;241;43m.\u001b[39;49m\u001b[43mitem\u001b[49m()\u001b[38;5;132;01m:\u001b[39;00m\u001b[38;5;124m.4f\u001b[39m\u001b[38;5;132;01m}\u001b[39;00m\u001b[38;5;124m\"\u001b[39m)\n",
      "\u001b[0;31mAttributeError\u001b[0m: 'float' object has no attribute 'item'"
     ]
    }
   ],
   "source": [
    "train(model, train_loader, criterion, optimizer, num_epochs=500)"
   ]
  },
  {
   "cell_type": "markdown",
   "id": "019dfa5e",
   "metadata": {},
   "source": [
    "We can get trained parameters by `model.named_parameters()`. Here, we show the dimension of each layers weights and bias."
   ]
  },
  {
   "cell_type": "code",
   "execution_count": null,
   "id": "e00dd8b6",
   "metadata": {},
   "outputs": [
    {
     "name": "stdout",
     "output_type": "stream",
     "text": [
      "fc1.weight torch.Size([64, 24])\n",
      "fc1.bias torch.Size([64])\n",
      "fc2.weight torch.Size([32, 64])\n",
      "fc2.bias torch.Size([32])\n",
      "fc3.weight torch.Size([8, 32])\n",
      "fc3.bias torch.Size([8])\n",
      "fc4.weight torch.Size([1, 8])\n",
      "fc4.bias torch.Size([1])\n"
     ]
    },
    {
     "data": {
      "text/plain": [
       "Parameter containing:\n",
       "tensor([[ 0.2788,  0.0310,  3.6516,  1.0711, -1.0564, -1.1680,  2.2706, -1.1647]],\n",
       "       requires_grad=True)"
      ]
     },
     "execution_count": 16,
     "metadata": {},
     "output_type": "execute_result"
    }
   ],
   "source": [
    "for name, param in model.named_parameters():\n",
    "    print(name, param.size()) # show name and size of each layer's parameters\n",
    "\n",
    "model.fc4.weight # show the weight of the last layer"
   ]
  },
  {
   "cell_type": "markdown",
   "id": "d3d08a91",
   "metadata": {},
   "source": [
    "By calling the `test` function, we finish the test procedure, and the predicted probabilities are assigned to `nn_pred_probs`."
   ]
  },
  {
   "cell_type": "code",
   "execution_count": null,
   "id": "f0f23fc0",
   "metadata": {},
   "outputs": [
    {
     "name": "stdout",
     "output_type": "stream",
     "text": [
      "Test Loss: 0.0021\n"
     ]
    },
    {
     "data": {
      "text/plain": [
       "tensor([2.1220e-02, 1.1649e-02, 6.7939e-03, 5.5308e-02, 2.3624e-06])"
      ]
     },
     "execution_count": 17,
     "metadata": {},
     "output_type": "execute_result"
    }
   ],
   "source": [
    "nn_pred_probs = test(model, test_loader, criterion)\n",
    "nn_pred_probs[:5] # present the first 5 predicted probabilities"
   ]
  },
  {
   "cell_type": "markdown",
   "id": "79f1e899",
   "metadata": {},
   "source": [
    "<a name='4'></a>\n",
    "## 4 - Models Evaluation and Comparison\n",
    "\n",
    "So far we predicted the probabilities on test data using neural network. To evaluate our model performance, we compare our model with probit and logit regression in terms of precision, recall and the area under precision-recall curve."
   ]
  },
  {
   "cell_type": "markdown",
   "id": "125652cf",
   "metadata": {},
   "source": [
    "<a name='4.1'></a>\n",
    "### 4.1 - probit & logit regression"
   ]
  },
  {
   "cell_type": "markdown",
   "id": "f8f55a73",
   "metadata": {},
   "source": [
    "We first fit a probit and logit regression. "
   ]
  },
  {
   "cell_type": "code",
   "execution_count": null,
   "id": "8991a831",
   "metadata": {},
   "outputs": [
    {
     "name": "stdout",
     "output_type": "stream",
     "text": [
      "Optimization terminated successfully.\n",
      "         Current function value: 0.174739\n",
      "         Iterations 12\n"
     ]
    },
    {
     "data": {
      "text/plain": [
       "array([0.03577752, 0.05677542, 0.0164589 , 0.04187693, 0.0394595 ])"
      ]
     },
     "execution_count": 18,
     "metadata": {},
     "output_type": "execute_result"
    }
   ],
   "source": [
    "train_with_const = sm.add_constant(X_train_array) # add a constant term to X_train\n",
    "test_with_const = sm.add_constant(X_test_array)\n",
    "\n",
    "# probit model\n",
    "probit = sm.Probit(y_train_array, train_with_const).fit() # fit a probit model\n",
    "probit_pred_probs = probit.predict(test_with_const) # predict probabilities on test data\n",
    "\n",
    "probit_pred_probs[:5] # present the first 5 predicted probabilities"
   ]
  },
  {
   "cell_type": "code",
   "execution_count": null,
   "id": "72f323a2",
   "metadata": {},
   "outputs": [
    {
     "name": "stdout",
     "output_type": "stream",
     "text": [
      "Optimization terminated successfully.\n",
      "         Current function value: 0.174409\n",
      "         Iterations 13\n"
     ]
    },
    {
     "data": {
      "text/plain": [
       "array([0.03565154, 0.05762073, 0.01686184, 0.04034134, 0.03759277])"
      ]
     },
     "execution_count": 19,
     "metadata": {},
     "output_type": "execute_result"
    }
   ],
   "source": [
    "# logit model\n",
    "logit = sm.Logit(y_train_array, train_with_const).fit() # fit a probit model\n",
    "logit_pred_probs = logit.predict(test_with_const) # predict probabilities on test data\n",
    "\n",
    "logit_pred_probs[:5] # present the first 5 predicted probabilities"
   ]
  },
  {
   "cell_type": "markdown",
   "id": "a0eaefdd",
   "metadata": {},
   "source": [
    "<a name='4.2'></a>\n",
    "### 4.2 - evaluate precision and recall\n",
    "\n",
    "Our data is highly imbalanced, and the sample size of positive : negative = 483 : 10087. So, precision and recall is better for model performance. \n",
    "\n",
    "In the following codes, we calculate precision and recall for network, probit model, logit model and random guess. `sklearn` provides an easy implementations."
   ]
  },
  {
   "cell_type": "code",
   "execution_count": null,
   "id": "fe46c8a8",
   "metadata": {},
   "outputs": [],
   "source": [
    "# precision and recall for neural network\n",
    "precision_nn, recall_nn, _ = precision_recall_curve(y_test_array, nn_pred_probs)\n",
    "auc_nn = average_precision_score(y_test_array, nn_pred_probs)\n",
    "\n",
    "# probit\n",
    "precision_probit, recall_probit, _ = precision_recall_curve(y_test_array, probit_pred_probs)\n",
    "auc_probit = average_precision_score(y_test_array, probit_pred_probs)\n",
    "\n",
    "# logit\n",
    "precision_logit, recall_logit, _ = precision_recall_curve(y_test_array, logit_pred_probs)\n",
    "auc_logit = average_precision_score(y_test_array, logit_pred_probs)\n",
    "\n",
    "# random\n",
    "rand_pred_probs = np.random.rand(len(y_test_array))\n",
    "precision_rand, recall_rand, _ = precision_recall_curve(y_test_array, rand_pred_probs)\n",
    "auc_rand = average_precision_score(y_test_array, rand_pred_probs)\n"
   ]
  },
  {
   "cell_type": "markdown",
   "id": "a43658ab",
   "metadata": {},
   "source": [
    "Next, we draw precision-recall curve, and the area under the curve reflect the model's performance."
   ]
  },
  {
   "cell_type": "code",
   "execution_count": null,
   "id": "5c77d589",
   "metadata": {},
   "outputs": [
    {
     "data": {
      "image/png": "[encoded data removed]",
      "text/plain": [
       "<Figure size 640x480 with 1 Axes>"
      ]
     },
     "metadata": {},
     "output_type": "display_data"
    }
   ],
   "source": [
    "# draw PRC curves\n",
    "plt.plot(recall_nn, precision_nn,  label=f\"Neural Net (AUC={auc_nn:.3f})\")\n",
    "plt.plot(recall_probit, precision_probit,  label=f\"Probit (AUC={auc_probit:.3f})\")\n",
    "plt.plot(recall_logit, precision_logit,  label=f\"Logit (AUC={auc_logit:.3f})\")\n",
    "plt.plot(recall_rand, precision_rand,  label=f\"Random (AUC={auc_rand:.3f})\")\n",
    "\n",
    "plt.xlabel(\"Recall\")\n",
    "plt.ylabel(\"Precision\")\n",
    "plt.title(\"PRC Curve Comparison\")\n",
    "plt.legend()\n",
    "plt.grid(True)\n",
    "plt.show()"
   ]
  },
  {
   "cell_type": "markdown",
   "id": "89bca125",
   "metadata": {},
   "source": [
    "Compared with probit and logit model, our neural network model has a better performance. But this neural network model can be further improved by tuning hyperparameters (network structure, loss functions, optimizer and learning rate et al.). We would talk about it in the next chapter."
   ]
  },
  {
   "cell_type": "markdown",
   "id": "083d63f8",
   "metadata": {},
   "source": []
  }
 ],
 "metadata": {
  "kernelspec": {
   "display_name": "workenv",
   "language": "python",
   "name": "python3"
  },
  "language_info": {
   "codemirror_mode": {
    "name": "ipython",
    "version": 3
   },
   "file_extension": ".py",
   "mimetype": "text/x-python",
   "name": "python",
   "nbconvert_exporter": "python",
   "pygments_lexer": "ipython3",
   "version": "3.12.2"
  }
 },
 "nbformat": 4,
 "nbformat_minor": 5
}
